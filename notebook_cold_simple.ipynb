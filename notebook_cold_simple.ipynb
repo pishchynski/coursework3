{
 "cells": [
  {
   "cell_type": "code",
   "execution_count": 2,
   "metadata": {
    "collapsed": true
   },
   "outputs": [],
   "source": [
    "import numpy as np\n",
    "import matplotlib.pyplot as plt\n",
    "import scipy.linalg as la\n",
    "import scipy.optimize as opt\n",
    "import copy\n",
    "np.set_printoptions(threshold=np.inf, suppress=True, formatter={'float': '{: 0.8f}'.format}, linewidth=75)\n",
    "%matplotlib inline"
   ]
  },
  {
   "cell_type": "code",
   "execution_count": 3,
   "metadata": {
    "collapsed": true
   },
   "outputs": [],
   "source": [
    "def kron(A, B):\n",
    "    return la.kron(A, B)"
   ]
  },
  {
   "cell_type": "code",
   "execution_count": 4,
   "metadata": {
    "collapsed": true
   },
   "outputs": [],
   "source": [
    "def kronsum(A, B):\n",
    "    if A.shape[0] != A.shape[1]:\n",
    "        raise ValueError('A is not square')\n",
    "\n",
    "    if B.shape[0] != B.shape[1]:\n",
    "        raise ValueError('B is not square')\n",
    "    \n",
    "    L = kron(A, np.eye(B.shape[0]))\n",
    "    R = kron(np.eye(A.shape[0]), B)\n",
    "    \n",
    "    return L+R"
   ]
  },
  {
   "cell_type": "code",
   "execution_count": 5,
   "metadata": {
    "collapsed": true
   },
   "outputs": [],
   "source": [
    "n = 1                   # Количество матриц D_k\n",
    "p_num = 150             # Количество векторов стац. вероятн. p\n",
    "eps_G = 10 ** (-6)      # Точность нахождения матр. G\n",
    "eps_Phi = 10 ** (-6)    # Точность нахождения матр. Phi\n",
    "eps_p_i = 10 ** (-6)    # Точность нахождения векторов p"
   ]
  },
  {
   "cell_type": "heading",
   "metadata": {},
   "level": 3,
   "source": [
    "Поток входящих заявок BMAP"
   ]
  },
  {
   "cell_type": "code",
   "execution_count": 6,
   "metadata": {
    "collapsed": false
   },
   "outputs": [
    {
     "name": "stdout",
     "output_type": "stream",
     "text": [
      "[[-2]]\n[[2]]\n"
     ]
    }
   ],
   "source": [
    "# Входной BMAP\n",
    "matrD_0 = np.array([[-2]])\n",
    "matrD = np.array([[85, 0.99], [0.2, 2.54]]) * 0.025\n",
    "matrD_k = [matrD_0]\n",
    "\n",
    "W_ = matrD_0.shape[0]\n",
    "W = W_ - 1\n",
    "\n",
    "q = 0.8\n",
    "for k in range(1, n+1):\n",
    "    matrD_k.append(np.array([[2]]))\n",
    "\n",
    "for matr in matrD_k:\n",
    "    print(matr)"
   ]
  },
  {
   "cell_type": "code",
   "execution_count": 7,
   "metadata": {
    "collapsed": false
   },
   "outputs": [
    {
     "name": "stdout",
     "output_type": "stream",
     "text": [
      "matrD_1_ = [[ 0.00000000]]\nTheta = [ 1.00000000]\nlambda = 2.0\n"
     ]
    }
   ],
   "source": [
    "# Характеристики входного BMAP\n",
    "\n",
    "matrD_1_ = np.zeros(matrD_k[0].shape)\n",
    "for matr in matrD_k:\n",
    "    matrD_1_ += matr\n",
    "print('matrD_1_ =', matrD_1_)\n",
    "matr_a = np.array(copy.deepcopy(matrD_1_))\n",
    "for i in range(matr_a.shape[0]):\n",
    "    matr_a[i][0] = 1\n",
    "\n",
    "matr_b = np.zeros((matr_a.shape[0], 1))\n",
    "matr_b[0][0] = 1\n",
    "\n",
    "matr_a = np.transpose(matr_a)\n",
    "\n",
    "theta = la.solve(matr_a, matr_b).reshape(-1)    # Алгоритм проверен.\n",
    "\n",
    "matrdD_1_ = np.array(copy.deepcopy(matrD_k[1]))\n",
    "\n",
    "print('Theta =', theta)\n",
    "\n",
    "for i in range(2, n+1):\n",
    "    matrdD_1_ += matrD_k[i] * i\n",
    "vect_e = np.array([[1.] for i in range(0, matrD_1_.shape[0])])\n",
    "lamD = np.dot(np.dot(theta, matrdD_1_), vect_e)\n",
    "print('lambda =', lamD[0])"
   ]
  },
  {
   "cell_type": "heading",
   "metadata": {},
   "level": 3,
   "source": [
    "Поток поломок MAP"
   ]
  },
  {
   "cell_type": "code",
   "execution_count": 8,
   "metadata": {
    "collapsed": false
   },
   "outputs": [
    {
     "name": "stdout",
     "output_type": "stream",
     "text": [
      "H_0 = [[-1000]]\nH_1 = [[1000]]\nh = 1000.0\n"
     ]
    }
   ],
   "source": [
    "# Поток поломок MAP\n",
    "matrH0 = np.array([[-1000]])\n",
    "matrH1 = np.array([[1000]])    \n",
    "V_ = matrH1.shape[0]\n",
    "V = V_ - 1\n",
    "matrH = matrH0 + matrH1\n",
    "matr_a = copy.deepcopy(matrH)\n",
    "for i in range(matr_a.shape[0]):\n",
    "    # print(matr_a)\n",
    "    matr_a[i][0] = 1\n",
    "    \n",
    "matr_b = np.zeros((matr_a.shape[0], 1))\n",
    "matr_b[0][0] = 1\n",
    "\n",
    "matr_a = np.transpose(matr_a)\n",
    "\n",
    "print('H_0 =', matrH0)\n",
    "print('H_1 =', matrH1)\n",
    "\n",
    "gamma = la.solve(matr_a, matr_b).reshape(-1)\n",
    "\n",
    "vect_e = np.array([[1.] for i in range(0, matrD_1_.shape[0])])\n",
    "h = np.dot(np.dot(gamma, matrH1), vect_e)\n",
    "print('h =', h[0])"
   ]
  },
  {
   "cell_type": "code",
   "execution_count": 9,
   "metadata": {
    "collapsed": false
   },
   "outputs": [
    {
     "name": "stdout",
     "output_type": "stream",
     "text": [
      "[[ 20.00000000]]\n"
     ]
    }
   ],
   "source": [
    "# Поток обслуживания PH1\n",
    "beta1 = np.array([[1]])\n",
    "matrS1 = np.array([[-20]])\n",
    "M1 = matrS1.shape[0]\n",
    "M1_ = M1 + 1\n",
    "M1_e = np.array([[1]])\n",
    "matrS1_0 = - np.dot(matrS1, M1_e)\n",
    "vect_e = np.array([[1.] for i in range(0, matrS1.shape[0])])\n",
    "# print(np.dot(beta1, la.inv(matrS1)))\n",
    "mu_1 = -la.inv(np.dot(np.dot(beta1, la.inv(matrS1)), vect_e))\n",
    "print(mu_1)"
   ]
  },
  {
   "cell_type": "code",
   "execution_count": 10,
   "metadata": {
    "collapsed": false
   },
   "outputs": [
    {
     "name": "stdout",
     "output_type": "stream",
     "text": [
      "[[ 5.00000000]]\n"
     ]
    }
   ],
   "source": [
    "# Поток обслуживания PH2\n",
    "beta2 = np.array([[1]])\n",
    "matrS2 = np.array([[-5]])\n",
    "M2 = matrS2.shape[0]\n",
    "M2_ = M2 + 1\n",
    "M2_e = np.array([[1]])\n",
    "matrS2_0 = - np.dot(matrS2, M2_e)\n",
    "\n",
    "vect_e = np.array([[1.] for i in range(0, matrS2.shape[0])])\n",
    "mu_2 = -la.inv(np.dot(np.dot(beta2, la.inv(matrS2)), vect_e))\n",
    "print(mu_2)"
   ]
  },
  {
   "cell_type": "code",
   "execution_count": 11,
   "metadata": {
    "collapsed": true
   },
   "outputs": [],
   "source": [
    "matrS_w = kron(np.dot(matrS1_0, beta1), \n",
    "               np.dot(M2_e, beta2)) + kron(np.dot(M1_e, beta1), np.dot(matrS2_0, beta2))"
   ]
  },
  {
   "cell_type": "code",
   "execution_count": 12,
   "metadata": {
    "collapsed": false
   },
   "outputs": [
    {
     "name": "stdout",
     "output_type": "stream",
     "text": [
      "[[ 29.99985287]]\n"
     ]
    }
   ],
   "source": [
    "# Поток переключения с прибора-1 на прибор-2\n",
    "alpha1 = np.array([[0.05, 0.95]])\n",
    "matrA1 = np.array([[-1.86075, 0.], [0., -146.9994]])\n",
    "L1 = matrA1.shape[0]\n",
    "L1_ = L1 + 1\n",
    "L1_e = np.array([[1], [1]])\n",
    "matrA1_0 = - np.dot(matrA1, L1_e)\n",
    "\n",
    "vect_e = np.array([[1.] for i in range(0, matrA1.shape[0])])\n",
    "kappa_1 = -la.inv(np.dot(np.dot(alpha1, la.inv(matrA1)), vect_e))\n",
    "print(kappa_1)"
   ]
  },
  {
   "cell_type": "code",
   "execution_count": 13,
   "metadata": {
    "collapsed": false
   },
   "outputs": [
    {
     "name": "stdout",
     "output_type": "stream",
     "text": [
      "[[ 89.99955862]]\n"
     ]
    }
   ],
   "source": [
    "# Поток переключения с прибора-2 на прибор-1\n",
    "alpha2 = np.array([[0.05, 0.95]])\n",
    "matrA2 = np.array([[-5.58225, 0.], [0., -440.9982]])\n",
    "L2 = matrA2.shape[0]\n",
    "L2_ = L2 + 1\n",
    "L2_e = np.array([[1], [1]])\n",
    "matrA2_0 = - np.dot(matrA2, L2_e)\n",
    "\n",
    "vect_e = np.array([[1.] for i in range(0, matrA1.shape[0])])\n",
    "kappa_2 = -la.inv(np.dot(np.dot(alpha2, la.inv(matrA2)), vect_e))\n",
    "print(kappa_2)"
   ]
  },
  {
   "cell_type": "code",
   "execution_count": 14,
   "metadata": {
    "collapsed": false
   },
   "outputs": [
    {
     "name": "stdout",
     "output_type": "stream",
     "text": [
      "[[ 0.00001000]]\n"
     ]
    }
   ],
   "source": [
    "# Поток ремонта PH\n",
    "tau = np.array([[1]])\n",
    "matrT = np.array([[-0.00001]])\n",
    "T_e = np.array([[1]])\n",
    "matrT0 = - np.dot(matrT, T_e)\n",
    "\n",
    "R = matrT.shape[0]\n",
    "R_ = R + 1\n",
    "vect_e = np.array([[1.] for i in range(0, matrT.shape[0])])\n",
    "phi = -la.inv(np.dot(np.dot(tau, la.inv(matrT)), vect_e))\n",
    "print(phi)"
   ]
  },
  {
   "cell_type": "code",
   "execution_count": 15,
   "metadata": {
    "collapsed": false
   },
   "outputs": [
    {
     "name": "stdout",
     "output_type": "stream",
     "text": [
      "a = 1\n"
     ]
    }
   ],
   "source": [
    "a = W_ * V_\n",
    "print('a =', a)"
   ]
  },
  {
   "cell_type": "code",
   "execution_count": 16,
   "metadata": {
    "collapsed": false
   },
   "outputs": [
    {
     "name": "stdout",
     "output_type": "stream",
     "text": [
      "(2, 1)\n(6, 6)\n"
     ]
    }
   ],
   "source": [
    "# Q~0\n",
    "block00 = kronsum(matrD_k[0], matrH0)\n",
    "block03 = kron(kron(kron(np.eye(W_), matrH1), tau), alpha1)\n",
    "block10 = kron(np.eye(a), matrA2_0)\n",
    "block11 = kronsum(kronsum(matrD_k[0], matrH0), matrA2)\n",
    "block12 = kron(kron(kron(np.eye(W_), matrH1), tau), L2_e)\n",
    "block21 = kron(kron(np.eye(a), matrT0), alpha2)\n",
    "block22 = kronsum(kronsum(matrD_k[0], matrH), matrT)\n",
    "block30 = kron(kron(np.eye(a), matrT0), L1_e)\n",
    "block32 = kron(kron(np.eye(a), np.eye(R)), matrA1_0)\n",
    "block33 = kronsum(kronsum(kronsum(matrD_k[0], matrH), matrT), matrA1)\n",
    "block01 = np.zeros((block00.shape[0], block11.shape[1]))\n",
    "block02 = np.zeros((block00.shape[0], block12.shape[1]))\n",
    "block13 = np.zeros((block10.shape[0], block03.shape[1]))\n",
    "block20 = np.zeros((block21.shape[0], block10.shape[1]))\n",
    "block23 = np.zeros((block21.shape[0], block03.shape[1]))\n",
    "block31 = np.zeros((block30.shape[0], block11.shape[1]))\n",
    "\n",
    "print(block30.shape)\n",
    "\n",
    "matrQw_0 = np.bmat([[block00, block01, block02, block03],\n",
    "                    [block10, block11, block12, block13], \n",
    "                    [block20, block21, block22, block23],\n",
    "                    [block30, block31, block32, block33]])\n",
    "print(matrQw_0.shape)"
   ]
  },
  {
   "cell_type": "code",
   "execution_count": 17,
   "metadata": {
    "collapsed": false
   },
   "outputs": [
    {
     "name": "stdout",
     "output_type": "stream",
     "text": [
      "(6, 6)\n(6, 6)\n"
     ]
    }
   ],
   "source": [
    "# Q~k\n",
    "matrQw_k = [matrQw_0]\n",
    "for i in range(1, n+1):\n",
    "    block0 = kron(kron(matrD_k[i], np.eye(V_)), beta1)\n",
    "    block1 = kron(kron(kron(matrD_k[i], np.eye(V_)), beta2), np.eye(L2))\n",
    "    block2 = kron(kron(kron(matrD_k[i], np.eye(V_)), beta2), np.eye(R))\n",
    "    block3 = kron(kron(matrD_k[i], np.eye(V_)), np.eye(R*L1))\n",
    "    matr_temp = la.block_diag(block0, block1, block2, block3)\n",
    "    matrQw_k.append(matr_temp)\n",
    "    \n",
    "print(matrQw_k[0].shape)\n",
    "print(matrQw_k[1].shape)\n",
    "\n",
    "for i in range(matrQw_k[0].shape[0]):\n",
    "    sum = 0\n",
    "    for matr in matrQw_k:\n",
    "        sum += np.sum(matr[i])\n",
    "    # print('matrQw_k[' + str(i) + '] = ', sum)"
   ]
  },
  {
   "cell_type": "code",
   "execution_count": 18,
   "metadata": {
    "collapsed": false
   },
   "outputs": [
    {
     "name": "stdout",
     "output_type": "stream",
     "text": [
      "(6, 6)\n"
     ]
    }
   ],
   "source": [
    "# Q^0\n",
    "block0 = kron(np.eye(a), matrS1_0)\n",
    "block1 = kron(kron(np.eye(a), matrS2_0), np.eye(L2))\n",
    "block2 = kron(kron(np.eye(a), matrS2_0), np.eye(R))\n",
    "block3 = np.zeros((a*R*L1, a*R*L1))\n",
    "matrQv_0 = la.block_diag(block0, block1, block2, block3)\n",
    "\n",
    "print(matrQv_0.shape)"
   ]
  },
  {
   "cell_type": "code",
   "execution_count": 19,
   "metadata": {
    "collapsed": false
   },
   "outputs": [
    {
     "name": "stdout",
     "output_type": "stream",
     "text": [
      "(6, 6)\n"
     ]
    }
   ],
   "source": [
    "# Q_0\n",
    "block0 = kron(np.eye(a), np.dot(matrS1_0, beta1))\n",
    "block1 = kron(kron(np.eye(a), np.dot(matrS2_0, beta2)), np.eye(L2))\n",
    "block2 = kron(kron(np.eye(a), np.dot(matrS2_0, beta2)), np.eye(R))\n",
    "block3 = np.zeros((a*R*L1, a*R*L1))\n",
    "matrQ_0 = la.block_diag(block0, block1, block2, block3)\n",
    "\n",
    "print(matrQ_0.shape)"
   ]
  },
  {
   "cell_type": "code",
   "execution_count": 20,
   "metadata": {
    "collapsed": false
   },
   "outputs": [
    {
     "name": "stdout",
     "output_type": "stream",
     "text": [
      "(6, 6)\n"
     ]
    }
   ],
   "source": [
    "# Q_1\n",
    "block00 = kronsum(kronsum(matrD_k[0], matrH0), matrS1)\n",
    "block03 = kron(kron(kron(kron(np.eye(W_), matrH1), M1_e), tau), alpha1)\n",
    "block10 = kron(kron(kron(np.eye(a), M2_e), beta1), matrA2_0)\n",
    "block11 = kronsum(kronsum(kronsum(matrD_k[0], matrH0), matrS2), matrA2)\n",
    "block12 = kron(kron(kron(kron(np.eye(W_), matrH1), np.eye(M2)), tau), L2_e)\n",
    "block21 = kron(kron(kron(np.eye(a), np.eye(M2)), matrT0), alpha1)\n",
    "block22 = kronsum(kronsum(kronsum(matrD_k[0], matrH), matrS2), matrT)\n",
    "block30 = kron(kron(kron(np.eye(a), beta1), matrT0), L1_e)\n",
    "block32 = kron(kron(kron(np.eye(a), beta2), np.eye(R)), matrA1_0)\n",
    "block33 = kronsum(kronsum(kronsum(matrD_k[0], matrH), matrT), matrA1)\n",
    "block01 = np.zeros((block00.shape[0], block11.shape[1]))\n",
    "block02 = np.zeros((block00.shape[0], block12.shape[1]))\n",
    "block13 = np.zeros((block10.shape[0], block03.shape[1]))\n",
    "block20 = np.zeros((block21.shape[0], block10.shape[1]))\n",
    "block23 = np.zeros((block21.shape[0], block03.shape[1]))\n",
    "block31 = np.zeros((block30.shape[0], block11.shape[1]))\n",
    "\n",
    "matrQ_1 = np.bmat([[block00, block01, block02, block03], \n",
    "                   [block10, block11, block12, block13], \n",
    "                   [block20, block21, block22, block23], \n",
    "                   [block30, block31, block32, block33]])\n",
    "\n",
    "print(matrQ_1.shape)"
   ]
  },
  {
   "cell_type": "code",
   "execution_count": 21,
   "metadata": {
    "collapsed": true
   },
   "outputs": [],
   "source": [
    "matrQ_k = [matrQ_0, matrQ_1]\n",
    "for k in range(2, n+2):\n",
    "    block0 = kron(matrD_k[k-1], np.eye(V_ * M1))\n",
    "    block1 = kron(matrD_k[k-1], np.eye(V_*M2*L2))\n",
    "    block2 = kron(matrD_k[k-1], np.eye(V_*M2*R))\n",
    "    block3 = kron(matrD_k[k-1], np.eye(V_*R*L1))\n",
    "    matr_temp = la.block_diag(block0, block1, block2, block3)\n",
    "    matrQ_k.append(matr_temp)\n",
    "\n",
    "# for i in range(matrQ_k[0].shape[0]):\n",
    "#     sum = np.sum(matrQv_0[i])\n",
    "#     for j in range(1, np.array(matrQ_k).shape[0]):\n",
    "#         sum += np.sum(matrQ_k[j][i])\n",
    "#     print('matrQ_k[' + str(i) + '] = ', sum)"
   ]
  },
  {
   "cell_type": "code",
   "execution_count": 22,
   "metadata": {
    "collapsed": true
   },
   "outputs": [],
   "source": [
    "# Проверка генератора Q"
   ]
  },
  {
   "cell_type": "code",
   "execution_count": 23,
   "metadata": {
    "collapsed": false
   },
   "outputs": [
    {
     "name": "stdout",
     "output_type": "stream",
     "text": [
      "6\n1.0000000000000002\n(6, 6)\n"
     ]
    }
   ],
   "source": [
    "# Поиск матрицы G\n",
    "\n",
    "matrQ_1_neg_inv = np.linalg.inv(-matrQ_k[1])\n",
    "\n",
    "\n",
    "def calc_G(matrG_prev):\n",
    "    temp_sum = np.array(copy.deepcopy(matrQ_k[0])) \n",
    "    for k in range(2, n + 2):\n",
    "        temp_sum += np.dot(matrQ_k[k], np.linalg.matrix_power(matrG_prev, k))\n",
    "    matrG_new = np.dot(matrQ_1_neg_inv, temp_sum)\n",
    "    return matrG_new\n",
    "\n",
    "matrG_old = np.eye(matrQ_k[1].shape[0])\n",
    "matrG = calc_G(matrG_old)\n",
    "\n",
    "i = 1\n",
    "try:\n",
    "    while la.norm(matrG - matrG_old, ord=np.inf) >= eps_G:\n",
    "        matrG_old = matrG\n",
    "        matrG = calc_G(matrG_old)\n",
    "        i += 1\n",
    "except:\n",
    "    print(matrG_old)\n",
    "print(i)\n",
    "print(la.norm(matrG, ord=np.inf))\n",
    "print(matrG.shape)"
   ]
  },
  {
   "cell_type": "code",
   "execution_count": 24,
   "metadata": {
    "collapsed": false
   },
   "outputs": [
    {
     "data": {
      "text/plain": [
       "1.0000000000000002"
      ]
     },
     "execution_count": 23,
     "metadata": {},
     "output_type": "execute_result"
    }
   ],
   "source": [
    "la.norm(matrG, ord=np.inf)"
   ]
  },
  {
   "cell_type": "code",
   "execution_count": 25,
   "metadata": {
    "collapsed": false
   },
   "outputs": [
    {
     "data": {
      "text/plain": [
       "1.0"
      ]
     },
     "execution_count": 24,
     "metadata": {},
     "output_type": "execute_result"
    }
   ],
   "source": [
    "temp_sum = np.array(copy.deepcopy(matrQ_k[1]))\n",
    "for k in range(2, n+2):\n",
    "    temp_sum += np.dot(matrQ_k[k], np.linalg.matrix_power(matrG, k-1))\n",
    "matrG_0 = la.inv(temp_sum)\n",
    "matrG_0 = -np.dot(matrG_0, matrQv_0)\n",
    "# pd.DataFrame(matrG_0)\n",
    "la.norm(matrG_0, ord=np.inf)"
   ]
  },
  {
   "cell_type": "code",
   "execution_count": 26,
   "metadata": {
    "collapsed": false
   },
   "outputs": [
    {
     "name": "stdout",
     "output_type": "stream",
     "text": [
      "mult matr 0 shape :  (6, 6)\n0.0\n"
     ]
    }
   ],
   "source": [
    "matrQ_il = []\n",
    "for i in range(0, p_num):\n",
    "    matrQ_il.append([])\n",
    "    if i == 0:\n",
    "        for l in range(0, n + 1):\n",
    "            # здесь до n, т.к. нет больше матриц Q_k\n",
    "            temp_matr = np.array(copy.deepcopy(matrQw_k[l]))\n",
    "            for k in range(l + 1, n + 1):\n",
    "                mult_matr = np.array(copy.deepcopy(matrQw_k[k]))\n",
    "                for kk in range(k - 1, l - 1, -1):\n",
    "                    if kk == 0:\n",
    "                        mult_matr = np.dot(mult_matr, matrG_0)\n",
    "                    else:\n",
    "                        mult_matr = np.dot(mult_matr, matrG)\n",
    "                print(\"mult matr 0 shape : \", mult_matr.shape)\n",
    "                temp_matr += mult_matr\n",
    "            matrQ_il[i].append(temp_matr)\n",
    "        for l in range(n + 1, p_num):\n",
    "            matrQ_il[i].append(np.zeros(matrQw_k[1].shape))\n",
    "    else:\n",
    "        for l in range(0, p_num):\n",
    "            if l >= i and (l - i) <= (n + 1):\n",
    "                if (l - i + 1) <= (n + 1): \n",
    "                    temp_matr = np.array(copy.deepcopy(matrQ_k[l - i + 1]))\n",
    "                else:\n",
    "                    temp_matr = np.zeros(matrQ_k[0].shape)\n",
    "                    \n",
    "                for k in range(l + 1, p_num):  # sum from l+1 to inf\n",
    "                    if (k - i + 1) <= (n + 1):\n",
    "                        mult_matr = np.array(copy.deepcopy(matrQ_k[k - i + 1]))\n",
    "                        for kk in range(l, k):\n",
    "                            mult_matr = np.dot(mult_matr, matrG)\n",
    "                        \n",
    "                        temp_matr += mult_matr\n",
    "                matrQ_il[i].append(temp_matr)\n",
    "            else:\n",
    "                matrQ_il[i].append(np.zeros(matrQ_k[0].shape))\n",
    "\n",
    "# print(len(matrQ_il[3]))\n",
    "print(la.norm(matrQ_il[1][3], ord=np.inf))"
   ]
  },
  {
   "cell_type": "code",
   "execution_count": 27,
   "metadata": {
    "collapsed": false
   },
   "outputs": [
    {
     "name": "stdout",
     "output_type": "stream",
     "text": [
      "(6, 6)\n"
     ]
    }
   ],
   "source": [
    "matrPhi_0 = np.eye(matrQ_il[0][0].shape[0])\n",
    "matrPhi_l = [matrPhi_0]\n",
    "for l in range(1, p_num):\n",
    "    temp_matr = np.dot(np.dot(matrPhi_l[0], matrQ_il[0][l]), la.inv(-matrQ_il[l][l]))\n",
    "    for i in range(1, l):\n",
    "        # print(matrPhi_l[i].dot(matrQ_il[i][l]).dot(la.inv(-matrQ_il[l][l])).shape)\n",
    "        temp_matr += np.dot(np.dot(matrPhi_l[i], matrQ_il[i][l]), la.inv(-matrQ_il[l][l]))\n",
    "    matrPhi_l.append(temp_matr)\n",
    "print(matrPhi_l[1].shape)"
   ]
  },
  {
   "cell_type": "code",
   "execution_count": 28,
   "metadata": {
    "collapsed": false
   },
   "outputs": [
    {
     "name": "stdout",
     "output_type": "stream",
     "text": [
      "8.619144026726389e-43\n"
     ]
    }
   ],
   "source": [
    "print(la.norm(matrPhi_l[p_num - 1], ord=np.inf))"
   ]
  },
  {
   "cell_type": "code",
   "execution_count": 29,
   "metadata": {
    "collapsed": false
   },
   "outputs": [
    {
     "name": "stdout",
     "output_type": "stream",
     "text": [
      "[[ 0.00000000  0.00000000  0.00000000  0.59999990  0.00000002  0.00000001]]\n"
     ]
    }
   ],
   "source": [
    "# Вычисление p_0\n",
    "matr_a = np.array(- copy.deepcopy(matrQ_il[0][0]))\n",
    "vect_eaR = np.array([[1.] for _ in range(matrPhi_l[0].shape[1])])\n",
    "for i in range(1, p_num):\n",
    "    vect_e = np.array([[1.] for _ in range(matrPhi_l[i].shape[1])])\n",
    "    vect_eaR += np.dot(matrPhi_l[i], vect_e)\n",
    "\n",
    "for i in range(matr_a.shape[0]):\n",
    "    matr_a[i][0] = vect_eaR[i][0]\n",
    "\n",
    "matr_b = np.zeros((matr_a.shape[0], 1))\n",
    "matr_b[0][0] = 1.\n",
    "matr_a = np.transpose(matr_a)\n",
    "p0 = np.transpose(la.solve(matr_a, matr_b))\n",
    "\n",
    "# print(p0)\n",
    "print(p0)"
   ]
  },
  {
   "cell_type": "code",
   "execution_count": 30,
   "metadata": {
    "collapsed": true
   },
   "outputs": [
    {
     "name": "stdout",
     "output_type": "stream",
     "text": [
      "p0 =  [ 0.00000000  0.00000000  0.00000000  0.59999990  0.00000002  0.00000001]\nsum0 =  0.599999940376\np1 =  [ 0.00000000  0.00000000  0.00000000  0.23999997  0.00000002  0.00000000]\nsum1 =  0.239999999394\np2 =  [ 0.00000000  0.00000000  0.00000000  0.09600000  0.00000001  0.00000000]\nsum2 =  0.0960000150952\np3 =  [ 0.00000000  0.00000000  0.00000000  0.03840001  0.00000001  0.00000000]\nsum3 =  0.0384000153014\np4 =  [ 0.00000000  0.00000000  0.00000000  0.01536001  0.00000001  0.00000000]\nsum4 =  0.0153600114465\np5 =  [ 0.00000000  0.00000000  0.00000000  0.00614400  0.00000000  0.00000000]\nsum5 =  0.0061440075485\np6 =  [ 0.00000000  0.00000000  0.00000000  0.00245760  0.00000000  0.00000000]\nsum6 =  0.00245760464225\np7 =  [ 0.00000000  0.00000000  0.00000000  0.00098304  0.00000000  0.00000000]\nsum7 =  0.000983042731334\np8 =  [ 0.00000000  0.00000000  0.00000000  0.00039322  0.00000000  0.00000000]\nsum8 =  0.000393217559015\np9 =  [ 0.00000000  0.00000000  0.00000000  0.00015729  0.00000000  0.00000000]\nsum9 =  0.000157287270657\np10 =  [ 0.00000000  0.00000000  0.00000000  0.00006291  0.00000000  0.00000000]\nsum10 =  6.29150384029e-05\np11 =  [ 0.00000000  0.00000000  0.00000000  0.00002517  0.00000000  0.00000000]\nsum11 =  2.51660836417e-05\np12 =  [ 0.00000000  0.00000000  0.00000000  0.00001007  0.00000000  0.00000000]\nsum12 =  1.00664691738e-05\np13 =  [ 0.00000000  0.00000000  0.00000000  0.00000403  0.00000000  0.00000000]\nsum13 =  4.02660631035e-06\np14 =  [ 0.00000000  0.00000000  0.00000000  0.00000161  0.00000000  0.00000000]\nsum14 =  1.61065223599e-06\np15 =  [ 0.00000000  0.00000000  0.00000000  0.00000064  0.00000000  0.00000000]\nsum15 =  6.44265947562e-07\np16 =  [ 0.00000000  0.00000000  0.00000000  0.00000026  0.00000000  0.00000000]\nsum16 =  2.57709005577e-07\np17 =  [ 0.00000000  0.00000000  0.00000000  0.00000010  0.00000000  0.00000000]\nsum17 =  1.03084966409e-07\np18 =  [ 0.00000000  0.00000000  0.00000000  0.00000004  0.00000000  0.00000000]\nsum18 =  4.12346946678e-08\np19 =  [ 0.00000000  0.00000000  0.00000000  0.00000002  0.00000000  0.00000000]\nsum19 =  1.64942452545e-08\np20 =  [ 0.00000000  0.00000000  0.00000000  0.00000001  0.00000000  0.00000000]\nsum20 =  6.59788864695e-09\np21 =  [ 0.00000000  0.00000000  0.00000000  0.00000000  0.00000000  0.00000000]\nsum21 =  2.639254258e-09\np22 =  [ 0.00000000  0.00000000  0.00000000  0.00000000  0.00000000  0.00000000]\nsum22 =  1.05575292067e-09\np23 =  [ 0.00000000  0.00000000  0.00000000  0.00000000  0.00000000  0.00000000]\nsum23 =  4.22327715093e-10\np24 =  [ 0.00000000  0.00000000  0.00000000  0.00000000  0.00000000  0.00000000]\nsum24 =  1.68944843961e-10\np25 =  [ 0.00000000  0.00000000  0.00000000  0.00000000  0.00000000  0.00000000]\nsum25 =  6.75850669597e-11\np26 =  [ 0.00000000  0.00000000  0.00000000  0.00000000  0.00000000  0.00000000]\nsum26 =  2.70377209619e-11\np27 =  [ 0.00000000  0.00000000  0.00000000  0.00000000  0.00000000  0.00000000]\nsum27 =  1.08170024613e-11\np28 =  [ 0.00000000  0.00000000  0.00000000  0.00000000  0.00000000  0.00000000]\nsum28 =  4.32779268746e-12\np29 =  [ 0.00000000  0.00000000  0.00000000  0.00000000  0.00000000  0.00000000]\nsum29 =  1.73163086904e-12\np30 =  [ 0.00000000  0.00000000  0.00000000  0.00000000  0.00000000  0.00000000]\nsum30 =  6.92918533559e-13\np31 =  [ 0.00000000  0.00000000  0.00000000  0.00000000  0.00000000  0.00000000]\nsum31 =  2.77305315984e-13\np32 =  [ 0.00000000  0.00000000  0.00000000  0.00000000  0.00000000  0.00000000]\nsum32 =  1.10993568249e-13\np33 =  [ 0.00000000  0.00000000  0.00000000  0.00000000  0.00000000  0.00000000]\nsum33 =  4.44344380471e-14\np34 =  [ 0.00000000  0.00000000  0.00000000  0.00000000  0.00000000  0.00000000]\nsum34 =  1.77929486098e-14\np35 =  [ 0.00000000  0.00000000  0.00000000  0.00000000  0.00000000  0.00000000]\nsum35 =  7.12711213339e-15\np36 =  [ 0.00000000  0.00000000  0.00000000  0.00000000  0.00000000  0.00000000]\nsum36 =  2.85599041007e-15\np37 =  [ 0.00000000  0.00000000  0.00000000  0.00000000  0.00000000  0.00000000]\nsum37 =  1.14506177034e-15\np38 =  [ 0.00000000  0.00000000  0.00000000  0.00000000  0.00000000  0.00000000]\nsum38 =  4.59405595335e-16\np39 =  [ 0.00000000  0.00000000  0.00000000  0.00000000  0.00000000  0.00000000]\nsum39 =  "
     ]
    },
    {
     "name": "stdout",
     "output_type": "stream",
     "text": [
      "1.84477589291e-16\np40 =  [ 0.00000000  0.00000000  0.00000000  0.00000000  0.00000000  0.00000000]\nsum40 =  7.41616136057e-17"
     ]
    },
    {
     "name": "stdout",
     "output_type": "stream",
     "text": [
      "\np41 =  [ 0.00000000  0.00000000  0.00000000  0.00000000  0.00000000  0.00000000]\nsum41 =  2.98566179587e-17\np42 =  [ 0.00000000  0.00000000  0.00000000  0.00000000  0.00000000  0.00000000]\nsum42 =  1.20420956519e-17\np43 =  [ 0.00000000  0.00000000  0.00000000  0.00000000  0.00000000  0.00000000]\nsum43 =  4.86835599371e-18\np44 =  [ 0.00000000  0.00000000  0.00000000  0.00000000  0.00000000  0.00000000]\nsum44 =  1.97403033932e-18\np45 =  [ 0.00000000  0.00000000  0.00000000  0.00000000  0.00000000  0.00000000]\nsum45 =  8.03437391822e-19\np46 =  [ 0.00000000  0.00000000  0.00000000  0.00000000  0.00000000  0.00000000]\nsum46 =  3.2853690376e-19\np47 =  [ 0.00000000  0.00000000  0.00000000  0.00000000  0.00000000  0.00000000]\nsum47 =  1.35124889424e-19\np48 =  [ 0.00000000  0.00000000  0.00000000  0.00000000  0.00000000  0.00000000]\nsum48 =  5.59719255464e-20\np49 =  [ 0.00000000  0.00000000  0.00000000  0.00000000  0.00000000  0.00000000]\nsum49 =  2.33844143546e-20\np50 =  [ 0.00000000  0.00000000  0.00000000  0.00000000  0.00000000  0.00000000]\nsum50 =  9.8695423735e-21\np51 =  [ 0.00000000  0.00000000  0.00000000  0.00000000  0.00000000  0.00000000]\nsum51 =  4.21500629293e-21\np52 =  [ 0.00000000  0.00000000  0.00000000  0.00000000  0.00000000  0.00000000]\nsum52 =  1.82441541639e-21\np53 =  [ 0.00000000  0.00000000  0.00000000  0.00000000  0.00000000  0.00000000]\nsum53 =  8.01468612095e-22\np54 =  [ 0.00000000  0.00000000  0.00000000  0.00000000  0.00000000  0.00000000]\nsum54 =  3.57731673824e-22\np55 =  [ 0.00000000  0.00000000  0.00000000  0.00000000  0.00000000  0.00000000]\nsum55 =  1.62334603052e-22\np56 =  [ 0.00000000  0.00000000  0.00000000  0.00000000  0.00000000  0.00000000]\nsum56 =  7.49017959761e-23\np57 =  [ 0.00000000  0.00000000  0.00000000  0.00000000  0.00000000  0.00000000]\nsum57 =  3.51244468411e-23\np58 =  [ 0.00000000  0.00000000  0.00000000  0.00000000  0.00000000  0.00000000]\nsum58 =  1.67247598798e-23\np59 =  [ 0.00000000  0.00000000  0.00000000  0.00000000  0.00000000  0.00000000]\nsum59 =  8.07563212911e-24\np60 =  [ 0.00000000  0.00000000  0.00000000  0.00000000  0.00000000  0.00000000]\nsum60 =  3.94810559768e-24\np61 =  [ 0.00000000  0.00000000  0.00000000  0.00000000  0.00000000  0.00000000]\nsum61 =  1.95111355483e-24\np62 =  [ 0.00000000  0.00000000  0.00000000  0.00000000  0.00000000  0.00000000]\nsum62 =  9.73086984305e-25\np63 =  [ 0.00000000  0.00000000  0.00000000  0.00000000  0.00000000  0.00000000]\nsum63 =  4.89029453299e-25\np64 =  [ 0.00000000  0.00000000  0.00000000  0.00000000  0.00000000  0.00000000]\nsum64 =  2.47308694059e-25\np65 =  [ 0.00000000  0.00000000  0.00000000  0.00000000  0.00000000  0.00000000]\nsum65 =  1.25704177011e-25\np66 =  [ 0.00000000  0.00000000  0.00000000  0.00000000  0.00000000  0.00000000]\nsum66 =  6.41549529785e-26\np67 =  [ 0.00000000  0.00000000  0.00000000  0.00000000  0.00000000  0.00000000]\nsum67 =  3.2848797157e-26\np68 =  [ 0.00000000  0.00000000  0.00000000  0.00000000  0.00000000  0.00000000]\nsum68 =  1.68625256467e-26\np69 =  [ 0.00000000  0.00000000  0.00000000  0.00000000  0.00000000  0.00000000]\nsum69 =  8.67365008533e-27\np70 =  [ 0.00000000  0.00000000  0.00000000  0.00000000  0.00000000  0.00000000]\nsum70 =  4.46855882542e-27\np71 =  [ 0.00000000  0.00000000  0.00000000  0.00000000  0.00000000  0.00000000]\nsum71 =  2.30498952684e-27\np72 =  [ 0.00000000  0.00000000  0.00000000  0.00000000  0.00000000  0.00000000]\nsum72 =  1.19011200016e-27\np73 =  [ 0.00000000  0.00000000  0.00000000  0.00000000  0.00000000  0.00000000]\nsum73 =  6.14937794316e-28\np74 =  [ 0.00000000  0.00000000  0.00000000  0.00000000  0.00000000  0.00000000]\nsum74 =  3.17926251631e-28\np75 =  [ 0.00000000  0.00000000  0.00000000  0.00000000  0.00000000  0.00000000]\nsum75 =  1.64443551728e-28\np76 =  [ 0.00000000  0.00000000  0.00000000  0.00000000  0.00000000  0.00000000]\nsum76 =  8.50860856264e-29\np77 =  [ 0.00000000  0.00000000  0.00000000  0.00000000  0.00000000  0.00000000]\nsum77 =  4.40369570053e-29\np78 =  [ 0.00000000  0.00000000  0.00000000  0.00000000  0.00000000  0.00000000]\nsum78 =  2.27964181862e-29\np79 =  [ 0.00000000  0.00000000  0.00000000  0.00000000  0.00000000  0.00000000]\nsum79 =  1.18028246274e-29\np80 =  [ 0.00000000  0.00000000  0.00000000  0.00000000  0.00000000  0.00000000]\nsum80 =  6.11166334123e-30\np81 =  [ 0.00000000  0.00000000  0.00000000  0.00000000  0.00000000  0.00000000]\nsum81 =  3.16500736533e-30\np82 =  [ 0.00000000  0.00000000  0.00000000  0.00000000  0.00000000  0.00000000]\nsum82 =  1.63916378125e-30\np83 =  [ 0.00000000  0.00000000  0.00000000  0.00000000  0.00000000  0.00000000]\nsum83 =  8.48975083907e-31\np84 =  [ 0.00000000  0.00000000  0.00000000  0.00000000  0.00000000  0.00000000]\nsum84 =  4.39730742019e-31\np85 =  [ 0.00000000  0.00000000  0.00000000  0.00000000  0.00000000  0.00000000]\nsum85 =  2.27768473538e-31\np86 =  [ 0.00000000  0.00000000  0.00000000  0.00000000  0.00000000  0.00000000]\nsum86 =  1.17980953159e-31\np87 =  [ 0.00000000  0.00000000  0.00000000  0.00000000  0.00000000  0.00000000]\nsum87 =  6.11137701136e-32\np88 =  [ 0.00000000  0.00000000  0.00000000  0.00000000  0.00000000  0.00000000]\nsum88 =  3.16572448048e-32\np89 =  [ 0.00000000  0.00000000  0.00000000  0.00000000  0.00000000  0.00000000]\nsum89 = "
     ]
    },
    {
     "name": "stdout",
     "output_type": "stream",
     "text": [
      " 1.63988144779e-32\np90 =  [ 0.00000000  0.00000000  0.00000000  0.00000000  0.00000000  0.00000000]\nsum90 =  8.49485329667e-33\np91 =  [ 0.00000000  0.00000000  0.00000000  0.00000000  0.00000000  0.00000000]\nsum91 =  4.40050454445e-33\np92 =  [ 0.00000000  0.00000000  0.00000000  0.00000000  0.00000000  0.00000000]\nsum92 =  2.27956250419e-33\np93 =  [ 0.00000000  0.00000000  0.00000000  0.00000000  0.00000000  0.00000000]\nsum93 =  1.18087089888e-33\np94 =  [ 0.00000000  0.00000000  0.00000000  0.00000000  0.00000000  0.00000000]\nsum94 =  6.11722972796e-34\np95 =  [ 0.00000000  0.00000000  0.00000000  0.00000000  0.00000000  0.00000000]\nsum95 =  3.16889817409e-34\np96 =  [ 0.00000000  0.00000000  0.00000000  0.00000000  0.00000000  0.00000000]\nsum96 =  1.64158224298e-34\np97 =  [ 0.00000000  0.00000000  0.00000000  0.00000000  0.00000000  0.00000000]\nsum97 =  8.50389084507e-35\np98 =  [ 0.00000000  0.00000000  0.00000000  0.00000000  0.00000000  0.00000000]\nsum98 =  4.40527703963e-35\np99 =  [ 0.00000000  0.00000000  0.00000000  0.00000000  0.00000000  0.00000000]\nsum99 =  2.28207111275e-35\np100 =  [ 0.00000000  0.00000000  0.00000000  0.00000000  0.00000000  0.00000000]\nsum100 =  1.18218496024e-35\np101 =  [ 0.00000000  0.00000000  0.00000000  0.00000000  0.00000000  0.00000000]\nsum101 =  6.12409507633e-36\np102 =  [ 0.00000000  0.00000000  0.00000000  0.00000000  0.00000000  0.00000000]\nsum102 =  3.17247788161e-36\np103 =  [ 0.00000000  0.00000000  0.00000000  0.00000000  0.00000000  0.00000000]\nsum103 =  1.64344594169e-36\np104 =  [ 0.00000000  0.00000000  0.00000000  0.00000000  0.00000000  0.00000000]\nsum104 =  8.51358258706e-37\np105 =  [ 0.00000000  0.00000000  0.00000000  0.00000000  0.00000000  0.00000000]\nsum105 =  4.41031254854e-37\np106 =  [ 0.00000000  0.00000000  0.00000000  0.00000000  0.00000000  0.00000000]\nsum106 =  2.28468561906e-37\np107 =  [ 0.00000000  0.00000000  0.00000000  0.00000000  0.00000000  0.00000000]\nsum107 =  1.1835417393e-37\np108 =  [ 0.00000000  0.00000000  0.00000000  0.00000000  0.00000000  0.00000000]\nsum108 =  6.13113315324e-38\np109 =  [ 0.00000000  0.00000000  0.00000000  0.00000000  0.00000000  0.00000000]\nsum109 =  3.17612764291e-38\np110 =  [ 0.00000000  0.00000000  0.00000000  0.00000000  0.00000000  0.00000000]\nsum110 =  1.64533816044e-38\np111 =  [ 0.00000000  0.00000000  0.00000000  0.00000000  0.00000000  0.00000000]\nsum111 =  8.52339099181e-39\np112 =  [ 0.00000000  0.00000000  0.00000000  0.00000000  0.00000000  0.00000000]\nsum112 =  4.41539606042e-39\np113 =  [ 0.00000000  0.00000000  0.00000000  0.00000000  0.00000000  0.00000000]\nsum113 =  2.28732001962e-39\np114 =  [ 0.00000000  0.00000000  0.00000000  0.00000000  0.00000000  0.00000000]\nsum114 =  1.18490683509e-39\np115 =  [ 0.00000000  0.00000000  0.00000000  0.00000000  0.00000000  0.00000000]\nsum115 =  6.13820635692e-40\np116 =  [ 0.00000000  0.00000000  0.00000000  0.00000000  0.00000000  0.00000000]\nsum116 =  3.17979241839e-40\np117 =  [ 0.00000000  0.00000000  0.00000000  0.00000000  0.00000000  0.00000000]\nsum117 =  1.64723688398e-40\np118 =  [ 0.00000000  0.00000000  0.00000000  0.00000000  0.00000000  0.00000000]\nsum118 =  8.53322800129e-41\np119 =  [ 0.00000000  0.00000000  0.00000000  0.00000000  0.00000000  0.00000000]\nsum119 =  4.4204923536e-41\np120 =  [ 0.00000000  0.00000000  0.00000000  0.00000000  0.00000000  0.00000000]\nsum120 =  2.28996022655e-41\np121 =  [ 0.00000000  0.00000000  0.00000000  0.00000000  0.00000000  0.00000000]\nsum121 =  1.18627461288e-41\np122 =  [ 0.00000000  0.00000000  0.00000000  0.00000000  0.00000000  0.00000000]\nsum122 =  6.1452921506e-42\np123 =  [ 0.00000000  0.00000000  0.00000000  0.00000000  0.00000000  0.00000000]\nsum123 =  3.18346319447e-42\np124 =  [ 0.00000000  0.00000000  0.00000000  0.00000000  0.00000000  0.00000000]\nsum124 =  1.64913850745e-42\np125 =  [ 0.00000000  0.00000000  0.00000000  0.00000000  0.00000000  0.00000000]\nsum125 =  8.54307919904e-43\np126 =  [ 0.00000000  0.00000000  0.00000000  0.00000000  0.00000000  0.00000000]\nsum126 =  4.42559566305e-43\np127 =  [ 0.00000000  0.00000000  0.00000000  0.00000000  0.00000000  0.00000000]\nsum127 =  2.29260393465e-43\np128 =  [ 0.00000000  0.00000000  0.00000000  0.00000000  0.00000000  0.00000000]\nsum128 =  1.18764415099e-43\np129 =  [ 0.00000000  0.00000000  0.00000000  0.00000000  0.00000000  0.00000000]\nsum129 =  6.15238684976e-44\np130 =  [ 0.00000000  0.00000000  0.00000000  0.00000000  0.00000000  0.00000000]\nsum130 =  3.18713849845e-44\np131 =  [ 0.00000000  0.00000000  0.00000000  0.00000000  0.00000000  0.00000000]\nsum131 =  1.65104244234e-44\np132 =  [ 0.00000000  0.00000000  0.00000000  0.00000000  0.00000000  0.00000000]\nsum132 =  8.55294223403e-45\np133 =  [ 0.00000000  0.00000000  0.00000000  0.00000000  0.00000000  0.00000000]\nsum133 =  4.4307050499e-45\np134 =  [ 0.00000000  0.00000000  0.00000000  0.00000000  0.00000000  0.00000000]\nsum134 =  2.29525076918e-45\np135 =  [ 0.00000000  0.00000000  0.00000000  0.00000000  0.00000000  0.00000000]\nsum135 =  1.18901529994e-45\np136 =  [ 0.00000000  0.00000000  0.00000000  0.00000000  0.00000000  0.00000000]\nsum136 =  6.15948985862e-46\np137 =  [ 0.00000000  0.00000000  0.00000000  0.00000000  0.00000000  0.00000000]\nsum137 =  3.19081809312e-46\np138 =  [ 0.00000000  0.00000000  0.00000000  0.00000000  0.00000000  0.00000000]\nsum138 =  1.65294859436e-46\np139 =  [ 0.00000000  0.00000000  0.00000000  0.00000000  0.00000000  0.00000000]\nsum139 =  8.56281673206e-47\np140 =  [ 0.00000000  0.00000000  0.00000000  0.00000000  0.00000000  0.00000000]\nsum140 =  4.43582036603e-47\np141 =  [ 0.00000000  0.00000000  0.00000000  0.00000000  0.00000000  0.00000000]\nsum141 =  2.29790067167e-47\np142 =  [ 0.00000000  0.00000000  0.00000000  0.00000000  0.00000000  0.00000000]\nsum142 =  1.19038803676e-47\np143 =  [ 0.00000000  0.00000000  0.00000000  0.00000000  0.00000000  0.00000000]\nsum143 =  6.16660108747e-48\np144 =  [ 0.00000000  0.00000000  0.00000000  0.00000000  0.00000000  0.00000000]\nsum144 =  3.19450194373e-48\np145 =  [ 0.00000000  0.00000000  0.00000000  0.00000000  0.00000000  0.00000000]\nsum145 =  1.65485695017e-48\np146 =  [ 0.00000000  0.00000000  0.00000000  0.00000000  0.00000000  0.00000000]\nsum146 =  8.57270264282e-49\np147 =  [ 0.00000000  0.00000000  0.00000000  0.00000000  0.00000000  0.00000000]\nsum147 =  4.44094159285e-49\np148 =  [ 0.00000000  0.00000000  0.00000000  0.00000000  0.00000000  0.00000000]\nsum148 =  2.30055363552e-49\np149 =  [ 0.00000000  0.00000000  0.00000000  0.00000000  0.00000000  0.00000000]\nsum149 =  8.5125881605e-50\nsum =  1.0\n"
     ]
    }
   ],
   "source": [
    "vect_p_l = [p0]\n",
    "p_sums = [np.sum(p0)]\n",
    "print('p0 = ', vect_p_l[0][0])\n",
    "print('sum0 = ', p_sums[0])\n",
    "for l in range(1, p_num):\n",
    "    vect_p_l.append(np.dot(vect_p_l[0], matrPhi_l[l]))\n",
    "    p_sums.append(np.sum(vect_p_l[l]))\n",
    "    print('p' + str(l) + ' = ', vect_p_l[l][0])\n",
    "    print('sum' + str(l) + ' = ', p_sums[l])\n",
    "print('sum = ', np.sum(p_sums))"
   ]
  },
  {
   "cell_type": "code",
   "execution_count": 31,
   "metadata": {
    "collapsed": false
   },
   "outputs": [
    {
     "data": {
      "image/png": "[encoded data removed]",
      "text/plain": [
       "<matplotlib.figure.Figure at 0x7f5bad198d68>"
      ]
     },
     "metadata": {},
     "output_type": "display_data"
    },
    {
     "name": "stdout",
     "output_type": "stream",
     "text": [
      "[0.59999994037552962, 0.23999999939412697, 0.096000015095182065, 0.038400015301445607, 0.015360011446513912, 0.0061440075484967991, 0.0024576046422525701, 0.00098304273133368193, 0.00039321755901473073, 0.00015728727065707446, 6.2915038402884351e-05, 2.5166083641747658e-05, 1.0066469173797931e-05, 4.0266063103529662e-06, 1.610652235986751e-06, 6.4426594756226105e-07, 2.5770900557670729e-07, 1.0308496640880328e-07, 4.1234694667802867e-08, 1.6494245254481133e-08, 6.5978886469460465e-09, 2.6392542580004082e-09, 1.0557529206719407e-09, 4.2232771509335688e-10, 1.6894484396122781e-10, 6.758506695969066e-11, 2.7037720961903238e-11, 1.0817002461323469e-11, 4.3277926874627151e-12, 1.7316308690409481e-12, 6.9291853355917576e-13, 2.7730531598381143e-13, 1.109935682488412e-13, 4.4434438047101196e-14, 1.779294860975078e-14, 7.1271121333906263e-15, 2.8559904100650384e-15, 1.1450617703397387e-15, 4.59405595335138e-16, 1.8447758929122372e-16, 7.4161613605717093e-17, 2.985661795870669e-17, 1.2042095651866112e-17, 4.8683559937116971e-18, 1.9740303393169601e-18, 8.0343739182184515e-19, 3.285369037603744e-19, 1.3512488942441657e-19, 5.5971925546384511e-20, 2.3384414354579902e-20, 9.8695423734974477e-21, 4.2150062929276506e-21, 1.8244154163898996e-21, 8.0146861209465033e-22, 3.5773167382436646e-22, 1.6233460305204255e-22, 7.4901795976073562e-23, 3.5124446841063436e-23, 1.6724759879833742e-23, 8.075632129106782e-24, 3.9481055976841449e-24, 1.9511135548270083e-24, 9.7308698430547773e-25, 4.890294532988029e-25, 2.4730869405949884e-25, 1.2570417701121266e-25, 6.4154952978527692e-26, 3.284879715696598e-26, 1.6862525646714823e-26, 8.673650085333982e-27, 4.4685588254215252e-27, 2.3049895268401873e-27, 1.190112000157074e-27, 6.149377943164621e-28, 3.1792625163082951e-28, 1.6444355172824308e-28, 8.5086085626401412e-29, 4.403695700527396e-29, 2.2796418186228984e-29, 1.1802824627376437e-29, 6.1116633412340931e-30, 3.1650073653332457e-30, 1.6391637812507653e-30, 8.4897508390735825e-31, 4.3973074201903438e-31, 2.277684735376098e-31, 1.1798095315925631e-31, 6.1113770113646658e-32, 3.1657244804842633e-32, 1.6398814477887187e-32, 8.4948532966678944e-33, 4.4005045444479774e-33, 2.2795625041859687e-33, 1.1808708988787714e-33, 6.1172297279609604e-34, 3.1688981740862184e-34, 1.641582242982137e-34, 8.5038908450670764e-35, 4.40527703962886e-35, 2.2820711127540048e-35, 1.18218496023901e-35, 6.1240950763300736e-36, 3.172477881608978e-36, 1.6434459416886196e-36, 8.5135825870579215e-37, 4.4103125485413884e-37, 2.2846856190629274e-37, 1.1835417393043396e-37, 6.1311331532362594e-38, 3.1761276429071104e-38, 1.6453381604405304e-38, 8.523390991810622e-39, 4.4153960604214572e-39, 2.287320019616327e-39, 1.1849068350942229e-39, 6.1382063569181663e-40, 3.1797924183935468e-40, 1.647236883981175e-40, 8.5332280012902871e-41, 4.4204923536038014e-41, 2.2899602265498825e-41, 1.1862746128780906e-41, 6.1452921506033965e-42, 3.18346319447273e-42, 1.6491385074489853e-42, 8.5430791990374114e-43, 4.4255956630516611e-43, 2.2926039346502322e-43, 1.1876441509856873e-43, 6.1523868497611028e-44, 3.1871384984461306e-44, 1.651042442341518e-44, 8.5529422340310347e-45, 4.4307050499049237e-45, 2.2952507691753724e-45, 1.1890152999356891e-45, 6.1594898586182857e-46, 3.1908180931194988e-46, 1.6529485943586517e-46, 8.5628167320626914e-47, 4.4358203660301655e-47, 2.2979006716748628e-47, 1.1903880367638647e-47, 6.1666010874727371e-48, 3.1945019437281672e-48, 1.6548569501727542e-48, 8.5727026428173125e-49, 4.4409415928530973e-49, 2.3005536355228399e-49, 8.5125881605038904e-50]\n"
     ]
    }
   ],
   "source": [
    "plt.scatter(x=[_ for _ in range(150)], y=p_sums)\n",
    "plt.show()\n",
    "print(p_sums)"
   ]
  },
  {
   "cell_type": "heading",
   "metadata": {},
   "level": 3,
   "source": [
    "Условие эргодичности по формулам (6) - (7)"
   ]
  },
  {
   "cell_type": "code",
   "execution_count": 32,
   "metadata": {
    "collapsed": true
   },
   "outputs": [
    {
     "name": "stdout",
     "output_type": "stream",
     "text": [
      "[[-1000.00000000  0.00000000  0.00000000  0.00000000  50.00000000\n   950.00000000]\n [ 5.58225000 -1005.58225000  0.00000000  1000.00000000  0.00000000\n   0.00000000]\n [ 440.99820000  0.00000000 -1440.99820000  1000.00000000  0.00000000\n   0.00000000]\n [ 0.00000000  0.00000050  0.00000950 -0.00001000  0.00000000  0.00000000]\n [ 0.00001000  0.00000000  0.00000000  1.86075000 -1.86076000  0.00000000]\n [ 0.00001000  0.00000000  0.00000000  146.99940000  0.00000000\n  -146.99941000]]\n"
     ]
    }
   ],
   "source": [
    "matr_Q_1_ = copy.deepcopy(matrQ_k[0])\n",
    "for l in range(1, n+2):\n",
    "    matr_Q_1_ += matrQ_k[l]\n",
    "print(matr_Q_1_)"
   ]
  },
  {
   "cell_type": "code",
   "execution_count": 33,
   "metadata": {
    "collapsed": true
   },
   "outputs": [
    {
     "name": "stdout",
     "output_type": "stream",
     "text": [
      "[[-1018.00000000  0.00000000  0.00000000  0.00000000  50.00000000\n   950.00000000]\n [ 5.58225000 -1008.58225000  0.00000000  1000.00000000  0.00000000\n   0.00000000]\n [ 440.99820000  0.00000000 -1443.99820000  1000.00000000  0.00000000\n   0.00000000]\n [ 0.00000000  0.00000050  0.00000950 -3.00001000  0.00000000  0.00000000]\n [ 0.00001000  0.00000000  0.00000000  1.86075000  0.13924000  0.00000000]\n [ 0.00001000  0.00000000  0.00000000  146.99940000  0.00000000\n  -144.99941000]]\n"
     ]
    }
   ],
   "source": [
    "matr_dQ_1_ = copy.deepcopy(matrQ_k[1])\n",
    "for l in range(2, n+2):\n",
    "    matr_dQ_1_ += l * matrQ_k[l]\n",
    "print(matr_dQ_1_)"
   ]
  },
  {
   "cell_type": "code",
   "execution_count": 34,
   "metadata": {
    "collapsed": true
   },
   "outputs": [
    {
     "name": "stdout",
     "output_type": "stream",
     "text": [
      "[ 0.00000000  0.00000000  0.00000000 -0.00000000  0.00000000  0.00000000]\n[[-0.00000005 -0.00000000 -0.00000002 -2.99999968  0.00000016  0.00000004]]\n"
     ]
    }
   ],
   "source": [
    "matr_a = copy.deepcopy(np.array(matr_Q_1_))\n",
    "for i in range(matr_a.shape[0]):\n",
    "    matr_a[i][0] = 1 \n",
    "matr_b = np.zeros((matr_a.shape[0], 1))\n",
    "matr_b[0][0] = 1\n",
    "matr_a = np.transpose(matr_a)\n",
    "\n",
    "vect_y = la.solve(matr_a, matr_b).reshape(-1)\n",
    "print(vect_y @ matr_Q_1_)\n",
    "print(vect_y @ matr_dQ_1_)"
   ]
  },
  {
   "cell_type": "code",
   "execution_count": 35,
   "metadata": {
    "collapsed": false
   },
   "outputs": [
    {
     "name": "stdout",
     "output_type": "stream",
     "text": [
      "ergodicity = -2.99999955863\n"
     ]
    }
   ],
   "source": [
    "vect_e = np.array([[1.] for _ in range(matr_dQ_1_.shape[1])])\n",
    "ergodicity = np.dot(np.dot(vect_y, matr_dQ_1_), vect_e) \n",
    "print('ergodicity =', ergodicity[0, 0])"
   ]
  },
  {
   "cell_type": "heading",
   "metadata": {},
   "level": 3,
   "source": [
    "Коэффициент загруженности системы"
   ]
  },
  {
   "cell_type": "code",
   "execution_count": 36,
   "metadata": {},
   "outputs": [
    {
     "name": "stdout",
     "output_type": "stream",
     "text": [
      "\\rho = [ 0.40000004]\n"
     ]
    }
   ],
   "source": [
    "vect_e = [[1] for _ in range(matrQ_0.shape[1])]\n",
    "denom = np.dot(np.dot(vect_y, matrQ_0), vect_e)[0]\n",
    "rho = lamD / denom\n",
    "print('\\\\rho =', rho)"
   ]
  },
  {
   "cell_type": "heading",
   "metadata": {},
   "level": 2,
   "source": [
    ""
   ]
  },
  {
   "cell_type": "code",
   "execution_count": 36,
   "metadata": {},
   "outputs": [],
   "source": [
    ""
   ]
  },
  {
   "cell_type": "code",
   "execution_count": 37,
   "metadata": {
    "collapsed": true
   },
   "outputs": [],
   "source": [
    "# Условие эргодичности\n",
    "block00 = kronsum(matrH0, matrS1) + kron(np.eye(V_), np.dot(matrS1_0, beta1))\n",
    "block03 = kron(kron(kron(matrH1, M1_e), tau), alpha1)\n",
    "block10 = kron(kron(np.eye(V_), np.dot(M2_e, beta1)), matrA2_0)\n",
    "block11 = kronsum(kronsum(matrH0, matrS2), matrA2) + kron(kron(np.eye(V_), np.dot(matrS2_0, beta2)), np.eye(L2))\n",
    "block12 = kron(kron(kron(matrH1, np.eye(M2)), tau), L2_e)\n",
    "block21 = kron(kron(kron(np.eye(V_), np.eye(M2)), matrT0), alpha1)\n",
    "block22 = kronsum(kronsum(matrH, matrS2), matrT) + kron(kron(np.eye(V_), np.dot(matrS2_0, beta2)), np.eye(R))\n",
    "block30 = kron(kron(kron(np.eye(V_), beta1), matrT0), L1_e)\n",
    "block32 = kron(kron(kron(np.eye(V_), beta2), np.eye(R)), matrA1_0)\n",
    "block33 = kronsum(kronsum(matrH, matrT), matrA1)\n",
    "block01 = np.zeros((block00.shape[0], block11.shape[1]))\n",
    "block02 = np.zeros((block00.shape[0], block12.shape[1]))\n",
    "block13 = np.zeros((block10.shape[0], block03.shape[1]))\n",
    "block20 = np.zeros((block21.shape[0], block00.shape[1]))\n",
    "block23 = np.zeros((block21.shape[0], block03.shape[1]))\n",
    "block31 = np.zeros((block30.shape[0], block11.shape[1]))\n",
    "matrGamma = np.bmat([[block00, block01, block02, block03],\n",
    "                     [block10, block11, block12, block13],\n",
    "                     [block20, block21, block22, block23],\n",
    "                     [block30, block31, block32, block33]])\n",
    "# pd.DataFrame(matrGamma)"
   ]
  },
  {
   "cell_type": "code",
   "execution_count": 38,
   "metadata": {
    "collapsed": false
   },
   "outputs": [
    {
     "name": "stdout",
     "output_type": "stream",
     "text": [
      "x =  [ 0.00000000  0.00000000  0.00000001  0.99999989  0.00000008  0.00000002]\nx1 =  [ 0.00000000]\nx2 =  [ 0.00000000  0.00000001]\nx3 =  [ 0.99999989]\n"
     ]
    }
   ],
   "source": [
    "matr_a = copy.deepcopy(np.array(matrGamma))\n",
    "for i in range(matr_a.shape[0]):\n",
    "    matr_a[i][0] = 1\n",
    "matr_b = np.zeros((matr_a.shape[0], 1))\n",
    "matr_b[0][0] = 1\n",
    "matr_a = np.transpose(matr_a)\n",
    "\n",
    "x = la.solve(matr_a, matr_b).reshape(-1)\n",
    "\n",
    "print('x = ', x)\n",
    "x1 = x[0:V_*M1]\n",
    "x2 = x[V_*M1:V_*M1 + V_*M2*L2]\n",
    "x3 = x[V_*M1 + V_*M2*L2: V_*M1 + V_*M2*L2 + V_*M2*R]\n",
    "\n",
    "print('x1 = ', x1)\n",
    "print('x2 = ', x2)\n",
    "print('x3 = ', x3)"
   ]
  },
  {
   "cell_type": "code",
   "execution_count": 39,
   "metadata": {
    "collapsed": false
   },
   "outputs": [
    {
     "name": "stdout",
     "output_type": "stream",
     "text": [
      "pi1 =  [ 0.00000000]\npi2 =  [ 0.00000001]\npi3 =  [ 0.99999989]\n"
     ]
    }
   ],
   "source": [
    "e_V_ = np.array([[1.] for i in range(0, V_)])\n",
    "e_R = np.array([[1.] for i in range(0, R)])\n",
    "pi1 = x1.dot(kron(e_V_, np.eye(M1)))\n",
    "pi2 = x2.dot(kron(kron(e_V_, np.eye(M2)), L2_e))\n",
    "pi3 = x3.dot(kron(kron(e_V_, np.eye(M2)), e_R))\n",
    "print('pi1 = ', pi1)\n",
    "print('pi2 = ', pi2)\n",
    "print('pi3 = ', pi3)"
   ]
  },
  {
   "cell_type": "heading",
   "metadata": {},
   "level": 3,
   "source": [
    "1. Пропускная способность системы rho"
   ]
  },
  {
   "cell_type": "code",
   "execution_count": 40,
   "metadata": {
    "collapsed": false
   },
   "outputs": [
    {
     "name": "stdout",
     "output_type": "stream",
     "text": [
      "\\varrho =  4.99999955863\n"
     ]
    }
   ],
   "source": [
    "varrho = np.dot(pi1, matrS1_0) + np.dot((pi2 + pi3), matrS2_0)\n",
    "print(\"\\\\varrho = \", varrho[0])"
   ]
  },
  {
   "cell_type": "heading",
   "metadata": {},
   "level": 3,
   "source": [
    ""
   ]
  },
  {
   "cell_type": "code",
   "execution_count": 41,
   "metadata": {
    "collapsed": false
   },
   "outputs": [
    {
     "name": "stdout",
     "output_type": "stream",
     "text": [
      "P(1) = [[ 0.00000000  0.00000000  0.00000000  0.39999999  0.00000006  0.00000001]]\n"
     ]
    }
   ],
   "source": [
    "vect_P_1_ = copy.deepcopy(vect_p_l[1])\n",
    "for l in range(2, p_num):\n",
    "    vect_P_1_ += vect_p_l[l]\n",
    "print('P(1) =', vect_P_1_)"
   ]
  },
  {
   "cell_type": "heading",
   "metadata": {},
   "level": 3,
   "source": [
    ""
   ]
  },
  {
   "cell_type": "code",
   "execution_count": 42,
   "metadata": {
    "collapsed": true
   },
   "outputs": [],
   "source": [
    "vect_dP_1_ = copy.deepcopy(vect_p_l[1])\n",
    "for l in range(2, p_num):\n",
    "    vect_dP_1_ += l * vect_p_l[l]"
   ]
  },
  {
   "cell_type": "heading",
   "metadata": {},
   "level": 3,
   "source": [
    "P''(2)"
   ]
  },
  {
   "cell_type": "code",
   "execution_count": 43,
   "metadata": {
    "collapsed": true
   },
   "outputs": [],
   "source": [
    "vect_ddP_1_ = copy.deepcopy(vect_p_l[2]) * 2\n",
    "for l in range(3, p_num):\n",
    "    vect_ddP_1_ += l * (l - 1) * vect_p_l[l]"
   ]
  },
  {
   "cell_type": "heading",
   "metadata": {},
   "level": 3,
   "source": [
    "3. Среднее число запросов в системе"
   ]
  },
  {
   "cell_type": "code",
   "execution_count": 44,
   "metadata": {
    "collapsed": false
   },
   "outputs": [
    {
     "name": "stdout",
     "output_type": "stream",
     "text": [
      "L = 0.666666904507\n"
     ]
    }
   ],
   "source": [
    "# Среднее число запросов в системе\n",
    "\n",
    "vect_e = np.array([[1.] for _ in range(vect_dP_1_.shape[1])])\n",
    "L = np.dot(vect_dP_1_, vect_e)\n",
    "print('L =', L[0, 0])"
   ]
  },
  {
   "cell_type": "heading",
   "metadata": {},
   "level": 3,
   "source": [
    "4. Дисперсия числа запросов в системе"
   ]
  },
  {
   "cell_type": "code",
   "execution_count": 45,
   "metadata": {
    "collapsed": false
   },
   "outputs": [
    {
     "name": "stdout",
     "output_type": "stream",
     "text": [
      "V = 1.11111196574\n"
     ]
    }
   ],
   "source": [
    "# Дисперсия числа запросов в системе\n",
    "dispV = np.dot(vect_ddP_1_, vect_e)[0] + L - L ** 2\n",
    "print('V =', dispV[0, 0])"
   ]
  },
  {
   "cell_type": "heading",
   "metadata": {},
   "level": 3,
   "source": [
    "5. Вероятность того, что прибор 1 исправен и обслуживает запрос"
   ]
  },
  {
   "cell_type": "heading",
   "metadata": {
    "collapsed": false
   },
   "level": 3,
   "source": [
    "# Вероятность того, что прибор 1 исправен и обслуживает запрос\n",
    "temp_matr = np.dot(vect_P_1_, la.block_diag(np.eye(a*M1), np.zeros((a*(M2*L2 + M2*R + R*L1), a*(M2*L2 + M2*R + R*L1)))))\n",
    "vect_e = np.array([[1.] for i in range(0, temp_matr.shape[1])])\n",
    "prob1work = np.dot(temp_matr, vect_e)\n",
    "print('P^{(1,0)} =', prob1work[0, 0])"
   ]
  },
  {
   "cell_type": "code",
   "execution_count": 46,
   "metadata": {
    "collapsed": false
   },
   "outputs": [
    {
     "name": "stdout",
     "output_type": "stream",
     "text": [
      "P^{(1,0)} = 1.15371363148e-09\n"
     ]
    }
   ],
   "source": [
    "# Вероятность того, что прибор 1 исправен и обслуживает запрос\n",
    "temp_matr = np.dot(vect_P_1_, la.block_diag(np.eye(a*M1), np.zeros((a*(M2*L2 + M2*R + R*L1), a*(M2*L2 + M2*R + R*L1)))))\n",
    "vect_e = np.array([[1.] for i in range(0, temp_matr.shape[1])])\n",
    "prob1work = np.dot(temp_matr, vect_e)\n",
    "print('P^{(1,0)} =', prob1work[0, 0])"
   ]
  },
  {
   "cell_type": "heading",
   "metadata": {},
   "level": 3,
   "source": [
    "6. Вероятность того, что прибор-1 в неисправном состоянии и прибор-2 обслуживает запрос"
   ]
  },
  {
   "cell_type": "code",
   "execution_count": 47,
   "metadata": {
    "collapsed": false
   },
   "outputs": [
    {
     "name": "stdout",
     "output_type": "stream",
     "text": [
      "P^{(2,0),(1,2)} = 0.399999995385\n"
     ]
    }
   ],
   "source": [
    "# Вероятность того, что прибор-1 в неисправном состоянии и прибор-2 обслуживает запрос\n",
    "temp_matr = np.dot(vect_P_1_, la.block_diag(np.zeros((a*M1, a*M1)), np.eye(a*M2*(L2 + R)), np.zeros((a*R*L1, a*R*L1))))\n",
    "vect_e = np.array([[1.] for i in range(0, temp_matr.shape[1])])\n",
    "prob1notwork = np.dot(temp_matr, vect_e)\n",
    "print('P^{(2,0),(1,2)} =', prob1notwork[0, 0])"
   ]
  },
  {
   "cell_type": "heading",
   "metadata": {},
   "level": 3,
   "source": [
    "7. Вероятность того, что в системе есть запросы, прибор 1 в неисправном состоянии и идет переключение с этого прибора на прибор 2 (при этом оба  прибора не обслуживают заявки)"
   ]
  },
  {
   "cell_type": "code",
   "execution_count": 48,
   "metadata": {
    "collapsed": false
   },
   "outputs": [
    {
     "name": "stdout",
     "output_type": "stream",
     "text": [
      "P^{(2,1)} = 6.30856114308e-08\n"
     ]
    }
   ],
   "source": [
    "# Вероятность того, что в системе есть запросы, прибор 1 в неисправном состоянии и идет переключение с этого прибора на прибор 2 (при этом оба  прибора не обслуживают заявки)\n",
    "temp_matr = np.dot(vect_P_1_, la.block_diag(np.zeros((a*(M1+M2*(L2+R)), a*(M1+M2*(L2+R)))), np.eye(a*R*L1)))\n",
    "vect_e = np.array([[1.] for i in range(0, temp_matr.shape[1])])\n",
    "prob1notworkswitch2 = np.dot(temp_matr, vect_e)\n",
    "print('P^{(2,1)} =', prob1notworkswitch2[0, 0])"
   ]
  },
  {
   "cell_type": "heading",
   "metadata": {},
   "level": 3,
   "source": [
    "8. Вероятность того, что в системе есть запросы, прибор 1 в исправном состоянии и идет переключение с  прибора 2 на прибор 1 (при этом прибор 2 продолжает обслуживать запросы)\n"
   ]
  },
  {
   "cell_type": "code",
   "execution_count": 49,
   "metadata": {
    "collapsed": false
   },
   "outputs": [
    {
     "name": "stdout",
     "output_type": "stream",
     "text": [
      "P^{(2,2)} = 2.83595058752e-09\n"
     ]
    }
   ],
   "source": [
    "# Вероятность того, что в системе есть запросы, прибор 1 в исправном состоянии и идет переключение с  прибора 2 на прибор 1 (при этом прибор 2 продолжает обслуживать запросы)\n",
    "temp_matr = np.dot(vect_P_1_, la.block_diag(np.zeros((a*M1, a*M1)), np.eye(a*M2*L2),\n",
    "                                            np.zeros((a*(R*L1 + M2*R), a*(R*L1 + M2*R)))))\n",
    "vect_e = np.array([[1.] for i in range(0, temp_matr.shape[1])])\n",
    "prob1workswitch21 = np.dot(temp_matr, vect_e)\n",
    "print('P^{(2,2)} =', prob1workswitch21[0, 0])"
   ]
  },
  {
   "cell_type": "heading",
   "metadata": {},
   "level": 3,
   "source": [
    "9. Вероятность того, что прибор 1 доступен (средняя доля времени, в течение которой прибор 1 доступен)"
   ]
  },
  {
   "cell_type": "code",
   "execution_count": 50,
   "metadata": {
    "collapsed": false
   },
   "outputs": [
    {
     "name": "stdout",
     "output_type": "stream",
     "text": [
      "P_1+ = 2.91011987226e-09\n"
     ]
    }
   ],
   "source": [
    "# Вероятность того, что прибор 1 доступен (средняя доля времени, в течение которого прибор 1 доступен)\n",
    "temp_matr1 = np.dot(vect_P_1_, la.block_diag(np.eye(a*M1), np.zeros((a*(M2*L2 + M2*R + R*L1), a*(M2*L2 + M2*R + R*L1)))))\n",
    "vect_e = np.array([[1.] for i in range(0, temp_matr1.shape[1])])\n",
    "temp_matr = np.dot(temp_matr1, vect_e)\n",
    "\n",
    "temp_matr2 = np.dot(vect_p_l[0], la.block_diag(np.eye(a), np.zeros((a*(L2+R+R*L1), a*(L2+R+R*L1)))))\n",
    "vect_e = np.array([[1.] for i in range(0, temp_matr2.shape[1])])\n",
    "temp_matr += np.dot(temp_matr2, vect_e)\n",
    "prob1avail = temp_matr\n",
    "print('P_1+ =', prob1avail[0, 0])"
   ]
  },
  {
   "cell_type": "heading",
   "metadata": {},
   "level": 3,
   "source": [
    "10. Вероятность того, что прибор 1 недоступен (средняя доля времени, в течение которого прибор 1 недоступен)"
   ]
  },
  {
   "cell_type": "code",
   "execution_count": 51,
   "metadata": {
    "collapsed": false
   },
   "outputs": [
    {
     "name": "stdout",
     "output_type": "stream",
     "text": [
      "P_2 = 0.99999999709\n"
     ]
    }
   ],
   "source": [
    "# Вероятность того, что прибор 1 недоступен (средняя доля времени, в течение которого прибор 1 недоступен)\n",
    "temp_matr1 = np.dot(vect_P_1_, la.block_diag(np.zeros((a*M1, a*M1)), np.eye(a*(M2*L2 + M2*R + R*L1))))\n",
    "vect_e = np.array([[1.] for i in range(0, temp_matr1.shape[1])])\n",
    "temp_matr = np.dot(temp_matr1, vect_e)\n",
    "\n",
    "temp_matr2 = np.dot(vect_p_l[0], la.block_diag(np.zeros((a, a)), np.eye(a*(L2+R+R*L1))))\n",
    "vect_e = np.array([[1.] for i in range(0, temp_matr2.shape[1])])\n",
    "temp_matr += np.dot(temp_matr2, vect_e)\n",
    "prob1notavail = temp_matr\n",
    "print('P_2 =', prob1notavail[0, 0])"
   ]
  },
  {
   "cell_type": "heading",
   "metadata": {},
   "level": 3,
   "source": [
    "10.1 Вероятность того, что прибор 1 недоступен, а прибор 2 доступен (средняя доля времени, в течение которого прибор 2 доступен)"
   ]
  },
  {
   "cell_type": "code",
   "execution_count": 52,
   "metadata": {
    "collapsed": false
   },
   "outputs": [
    {
     "name": "stdout",
     "output_type": "stream",
     "text": [
      "P_2 = 0.999999900059\n"
     ]
    }
   ],
   "source": [
    "temp_matr1 = np.dot(vect_P_1_, la.block_diag(np.zeros((a*M1, a*M1)), np.eye(a*M2*(L2+R)), np.zeros((a*R*L1, a*R*L1))))\n",
    "vect_e = np.array([[1.] for i in range(0, temp_matr1.shape[1])])\n",
    "temp_matr = np.dot(temp_matr1, vect_e)\n",
    "\n",
    "temp_matr2 = np.dot(vect_p_l[0], la.block_diag(np.zeros((a, a)), np.eye(a*(L2+R)), np.zeros((a*R*L1, a*R*L1))))\n",
    "vect_e = np.array([[1.] for i in range(0, temp_matr2.shape[1])])\n",
    "temp_matr += np.dot(temp_matr2, vect_e)\n",
    "\n",
    "prob2_avail = temp_matr\n",
    "print('P_2 =', prob2_avail[0, 0])"
   ]
  },
  {
   "cell_type": "heading",
   "metadata": {},
   "level": 3,
   "source": [
    "11. Вероятность того, что оба прибора недоступны, т.е. идет переключение с прибора 1 на прибор 2 (средняя доля времени, в течение которого оба прибора недоступны)"
   ]
  },
  {
   "cell_type": "code",
   "execution_count": 53,
   "metadata": {
    "collapsed": false
   },
   "outputs": [
    {
     "name": "stdout",
     "output_type": "stream",
     "text": [
      "P- = 9.70311165667e-08\n"
     ]
    }
   ],
   "source": [
    "temp_matr1 = np.dot(vect_P_1_, la.block_diag(np.zeros((a*(M1+M2*(L2+R)), a*(M1+M2*(L2+R)))), np.eye(a*R*L1)))\n",
    "vect_e = np.array([[1.] for i in range(0, temp_matr1.shape[1])])\n",
    "temp_matr = np.dot(temp_matr1, vect_e)\n",
    "\n",
    "temp_matr2 = np.dot(vect_p_l[0], la.block_diag(np.zeros((a*(1+L2+R), a*(1+L2+R))), np.eye(a*R*L1)))\n",
    "vect_e = np.array([[1.] for i in range(0, temp_matr2.shape[1])])\n",
    "temp_matr += np.dot(temp_matr2, vect_e)\n",
    "\n",
    "prob_both_not_avail = temp_matr\n",
    "print('P- =', prob_both_not_avail[0, 0])"
   ]
  },
  {
   "cell_type": "heading",
   "metadata": {
    "collapsed": true
   },
   "level": 3,
   "source": [
    "12. Среднее число переключений с прибора 1 на прибор 2 в единицу времени"
   ]
  },
  {
   "cell_type": "code",
   "execution_count": 53,
   "metadata": {
    "collapsed": false
   },
   "outputs": [
    {
     "name": "stdout",
     "output_type": "stream",
     "text": [
      "Khi_1_2 = 2.91011987226e-06\n"
     ]
    }
   ],
   "source": [
    "temp_matr1 = np.dot(vect_P_1_, la.block_diag(kron(kron(np.eye(W_), matrH1), np.eye(M1)), np.zeros((a*(M2*(L2+R)+R*L1), a*(M2*(L2+R)+R*L1)))))\n",
    "vect_e = np.array([[1.] for i in range(0, temp_matr1.shape[1])])\n",
    "temp_matr = np.dot(temp_matr1, vect_e)\n",
    "\n",
    "temp_matr2 = np.dot(vect_p_l[0], la.block_diag(kron(np.eye(W_), matrH1), np.zeros((a*(L2+R+R*L1), a*(L2+R+R*L1)))))\n",
    "vect_e = np.array([[1.] for i in range(0, temp_matr2.shape[1])])\n",
    "temp_matr += np.dot(temp_matr2, vect_e)\n",
    "\n",
    "switches12_num = temp_matr\n",
    "print('Khi_1_2 =', switches12_num[0, 0])"
   ]
  },
  {
   "cell_type": "heading",
   "metadata": {},
   "level": 3,
   "source": [
    "13. Среднее число переключений с прибора 2 на прибор 1 в единицу времени"
   ]
  },
  {
   "cell_type": "code",
   "execution_count": 54,
   "metadata": {
    "collapsed": true
   },
   "outputs": [],
   "source": [
    ""
   ]
  },
  {
   "cell_type": "code",
   "execution_count": 54,
   "metadata": {
    "collapsed": false
   },
   "outputs": [
    {
     "name": "stdout",
     "output_type": "stream",
     "text": [
      "Khi_2_1 = 9.99999892969e-06\n"
     ]
    }
   ],
   "source": [
    "temp_matr1 = np.dot(vect_P_1_, la.block_diag(np.zeros((a*(M1+M2*L2), a*(M1+M2*L2))), kron(np.eye(a*M2), matrT),\n",
    "                                             np.zeros((a*R*L1, a*R*L1))))\n",
    "vect_e = np.array([[1.] for i in range(0, temp_matr1.shape[1])])\n",
    "temp_matr = np.dot(temp_matr1, vect_e)\n",
    "temp_matr2 = np.dot(vect_p_l[0], la.block_diag(np.zeros((a*(1+L2), a*(1+L2))), kron(np.eye(a), matrT),\n",
    "                                               np.zeros((a*R*L1, a*R*L1))))\n",
    "vect_e = np.array([[1.] for i in range(0, temp_matr2.shape[1])])\n",
    "temp_matr += np.dot(temp_matr2, vect_e)\n",
    "switches21_num = temp_matr\n",
    "print('Khi_2_1 =', -switches21_num[0, 0])"
   ]
  },
  {
   "cell_type": "code",
   "execution_count": 54,
   "metadata": {
    "collapsed": true
   },
   "outputs": [],
   "source": [
    ""
   ]
  },
  {
   "cell_type": "code",
   "execution_count": 55,
   "metadata": {
    "collapsed": true
   },
   "outputs": [],
   "source": [
    ""
   ]
  },
  {
   "cell_type": "code",
   "execution_count": 55,
   "metadata": {
    "collapsed": true
   },
   "outputs": [],
   "source": [
    ""
   ]
  },
  {
   "cell_type": "code",
   "execution_count": 55,
   "metadata": {
    "collapsed": true
   },
   "outputs": [],
   "source": [
    ""
   ]
  },
  {
   "cell_type": "code",
   "execution_count": 55,
   "metadata": {
    "collapsed": true
   },
   "outputs": [],
   "source": [
    ""
   ]
  },
  {
   "cell_type": "code",
   "execution_count": 55,
   "metadata": {
    "collapsed": true
   },
   "outputs": [],
   "source": [
    ""
   ]
  },
  {
   "cell_type": "code",
   "execution_count": 55,
   "metadata": {
    "collapsed": true
   },
   "outputs": [],
   "source": [
    ""
   ]
  },
  {
   "cell_type": "code",
   "execution_count": 55,
   "metadata": {
    "collapsed": true
   },
   "outputs": [],
   "source": [
    ""
   ]
  },
  {
   "cell_type": "code",
   "execution_count": 55,
   "metadata": {
    "collapsed": true
   },
   "outputs": [],
   "source": [
    ""
   ]
  },
  {
   "cell_type": "code",
   "execution_count": 55,
   "metadata": {
    "collapsed": true
   },
   "outputs": [],
   "source": [
    ""
   ]
  },
  {
   "cell_type": "code",
   "execution_count": 55,
   "metadata": {
    "collapsed": true
   },
   "outputs": [],
   "source": [
    ""
   ]
  },
  {
   "cell_type": "code",
   "execution_count": 55,
   "metadata": {},
   "outputs": [],
   "source": [
    ""
   ]
  },
  {
   "cell_type": "code",
   "execution_count": 55,
   "metadata": {},
   "outputs": [],
   "source": [
    ""
   ]
  },
  {
   "cell_type": "code",
   "execution_count": 55,
   "metadata": {},
   "outputs": [],
   "source": [
    ""
   ]
  },
  {
   "cell_type": "code",
   "execution_count": 55,
   "metadata": {},
   "outputs": [],
   "source": [
    ""
   ]
  },
  {
   "cell_type": "code",
   "execution_count": 55,
   "metadata": {},
   "outputs": [],
   "source": [
    ""
   ]
  },
  {
   "cell_type": "code",
   "execution_count": 55,
   "metadata": {},
   "outputs": [],
   "source": [
    ""
   ]
  },
  {
   "cell_type": "code",
   "execution_count": 55,
   "metadata": {},
   "outputs": [],
   "source": [
    ""
   ]
  },
  {
   "cell_type": "code",
   "execution_count": null,
   "metadata": {},
   "outputs": [],
   "source": [
    ""
   ]
  }
 ],
 "metadata": {
  "kernelspec": {
   "display_name": "Python 3",
   "language": "python",
   "name": "python3"
  },
  "language_info": {
   "codemirror_mode": {
    "name": "ipython",
    "version": 3.0
   },
   "file_extension": ".py",
   "mimetype": "text/x-python",
   "name": "python",
   "nbconvert_exporter": "python",
   "pygments_lexer": "ipython3",
   "version": "3.5.2"
  }
 },
 "nbformat": 4,
 "nbformat_minor": 0
}