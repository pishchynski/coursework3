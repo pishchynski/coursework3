{
 "cells": [
  {
   "cell_type": "code",
   "execution_count": 58,
   "metadata": {
    "collapsed": true
   },
   "outputs": [],
   "source": [
    "import numpy as np\n",
    "import matplotlib.pyplot as plt\n",
    "import scipy.linalg as la\n",
    "import scipy.optimize as opt\n",
    "import copy\n",
    "np.set_printoptions(threshold=np.inf, suppress=True, formatter={'float': '{: 0.8f}'.format}, linewidth=75)\n",
    "%matplotlib inline"
   ]
  },
  {
   "cell_type": "code",
   "execution_count": 59,
   "metadata": {
    "collapsed": true
   },
   "outputs": [],
   "source": [
    "def kron(A, B):\n",
    "    return la.kron(A, B)"
   ]
  },
  {
   "cell_type": "code",
   "execution_count": 60,
   "metadata": {
    "collapsed": true
   },
   "outputs": [],
   "source": [
    "def kronsum(A, B):\n",
    "    if A.shape[0] != A.shape[1]:\n",
    "        raise ValueError('A is not square')\n",
    "\n",
    "    if B.shape[0] != B.shape[1]:\n",
    "        raise ValueError('B is not square')\n",
    "    \n",
    "    L = kron(A, np.eye(B.shape[0]))\n",
    "    R = kron(np.eye(A.shape[0]), B)\n",
    "    \n",
    "    return L+R"
   ]
  },
  {
   "cell_type": "code",
   "execution_count": 61,
   "metadata": {
    "collapsed": true
   },
   "outputs": [],
   "source": [
    "n = 1                   # Количество матриц D_k\n",
    "p_num = 150             # Количество векторов стац. вероятн. p\n",
    "eps_G = 10 ** (-6)      # Точность нахождения матр. G\n",
    "eps_Phi = 10 ** (-6)    # Точность нахождения матр. Phi\n",
    "eps_p_i = 10 ** (-6)    # Точность нахождения векторов p"
   ]
  },
  {
   "cell_type": "heading",
   "metadata": {},
   "level": 3,
   "source": [
    "Поток входящих заявок BMAP"
   ]
  },
  {
   "cell_type": "code",
   "execution_count": 62,
   "metadata": {
    "collapsed": false
   },
   "outputs": [
    {
     "name": "stdout",
     "output_type": "stream",
     "text": [
      "[[-19]]\n",
      "[[19]]\n"
     ]
    }
   ],
   "source": [
    "# Входной BMAP\n",
    "matrD_0 = np.array([[-19]])\n",
    "matrD = np.array([[85, 0.99], [0.2, 2.54]]) * 0.025\n",
    "matrD_k = [matrD_0]\n",
    "\n",
    "W_ = matrD_0.shape[0]\n",
    "W = W_ - 1\n",
    "\n",
    "q = 0.8\n",
    "for k in range(1, n+1):\n",
    "    matrD_k.append(np.array([[19]]))\n",
    "\n",
    "for matr in matrD_k:\n",
    "    print(matr)"
   ]
  },
  {
   "cell_type": "code",
   "execution_count": 63,
   "metadata": {
    "collapsed": false
   },
   "outputs": [
    {
     "name": "stdout",
     "output_type": "stream",
     "text": [
      "matrD_1_ = [[ 0.00000000]]\n",
      "[[ 1.00000000]] [[ 1.00000000]]\n",
      "Theta = [ 1.00000000]\n",
      "lambda = 19.0\n"
     ]
    }
   ],
   "source": [
    "# Характеристики входного BMAP\n",
    "\n",
    "matrD_1_ = np.zeros(matrD_k[0].shape)\n",
    "for matr in matrD_k:\n",
    "    matrD_1_ += matr\n",
    "print('matrD_1_ =', matrD_1_)\n",
    "matr_a = np.array(copy.deepcopy(matrD_1_))\n",
    "for i in range(matr_a.shape[0]):\n",
    "    matr_a[i][0] = 1\n",
    "\n",
    "matr_b = np.zeros((matr_a.shape[0], 1))\n",
    "matr_b[0][0] = 1\n",
    "\n",
    "matr_a = np.transpose(matr_a)\n",
    "print(matr_a, matr_b)\n",
    "\n",
    "theta = la.solve(matr_a, matr_b).reshape(-1)    # Алгоритм проверен.\n",
    "\n",
    "matrdD_1_ = np.array(copy.deepcopy(matrD_k[1]))\n",
    "\n",
    "print('Theta =', theta)\n",
    "\n",
    "for i in range(2, n+1):\n",
    "    matrdD_1_ += matrD_k[i] * i\n",
    "vect_e = np.array([[1.] for i in range(0, matrD_1_.shape[0])])\n",
    "lamD = np.dot(np.dot(theta, matrdD_1_), vect_e)\n",
    "print('lambda =', lamD[0])"
   ]
  },
  {
   "cell_type": "heading",
   "metadata": {},
   "level": 3,
   "source": [
    "Поток поломок MAP"
   ]
  },
  {
   "cell_type": "code",
   "execution_count": 64,
   "metadata": {
    "collapsed": false
   },
   "outputs": [
    {
     "name": "stdout",
     "output_type": "stream",
     "text": [
      "H_0 = [[-0.00001000]]\n",
      "H_1 = [[ 0.00001000]]\n",
      "h = 1e-05\n"
     ]
    }
   ],
   "source": [
    "# Поток поломок MAP\n",
    "matrH0 = np.array([[-0.00001]])\n",
    "matrH1 = np.array([[0.00001]])    \n",
    "V_ = matrH1.shape[0]\n",
    "V = V_ - 1\n",
    "matrH = matrH0 + matrH1\n",
    "matr_a = copy.deepcopy(matrH)\n",
    "for i in range(matr_a.shape[0]):\n",
    "    # print(matr_a)\n",
    "    matr_a[i][0] = 1\n",
    "    \n",
    "matr_b = np.zeros((matr_a.shape[0], 1))\n",
    "matr_b[0][0] = 1\n",
    "\n",
    "matr_a = np.transpose(matr_a)\n",
    "\n",
    "print('H_0 =', matrH0)\n",
    "print('H_1 =', matrH1)\n",
    "\n",
    "gamma = la.solve(matr_a, matr_b).reshape(-1)\n",
    "\n",
    "vect_e = np.array([[1.] for i in range(0, matrD_1_.shape[0])])\n",
    "h = np.dot(np.dot(gamma, matrH1), vect_e)\n",
    "print('h =', h[0])"
   ]
  },
  {
   "cell_type": "code",
   "execution_count": 65,
   "metadata": {
    "collapsed": false
   },
   "outputs": [
    {
     "name": "stdout",
     "output_type": "stream",
     "text": [
      "[[ 20.00000000]]\n"
     ]
    }
   ],
   "source": [
    "# Поток обслуживания PH1\n",
    "beta1 = np.array([[1]])\n",
    "matrS1 = np.array([[-20]])\n",
    "M1 = matrS1.shape[0]\n",
    "M1_ = M1 + 1\n",
    "M1_e = np.array([[1] for _ in range(matrS1.shape[1])])\n",
    "matrS1_0 = - np.dot(matrS1, M1_e)\n",
    "vect_e = np.array([[1.] for i in range(0, matrS1.shape[1])])\n",
    "# print(np.dot(beta1, la.inv(matrS1)))\n",
    "mu_1 = -la.inv(np.dot(np.dot(beta1, la.inv(matrS1)), vect_e))\n",
    "print(mu_1)"
   ]
  },
  {
   "cell_type": "code",
   "execution_count": 66,
   "metadata": {
    "collapsed": false
   },
   "outputs": [
    {
     "name": "stdout",
     "output_type": "stream",
     "text": [
      "[[ 5.00000000]]\n"
     ]
    }
   ],
   "source": [
    "# Поток обслуживания PH2\n",
    "beta2 = np.array([[1]])\n",
    "matrS2 = np.array([[-5]])\n",
    "M2 = matrS2.shape[0]\n",
    "M2_ = M2 + 1\n",
    "M2_e = np.array([[1] for _ in range(matrS2.shape[1])])\n",
    "matrS2_0 = - np.dot(matrS2, M2_e)\n",
    "\n",
    "vect_e = np.array([[1.] for i in range(0, matrS2.shape[1])])\n",
    "mu_2 = -la.inv(np.dot(np.dot(beta2, la.inv(matrS2)), vect_e))\n",
    "print(mu_2)"
   ]
  },
  {
   "cell_type": "code",
   "execution_count": 67,
   "metadata": {
    "collapsed": true
   },
   "outputs": [],
   "source": [
    "matrS_w = kron(np.dot(matrS1_0, beta1), \n",
    "               np.dot(M2_e, beta2)) + kron(np.dot(M1_e, beta1), np.dot(matrS2_0, beta2))"
   ]
  },
  {
   "cell_type": "code",
   "execution_count": 68,
   "metadata": {
    "collapsed": false
   },
   "outputs": [
    {
     "name": "stdout",
     "output_type": "stream",
     "text": [
      "\\kappa_1 = 29.9998528738\n"
     ]
    }
   ],
   "source": [
    "# Поток переключения с прибора-1 на прибор-2\n",
    "alpha1 = np.array([[0.05, 0.95]])\n",
    "matrA1 = np.array([[-1.86075, 0.], [0., -146.9994]])\n",
    "L1 = matrA1.shape[0]\n",
    "L1_ = L1 + 1\n",
    "L1_e = np.array([[1], [1]])\n",
    "matrA1_0 = - np.dot(matrA1, L1_e)\n",
    "\n",
    "vect_e = np.array([[1.] for i in range(0, matrA1.shape[0])])\n",
    "kappa_1 = -la.inv(np.dot(np.dot(alpha1, la.inv(matrA1)), vect_e))[0, 0]\n",
    "print('\\\\kappa_1 =', kappa_1)"
   ]
  },
  {
   "cell_type": "code",
   "execution_count": 69,
   "metadata": {
    "collapsed": false
   },
   "outputs": [
    {
     "name": "stdout",
     "output_type": "stream",
     "text": [
      "\\kappa_2 = 89.9995586214\n"
     ]
    }
   ],
   "source": [
    "# Поток переключения с прибора-2 на прибор-1\n",
    "alpha2 = np.array([[0.05, 0.95]])\n",
    "matrA2 = np.array([[-5.58225, 0.], [0., -440.9982]])\n",
    "L2 = matrA2.shape[0]\n",
    "L2_ = L2 + 1\n",
    "L2_e = np.array([[1], [1]])\n",
    "matrA2_0 = - np.dot(matrA2, L2_e)\n",
    "\n",
    "vect_e = np.array([[1.] for i in range(0, matrA1.shape[0])])\n",
    "kappa_2 = -la.inv(np.dot(np.dot(alpha2, la.inv(matrA2)), vect_e))[0, 0]\n",
    "print('\\\\kappa_2 =', kappa_2)"
   ]
  },
  {
   "cell_type": "code",
   "execution_count": 70,
   "metadata": {
    "collapsed": false
   },
   "outputs": [
    {
     "name": "stdout",
     "output_type": "stream",
     "text": [
      "[[ 10000.00000000]]\n"
     ]
    }
   ],
   "source": [
    "# Поток ремонта PH\n",
    "tau = np.array([[1]])\n",
    "matrT = np.array([[-10000]])\n",
    "T_e = np.array([[1]])\n",
    "matrT0 = - np.dot(matrT, T_e)\n",
    "\n",
    "R = matrT.shape[0]\n",
    "R_ = R + 1\n",
    "vect_e = np.array([[1.] for i in range(0, matrT.shape[0])])\n",
    "phi = -la.inv(np.dot(np.dot(tau, la.inv(matrT)), vect_e))\n",
    "print(phi)"
   ]
  },
  {
   "cell_type": "code",
   "execution_count": 71,
   "metadata": {
    "collapsed": false
   },
   "outputs": [
    {
     "name": "stdout",
     "output_type": "stream",
     "text": [
      "a = 1\n"
     ]
    }
   ],
   "source": [
    "a = W_ * V_\n",
    "print('a =', a)"
   ]
  },
  {
   "cell_type": "code",
   "execution_count": 72,
   "metadata": {
    "collapsed": false
   },
   "outputs": [
    {
     "name": "stdout",
     "output_type": "stream",
     "text": [
      "(2, 1)\n",
      "(6, 6)\n"
     ]
    }
   ],
   "source": [
    "# Q~0\n",
    "block00 = kronsum(matrD_k[0], matrH0)\n",
    "block03 = kron(kron(kron(np.eye(W_), matrH1), tau), alpha1)\n",
    "block10 = kron(np.eye(a), matrA2_0)\n",
    "block11 = kronsum(kronsum(matrD_k[0], matrH0), matrA2)\n",
    "block12 = kron(kron(kron(np.eye(W_), matrH1), tau), L2_e)\n",
    "block21 = kron(kron(np.eye(a), matrT0), alpha2)\n",
    "block22 = kronsum(kronsum(matrD_k[0], matrH), matrT)\n",
    "block30 = kron(kron(np.eye(a), matrT0), L1_e)\n",
    "block32 = kron(kron(np.eye(a), np.eye(R)), matrA1_0)\n",
    "block33 = kronsum(kronsum(kronsum(matrD_k[0], matrH), matrT), matrA1)\n",
    "block01 = np.zeros((block00.shape[0], block11.shape[1]))\n",
    "block02 = np.zeros((block00.shape[0], block12.shape[1]))\n",
    "block13 = np.zeros((block10.shape[0], block03.shape[1]))\n",
    "block20 = np.zeros((block21.shape[0], block10.shape[1]))\n",
    "block23 = np.zeros((block21.shape[0], block03.shape[1]))\n",
    "block31 = np.zeros((block30.shape[0], block11.shape[1]))\n",
    "\n",
    "print(block30.shape)\n",
    "\n",
    "matrQw_0 = np.bmat([[block00, block01, block02, block03],\n",
    "                    [block10, block11, block12, block13], \n",
    "                    [block20, block21, block22, block23],\n",
    "                    [block30, block31, block32, block33]])\n",
    "print(matrQw_0.shape)"
   ]
  },
  {
   "cell_type": "code",
   "execution_count": 73,
   "metadata": {
    "collapsed": false
   },
   "outputs": [
    {
     "name": "stdout",
     "output_type": "stream",
     "text": [
      "[[-19.00001000  0.00000000  0.00000000  0.00000000  0.00000050  0.00000950]\n",
      " [ 5.58225000 -24.58226000  0.00000000  0.00001000  0.00000000  0.00000000]\n",
      " [ 440.99820000  0.00000000 -459.99821000  0.00001000  0.00000000\n",
      "   0.00000000]\n",
      " [ 0.00000000  500.00000000  9500.00000000 -10019.00000000  0.00000000\n",
      "   0.00000000]\n",
      " [ 10000.00000000  0.00000000  0.00000000  1.86075000 -10020.86075000\n",
      "   0.00000000]\n",
      " [ 10000.00000000  0.00000000  0.00000000  146.99940000  0.00000000\n",
      "  -10165.99940000]]\n",
      "[[ 19.00000000  0.00000000  0.00000000  0.00000000  0.00000000  0.00000000]\n",
      " [ 0.00000000  19.00000000  0.00000000  0.00000000  0.00000000  0.00000000]\n",
      " [ 0.00000000  0.00000000  19.00000000  0.00000000  0.00000000  0.00000000]\n",
      " [ 0.00000000  0.00000000  0.00000000  19.00000000  0.00000000  0.00000000]\n",
      " [ 0.00000000  0.00000000  0.00000000  0.00000000  19.00000000  0.00000000]\n",
      " [ 0.00000000  0.00000000  0.00000000  0.00000000  0.00000000  19.00000000]]\n"
     ]
    }
   ],
   "source": [
    "# Q~k\n",
    "matrQw_k = [matrQw_0]\n",
    "for i in range(1, n+1):\n",
    "    block0 = kron(kron(matrD_k[i], np.eye(V_)), beta1)\n",
    "    block1 = kron(kron(kron(matrD_k[i], np.eye(V_)), beta2), np.eye(L2))\n",
    "    block2 = kron(kron(kron(matrD_k[i], np.eye(V_)), beta2), np.eye(R))\n",
    "    block3 = kron(kron(matrD_k[i], np.eye(V_)), np.eye(R*L1))\n",
    "    matr_temp = la.block_diag(block0, block1, block2, block3)\n",
    "    matrQw_k.append(matr_temp)\n",
    "    \n",
    "print(matrQw_k[0])\n",
    "print(matrQw_k[1])\n",
    "\n",
    "for i in range(matrQw_k[0].shape[0]):\n",
    "    sum = 0\n",
    "    for matr in matrQw_k:\n",
    "        sum += np.sum(matr[i])\n",
    "    # print('matrQw_k[' + str(i) + '] = ', sum)"
   ]
  },
  {
   "cell_type": "code",
   "execution_count": 74,
   "metadata": {
    "collapsed": false
   },
   "outputs": [
    {
     "name": "stdout",
     "output_type": "stream",
     "text": [
      "(6, 6)\n"
     ]
    }
   ],
   "source": [
    "# Q^0\n",
    "block0 = kron(np.eye(a), matrS1_0)\n",
    "block1 = kron(kron(np.eye(a), matrS2_0), np.eye(L2))\n",
    "block2 = kron(kron(np.eye(a), matrS2_0), np.eye(R))\n",
    "block3 = np.zeros((a*R*L1, a*R*L1))\n",
    "matrQv_0 = la.block_diag(block0, block1, block2, block3)\n",
    "\n",
    "print(matrQv_0.shape)"
   ]
  },
  {
   "cell_type": "code",
   "execution_count": 75,
   "metadata": {
    "collapsed": false
   },
   "outputs": [
    {
     "name": "stdout",
     "output_type": "stream",
     "text": [
      "(6, 6)\n"
     ]
    }
   ],
   "source": [
    "# Q_0\n",
    "block0 = kron(np.eye(a), np.dot(matrS1_0, beta1))\n",
    "block1 = kron(kron(np.eye(a), np.dot(matrS2_0, beta2)), np.eye(L2))\n",
    "block2 = kron(kron(np.eye(a), np.dot(matrS2_0, beta2)), np.eye(R))\n",
    "block3 = np.zeros((a*R*L1, a*R*L1))\n",
    "matrQ_0 = la.block_diag(block0, block1, block2, block3)\n",
    "\n",
    "print(matrQ_0.shape)"
   ]
  },
  {
   "cell_type": "code",
   "execution_count": 76,
   "metadata": {
    "collapsed": false
   },
   "outputs": [
    {
     "name": "stdout",
     "output_type": "stream",
     "text": [
      "(6, 6)\n"
     ]
    }
   ],
   "source": [
    "# Q_1\n",
    "block00 = kronsum(kronsum(matrD_k[0], matrH0), matrS1)\n",
    "block03 = kron(kron(kron(kron(np.eye(W_), matrH1), M1_e), tau), alpha1)\n",
    "block10 = kron(kron(kron(np.eye(a), M2_e), beta1), matrA2_0)\n",
    "block11 = kronsum(kronsum(kronsum(matrD_k[0], matrH0), matrS2), matrA2)\n",
    "block12 = kron(kron(kron(kron(np.eye(W_), matrH1), np.eye(M2)), tau), L2_e)\n",
    "block21 = kron(kron(kron(np.eye(a), np.eye(M2)), matrT0), alpha1)\n",
    "block22 = kronsum(kronsum(kronsum(matrD_k[0], matrH), matrS2), matrT)\n",
    "block30 = kron(kron(kron(np.eye(a), beta1), matrT0), L1_e)\n",
    "block32 = kron(kron(kron(np.eye(a), beta2), np.eye(R)), matrA1_0)\n",
    "block33 = kronsum(kronsum(kronsum(matrD_k[0], matrH), matrT), matrA1)\n",
    "block01 = np.zeros((block00.shape[0], block11.shape[1]))\n",
    "block02 = np.zeros((block00.shape[0], block12.shape[1]))\n",
    "block13 = np.zeros((block10.shape[0], block03.shape[1]))\n",
    "block20 = np.zeros((block21.shape[0], block10.shape[1]))\n",
    "block23 = np.zeros((block21.shape[0], block03.shape[1]))\n",
    "block31 = np.zeros((block30.shape[0], block11.shape[1]))\n",
    "\n",
    "matrQ_1 = np.bmat([[block00, block01, block02, block03], \n",
    "                   [block10, block11, block12, block13], \n",
    "                   [block20, block21, block22, block23], \n",
    "                   [block30, block31, block32, block33]])\n",
    "\n",
    "print(matrQ_1.shape)"
   ]
  },
  {
   "cell_type": "code",
   "execution_count": 77,
   "metadata": {
    "collapsed": true
   },
   "outputs": [],
   "source": [
    "matrQ_k = [matrQ_0, matrQ_1]\n",
    "for k in range(2, n+2):\n",
    "    block0 = kron(matrD_k[k-1], np.eye(V_ * M1))\n",
    "    block1 = kron(matrD_k[k-1], np.eye(V_*M2*L2))\n",
    "    block2 = kron(matrD_k[k-1], np.eye(V_*M2*R))\n",
    "    block3 = kron(matrD_k[k-1], np.eye(V_*R*L1))\n",
    "    matr_temp = la.block_diag(block0, block1, block2, block3)\n",
    "    matrQ_k.append(matr_temp)\n",
    "\n",
    "# for i in range(matrQ_k[0].shape[0]):\n",
    "#     sum = np.sum(matrQv_0[i])\n",
    "#     for j in range(1, np.array(matrQ_k).shape[0]):\n",
    "#         sum += np.sum(matrQ_k[j][i])\n",
    "#     print('matrQ_k[' + str(i) + '] = ', sum)"
   ]
  },
  {
   "cell_type": "code",
   "execution_count": 78,
   "metadata": {
    "collapsed": true
   },
   "outputs": [],
   "source": [
    "# Проверка генератора Q"
   ]
  },
  {
   "cell_type": "code",
   "execution_count": 79,
   "metadata": {
    "collapsed": false
   },
   "outputs": [
    {
     "name": "stdout",
     "output_type": "stream",
     "text": [
      "14\n",
      "1.0000000000000056\n",
      "(6, 6)\n"
     ]
    }
   ],
   "source": [
    "# Поиск матрицы G\n",
    "\n",
    "matrQ_1_neg_inv = np.linalg.inv(-matrQ_k[1])\n",
    "\n",
    "\n",
    "def calc_G(matrG_prev):\n",
    "    temp_sum = np.array(copy.deepcopy(matrQ_k[0])) \n",
    "    for k in range(2, n + 2):\n",
    "        temp_sum += np.dot(matrQ_k[k], np.linalg.matrix_power(matrG_prev, k))\n",
    "    matrG_new = np.dot(matrQ_1_neg_inv, temp_sum)\n",
    "    return matrG_new\n",
    "\n",
    "matrG_old = np.eye(matrQ_k[1].shape[0])\n",
    "matrG = calc_G(matrG_old)\n",
    "\n",
    "i = 1\n",
    "try:\n",
    "    while la.norm(matrG - matrG_old, ord=np.inf) >= eps_G:\n",
    "        matrG_old = matrG\n",
    "        matrG = calc_G(matrG_old)\n",
    "        i += 1\n",
    "except:\n",
    "    print(matrG_old)\n",
    "print(i)\n",
    "print(la.norm(matrG, ord=np.inf))\n",
    "print(matrG.shape)"
   ]
  },
  {
   "cell_type": "code",
   "execution_count": 80,
   "metadata": {
    "collapsed": false
   },
   "outputs": [
    {
     "data": {
      "text/plain": [
       "1.0000000000000056"
      ]
     },
     "execution_count": 80,
     "metadata": {},
     "output_type": "execute_result"
    }
   ],
   "source": [
    "la.norm(matrG, ord=np.inf)"
   ]
  },
  {
   "cell_type": "code",
   "execution_count": 81,
   "metadata": {
    "collapsed": false
   },
   "outputs": [
    {
     "data": {
      "text/plain": [
       "1.0"
      ]
     },
     "execution_count": 81,
     "metadata": {},
     "output_type": "execute_result"
    }
   ],
   "source": [
    "temp_sum = np.array(copy.deepcopy(matrQ_k[1]))\n",
    "for k in range(2, n+2):\n",
    "    temp_sum += np.dot(matrQ_k[k], np.linalg.matrix_power(matrG, k-1))\n",
    "matrG_0 = la.inv(temp_sum)\n",
    "matrG_0 = -np.dot(matrG_0, matrQv_0)\n",
    "# pd.DataFrame(matrG_0)\n",
    "la.norm(matrG_0, ord=np.inf)"
   ]
  },
  {
   "cell_type": "code",
   "execution_count": 82,
   "metadata": {
    "collapsed": false
   },
   "outputs": [
    {
     "name": "stdout",
     "output_type": "stream",
     "text": [
      "(6, 6)\n",
      "(6, 6)\n"
     ]
    }
   ],
   "source": [
    "print(matrG.shape)\n",
    "print(matrQv_0.shape)"
   ]
  },
  {
   "cell_type": "code",
   "execution_count": 83,
   "metadata": {
    "collapsed": false
   },
   "outputs": [
    {
     "name": "stdout",
     "output_type": "stream",
     "text": [
      "mult matr 0 shape :  (6, 6)\n",
      "0.0\n"
     ]
    }
   ],
   "source": [
    "matrQ_il = []\n",
    "for i in range(0, p_num):\n",
    "    matrQ_il.append([])\n",
    "    if i == 0:\n",
    "        for l in range(0, n + 1):\n",
    "            # здесь до n, т.к. нет больше матриц Q_k\n",
    "            temp_matr = np.array(copy.deepcopy(matrQw_k[l]))\n",
    "            for k in range(l + 1, n + 1):\n",
    "                mult_matr = np.array(copy.deepcopy(matrQw_k[k]))\n",
    "                for kk in range(k - 1, l - 1, -1):\n",
    "                    if kk == 0:\n",
    "                        mult_matr = np.dot(mult_matr, matrG_0)\n",
    "                    else:\n",
    "                        mult_matr = np.dot(mult_matr, matrG)\n",
    "                print(\"mult matr 0 shape : \", mult_matr.shape)\n",
    "                temp_matr += mult_matr\n",
    "            matrQ_il[i].append(temp_matr)\n",
    "        for l in range(n + 1, p_num):\n",
    "            matrQ_il[i].append(np.zeros(matrQw_k[1].shape))\n",
    "    else:\n",
    "        for l in range(0, p_num):\n",
    "            if l >= i and (l - i) <= (n + 1):\n",
    "                if (l - i + 1) <= (n + 1): \n",
    "                    temp_matr = np.array(copy.deepcopy(matrQ_k[l - i + 1]))\n",
    "                else:\n",
    "                    temp_matr = np.zeros(matrQ_k[0].shape)\n",
    "                    \n",
    "                for k in range(l + 1, p_num):  # sum from l+1 to inf\n",
    "                    if (k - i + 1) <= (n + 1):\n",
    "                        mult_matr = np.array(copy.deepcopy(matrQ_k[k - i + 1]))\n",
    "                        for kk in range(l, k):\n",
    "                            mult_matr = np.dot(mult_matr, matrG)\n",
    "                        \n",
    "                        temp_matr += mult_matr\n",
    "                matrQ_il[i].append(temp_matr)\n",
    "            else:\n",
    "                matrQ_il[i].append(np.zeros(matrQ_k[0].shape))\n",
    "\n",
    "# print(len(matrQ_il[3]))\n",
    "print(la.norm(matrQ_il[1][3], ord=np.inf))"
   ]
  },
  {
   "cell_type": "code",
   "execution_count": 84,
   "metadata": {
    "collapsed": false
   },
   "outputs": [
    {
     "name": "stdout",
     "output_type": "stream",
     "text": [
      "(6, 6)\n"
     ]
    }
   ],
   "source": [
    "matrPhi_0 = np.eye(matrQ_il[0][0].shape[0])\n",
    "matrPhi_l = [matrPhi_0]\n",
    "for l in range(1, p_num):\n",
    "    temp_matr = np.dot(np.dot(matrPhi_l[0], matrQ_il[0][l]), la.inv(-matrQ_il[l][l]))\n",
    "    for i in range(1, l):\n",
    "        # print(matrPhi_l[i].dot(matrQ_il[i][l]).dot(la.inv(-matrQ_il[l][l])).shape)\n",
    "        temp_matr += np.dot(np.dot(matrPhi_l[i], matrQ_il[i][l]), la.inv(-matrQ_il[l][l]))\n",
    "    matrPhi_l.append(temp_matr)\n",
    "print(matrPhi_l[1].shape)"
   ]
  },
  {
   "cell_type": "code",
   "execution_count": 85,
   "metadata": {
    "collapsed": false
   },
   "outputs": [
    {
     "name": "stdout",
     "output_type": "stream",
     "text": [
      "0.0008693573074063896\n"
     ]
    }
   ],
   "source": [
    "print(la.norm(matrPhi_l[p_num - 1], ord=np.inf))"
   ]
  },
  {
   "cell_type": "code",
   "execution_count": 86,
   "metadata": {
    "collapsed": false
   },
   "outputs": [
    {
     "name": "stdout",
     "output_type": "stream",
     "text": [
      "[[ 0.05002337  0.00000000  0.00000000  0.00000000  0.00000000  0.00000000]]\n"
     ]
    }
   ],
   "source": [
    "# Вычисление p_0\n",
    "matr_a = np.array(- copy.deepcopy(matrQ_il[0][0]))\n",
    "vect_eaR = np.array([[1.] for _ in range(matrPhi_l[0].shape[1])])\n",
    "for i in range(1, p_num):\n",
    "    vect_e = np.array([[1.] for _ in range(matrPhi_l[i].shape[1])])\n",
    "    vect_eaR += np.dot(matrPhi_l[i], vect_e)\n",
    "\n",
    "for i in range(matr_a.shape[0]):\n",
    "    matr_a[i][0] = vect_eaR[i][0]\n",
    "\n",
    "matr_b = np.zeros((matr_a.shape[0], 1))\n",
    "matr_b[0][0] = 1.\n",
    "matr_a = np.transpose(matr_a)\n",
    "p0 = np.transpose(la.solve(matr_a, matr_b))\n",
    "\n",
    "# print(p0)\n",
    "print(p0)"
   ]
  },
  {
   "cell_type": "code",
   "execution_count": 87,
   "metadata": {
    "collapsed": false
   },
   "outputs": [
    {
     "name": "stdout",
     "output_type": "stream",
     "text": [
      "p0 =  [ 0.05002337  0.00000000  0.00000000  0.00000000  0.00000000  0.00000000]\n",
      "sum0 =  0.050023370651\n",
      "p1 =  [ 0.04752220  0.00000000  0.00000000  0.00000000  0.00000000  0.00000000]\n",
      "sum1 =  0.0475222021991\n",
      "p2 =  [ 0.04514609  0.00000000  0.00000000  0.00000000  0.00000000  0.00000000]\n",
      "sum2 =  0.0451460921719\n",
      "p3 =  [ 0.04288879  0.00000000  0.00000000  0.00000000  0.00000000  0.00000000]\n",
      "sum3 =  0.0428887876463\n",
      "p4 =  [ 0.04074435  0.00000000  0.00000000  0.00000000  0.00000000  0.00000000]\n",
      "sum4 =  0.0407443483462\n",
      "p5 =  [ 0.03870713  0.00000000  0.00000000  0.00000000  0.00000000  0.00000000]\n",
      "sum5 =  0.0387071310094\n",
      "p6 =  [ 0.03677177  0.00000000  0.00000000  0.00000000  0.00000000  0.00000000]\n",
      "sum6 =  0.0367717745372\n",
      "p7 =  [ 0.03493319  0.00000000  0.00000000  0.00000000  0.00000000  0.00000000]\n",
      "sum7 =  0.034933185886\n",
      "p8 =  [ 0.03318653  0.00000000  0.00000000  0.00000000  0.00000000  0.00000000]\n",
      "sum8 =  0.0331865266645\n",
      "p9 =  [ 0.03152720  0.00000000  0.00000000  0.00000000  0.00000000  0.00000000]\n",
      "sum9 =  0.0315272004011\n",
      "p10 =  [ 0.02995084  0.00000000  0.00000000  0.00000000  0.00000000  0.00000000]\n",
      "sum10 =  0.0299508404479\n",
      "p11 =  [ 0.02845330  0.00000000  0.00000000  0.00000000  0.00000000  0.00000000]\n",
      "sum11 =  0.0284532984894\n",
      "p12 =  [ 0.02703063  0.00000000  0.00000000  0.00000000  0.00000000  0.00000000]\n",
      "sum12 =  0.0270306336259\n",
      "p13 =  [ 0.02567910  0.00000000  0.00000000  0.00000000  0.00000000  0.00000000]\n",
      "sum13 =  0.0256791020028\n",
      "p14 =  [ 0.02439515  0.00000000  0.00000000  0.00000000  0.00000000  0.00000000]\n",
      "sum14 =  0.024395146958\n",
      "p15 =  [ 0.02317539  0.00000000  0.00000000  0.00000000  0.00000000  0.00000000]\n",
      "sum15 =  0.0231753896628\n",
      "p16 =  [ 0.02201662  0.00000000  0.00000000  0.00000000  0.00000000  0.00000000]\n",
      "sum16 =  0.0220166202298\n",
      "p17 =  [ 0.02091579  0.00000000  0.00000000  0.00000000  0.00000000  0.00000000]\n",
      "sum17 =  0.020915789266\n",
      "p18 =  [ 0.01987000  0.00000000  0.00000000  0.00000000  0.00000000  0.00000000]\n",
      "sum18 =  0.0198699998481\n",
      "p19 =  [ 0.01887650  0.00000000  0.00000000  0.00000000  0.00000000  0.00000000]\n",
      "sum19 =  0.0188764998988\n",
      "p20 =  [ 0.01793267  0.00000000  0.00000000  0.00000000  0.00000000  0.00000000]\n",
      "sum20 =  0.0179326749449\n",
      "p21 =  [ 0.01703604  0.00000000  0.00000000  0.00000000  0.00000000  0.00000000]\n",
      "sum21 =  0.0170360412366\n",
      "p22 =  [ 0.01618424  0.00000000  0.00000000  0.00000000  0.00000000  0.00000000]\n",
      "sum22 =  0.0161842392118\n",
      "p23 =  [ 0.01537503  0.00000000  0.00000000  0.00000000  0.00000000  0.00000000]\n",
      "sum23 =  0.0153750272864\n",
      "p24 =  [ 0.01460628  0.00000000  0.00000000  0.00000000  0.00000000  0.00000000]\n",
      "sum24 =  0.0146062759555\n",
      "p25 =  [ 0.01387596  0.00000000  0.00000000  0.00000000  0.00000000  0.00000000]\n",
      "sum25 =  0.0138759621895\n",
      "p26 =  [ 0.01318216  0.00000000  0.00000000  0.00000000  0.00000000  0.00000000]\n",
      "sum26 =  0.0131821641102\n",
      "p27 =  [ 0.01252306  0.00000000  0.00000000  0.00000000  0.00000000  0.00000000]\n",
      "sum27 =  0.0125230559334\n",
      "p28 =  [ 0.01189690  0.00000000  0.00000000  0.00000000  0.00000000  0.00000000]\n",
      "sum28 =  0.0118969031639\n",
      "p29 =  [ 0.01130206  0.00000000  0.00000000  0.00000000  0.00000000  0.00000000]\n",
      "sum29 =  0.0113020580316\n",
      "p30 =  [ 0.01073696  0.00000000  0.00000000  0.00000000  0.00000000  0.00000000]\n",
      "sum30 =  0.0107369551546\n",
      "p31 =  [ 0.01020011  0.00000000  0.00000000  0.00000000  0.00000000  0.00000000]\n",
      "sum31 =  0.0102001074202\n",
      "p32 =  [ 0.00969010  0.00000000  0.00000000  0.00000000  0.00000000  0.00000000]\n",
      "sum32 =  0.00969010207142\n",
      "p33 =  [ 0.00920560  0.00000000  0.00000000  0.00000000  0.00000000  0.00000000]\n",
      "sum33 =  0.00920559698894\n",
      "p34 =  [ 0.00874532  0.00000000  0.00000000  0.00000000  0.00000000  0.00000000]\n",
      "sum34 =  0.00874531715952\n",
      "p35 =  [ 0.00830805  0.00000000  0.00000000  0.00000000  0.00000000  0.00000000]\n",
      "sum35 =  0.00830805132057\n",
      "p36 =  [ 0.00789265  0.00000000  0.00000000  0.00000000  0.00000000  0.00000000]\n",
      "sum36 =  0.00789264877262\n",
      "p37 =  [ 0.00749802  0.00000000  0.00000000  0.00000000  0.00000000  0.00000000]\n",
      "sum37 =  0.00749801635116\n",
      "p38 =  [ 0.00712312  0.00000000  0.00000000  0.00000000  0.00000000  0.00000000]\n",
      "sum38 =  0.00712311554991\n",
      "p39 =  [ 0.00676696  0.00000000  0.00000000  0.00000000  0.00000000  0.00000000]\n",
      "sum39 =  0.00676695978792\n",
      "p40 =  [ 0.00642861  0.00000000  0.00000000  0.00000000  0.00000000  0.00000000]\n",
      "sum40 =  0.00642861181324\n",
      "p41 =  [ 0.00610718  0.00000000  0.00000000  0.00000000  0.00000000  0.00000000]\n",
      "sum41 =  0.00610718123657\n",
      "p42 =  [ 0.00580182  0.00000000  0.00000000  0.00000000  0.00000000  0.00000000]\n",
      "sum42 =  0.00580182218803\n",
      "p43 =  [ 0.00551173  0.00000000  0.00000000  0.00000000  0.00000000  0.00000000]\n",
      "sum43 =  0.00551173109125\n",
      "p44 =  [ 0.00523614  0.00000000  0.00000000  0.00000000  0.00000000  0.00000000]\n",
      "sum44 =  0.00523614454868\n",
      "p45 =  [ 0.00497434  0.00000000  0.00000000  0.00000000  0.00000000  0.00000000]\n",
      "sum45 =  0.00497433733264\n",
      "p46 =  [ 0.00472562  0.00000000  0.00000000  0.00000000  0.00000000  0.00000000]\n",
      "sum46 =  0.00472562047683\n",
      "p47 =  [ 0.00448934  0.00000000  0.00000000  0.00000000  0.00000000  0.00000000]\n",
      "sum47 =  0.00448933946327\n",
      "p48 =  [ 0.00426487  0.00000000  0.00000000  0.00000000  0.00000000  0.00000000]\n",
      "sum48 =  0.00426487249987\n",
      "p49 =  [ 0.00405163  0.00000000  0.00000000  0.00000000  0.00000000  0.00000000]\n",
      "sum49 =  0.00405162888416\n",
      "p50 =  [ 0.00384905  0.00000000  0.00000000  0.00000000  0.00000000  0.00000000]\n",
      "sum50 =  0.00384904744877\n",
      "p51 =  [ 0.00365660  0.00000000  0.00000000  0.00000000  0.00000000  0.00000000]\n",
      "sum51 =  0.0036565950847\n",
      "p52 =  [ 0.00347377  0.00000000  0.00000000  0.00000000  0.00000000  0.00000000]\n",
      "sum52 =  0.00347376533843\n",
      "p53 =  [ 0.00330008  0.00000000  0.00000000  0.00000000  0.00000000  0.00000000]\n",
      "sum53 =  0.00330007707906\n",
      "p54 =  [ 0.00313507  0.00000000  0.00000000  0.00000000  0.00000000  0.00000000]\n",
      "sum54 =  0.00313507323229\n",
      "p55 =  [ 0.00297832  0.00000000  0.00000000  0.00000000  0.00000000  0.00000000]\n",
      "sum55 =  0.0029783195775\n",
      "p56 =  [ 0.00282940  0.00000000  0.00000000  0.00000000  0.00000000  0.00000000]\n",
      "sum56 =  0.0028294036051\n",
      "p57 =  [ 0.00268793  0.00000000  0.00000000  0.00000000  0.00000000  0.00000000]\n",
      "sum57 =  0.002687933431\n",
      "p58 =  [ 0.00255354  0.00000000  0.00000000  0.00000000  0.00000000  0.00000000]\n",
      "sum58 =  0.0025535367653\n",
      "p59 =  [ 0.00242586  0.00000000  0.00000000  0.00000000  0.00000000  0.00000000]\n",
      "sum59 =  0.00242585993259\n",
      "p60 =  [ 0.00230457  0.00000000  0.00000000  0.00000000  0.00000000  0.00000000]\n",
      "sum60 =  0.00230456694124\n",
      "p61 =  [ 0.00218934  0.00000000  0.00000000  0.00000000  0.00000000  0.00000000]\n",
      "sum61 =  0.00218933859919\n",
      "p62 =  [ 0.00207987  0.00000000  0.00000000  0.00000000  0.00000000  0.00000000]\n",
      "sum62 =  0.002079871674\n",
      "p63 =  [ 0.00197588  0.00000000  0.00000000  0.00000000  0.00000000  0.00000000]\n",
      "sum63 =  0.00197587809482\n",
      "p64 =  [ 0.00187708  0.00000000  0.00000000  0.00000000  0.00000000  0.00000000]\n",
      "sum64 =  0.00187708419438\n",
      "p65 =  [ 0.00178323  0.00000000  0.00000000  0.00000000  0.00000000  0.00000000]\n",
      "sum65 =  0.00178322998875\n",
      "p66 =  [ 0.00169407  0.00000000  0.00000000  0.00000000  0.00000000  0.00000000]\n",
      "sum66 =  0.00169406849319\n",
      "p67 =  [ 0.00160937  0.00000000  0.00000000  0.00000000  0.00000000  0.00000000]\n",
      "sum67 =  0.00160936507221\n",
      "p68 =  [ 0.00152890  0.00000000  0.00000000  0.00000000  0.00000000  0.00000000]\n",
      "sum68 =  0.00152889682211\n",
      "p69 =  [ 0.00145245  0.00000000  0.00000000  0.00000000  0.00000000  0.00000000]\n",
      "sum69 =  0.00145245198433\n",
      "p70 =  [ 0.00137983  0.00000000  0.00000000  0.00000000  0.00000000  0.00000000]\n",
      "sum70 =  0.00137982938827\n",
      "p71 =  [ 0.00131084  0.00000000  0.00000000  0.00000000  0.00000000  0.00000000]\n",
      "sum71 =  0.00131083792186\n",
      "p72 =  [ 0.00124530  0.00000000  0.00000000  0.00000000  0.00000000  0.00000000]\n",
      "sum72 =  0.00124529602862\n",
      "p73 =  [ 0.00118303  0.00000000  0.00000000  0.00000000  0.00000000  0.00000000]\n",
      "sum73 =  0.0011830312299\n",
      "p74 =  [ 0.00112388  0.00000000  0.00000000  0.00000000  0.00000000  0.00000000]\n",
      "sum74 =  0.00112387967098\n",
      "p75 =  [ 0.00106769  0.00000000  0.00000000  0.00000000  0.00000000  0.00000000]\n",
      "sum75 =  0.00106768568987\n",
      "p76 =  [ 0.00101430  0.00000000  0.00000000  0.00000000  0.00000000  0.00000000]\n",
      "sum76 =  0.0010143014077\n",
      "p77 =  [ 0.00096359  0.00000000  0.00000000  0.00000000  0.00000000  0.00000000]\n",
      "sum77 =  0.000963586339524\n",
      "p78 =  [ 0.00091541  0.00000000  0.00000000  0.00000000  0.00000000  0.00000000]\n",
      "sum78 =  0.000915407024644\n",
      "p79 =  [ 0.00086964  0.00000000  0.00000000  0.00000000  0.00000000  0.00000000]\n",
      "sum79 =  0.000869636675404\n",
      "p80 =  [ 0.00082615  0.00000000  0.00000000  0.00000000  0.00000000  0.00000000]\n",
      "sum80 =  0.000826154843526\n",
      "p81 =  [ 0.00078485  0.00000000  0.00000000  0.00000000  0.00000000  0.00000000]\n",
      "sum81 =  0.000784847103147\n",
      "p82 =  [ 0.00074560  0.00000000  0.00000000  0.00000000  0.00000000  0.00000000]\n",
      "sum82 =  0.000745604749697\n",
      "p83 =  [ 0.00070832  0.00000000  0.00000000  0.00000000  0.00000000  0.00000000]\n",
      "sum83 =  0.000708324513835\n",
      "p84 =  [ 0.00067291  0.00000000  0.00000000  0.00000000  0.00000000  0.00000000]\n",
      "sum84 =  0.000672908289684\n",
      "p85 =  [ 0.00063926  0.00000000  0.00000000  0.00000000  0.00000000  0.00000000]\n",
      "sum85 =  0.000639262876664\n",
      "p86 =  [ 0.00060730  0.00000000  0.00000000  0.00000000  0.00000000  0.00000000]\n",
      "sum86 =  0.000607299734222\n",
      "p87 =  [ 0.00057693  0.00000000  0.00000000  0.00000000  0.00000000  0.00000000]\n",
      "sum87 =  0.000576934748832\n",
      "p88 =  [ 0.00054809  0.00000000  0.00000000  0.00000000  0.00000000  0.00000000]\n",
      "sum88 =  0.000548088012646\n",
      "p89 =  [ 0.00052068  0.00000000  0.00000000  0.00000000  0.00000000  0.00000000]\n",
      "sum89 =  0.000520683613206\n",
      "p90 =  [ 0.00049465  0.00000000  0.00000000  0.00000000  0.00000000  0.00000000]\n",
      "sum90 =  0.000494649433679\n",
      "p91 =  [ 0.00046992  0.00000000  0.00000000  0.00000000  0.00000000  0.00000000]\n",
      "sum91 =  0.000469916963071\n",
      "p92 =  [ 0.00044642  0.00000000  0.00000000  0.00000000  0.00000000  0.00000000]\n",
      "sum92 =  0.00044642111594\n",
      "p93 =  [ 0.00042410  0.00000000  0.00000000  0.00000000  0.00000000  0.00000000]\n",
      "sum93 =  0.000424100061114\n",
      "p94 =  [ 0.00040290  0.00000000  0.00000000  0.00000000  0.00000000  0.00000000]\n",
      "sum94 =  0.000402895058981\n",
      "p95 =  [ 0.00038275  0.00000000  0.00000000  0.00000000  0.00000000  0.00000000]\n",
      "sum95 =  0.000382750306909\n",
      "p96 =  [ 0.00036361  0.00000000  0.00000000  0.00000000  0.00000000  0.00000000]\n",
      "sum96 =  0.000363612792396\n",
      "p97 =  [ 0.00034543  0.00000000  0.00000000  0.00000000  0.00000000  0.00000000]\n",
      "sum97 =  0.000345432153567\n",
      "p98 =  [ 0.00032816  0.00000000  0.00000000  0.00000000  0.00000000  0.00000000]\n",
      "sum98 =  0.000328160546641\n",
      "p99 =  [ 0.00031175  0.00000000  0.00000000  0.00000000  0.00000000  0.00000000]\n",
      "sum99 =  0.000311752520023\n",
      "p100 =  [ 0.00029616  0.00000000  0.00000000  0.00000000  0.00000000  0.00000000]\n",
      "sum100 =  0.0002961648947\n",
      "p101 =  [ 0.00028136  0.00000000  0.00000000  0.00000000  0.00000000  0.00000000]\n",
      "sum101 =  0.000281356650609\n",
      "p102 =  [ 0.00026729  0.00000000  0.00000000  0.00000000  0.00000000  0.00000000]\n",
      "sum102 =  0.000267288818691\n",
      "p103 =  [ 0.00025392  0.00000000  0.00000000  0.00000000  0.00000000  0.00000000]\n",
      "sum103 =  0.000253924378338\n",
      "p104 =  [ 0.00024123  0.00000000  0.00000000  0.00000000  0.00000000  0.00000000]\n",
      "sum104 =  0.000241228159974\n",
      "p105 =  [ 0.00022917  0.00000000  0.00000000  0.00000000  0.00000000  0.00000000]\n",
      "sum105 =  0.0002291667525\n",
      "p106 =  [ 0.00021771  0.00000000  0.00000000  0.00000000  0.00000000  0.00000000]\n",
      "sum106 =  0.000217708415373\n",
      "p107 =  [ 0.00020682  0.00000000  0.00000000  0.00000000  0.00000000  0.00000000]\n",
      "sum107 =  0.000206822995078\n",
      "p108 =  [ 0.00019648  0.00000000  0.00000000  0.00000000  0.00000000  0.00000000]\n",
      "sum108 =  0.000196481845774\n",
      "p109 =  [ 0.00018666  0.00000000  0.00000000  0.00000000  0.00000000  0.00000000]\n",
      "sum109 =  0.000186657753913\n",
      "p110 =  [ 0.00017732  0.00000000  0.00000000  0.00000000  0.00000000  0.00000000]\n",
      "sum110 =  0.000177324866624\n",
      "p111 =  [ 0.00016846  0.00000000  0.00000000  0.00000000  0.00000000  0.00000000]\n",
      "sum111 =  0.000168458623678\n",
      "p112 =  [ 0.00016004  0.00000000  0.00000000  0.00000000  0.00000000  0.00000000]\n",
      "sum112 =  0.000160035692861\n",
      "p113 =  [ 0.00015203  0.00000000  0.00000000  0.00000000  0.00000000  0.00000000]\n",
      "sum113 =  0.000152033908566\n",
      "p114 =  [ 0.00014443  0.00000000  0.00000000  0.00000000  0.00000000  0.00000000]\n",
      "sum114 =  0.000144432213469\n",
      "p115 =  [ 0.00013721  0.00000000  0.00000000  0.00000000  0.00000000  0.00000000]\n",
      "sum115 =  0.000137210603109\n",
      "p116 =  [ 0.00013035  0.00000000  0.00000000  0.00000000  0.00000000  0.00000000]\n",
      "sum116 =  0.000130350073253\n",
      "p117 =  [ 0.00012383  0.00000000  0.00000000  0.00000000  0.00000000  0.00000000]\n",
      "sum117 =  0.000123832569874\n",
      "p118 =  [ 0.00011764  0.00000000  0.00000000  0.00000000  0.00000000  0.00000000]\n",
      "sum118 =  0.000117640941649\n",
      "p119 =  [ 0.00011176  0.00000000  0.00000000  0.00000000  0.00000000  0.00000000]\n",
      "sum119 =  0.000111758894823\n",
      "p120 =  [ 0.00010617  0.00000000  0.00000000  0.00000000  0.00000000  0.00000000]\n",
      "sum120 =  0.000106170950325\n",
      "p121 =  [ 0.00010086  0.00000000  0.00000000  0.00000000  0.00000000  0.00000000]\n",
      "sum121 =  0.00010086240304\n",
      "p122 =  [ 0.00009582  0.00000000  0.00000000  0.00000000  0.00000000  0.00000000]\n",
      "sum122 =  9.5819283107e-05\n",
      "p123 =  [ 0.00009103  0.00000000  0.00000000  0.00000000  0.00000000  0.00000000]\n",
      "sum123 =  9.10283191602e-05\n",
      "p124 =  [ 0.00008648  0.00000000  0.00000000  0.00000000  0.00000000  0.00000000]\n",
      "sum124 =  8.64769034002e-05\n",
      "p125 =  [ 0.00008215  0.00000000  0.00000000  0.00000000  0.00000000  0.00000000]\n",
      "sum125 =  8.21530584184e-05\n",
      "p126 =  [ 0.00007805  0.00000000  0.00000000  0.00000000  0.00000000  0.00000000]\n",
      "sum126 =  7.80454056762e-05\n",
      "p127 =  [ 0.00007414  0.00000000  0.00000000  0.00000000  0.00000000  0.00000000]\n",
      "sum127 =  7.41431355622e-05\n",
      "p128 =  [ 0.00007044  0.00000000  0.00000000  0.00000000  0.00000000  0.00000000]\n",
      "sum128 =  7.04359789454e-05\n",
      "p129 =  [ 0.00006691  0.00000000  0.00000000  0.00000000  0.00000000  0.00000000]\n",
      "sum129 =  6.69141801514e-05\n",
      "p130 =  [ 0.00006357  0.00000000  0.00000000  0.00000000  0.00000000  0.00000000]\n",
      "sum130 =  6.35684712894e-05\n",
      "p131 =  [ 0.00006039  0.00000000  0.00000000  0.00000000  0.00000000  0.00000000]\n",
      "sum131 =  6.03900478632e-05\n",
      "p132 =  [ 0.00005737  0.00000000  0.00000000  0.00000000  0.00000000  0.00000000]\n",
      "sum132 =  5.73705456015e-05\n",
      "p133 =  [ 0.00005450  0.00000000  0.00000000  0.00000000  0.00000000  0.00000000]\n",
      "sum133 =  5.45020184462e-05\n",
      "p134 =  [ 0.00005178  0.00000000  0.00000000  0.00000000  0.00000000  0.00000000]\n",
      "sum134 =  5.17769176425e-05\n",
      "p135 =  [ 0.00004919  0.00000000  0.00000000  0.00000000  0.00000000  0.00000000]\n",
      "sum135 =  4.9188071873e-05\n",
      "p136 =  [ 0.00004673  0.00000000  0.00000000  0.00000000  0.00000000  0.00000000]\n",
      "sum136 =  4.67286683864e-05\n",
      "p137 =  [ 0.00004439  0.00000000  0.00000000  0.00000000  0.00000000  0.00000000]\n",
      "sum137 =  4.43922350688e-05\n",
      "p138 =  [ 0.00004217  0.00000000  0.00000000  0.00000000  0.00000000  0.00000000]\n",
      "sum138 =  4.21726234119e-05\n",
      "p139 =  [ 0.00004006  0.00000000  0.00000000  0.00000000  0.00000000  0.00000000]\n",
      "sum139 =  4.00639923331e-05\n",
      "p140 =  [ 0.00003806  0.00000000  0.00000000  0.00000000  0.00000000  0.00000000]\n",
      "sum140 =  3.80607928036e-05\n",
      "p141 =  [ 0.00003616  0.00000000  0.00000000  0.00000000  0.00000000  0.00000000]\n",
      "sum141 =  3.61577532462e-05\n",
      "p142 =  [ 0.00003435  0.00000000  0.00000000  0.00000000  0.00000000  0.00000000]\n",
      "sum142 =  3.43498656626e-05\n",
      "p143 =  [ 0.00003263  0.00000000  0.00000000  0.00000000  0.00000000  0.00000000]\n",
      "sum143 =  3.26323724542e-05\n",
      "p144 =  [ 0.00003100  0.00000000  0.00000000  0.00000000  0.00000000  0.00000000]\n",
      "sum144 =  3.10007539025e-05\n",
      "p145 =  [ 0.00002945  0.00000000  0.00000000  0.00000000  0.00000000  0.00000000]\n",
      "sum145 =  2.94507162748e-05\n",
      "p146 =  [ 0.00002798  0.00000000  0.00000000  0.00000000  0.00000000  0.00000000]\n",
      "sum146 =  2.79781805252e-05\n",
      "p147 =  [ 0.00002658  0.00000000  0.00000000  0.00000000  0.00000000  0.00000000]\n",
      "sum147 =  2.65792715598e-05\n",
      "p148 =  [ 0.00002525  0.00000000  0.00000000  0.00000000  0.00000000  0.00000000]\n",
      "sum148 =  2.52503080396e-05\n",
      "p149 =  [ 0.00001230  0.00000000  0.00000000  0.00000000  0.00000000  0.00000000]\n",
      "sum149 =  1.23014321396e-05\n",
      "sum =  1.0\n"
     ]
    }
   ],
   "source": [
    "vect_p_l = [p0]\n",
    "p_sums = [np.sum(p0)]\n",
    "print('p0 = ', vect_p_l[0][0])\n",
    "print('sum0 = ', p_sums[0])\n",
    "for l in range(1, p_num):\n",
    "    vect_p_l.append(np.dot(vect_p_l[0], matrPhi_l[l]))\n",
    "    p_sums.append(np.sum(vect_p_l[l]))\n",
    "    print('p' + str(l) + ' = ', vect_p_l[l][0])\n",
    "    print('sum' + str(l) + ' = ', p_sums[l])\n",
    "print('sum = ', np.sum(p_sums))"
   ]
  },
  {
   "cell_type": "code",
   "execution_count": 88,
   "metadata": {
    "collapsed": false
   },
   "outputs": [
    {
     "data": {
      "image/png": "[encoded data removed]",
      "text/plain": [
       "<matplotlib.figure.Figure at 0x7fb1b85c62e8>"
      ]
     },
     "metadata": {},
     "output_type": "display_data"
    },
    {
     "name": "stdout",
     "output_type": "stream",
     "text": [
      "[0.050023370651023844, 0.047522202199090181, 0.045146092171854925, 0.042888787646330875, 0.04074434834621752, 0.038707131009410096, 0.036771774537185005, 0.034933185885954399, 0.033186526664453653, 0.031527200401084393, 0.029950840447901379, 0.028453298489408186, 0.027030633625918912, 0.02567910200275619, 0.024395146957992393, 0.023175389662806193, 0.022016620229822873, 0.020915789266038976, 0.019869999848101519, 0.01887649989882393, 0.017932674944876732, 0.017036041236593986, 0.01618423921178962, 0.015375027286383239, 0.01460627595549463, 0.013875962189483771, 0.013182164110188818, 0.01252305593335225, 0.011896903163925786, 0.011302058031609979, 0.010736955154616966, 0.01020010742024499, 0.009690102071424218, 0.0092055969889353138, 0.008745317159517034, 0.0083080513205684662, 0.007892648772616119, 0.0074980163511577033, 0.0071231155499136738, 0.0067669597879162153, 0.0064286118132437665, 0.0061071812365688068, 0.005801822188028256, 0.0055117310912503568, 0.0052361445486801897, 0.0049743373326389248, 0.0047256204768300917, 0.0044893394632705523, 0.0042648724998748909, 0.0040516288841606239, 0.0038490474487681008, 0.0036565950847044283, 0.0034737653384252043, 0.0033000770790621425, 0.003135073232289324, 0.0029783195774961331, 0.0028294036051015378, 0.0026879334310026619, 0.0025535367653009198, 0.0024258599325918465, 0.0023045669412404264, 0.0021893385991926697, 0.0020798716739965886, 0.0019758780948221331, 0.001877084194380132, 0.001783229988745275, 0.0016940684931879535, 0.0016093650722145017, 0.0015288968221054244, 0.0014524519843267195, 0.0013798293882706213, 0.0013108379218593159, 0.0012452960286184647, 0.0011830312298970506, 0.0011238796709762309, 0.0010676856898727514, 0.0010143014077021791, 0.00096358633952398206, 0.00091540702464434898, 0.00086963667540386946, 0.00082615484352582694, 0.00078484710314707929, 0.0007456047496973917, 0.00070832451383480508, 0.00067290828968423347, 0.00063926287666413238, 0.00060729973422183052, 0.00057693474883209874, 0.00054808801264578531, 0.00052068361320602348, 0.00049464943367862285, 0.0004699169630709475, 0.00044642111593984303, 0.00042410006111417162, 0.00040289505898121782, 0.00038275030690877401, 0.00036361279239612157, 0.00034543215356746236, 0.00032816054664067888, 0.00031175252002265503, 0.00029616489469983182, 0.00028135665060923415, 0.00026728881869094687, 0.00025392437833796517, 0.00024122815997355433, 0.0002291667524997396, 0.00021770841537337249, 0.00020682299507839268, 0.00019648184577447753, 0.00018665775391325779, 0.00017732486662372384, 0.00016845862367836022, 0.00016003569286097361, 0.00015203390856612984, 0.000144432213468618, 0.00013721060310944197, 0.00013035007325251199, 0.0001238325698735014, 0.00011764094164926061, 0.00011175889482276012, 0.00010617095032478654, 0.00010086240303955339, 9.5819283107031645e-05, 9.1028319160163152e-05, 8.6476903400213933e-05, 8.2153058418359259e-05, 7.8045405676189489e-05, 7.4143135562190811e-05, 7.043597894540152e-05, 6.6914180151385715e-05, 6.3568471289407943e-05, 6.0390047863249506e-05, 5.7370545601483387e-05, 5.4502018446235751e-05, 5.1776917642509201e-05, 4.9188071873039689e-05, 4.6728668386410858e-05, 4.4392235068762325e-05, 4.2172623411912596e-05, 4.006399233307594e-05, 3.8060792803593172e-05, 3.6157753246225999e-05, 3.4349865662586562e-05, 3.2632372454195485e-05, 3.1000753902487064e-05, 2.9450716274813995e-05, 2.7978180525152016e-05, 2.65792715597692e-05, 2.5250308039611787e-05, 1.2301432139625288e-05]\n"
     ]
    }
   ],
   "source": [
    "plt.scatter(x=[_ for _ in range(150)], y=p_sums)\n",
    "plt.show()\n",
    "print(p_sums)"
   ]
  },
  {
   "cell_type": "heading",
   "metadata": {},
   "level": 3,
   "source": [
    "Условие эргодичности по формулам (6) - (7)"
   ]
  },
  {
   "cell_type": "code",
   "execution_count": 89,
   "metadata": {
    "collapsed": false
   },
   "outputs": [
    {
     "name": "stdout",
     "output_type": "stream",
     "text": [
      "[[-0.00001000  0.00000000  0.00000000  0.00000000  0.00000050  0.00000950]\n",
      " [ 5.58225000 -5.58226000  0.00000000  0.00001000  0.00000000  0.00000000]\n",
      " [ 440.99820000  0.00000000 -440.99821000  0.00001000  0.00000000\n",
      "   0.00000000]\n",
      " [ 0.00000000  500.00000000  9500.00000000 -10000.00000000  0.00000000\n",
      "   0.00000000]\n",
      " [ 10000.00000000  0.00000000  0.00000000  1.86075000 -10001.86075000\n",
      "   0.00000000]\n",
      " [ 10000.00000000  0.00000000  0.00000000  146.99940000  0.00000000\n",
      "  -10146.99940000]]\n"
     ]
    }
   ],
   "source": [
    "matr_Q_1_ = copy.deepcopy(matrQ_k[0])\n",
    "for l in range(1, n+2):\n",
    "    matr_Q_1_ += matrQ_k[l]\n",
    "print(matr_Q_1_)"
   ]
  },
  {
   "cell_type": "code",
   "execution_count": 90,
   "metadata": {
    "collapsed": true
   },
   "outputs": [
    {
     "name": "stdout",
     "output_type": "stream",
     "text": [
      "[[-1.00001000  0.00000000  0.00000000  0.00000000  0.00000050  0.00000950]\n",
      " [ 5.58225000  8.41774000  0.00000000  0.00001000  0.00000000  0.00000000]\n",
      " [ 440.99820000  0.00000000 -426.99821000  0.00001000  0.00000000\n",
      "   0.00000000]\n",
      " [ 0.00000000  500.00000000  9500.00000000 -9986.00000000  0.00000000\n",
      "   0.00000000]\n",
      " [ 10000.00000000  0.00000000  0.00000000  1.86075000 -9982.86075000\n",
      "   0.00000000]\n",
      " [ 10000.00000000  0.00000000  0.00000000  146.99940000  0.00000000\n",
      "  -10127.99940000]]\n"
     ]
    }
   ],
   "source": [
    "matr_dQ_1_ = copy.deepcopy(matrQ_k[1])\n",
    "for l in range(2, n+2):\n",
    "    matr_dQ_1_ += l * matrQ_k[l]\n",
    "print(matr_dQ_1_)"
   ]
  },
  {
   "cell_type": "code",
   "execution_count": 91,
   "metadata": {
    "collapsed": false
   },
   "outputs": [
    {
     "name": "stdout",
     "output_type": "stream",
     "text": [
      "[-0.00000000  0.00000000  0.00000000  0.00000000  0.00000000  0.00000000]\n",
      "[[-1.00000000  0.00000002  0.00000000  0.00000000  0.00000000  0.00000002]]\n"
     ]
    }
   ],
   "source": [
    "matr_a = copy.deepcopy(np.array(matr_Q_1_))\n",
    "for i in range(matr_a.shape[0]):\n",
    "    matr_a[i][0] = 1 \n",
    "matr_b = np.zeros((matr_a.shape[0], 1))\n",
    "matr_b[0][0] = 1\n",
    "matr_a = np.transpose(matr_a)\n",
    "\n",
    "vect_y = la.solve(matr_a, matr_b).reshape(-1)\n",
    "print(vect_y @ matr_Q_1_)\n",
    "print(vect_y @ matr_dQ_1_)"
   ]
  },
  {
   "cell_type": "code",
   "execution_count": 92,
   "metadata": {
    "collapsed": false
   },
   "outputs": [
    {
     "name": "stdout",
     "output_type": "stream",
     "text": [
      "ergodicity = -0.999999957116\n"
     ]
    }
   ],
   "source": [
    "vect_e = np.array([[1.] for _ in range(matr_dQ_1_.shape[1])])\n",
    "ergodicity = np.dot(np.dot(vect_y, matr_dQ_1_), vect_e) \n",
    "print('ergodicity =', ergodicity[0, 0])"
   ]
  },
  {
   "cell_type": "heading",
   "metadata": {},
   "level": 3,
   "source": [
    "Коэффициент загруженности системы"
   ]
  },
  {
   "cell_type": "code",
   "execution_count": 93,
   "metadata": {
    "collapsed": false
   },
   "outputs": [
    {
     "name": "stdout",
     "output_type": "stream",
     "text": [
      "\\rho = [ 0.95000000]\n"
     ]
    }
   ],
   "source": [
    "vect_e = [[1] for _ in range(matrQ_0.shape[1])]\n",
    "denom = np.dot(np.dot(vect_y, matrQ_0), vect_e)[0]\n",
    "rho = lamD / denom\n",
    "print('\\\\rho =', rho)"
   ]
  },
  {
   "cell_type": "heading",
   "metadata": {},
   "level": 2,
   "source": []
  },
  {
   "cell_type": "code",
   "execution_count": null,
   "metadata": {
    "collapsed": true
   },
   "outputs": [],
   "source": [
    ""
   ]
  },
  {
   "cell_type": "code",
   "execution_count": 94,
   "metadata": {
    "collapsed": true
   },
   "outputs": [],
   "source": [
    "# Условие эргодичности\n",
    "block00 = kronsum(matrH0, matrS1) + kron(np.eye(V_), np.dot(matrS1_0, beta1))\n",
    "block03 = kron(kron(kron(matrH1, M1_e), tau), alpha1)\n",
    "block10 = kron(kron(np.eye(V_), np.dot(M2_e, beta1)), matrA2_0)\n",
    "block11 = kronsum(kronsum(matrH0, matrS2), matrA2) + kron(kron(np.eye(V_), np.dot(matrS2_0, beta2)), np.eye(L2))\n",
    "block12 = kron(kron(kron(matrH1, np.eye(M2)), tau), L2_e)\n",
    "block21 = kron(kron(kron(np.eye(V_), np.eye(M2)), matrT0), alpha1)\n",
    "block22 = kronsum(kronsum(matrH, matrS2), matrT) + kron(kron(np.eye(V_), np.dot(matrS2_0, beta2)), np.eye(R))\n",
    "block30 = kron(kron(kron(np.eye(V_), beta1), matrT0), L1_e)\n",
    "block32 = kron(kron(kron(np.eye(V_), beta2), np.eye(R)), matrA1_0)\n",
    "block33 = kronsum(kronsum(matrH, matrT), matrA1)\n",
    "block01 = np.zeros((block00.shape[0], block11.shape[1]))\n",
    "block02 = np.zeros((block00.shape[0], block12.shape[1]))\n",
    "block13 = np.zeros((block10.shape[0], block03.shape[1]))\n",
    "block20 = np.zeros((block21.shape[0], block00.shape[1]))\n",
    "block23 = np.zeros((block21.shape[0], block03.shape[1]))\n",
    "block31 = np.zeros((block30.shape[0], block11.shape[1]))\n",
    "matrGamma = np.bmat([[block00, block01, block02, block03],\n",
    "                     [block10, block11, block12, block13],\n",
    "                     [block20, block21, block22, block23],\n",
    "                     [block30, block31, block32, block33]])\n",
    "# pd.DataFrame(matrGamma)"
   ]
  },
  {
   "cell_type": "code",
   "execution_count": 95,
   "metadata": {
    "collapsed": false
   },
   "outputs": [
    {
     "name": "stdout",
     "output_type": "stream",
     "text": [
      "x =  [ 1.00000000  0.00000000  0.00000000  0.00000000  0.00000000  0.00000000]\n",
      "x1 =  [ 1.00000000]\n",
      "x2 =  [ 0.00000000  0.00000000]\n",
      "x3 =  [ 0.00000000]\n"
     ]
    }
   ],
   "source": [
    "matr_a = copy.deepcopy(np.array(matrGamma))\n",
    "for i in range(matr_a.shape[0]):\n",
    "    matr_a[i][0] = 1\n",
    "matr_b = np.zeros((matr_a.shape[0], 1))\n",
    "matr_b[0][0] = 1\n",
    "matr_a = np.transpose(matr_a)\n",
    "\n",
    "x = la.solve(matr_a, matr_b).reshape(-1)\n",
    "\n",
    "print('x = ', x)\n",
    "x1 = x[0:V_*M1]\n",
    "x2 = x[V_*M1:V_*M1 + V_*M2*L2]\n",
    "x3 = x[V_*M1 + V_*M2*L2: V_*M1 + V_*M2*L2 + V_*M2*R]\n",
    "\n",
    "print('x1 = ', x1)\n",
    "print('x2 = ', x2)\n",
    "print('x3 = ', x3)"
   ]
  },
  {
   "cell_type": "code",
   "execution_count": 96,
   "metadata": {
    "collapsed": false
   },
   "outputs": [
    {
     "name": "stdout",
     "output_type": "stream",
     "text": [
      "pi1 =  [ 1.00000000]\n",
      "pi2 =  [ 0.00000000]\n",
      "pi3 =  [ 0.00000000]\n"
     ]
    }
   ],
   "source": [
    "e_V_ = np.array([[1.] for i in range(0, V_)])\n",
    "e_R = np.array([[1.] for i in range(0, R)])\n",
    "pi1 = x1.dot(kron(e_V_, np.eye(M1)))\n",
    "pi2 = x2.dot(kron(kron(e_V_, np.eye(M2)), L2_e))\n",
    "pi3 = x3.dot(kron(kron(e_V_, np.eye(M2)), e_R))\n",
    "print('pi1 = ', pi1)\n",
    "print('pi2 = ', pi2)\n",
    "print('pi3 = ', pi3)"
   ]
  },
  {
   "cell_type": "heading",
   "metadata": {},
   "level": 3,
   "source": [
    "1. Пропускная способность системы rho"
   ]
  },
  {
   "cell_type": "code",
   "execution_count": 97,
   "metadata": {
    "collapsed": false
   },
   "outputs": [
    {
     "name": "stdout",
     "output_type": "stream",
     "text": [
      "\\varrho =  19.9999999571\n"
     ]
    }
   ],
   "source": [
    "varrho = np.dot(pi1, matrS1_0) + np.dot((pi2 + pi3), matrS2_0)\n",
    "print(\"\\\\varrho = \", varrho[0])"
   ]
  },
  {
   "cell_type": "heading",
   "metadata": {},
   "level": 3,
   "source": []
  },
  {
   "cell_type": "code",
   "execution_count": 98,
   "metadata": {
    "collapsed": false
   },
   "outputs": [
    {
     "name": "stdout",
     "output_type": "stream",
     "text": [
      "P(1) = [[ 0.94997663  0.00000000  0.00000000  0.00000000  0.00000000  0.00000000]]\n"
     ]
    }
   ],
   "source": [
    "vect_P_1_ = copy.deepcopy(vect_p_l[1])\n",
    "for l in range(2, p_num):\n",
    "    vect_P_1_ += vect_p_l[l]\n",
    "print('P(1) =', vect_P_1_)"
   ]
  },
  {
   "cell_type": "heading",
   "metadata": {},
   "level": 3,
   "source": []
  },
  {
   "cell_type": "code",
   "execution_count": 99,
   "metadata": {
    "collapsed": true
   },
   "outputs": [],
   "source": [
    "vect_dP_1_ = copy.deepcopy(vect_p_l[1])\n",
    "for l in range(2, p_num):\n",
    "    vect_dP_1_ += l * vect_p_l[l]"
   ]
  },
  {
   "cell_type": "heading",
   "metadata": {},
   "level": 3,
   "source": [
    "P''(2)"
   ]
  },
  {
   "cell_type": "code",
   "execution_count": 100,
   "metadata": {
    "collapsed": true
   },
   "outputs": [],
   "source": [
    "vect_ddP_1_ = copy.deepcopy(vect_p_l[2]) * 2\n",
    "for l in range(3, p_num):\n",
    "    vect_ddP_1_ += l * (l - 1) * vect_p_l[l]"
   ]
  },
  {
   "cell_type": "heading",
   "metadata": {},
   "level": 3,
   "source": [
    "3. Среднее число запросов в системе"
   ]
  },
  {
   "cell_type": "code",
   "execution_count": 101,
   "metadata": {
    "collapsed": false
   },
   "outputs": [
    {
     "name": "stdout",
     "output_type": "stream",
     "text": [
      "L = 18.9301164232\n"
     ]
    }
   ],
   "source": [
    "# Среднее число запросов в системе\n",
    "\n",
    "vect_e = np.array([[1.] for _ in range(vect_dP_1_.shape[1])])\n",
    "L = np.dot(vect_dP_1_, vect_e)\n",
    "print('L =', L[0, 0])"
   ]
  },
  {
   "cell_type": "heading",
   "metadata": {},
   "level": 3,
   "source": [
    "4. Дисперсия числа запросов в системе"
   ]
  },
  {
   "cell_type": "code",
   "execution_count": 102,
   "metadata": {
    "collapsed": false
   },
   "outputs": [
    {
     "name": "stdout",
     "output_type": "stream",
     "text": [
      "V = 369.547309536\n"
     ]
    }
   ],
   "source": [
    "# Дисперсия числа запросов в системе\n",
    "dispV = np.dot(vect_ddP_1_, vect_e)[0] + L - L ** 2\n",
    "print('V =', dispV[0, 0])"
   ]
  },
  {
   "cell_type": "heading",
   "metadata": {},
   "level": 3,
   "source": [
    "5. Вероятность того, что прибор 1 исправен и обслуживает запрос"
   ]
  },
  {
   "cell_type": "heading",
   "metadata": {
    "collapsed": false
   },
   "level": 3,
   "source": [
    "# Вероятность того, что прибор 1 исправен и обслуживает запрос\n",
    "temp_matr = np.dot(vect_P_1_, la.block_diag(np.eye(a*M1), np.zeros((a*(M2*L2 + M2*R + R*L1), a*(M2*L2 + M2*R + R*L1)))))\n",
    "vect_e = np.array([[1.] for i in range(0, temp_matr.shape[1])])\n",
    "prob1work = np.dot(temp_matr, vect_e)\n",
    "print('P^{(1,0)} =', prob1work[0, 0])"
   ]
  },
  {
   "cell_type": "code",
   "execution_count": 103,
   "metadata": {
    "collapsed": false
   },
   "outputs": [
    {
     "name": "stdout",
     "output_type": "stream",
     "text": [
      "P^{(1,0)} = 0.949976626901\n"
     ]
    }
   ],
   "source": [
    "# Вероятность того, что прибор 1 исправен и обслуживает запрос\n",
    "temp_matr = np.dot(vect_P_1_, la.block_diag(np.eye(a*M1), np.zeros((a*(M2*L2 + M2*R + R*L1), a*(M2*L2 + M2*R + R*L1)))))\n",
    "vect_e = np.array([[1.] for i in range(0, temp_matr.shape[1])])\n",
    "prob1work = np.dot(temp_matr, vect_e)\n",
    "print('P^{(1,0)} =', prob1work[0, 0])"
   ]
  },
  {
   "cell_type": "heading",
   "metadata": {},
   "level": 3,
   "source": [
    "6. Вероятность того, что прибор-1 в неисправном состоянии и прибор-2 обслуживает запрос"
   ]
  },
  {
   "cell_type": "code",
   "execution_count": 104,
   "metadata": {
    "collapsed": false
   },
   "outputs": [
    {
     "name": "stdout",
     "output_type": "stream",
     "text": [
      "P^{(2,0),(1,2)} = 1.51074611515e-09\n"
     ]
    }
   ],
   "source": [
    "# Вероятность того, что прибор-1 в неисправном состоянии и прибор-2 обслуживает запрос\n",
    "temp_matr = np.dot(vect_P_1_, la.block_diag(np.zeros((a*M1, a*M1)), np.eye(a*M2*(L2 + R)), np.zeros((a*R*L1, a*R*L1))))\n",
    "vect_e = np.array([[1.] for i in range(0, temp_matr.shape[1])])\n",
    "prob1notwork = np.dot(temp_matr, vect_e)\n",
    "print('P^{(2,0),(1,2)} =', prob1notwork[0, 0])"
   ]
  },
  {
   "cell_type": "heading",
   "metadata": {},
   "level": 3,
   "source": [
    "7. Вероятность того, что в системе есть запросы, прибор 1 в неисправном состоянии и идет переключение с этого прибора на прибор 2 (при этом оба  прибора не обслуживают заявки)"
   ]
  },
  {
   "cell_type": "code",
   "execution_count": 105,
   "metadata": {
    "collapsed": false
   },
   "outputs": [
    {
     "name": "stdout",
     "output_type": "stream",
     "text": [
      "P^{(2,1)} = 9.36985934603e-10\n"
     ]
    }
   ],
   "source": [
    "# Вероятность того, что в системе есть запросы, прибор 1 в неисправном состоянии и идет переключение с этого прибора на прибор 2 (при этом оба  прибора не обслуживают заявки)\n",
    "temp_matr = np.dot(vect_P_1_, la.block_diag(np.zeros((a*(M1+M2*(L2+R)), a*(M1+M2*(L2+R)))), np.eye(a*R*L1)))\n",
    "vect_e = np.array([[1.] for i in range(0, temp_matr.shape[1])])\n",
    "prob1notworkswitch2 = np.dot(temp_matr, vect_e)\n",
    "print('P^{(2,1)} =', prob1notworkswitch2[0, 0])"
   ]
  },
  {
   "cell_type": "heading",
   "metadata": {},
   "level": 3,
   "source": [
    "8. Вероятность того, что в системе есть запросы, прибор 1 в исправном состоянии и идет переключение с  прибора 2 на прибор 1 (при этом прибор 2 продолжает обслуживать запросы)\n"
   ]
  },
  {
   "cell_type": "code",
   "execution_count": 106,
   "metadata": {
    "collapsed": false
   },
   "outputs": [
    {
     "name": "stdout",
     "output_type": "stream",
     "text": [
      "P^{(2,2)} = 1.49766083095e-09\n"
     ]
    }
   ],
   "source": [
    "# Вероятность того, что в системе есть запросы, прибор 1 в исправном состоянии и идет переключение с  прибора 2 на прибор 1 (при этом прибор 2 продолжает обслуживать запросы)\n",
    "temp_matr = np.dot(vect_P_1_, la.block_diag(np.zeros((a*M1, a*M1)), np.eye(a*M2*L2),\n",
    "                                            np.zeros((a*(R*L1 + M2*R), a*(R*L1 + M2*R)))))\n",
    "vect_e = np.array([[1.] for i in range(0, temp_matr.shape[1])])\n",
    "prob1workswitch21 = np.dot(temp_matr, vect_e)\n",
    "print('P^{(2,2)} =', prob1workswitch21[0, 0])"
   ]
  },
  {
   "cell_type": "heading",
   "metadata": {},
   "level": 3,
   "source": [
    "9. Вероятность того, что прибор 1 доступен (средняя доля времени, в течение которой прибор 1 доступен)"
   ]
  },
  {
   "cell_type": "code",
   "execution_count": 107,
   "metadata": {
    "collapsed": false
   },
   "outputs": [
    {
     "name": "stdout",
     "output_type": "stream",
     "text": [
      "P_1+ = 0.999999997468\n"
     ]
    }
   ],
   "source": [
    "# Вероятность того, что прибор 1 доступен (средняя доля времени, в течение которого прибор 1 доступен)\n",
    "temp_matr1 = np.dot(vect_P_1_, la.block_diag(np.eye(a*M1), np.zeros((a*(M2*L2 + M2*R + R*L1), a*(M2*L2 + M2*R + R*L1)))))\n",
    "vect_e = np.array([[1.] for i in range(0, temp_matr1.shape[1])])\n",
    "temp_matr = np.dot(temp_matr1, vect_e)\n",
    "\n",
    "temp_matr2 = np.dot(vect_p_l[0], la.block_diag(np.eye(a), np.zeros((a*(L2+R+R*L1), a*(L2+R+R*L1)))))\n",
    "vect_e = np.array([[1.] for i in range(0, temp_matr2.shape[1])])\n",
    "temp_matr += np.dot(temp_matr2, vect_e)\n",
    "prob1avail = temp_matr\n",
    "print('P_1+ =', prob1avail[0, 0])"
   ]
  },
  {
   "cell_type": "heading",
   "metadata": {},
   "level": 3,
   "source": [
    "10. Вероятность того, что прибор 1 недоступен (средняя доля времени, в течение которого прибор 1 недоступен)"
   ]
  },
  {
   "cell_type": "code",
   "execution_count": 108,
   "metadata": {
    "collapsed": false
   },
   "outputs": [
    {
     "name": "stdout",
     "output_type": "stream",
     "text": [
      "P_2 = 2.53211160276e-09\n"
     ]
    }
   ],
   "source": [
    "# Вероятность того, что прибор 1 недоступен (средняя доля времени, в течение которого прибор 1 недоступен)\n",
    "temp_matr1 = np.dot(vect_P_1_, la.block_diag(np.zeros((a*M1, a*M1)), np.eye(a*(M2*L2 + M2*R + R*L1))))\n",
    "vect_e = np.array([[1.] for i in range(0, temp_matr1.shape[1])])\n",
    "temp_matr = np.dot(temp_matr1, vect_e)\n",
    "\n",
    "temp_matr2 = np.dot(vect_p_l[0], la.block_diag(np.zeros((a, a)), np.eye(a*(L2+R+R*L1))))\n",
    "vect_e = np.array([[1.] for i in range(0, temp_matr2.shape[1])])\n",
    "temp_matr += np.dot(temp_matr2, vect_e)\n",
    "prob1notavail = temp_matr\n",
    "print('P_2 =', prob1notavail[0, 0])"
   ]
  },
  {
   "cell_type": "heading",
   "metadata": {},
   "level": 3,
   "source": [
    "10.1 Вероятность того, что прибор 1 недоступен, а прибор 2 доступен (средняя доля времени, в течение которого прибор 2 доступен)"
   ]
  },
  {
   "cell_type": "code",
   "execution_count": 109,
   "metadata": {
    "collapsed": false
   },
   "outputs": [
    {
     "name": "stdout",
     "output_type": "stream",
     "text": [
      "P_2 = 1.54588348876e-09\n"
     ]
    }
   ],
   "source": [
    "temp_matr1 = np.dot(vect_P_1_, la.block_diag(np.zeros((a*M1, a*M1)), np.eye(a*M2*(L2+R)), np.zeros((a*R*L1, a*R*L1))))\n",
    "vect_e = np.array([[1.] for i in range(0, temp_matr1.shape[1])])\n",
    "temp_matr = np.dot(temp_matr1, vect_e)\n",
    "\n",
    "temp_matr2 = np.dot(vect_p_l[0], la.block_diag(np.zeros((a, a)), np.eye(a*(L2+R)), np.zeros((a*R*L1, a*R*L1))))\n",
    "vect_e = np.array([[1.] for i in range(0, temp_matr2.shape[1])])\n",
    "temp_matr += np.dot(temp_matr2, vect_e)\n",
    "\n",
    "prob2_avail = temp_matr\n",
    "print('P_2 =', prob2_avail[0, 0])"
   ]
  },
  {
   "cell_type": "heading",
   "metadata": {},
   "level": 3,
   "source": [
    "11. Вероятность того, что оба прибора недоступны, т.е. идет переключение с прибора 1 на прибор 2 (средняя доля времени, в течение которого оба прибора недоступны)"
   ]
  },
  {
   "cell_type": "code",
   "execution_count": 110,
   "metadata": {
    "collapsed": false
   },
   "outputs": [
    {
     "name": "stdout",
     "output_type": "stream",
     "text": [
      "P- = 9.86228113998e-10\n"
     ]
    }
   ],
   "source": [
    "temp_matr1 = np.dot(vect_P_1_, la.block_diag(np.zeros((a*(M1+M2*(L2+R)), a*(M1+M2*(L2+R)))), np.eye(a*R*L1)))\n",
    "vect_e = np.array([[1.] for i in range(0, temp_matr1.shape[1])])\n",
    "temp_matr = np.dot(temp_matr1, vect_e)\n",
    "\n",
    "temp_matr2 = np.dot(vect_p_l[0], la.block_diag(np.zeros((a*(1+L2+R), a*(1+L2+R))), np.eye(a*R*L1)))\n",
    "vect_e = np.array([[1.] for i in range(0, temp_matr2.shape[1])])\n",
    "temp_matr += np.dot(temp_matr2, vect_e)\n",
    "\n",
    "prob_both_not_avail = temp_matr\n",
    "print('P- =', prob_both_not_avail[0, 0])"
   ]
  },
  {
   "cell_type": "heading",
   "metadata": {
    "collapsed": true
   },
   "level": 3,
   "source": [
    "12. Среднее число переключений с прибора 1 на прибор 2 в единицу времени"
   ]
  },
  {
   "cell_type": "code",
   "execution_count": 111,
   "metadata": {
    "collapsed": false
   },
   "outputs": [
    {
     "name": "stdout",
     "output_type": "stream",
     "text": [
      "Khi_1_2 = 9.99999997468e-06\n"
     ]
    }
   ],
   "source": [
    "temp_matr1 = np.dot(vect_P_1_, la.block_diag(kron(kron(np.eye(W_), matrH1), np.eye(M1)), np.zeros((a*(M2*(L2+R)+R*L1), a*(M2*(L2+R)+R*L1)))))\n",
    "vect_e = np.array([[1.] for i in range(0, temp_matr1.shape[1])])\n",
    "temp_matr = np.dot(temp_matr1, vect_e)\n",
    "\n",
    "temp_matr2 = np.dot(vect_p_l[0], la.block_diag(kron(np.eye(W_), matrH1), np.zeros((a*(L2+R+R*L1), a*(L2+R+R*L1)))))\n",
    "vect_e = np.array([[1.] for i in range(0, temp_matr2.shape[1])])\n",
    "temp_matr += np.dot(temp_matr2, vect_e)\n",
    "\n",
    "switches12_num = temp_matr\n",
    "print('Khi_1_2 =', switches12_num[0, 0])"
   ]
  },
  {
   "cell_type": "heading",
   "metadata": {},
   "level": 3,
   "source": [
    "13. Среднее число переключений с прибора 2 на прибор 1 в единицу времени"
   ]
  },
  {
   "cell_type": "code",
   "execution_count": null,
   "metadata": {
    "collapsed": true
   },
   "outputs": [],
   "source": [
    ""
   ]
  },
  {
   "cell_type": "code",
   "execution_count": 112,
   "metadata": {
    "collapsed": false
   },
   "outputs": [
    {
     "name": "stdout",
     "output_type": "stream",
     "text": [
      "Khi_2_1 = 1.37719379146e-07\n"
     ]
    }
   ],
   "source": [
    "temp_matr1 = np.dot(vect_P_1_, la.block_diag(np.zeros((a*(M1+M2*L2), a*(M1+M2*L2))), kron(np.eye(a*M2), matrT),\n",
    "                                             np.zeros((a*R*L1, a*R*L1))))\n",
    "vect_e = np.array([[1.] for i in range(0, temp_matr1.shape[1])])\n",
    "temp_matr = np.dot(temp_matr1, vect_e)\n",
    "temp_matr2 = np.dot(vect_p_l[0], la.block_diag(np.zeros((a*(1+L2), a*(1+L2))), kron(np.eye(a), matrT),\n",
    "                                               np.zeros((a*R*L1, a*R*L1))))\n",
    "vect_e = np.array([[1.] for i in range(0, temp_matr2.shape[1])])\n",
    "temp_matr += np.dot(temp_matr2, vect_e)\n",
    "switches21_num = temp_matr\n",
    "print('Khi_2_1 =', -switches21_num[0, 0])"
   ]
  },
  {
   "cell_type": "code",
   "execution_count": null,
   "metadata": {
    "collapsed": true
   },
   "outputs": [],
   "source": [
    ""
   ]
  },
  {
   "cell_type": "code",
   "execution_count": null,
   "metadata": {
    "collapsed": true
   },
   "outputs": [],
   "source": [
    ""
   ]
  },
  {
   "cell_type": "code",
   "execution_count": null,
   "metadata": {
    "collapsed": true
   },
   "outputs": [],
   "source": [
    ""
   ]
  },
  {
   "cell_type": "code",
   "execution_count": null,
   "metadata": {
    "collapsed": true
   },
   "outputs": [],
   "source": [
    ""
   ]
  },
  {
   "cell_type": "code",
   "execution_count": null,
   "metadata": {
    "collapsed": true
   },
   "outputs": [],
   "source": [
    ""
   ]
  }
 ],
 "metadata": {
  "kernelspec": {
   "display_name": "Python 3",
   "language": "python",
   "name": "python3"
  },
  "language_info": {
   "codemirror_mode": {
    "name": "ipython",
    "version": 3.0
   },
   "file_extension": ".py",
   "mimetype": "text/x-python",
   "name": "python",
   "nbconvert_exporter": "python",
   "pygments_lexer": "ipython3",
   "version": "3.5.2"
  }
 },
 "nbformat": 4,
 "nbformat_minor": 0
}