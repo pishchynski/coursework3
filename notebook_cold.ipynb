{
 "cells": [
  {
   "cell_type": "code",
   "execution_count": 2,
   "metadata": {
    "collapsed": true
   },
   "outputs": [],
   "source": [
    "import numpy as np\n",
    "import matplotlib.pyplot as plt\n",
    "import scipy.linalg as la\n",
    "import scipy.optimize as opt\n",
    "import copy\n",
    "np.set_printoptions(threshold=np.inf, suppress=True, formatter={'float': '{: 0.8f}'.format}, linewidth=75)\n",
    "%matplotlib inline"
   ]
  },
  {
   "cell_type": "code",
   "execution_count": 3,
   "metadata": {
    "collapsed": true
   },
   "outputs": [],
   "source": [
    "def kron(A, B):\n",
    "    return la.kron(A, B)"
   ]
  },
  {
   "cell_type": "code",
   "execution_count": 4,
   "metadata": {
    "collapsed": true
   },
   "outputs": [],
   "source": [
    "def kronsum(A, B):\n",
    "    if A.shape[0] != A.shape[1]:\n",
    "        raise ValueError('A is not square')\n",
    "\n",
    "    if B.shape[0] != B.shape[1]:\n",
    "        raise ValueError('B is not square')\n",
    "    \n",
    "    L = kron(A, np.eye(B.shape[0]))\n",
    "    R = kron(np.eye(A.shape[0]), B)\n",
    "    \n",
    "    return L+R"
   ]
  },
  {
   "cell_type": "code",
   "execution_count": 5,
   "metadata": {
    "collapsed": true
   },
   "outputs": [],
   "source": [
    "n = 3                   # Количество матриц D_k\n",
    "p_num = 150             # Количество векторов стац. вероятн. p\n",
    "eps_G = 10 ** (-6)      # Точность нахождения матр. G\n",
    "eps_Phi = 10 ** (-6)    # Точность нахождения матр. Phi\n",
    "eps_p_i = 10 ** (-6)    # Точность нахождения векторов p"
   ]
  },
  {
   "cell_type": "heading",
   "metadata": {},
   "level": 3,
   "source": [
    "Поток входящих заявок BMAP"
   ]
  },
  {
   "cell_type": "code",
   "execution_count": 6,
   "metadata": {
    "collapsed": false
   },
   "outputs": [
    {
     "name": "stdout",
     "output_type": "stream",
     "text": [
      "[[-2.15000000  0.00025000]\n [ 0.00050000 -0.06900000]]\n[[ 0.87090164  0.01014344]\n [ 0.00204918  0.02602459]]\n[[ 0.69672131  0.00811475]\n [ 0.00163934  0.02081967]]\n[[ 0.55737705  0.00649180]\n [ 0.00131148  0.01665574]]\n"
     ]
    }
   ],
   "source": [
    "# Входной BMAP\n",
    "matrD_0 = np.array([[-86., 0.01], [0.02, -2.76]]) * 0.025\n",
    "matrD = np.array([[85, 0.99], [0.2, 2.54]]) * 0.025\n",
    "matrD_k = [matrD_0]\n",
    "\n",
    "W_ = matrD_0.shape[0]\n",
    "W = W_ - 1\n",
    "\n",
    "q = 0.8\n",
    "for k in range(1, n+1):\n",
    "    matrD_k.append(matrD * (q ** (k-1)) * (1 - q) / (1 - q ** 3))\n",
    "\n",
    "for matr in matrD_k:\n",
    "    print(matr)"
   ]
  },
  {
   "cell_type": "code",
   "execution_count": 7,
   "metadata": {
    "collapsed": false
   },
   "outputs": [
    {
     "name": "stdout",
     "output_type": "stream",
     "text": [
      "matrD_1_ = [[-0.02500000  0.02500000]\n [ 0.00550000 -0.00550000]]\nTheta = [ 0.18032787  0.81967213]\nlambda = 0.822134977157\n"
     ]
    }
   ],
   "source": [
    "# Характеристики входного BMAP\n",
    "\n",
    "matrD_1_ = np.zeros(matrD_k[0].shape)\n",
    "for matr in matrD_k:\n",
    "    matrD_1_ += matr\n",
    "print('matrD_1_ =', matrD_1_)\n",
    "matr_a = np.array(copy.deepcopy(matrD_1_))\n",
    "for i in range(matr_a.shape[0]):\n",
    "    matr_a[i][0] = 1\n",
    "\n",
    "matr_b = np.zeros((matr_a.shape[0], 1))\n",
    "matr_b[0][0] = 1\n",
    "\n",
    "matr_a = np.transpose(matr_a)\n",
    "\n",
    "theta = la.solve(matr_a, matr_b).reshape(-1)    # Алгоритм проверен.\n",
    "\n",
    "matrdD_1_ = np.array(copy.deepcopy(matrD_k[1]))\n",
    "\n",
    "print('Theta =', theta)\n",
    "\n",
    "for i in range(2, n+1):\n",
    "    matrdD_1_ += matrD_k[i] * i\n",
    "vect_e = np.array([[1.] for i in range(0, matrD_1_.shape[1])])\n",
    "lamD = np.dot(np.dot(theta, matrdD_1_), vect_e)[0]\n",
    "print('lambda =', lamD)"
   ]
  },
  {
   "cell_type": "heading",
   "metadata": {},
   "level": 3,
   "source": [
    "Поток поломок MAP"
   ]
  },
  {
   "cell_type": "code",
   "execution_count": 8,
   "metadata": {
    "collapsed": false
   },
   "outputs": [
    {
     "name": "stdout",
     "output_type": "stream",
     "text": [
      "H_0 = [[-2.70357500  0.00000000]\n [ 0.00000000 -0.08775000]]\nH_1 = [[ 2.68560000  0.01797500]\n [ 0.04887500  0.03887500]]\nh = 2.00021741773\n"
     ]
    }
   ],
   "source": [
    "# Поток поломок MAP\n",
    "matrH0 = np.array([[-8.110725, 0], [0, -0.26325]]) / 3\n",
    "matrH1 = np.array([[8.0568, 0.053925], [0.146625, 0.116625]]) / 3\n",
    "V_ = matrH1.shape[0]\n",
    "V = V_ - 1\n",
    "matrH = matrH0 + matrH1\n",
    "matr_a = copy.deepcopy(matrH)\n",
    "for i in range(matr_a.shape[0]):\n",
    "    # print(matr_a)\n",
    "    matr_a[i][0] = 1\n",
    "    \n",
    "matr_b = np.zeros((matr_a.shape[0], 1))\n",
    "matr_b[0][0] = 1\n",
    "\n",
    "matr_a = np.transpose(matr_a)\n",
    "\n",
    "print('H_0 =', matrH0)\n",
    "print('H_1 =', matrH1)\n",
    "\n",
    "gamma = la.solve(matr_a, matr_b).reshape(-1)\n",
    "\n",
    "vect_e = np.array([[1.] for i in range(0, matrD_1_.shape[1])])\n",
    "h = np.dot(np.dot(gamma, matrH1), vect_e)[0]\n",
    "print('h =', h)"
   ]
  },
  {
   "cell_type": "code",
   "execution_count": 9,
   "metadata": {
    "collapsed": false
   },
   "outputs": [
    {
     "name": "stdout",
     "output_type": "stream",
     "text": [
      "10.0\n"
     ]
    }
   ],
   "source": [
    "# Поток обслуживания PH1\n",
    "beta1 = np.array([[1, 0]])\n",
    "matrS1 = np.array([[-20, 20], [0, -20]])\n",
    "M1 = matrS1.shape[0]\n",
    "M1_ = M1 + 1\n",
    "M1_e = np.array([[1], [1]])\n",
    "matrS1_0 = np.dot(- matrS1, M1_e)\n",
    "vect_e = np.array([[1.] for i in range(0, matrS1.shape[1])])\n",
    "# print(np.dot(beta1, la.inv(matrS1)))\n",
    "mu_1 = -la.inv(np.dot(np.dot(beta1, la.inv(matrS1)), vect_e))[0, 0]\n",
    "print(mu_1)"
   ]
  },
  {
   "cell_type": "code",
   "execution_count": 10,
   "metadata": {
    "collapsed": false
   },
   "outputs": [
    {
     "name": "stdout",
     "output_type": "stream",
     "text": [
      "1.0\n"
     ]
    }
   ],
   "source": [
    "# Поток обслуживания PH2\n",
    "beta2 = np.array([[1, 0]])\n",
    "matrS2 = np.array([[-2, 2], [0, -2]])\n",
    "M2 = matrS2.shape[0]\n",
    "M2_ = M2 + 1\n",
    "M2_e = np.array([[1], [1]])\n",
    "matrS2_0 = np.dot(- matrS2, M2_e)\n",
    "\n",
    "vect_e = np.array([[1.] for i in range(0, matrS2.shape[1])])\n",
    "mu_2 = -la.inv(np.dot(np.dot(beta2, la.inv(matrS2)), vect_e))[0, 0]\n",
    "print(mu_2)"
   ]
  },
  {
   "cell_type": "code",
   "execution_count": 11,
   "metadata": {
    "collapsed": true
   },
   "outputs": [],
   "source": [
    "matrS_w = kron(np.dot(matrS1_0, beta1), \n",
    "               np.dot(M2_e, beta2)) + kron(np.dot(M1_e, beta1), np.dot(matrS2_0, beta2))"
   ]
  },
  {
   "cell_type": "code",
   "execution_count": 12,
   "metadata": {
    "collapsed": false
   },
   "outputs": [
    {
     "name": "stdout",
     "output_type": "stream",
     "text": [
      "29.9998528738\n"
     ]
    }
   ],
   "source": [
    "# Поток переключения с прибора-1 на прибор-2\n",
    "alpha1 = np.array([[0.05, 0.95]])\n",
    "matrA1 = np.array([[-1.86075, 0.], [0., -146.9994]])\n",
    "L1 = matrA1.shape[0]\n",
    "L1_ = L1 + 1\n",
    "L1_e = np.array([[1], [1]])\n",
    "matrA1_0 = - np.dot(matrA1, L1_e)\n",
    "\n",
    "vect_e = np.array([[1.] for i in range(0, matrA1.shape[1])])\n",
    "kappa_1 = -la.inv(np.dot(np.dot(alpha1, la.inv(matrA1)), vect_e))[0, 0]\n",
    "print(kappa_1)"
   ]
  },
  {
   "cell_type": "code",
   "execution_count": 13,
   "metadata": {
    "collapsed": false
   },
   "outputs": [
    {
     "name": "stdout",
     "output_type": "stream",
     "text": [
      "89.9995586214\n"
     ]
    }
   ],
   "source": [
    "# Поток переключения с прибора-2 на прибор-1\n",
    "alpha2 = np.array([[0.05, 0.95]])\n",
    "matrA2 = np.array([[-5.58225, 0.], [0., -440.9982]])\n",
    "L2 = matrA2.shape[0]\n",
    "L2_ = L2 + 1\n",
    "L2_e = np.array([[1], [1]])\n",
    "matrA2_0 = - np.dot(matrA2, L2_e)\n",
    "\n",
    "vect_e = np.array([[1.] for i in range(0, matrA1.shape[1])])\n",
    "kappa_2 = -la.inv(np.dot(np.dot(alpha2, la.inv(matrA2)), vect_e))[0, 0]\n",
    "print(kappa_2)"
   ]
  },
  {
   "cell_type": "code",
   "execution_count": 14,
   "metadata": {
    "collapsed": false
   },
   "outputs": [
    {
     "name": "stdout",
     "output_type": "stream",
     "text": [
      "0.00999902009603\n"
     ]
    }
   ],
   "source": [
    "# Поток ремонта PH\n",
    "tau = np.array([[0.98, 0.02]])\n",
    "matrT = np.array([[-100., 0.], [0., -0.0002]])\n",
    "T_e = np.array([[1], [1]])\n",
    "matrT0 = - np.dot(matrT, T_e)\n",
    "\n",
    "R = matrT.shape[0]\n",
    "R_ = R + 1\n",
    "vect_e = np.array([[1.] for i in range(0, matrT.shape[1])])\n",
    "phi = -la.inv(np.dot(np.dot(tau, la.inv(matrT)), vect_e))[0, 0]\n",
    "print(phi)"
   ]
  },
  {
   "cell_type": "code",
   "execution_count": 15,
   "metadata": {
    "collapsed": false
   },
   "outputs": [
    {
     "name": "stdout",
     "output_type": "stream",
     "text": [
      "a = 4\n"
     ]
    }
   ],
   "source": [
    "a = W_ * V_\n",
    "print('a =', a)"
   ]
  },
  {
   "cell_type": "code",
   "execution_count": 16,
   "metadata": {
    "collapsed": false
   },
   "outputs": [
    {
     "name": "stdout",
     "output_type": "stream",
     "text": [
      "(16, 4)\n(36, 36)\n"
     ]
    }
   ],
   "source": [
    "# Q~0\n",
    "block00 = kronsum(matrD_k[0], matrH0)\n",
    "block03 = kron(kron(kron(np.eye(W_), matrH1), tau), alpha1)\n",
    "block10 = kron(np.eye(a), matrA2_0)\n",
    "block11 = kronsum(kronsum(matrD_k[0], matrH0), matrA2)\n",
    "block12 = kron(kron(kron(np.eye(W_), matrH1), tau), L2_e)\n",
    "block21 = kron(kron(np.eye(a), matrT0), alpha2)\n",
    "block22 = kronsum(kronsum(matrD_k[0], matrH), matrT)\n",
    "block30 = kron(kron(np.eye(a), matrT0), L1_e)\n",
    "block32 = kron(kron(np.eye(a), np.eye(R)), matrA1_0)\n",
    "block33 = kronsum(kronsum(kronsum(matrD_k[0], matrH), matrT), matrA1)\n",
    "block01 = np.zeros((block00.shape[0], block11.shape[1]))\n",
    "block02 = np.zeros((block00.shape[0], block12.shape[1]))\n",
    "block13 = np.zeros((block10.shape[0], block03.shape[1]))\n",
    "block20 = np.zeros((block21.shape[0], block10.shape[1]))\n",
    "block23 = np.zeros((block21.shape[0], block03.shape[1]))\n",
    "block31 = np.zeros((block30.shape[0], block11.shape[1]))\n",
    "\n",
    "print(block30.shape)\n",
    "\n",
    "matrQw_0 = np.bmat([[block00, block01, block02, block03],\n",
    "                    [block10, block11, block12, block13], \n",
    "                    [block20, block21, block22, block23],\n",
    "                    [block30, block31, block32, block33]])\n",
    "print(matrQw_0.shape)"
   ]
  },
  {
   "cell_type": "code",
   "execution_count": 17,
   "metadata": {
    "collapsed": false
   },
   "outputs": [
    {
     "name": "stdout",
     "output_type": "stream",
     "text": [
      "(36, 36)\n(36, 56)\n"
     ]
    }
   ],
   "source": [
    "# Q~k\n",
    "matrQw_k = [matrQw_0]\n",
    "for i in range(1, n+1):\n",
    "    block0 = kron(kron(matrD_k[i], np.eye(V_)), beta1)\n",
    "    block1 = kron(kron(kron(matrD_k[i], np.eye(V_)), beta2), np.eye(L2))\n",
    "    block2 = kron(kron(kron(matrD_k[i], np.eye(V_)), beta2), np.eye(R))\n",
    "    block3 = kron(kron(matrD_k[i], np.eye(V_)), np.eye(R*L1))\n",
    "    matr_temp = la.block_diag(block0, block1, block2, block3)\n",
    "    matrQw_k.append(matr_temp)\n",
    "    \n",
    "print(matrQw_k[0].shape)\n",
    "print(matrQw_k[1].shape)\n",
    "\n",
    "for i in range(matrQw_k[0].shape[0]):\n",
    "    sum = 0\n",
    "    for matr in matrQw_k:\n",
    "        sum += np.sum(matr[i])\n",
    "    # print('matrQw_k[' + str(i) + '] = ', sum)"
   ]
  },
  {
   "cell_type": "code",
   "execution_count": 18,
   "metadata": {
    "collapsed": false
   },
   "outputs": [
    {
     "name": "stdout",
     "output_type": "stream",
     "text": [
      "(56, 36)\n"
     ]
    }
   ],
   "source": [
    "# Q^0\n",
    "block0 = kron(np.eye(a), matrS1_0)\n",
    "block1 = kron(kron(np.eye(a), matrS2_0), np.eye(L2))\n",
    "block2 = kron(kron(np.eye(a), matrS2_0), np.eye(R))\n",
    "block3 = np.zeros((a*R*L1, a*R*L1))\n",
    "matrQv_0 = la.block_diag(block0, block1, block2, block3)\n",
    "\n",
    "print(matrQv_0.shape)"
   ]
  },
  {
   "cell_type": "code",
   "execution_count": 19,
   "metadata": {
    "collapsed": false
   },
   "outputs": [
    {
     "name": "stdout",
     "output_type": "stream",
     "text": [
      "(56, 56)\n"
     ]
    }
   ],
   "source": [
    "# Q_0\n",
    "block0 = kron(np.eye(a), np.dot(matrS1_0, beta1))\n",
    "block1 = kron(kron(np.eye(a), np.dot(matrS2_0, beta2)), np.eye(L2))\n",
    "block2 = kron(kron(np.eye(a), np.dot(matrS2_0, beta2)), np.eye(R))\n",
    "block3 = np.zeros((a*R*L1, a*R*L1))\n",
    "matrQ_0 = la.block_diag(block0, block1, block2, block3)\n",
    "\n",
    "print(matrQ_0.shape)"
   ]
  },
  {
   "cell_type": "code",
   "execution_count": 20,
   "metadata": {
    "collapsed": false
   },
   "outputs": [
    {
     "name": "stdout",
     "output_type": "stream",
     "text": [
      "(56, 56)\n"
     ]
    }
   ],
   "source": [
    "# Q_1\n",
    "block00 = kronsum(kronsum(matrD_k[0], matrH0), matrS1)\n",
    "block03 = kron(kron(kron(kron(np.eye(W_), matrH1), M1_e), tau), alpha1)\n",
    "block10 = kron(kron(kron(np.eye(a), M2_e), beta1), matrA2_0)\n",
    "block11 = kronsum(kronsum(kronsum(matrD_k[0], matrH0), matrS2), matrA2)\n",
    "block12 = kron(kron(kron(kron(np.eye(W_), matrH1), np.eye(M2)), tau), L2_e)\n",
    "block21 = kron(kron(kron(np.eye(a), np.eye(M2)), matrT0), alpha1)\n",
    "block22 = kronsum(kronsum(kronsum(matrD_k[0], matrH), matrS2), matrT)\n",
    "block30 = kron(kron(kron(np.eye(a), beta1), matrT0), L1_e)\n",
    "block32 = kron(kron(kron(np.eye(a), beta2), np.eye(R)), matrA1_0)\n",
    "block33 = kronsum(kronsum(kronsum(matrD_k[0], matrH), matrT), matrA1)\n",
    "block01 = np.zeros((block00.shape[0], block11.shape[1]))\n",
    "block02 = np.zeros((block00.shape[0], block12.shape[1]))\n",
    "block13 = np.zeros((block10.shape[0], block03.shape[1]))\n",
    "block20 = np.zeros((block21.shape[0], block10.shape[1]))\n",
    "block23 = np.zeros((block21.shape[0], block03.shape[1]))\n",
    "block31 = np.zeros((block30.shape[0], block11.shape[1]))\n",
    "\n",
    "matrQ_1 = np.bmat([[block00, block01, block02, block03], \n",
    "                   [block10, block11, block12, block13], \n",
    "                   [block20, block21, block22, block23], \n",
    "                   [block30, block31, block32, block33]])\n",
    "\n",
    "print(matrQ_1.shape)"
   ]
  },
  {
   "cell_type": "code",
   "execution_count": 21,
   "metadata": {
    "collapsed": true
   },
   "outputs": [],
   "source": [
    "matrQ_k = [matrQ_0, matrQ_1]\n",
    "for k in range(2, n+2):\n",
    "    block0 = kron(matrD_k[k-1], np.eye(V_ * M1))\n",
    "    block1 = kron(matrD_k[k-1], np.eye(V_*M2*L2))\n",
    "    block2 = kron(matrD_k[k-1], np.eye(V_*M2*R))\n",
    "    block3 = kron(matrD_k[k-1], np.eye(V_*R*L1))\n",
    "    matr_temp = la.block_diag(block0, block1, block2, block3)\n",
    "    matrQ_k.append(matr_temp)\n",
    "\n",
    "# for i in range(matrQ_k[0].shape[0]):\n",
    "#     sum = np.sum(matrQv_0[i])\n",
    "#     for j in range(1, np.array(matrQ_k).shape[0]):\n",
    "#         sum += np.sum(matrQ_k[j][i])\n",
    "#     print('matrQ_k[' + str(i) + '] = ', sum)"
   ]
  },
  {
   "cell_type": "code",
   "execution_count": 22,
   "metadata": {
    "collapsed": true
   },
   "outputs": [],
   "source": [
    "# Проверка генератора Q"
   ]
  },
  {
   "cell_type": "code",
   "execution_count": 22,
   "metadata": {
    "collapsed": true
   },
   "outputs": [
    {
     "name": "stdout",
     "output_type": "stream",
     "text": [
      "722\n1.0000000000000009\n(56, 56)\n"
     ]
    }
   ],
   "source": [
    "# Поиск матрицы G\n",
    "\n",
    "matrQ_1_neg_inv = np.linalg.inv(-matrQ_k[1])\n",
    "\n",
    "\n",
    "def calc_G(matrG_prev):\n",
    "    temp_sum = np.array(copy.deepcopy(matrQ_k[0])) \n",
    "    for k in range(2, n + 2):\n",
    "        temp_sum += np.dot(matrQ_k[k], np.linalg.matrix_power(matrG_prev, k))\n",
    "    matrG_new = np.dot(matrQ_1_neg_inv, temp_sum)\n",
    "    return matrG_new\n",
    "\n",
    "matrG_old = np.eye(matrQ_k[1].shape[0])\n",
    "matrG = calc_G(matrG_old)\n",
    "\n",
    "i = 1\n",
    "while la.norm(matrG - matrG_old, ord=np.inf) >= eps_G:\n",
    "    matrG_old = matrG\n",
    "    matrG = calc_G(matrG_old)\n",
    "    i += 1\n",
    "print(i)\n",
    "print(la.norm(matrG, ord=np.inf))\n",
    "print(matrG.shape)"
   ]
  },
  {
   "cell_type": "code",
   "execution_count": 24,
   "metadata": {
    "collapsed": false
   },
   "outputs": [
    {
     "data": {
      "text/plain": [
       "1.0000000000000009"
      ]
     },
     "execution_count": 23,
     "metadata": {},
     "output_type": "execute_result"
    }
   ],
   "source": [
    "la.norm(matrG, ord=np.inf)"
   ]
  },
  {
   "cell_type": "code",
   "execution_count": 25,
   "metadata": {
    "collapsed": false
   },
   "outputs": [
    {
     "data": {
      "text/plain": [
       "1.000000000000001"
      ]
     },
     "execution_count": 24,
     "metadata": {},
     "output_type": "execute_result"
    }
   ],
   "source": [
    "temp_sum = np.array(copy.deepcopy(matrQ_k[1]))\n",
    "for k in range(2, n+2):\n",
    "    temp_sum += np.dot(matrQ_k[k], np.linalg.matrix_power(matrG, k-1))\n",
    "matrG_0 = la.inv(temp_sum)\n",
    "matrG_0 = -np.dot(matrG_0, matrQv_0)\n",
    "# pd.DataFrame(matrG_0)\n",
    "la.norm(matrG_0, ord=np.inf)"
   ]
  },
  {
   "cell_type": "code",
   "execution_count": 26,
   "metadata": {
    "collapsed": false
   },
   "outputs": [
    {
     "name": "stdout",
     "output_type": "stream",
     "text": [
      "mult matr 0 shape :  (36, 36)\nmult matr 0 shape :  (36, 36)\nmult matr 0 shape :  (36, 36)\nmult matr 0 shape :  (36, 56)\nmult matr 0 shape :  (36, 56)\nmult matr 0 shape :  (36, 56)\n"
     ]
    },
    {
     "name": "stdout",
     "output_type": "stream",
     "text": [
      "1.2687049180327876\n"
     ]
    }
   ],
   "source": [
    "matrQ_il = []\n",
    "for i in range(0, p_num):\n",
    "    matrQ_il.append([])\n",
    "    if i == 0:\n",
    "        for l in range(0, n + 1):\n",
    "            # здесь до n, т.к. нет больше матриц Q_k\n",
    "            temp_matr = np.array(copy.deepcopy(matrQw_k[l]))\n",
    "            for k in range(l + 1, n + 1):\n",
    "                mult_matr = np.array(copy.deepcopy(matrQw_k[k]))\n",
    "                for kk in range(k - 1, l - 1, -1):\n",
    "                    if kk == 0:\n",
    "                        mult_matr = np.dot(mult_matr, matrG_0)\n",
    "                    else:\n",
    "                        mult_matr = np.dot(mult_matr, matrG)\n",
    "                print(\"mult matr 0 shape : \", mult_matr.shape)\n",
    "                temp_matr += mult_matr\n",
    "            matrQ_il[i].append(temp_matr)\n",
    "        for l in range(n + 1, p_num):\n",
    "            matrQ_il[i].append(np.zeros(matrQw_k[1].shape))\n",
    "    else:\n",
    "        for l in range(0, p_num):\n",
    "            if l >= i and (l - i) <= (n + 1):\n",
    "                if (l - i + 1) <= (n + 1): \n",
    "                    temp_matr = np.array(copy.deepcopy(matrQ_k[l - i + 1]))\n",
    "                else:\n",
    "                    temp_matr = np.zeros(matrQ_k[0].shape)\n",
    "                    \n",
    "                for k in range(l + 1, p_num):  # sum from l+1 to inf\n",
    "                    if (k - i + 1) <= (n + 1):\n",
    "                        mult_matr = np.array(copy.deepcopy(matrQ_k[k - i + 1]))\n",
    "                        for kk in range(l, k):\n",
    "                            mult_matr = np.dot(mult_matr, matrG)\n",
    "                        \n",
    "                        temp_matr += mult_matr\n",
    "                matrQ_il[i].append(temp_matr)\n",
    "            else:\n",
    "                matrQ_il[i].append(np.zeros(matrQ_k[0].shape))\n",
    "\n",
    "# print(len(matrQ_il[3]))\n",
    "print(la.norm(matrQ_il[1][3], ord=np.inf))"
   ]
  },
  {
   "cell_type": "code",
   "execution_count": 27,
   "metadata": {
    "collapsed": false
   },
   "outputs": [
    {
     "name": "stdout",
     "output_type": "stream",
     "text": [
      "(36, 56)\n"
     ]
    }
   ],
   "source": [
    "matrPhi_0 = np.eye(matrQ_il[0][0].shape[0])\n",
    "matrPhi_l = [matrPhi_0]\n",
    "for l in range(1, p_num):\n",
    "    temp_matr = np.dot(np.dot(matrPhi_l[0], matrQ_il[0][l]), la.inv(-matrQ_il[l][l]))\n",
    "    for i in range(1, l):\n",
    "        # print(matrPhi_l[i].dot(matrQ_il[i][l]).dot(la.inv(-matrQ_il[l][l])).shape)\n",
    "        temp_matr += np.dot(np.dot(matrPhi_l[i], matrQ_il[i][l]), la.inv(-matrQ_il[l][l]))\n",
    "    matrPhi_l.append(temp_matr)\n",
    "print(matrPhi_l[1].shape)"
   ]
  },
  {
   "cell_type": "code",
   "execution_count": 28,
   "metadata": {
    "collapsed": false
   },
   "outputs": [
    {
     "name": "stdout",
     "output_type": "stream",
     "text": [
      "0.3507955515344994\n"
     ]
    }
   ],
   "source": [
    "print(la.norm(matrPhi_l[p_num - 1], ord=np.inf))"
   ]
  },
  {
   "cell_type": "code",
   "execution_count": 29,
   "metadata": {
    "collapsed": false
   },
   "outputs": [
    {
     "name": "stdout",
     "output_type": "stream",
     "text": [
      "[[ 0.00028866  0.00024923  0.00339559  0.00250656  0.00000209  0.00000092\n   0.00000005  0.00000002  0.00003174  0.00001135  0.00000099  0.00000024\n   0.00000432  0.00022324  0.00000008  0.00007859  0.00005236  0.32159745\n   0.00000090  0.11742620  0.00000037  0.00000294  0.00000020  0.00000010\n   0.00000001  0.00000006  0.00000000  0.00000000  0.00000444  0.00003482\n   0.00000475  0.00000119  0.00000008  0.00000060  0.00000012  0.00000002]]\n"
     ]
    }
   ],
   "source": [
    "# Вычисление p_0\n",
    "matr_a = np.array(- copy.deepcopy(matrQ_il[0][0]))\n",
    "vect_eaR = np.array([[1.] for _ in range(matrPhi_l[0].shape[1])])\n",
    "for i in range(1, p_num):\n",
    "    vect_e = np.array([[1.] for _ in range(matrPhi_l[i].shape[1])])\n",
    "    vect_eaR += np.dot(matrPhi_l[i], vect_e)\n",
    "\n",
    "for i in range(matr_a.shape[0]):\n",
    "    matr_a[i][0] = vect_eaR[i][0]\n",
    "\n",
    "matr_b = np.zeros((matr_a.shape[0], 1))\n",
    "matr_b[0][0] = 1.\n",
    "matr_a = np.transpose(matr_a)\n",
    "p0 = np.transpose(la.solve(matr_a, matr_b))\n",
    "\n",
    "# print(p0)\n",
    "print(p0)"
   ]
  },
  {
   "cell_type": "code",
   "execution_count": 30,
   "metadata": {
    "collapsed": true
   },
   "outputs": [
    {
     "name": "stdout",
     "output_type": "stream",
     "text": [
      "p0 =  [ 0.00028866  0.00024923  0.00339559  0.00250656  0.00000209  0.00000092\n  0.00000005  0.00000002  0.00003174  0.00001135  0.00000099  0.00000024\n  0.00000432  0.00022324  0.00000008  0.00007859  0.00005236  0.32159745\n  0.00000090  0.11742620  0.00000037  0.00000294  0.00000020  0.00000010\n  0.00000001  0.00000006  0.00000000  0.00000000  0.00000444  0.00003482\n  0.00000475  0.00000119  0.00000008  0.00000060  0.00000012  0.00000002]\nsum0 =  0.445920293286\np1 =  [ 0.00004042  0.00003253  0.00003014  0.00002711  0.00001747  0.00001535\n  0.00001068  0.00001060  0.00000062  0.00000024  0.00000011  0.00000001\n  0.00000002  0.00000000  0.00000000  0.00000000  0.00000035  0.00000012\n  0.00000009  0.00000001  0.00000002  0.00000000  0.00000001  0.00000000\n  0.00000112  0.00031279  0.00000002  0.00015205  0.00000002  0.00011289\n  0.00000000  0.00005490  0.00000052  0.01143776  0.00000001  0.01105468\n  0.00000001  0.00417973  0.00000000  0.00404054  0.00000010  0.00000075\n  0.00000009  0.00000003  0.00000000  0.00000001  0.00000000  0.00000000\n  0.00000004  0.00000034  0.00000011  0.00000001  0.00000000  0.00000001\n  0.00000000  0.00000000]\nsum1 =  0.0315344460749\np2 =  [ 0.00003265  0.00002742  0.00002353  0.00002222  0.00001199  0.00001057\n  0.00000725  0.00000722  0.00000056  0.00000020  0.00000011  0.00000001\n  0.00000001  0.00000000  0.00000000  0.00000000  0.00000026  0.00000008\n  0.00000006  0.00000001  0.00000001  0.00000000  0.00000001  0.00000000\n  0.00000094  0.00037197  0.00000002  0.00021753  0.00000002  0.00013432\n  0.00000000  0.00007860  0.00000036  0.00776766  0.00000001  0.00764729\n  0.00000001  0.00283871  0.00000000  0.00279528  0.00000008  0.00000062\n  0.00000010  0.00000002  0.00000000  0.00000001  0.00000000  0.00000000\n  0.00000003  0.00000023  0.00000009  0.00000001  0.00000000  0.00000000\n  0.00000000  0.00000000]\nsum2 =  0.021998064213\np3 =  [ 0.00002281  0.00002023  0.00001566  0.00001581  0.00000753  0.00000666\n  0.00000445  0.00000446  0.00000046  0.00000015  0.00000009  0.00000000\n  0.00000001  0.00000000  0.00000000  0.00000000  0.00000017  0.00000005\n  0.00000004  0.00000000  0.00000001  0.00000000  0.00000000  0.00000000\n  0.00000069  0.00041329  0.00000002  0.00027901  0.00000001  0.00014930\n  0.00000000  0.00010086  0.00000023  0.00447791  0.00000001  0.00453703\n  0.00000000  0.00163688  0.00000000  0.00165879  0.00000006  0.00000045\n  0.00000010  0.00000002  0.00000000  0.00000001  0.00000000  0.00000000\n  0.00000002  0.00000015  0.00000006  0.00000001  0.00000000  0.00000000\n  0.00000000  0.00000000]\nsum3 =  0.0133535056575\np4 =  [ 0.00001116  0.00001119  0.00000681  0.00000812  0.00000391  0.00000349\n  0.00000218  0.00000221  0.00000024  0.00000008  0.00000006  0.00000000\n  0.00000001  0.00000000  0.00000000  0.00000000  0.00000006  0.00000002\n  0.00000002  0.00000000  0.00000000  0.00000000  0.00000000  0.00000000\n  0.00000035  0.00035176  0.00000001  0.00029395  0.00000001  0.00012707\n  0.00000000  0.00010627  0.00000011  0.00155676  0.00000000  0.00173036\n  0.00000000  0.00056998  0.00000000  0.00063349  0.00000003  0.00000023\n  0.00000007  0.00000001  0.00000000  0.00000000  0.00000000  0.00000000\n  0.00000001  0.00000008  0.00000001  0.00000000  0.00000000  0.00000000\n  0.00000000  0.00000000]\nsum4 =  0.00542012933236\np5 =  [ 0.00000734  0.00000748  0.00000423  0.00000517  0.00000378  0.00000336\n  0.00000210  0.00000212  0.00000017  0.00000005  0.00000004  0.00000000\n  0.00000000  0.00000000  0.00000000  0.00000000  0.00000006  0.00000002\n  0.00000001  0.00000000  0.00000000  0.00000000  0.00000000  0.00000000\n  0.00000024  0.00035451  0.00000001  0.00031378  0.00000000  0.00012810\n  0.00000000  0.00011346  0.00000011  0.00128214  0.00000000  0.00137144\n  0.00000000  0.00046962  0.00000000  0.00050230  0.00000002  0.00000015\n  0.00000005  0.00000001  0.00000000  0.00000000  0.00000000  0.00000000\n  0.00000001  0.00000007  0.00000001  0.00000000  0.00000000  0.00000000\n  0.00000000  0.00000000]\nsum5 =  0.00457198676093\np6 =  [ 0.00000474  0.00000484  0.00000257  0.00000317  0.00000370  0.00000328\n  0.00000206  0.00000206  0.00000011  0.00000003  0.00000003  0.00000000\n  0.00000000  0.00000000  0.00000000  0.00000000  0.00000006  0.00000002\n  0.00000001  0.00000000  0.00000000  0.00000000  0.00000000  0.00000000\n  0.00000015  0.00034899  0.00000000  0.00032376  0.00000000  0.00012615\n  0.00000000  0.00011709  0.00000011  0.00115392  0.00000000  0.00119008\n  0.00000000  0.00042277  0.00000000  0.00043602  0.00000001  0.00000010\n  0.00000004  0.00000000  0.00000000  0.00000000  0.00000000  0.00000000\n  0.00000001  0.00000007  0.00000001  0.00000000  0.00000000  0.00000000\n  0.00000000  0.00000000]\nsum6 =  0.00414599864288\np7 =  [ 0.00000318  0.00000319  0.00000165  0.00000198  0.00000366  0.00000323\n  0.00000204  0.00000203  0.00000007  0.00000002  0.00000002  0.00000000\n  0.00000000  0.00000000  0.00000000  0.00000000  0.00000005  0.00000002\n  0.00000001  0.00000000  0.00000000  0.00000000  0.00000000  0.00000000\n  0.00000010  0.00034065  0.00000000  0.00032604  0.00000000  0.00012318\n  0.00000000  0.00011794  0.00000010  0.00110957  0.00000000  0.00111890\n  0.00000000  0.00040657  0.00000000  0.00041001  0.00000001  0.00000007\n  0.00000003  0.00000000  0.00000000  0.00000000  0.00000000  0.00000000\n  0.00000001  0.00000007  0.00000001  0.00000000  0.00000000  0.00000000\n  0.00000000  0.00000000]\nsum7 =  0.00397447522635\np8 =  [ 0.00000233  0.00000229  0.00000118  0.00000137  0.00000364  0.00000321\n  0.00000202  0.00000202  0.00000005  0.00000002  0.00000001  0.00000000\n  0.00000000  0.00000000  0.00000000  0.00000000  0.00000005  0.00000002\n  0.00000001  0.00000000  0.00000000  0.00000000  0.00000000  0.00000000\n  0.00000007  0.00033873  0.00000000  0.00032971  0.00000000  0.00012253\n  0.00000000  0.00011930  0.00000010  0.00109786  0.00000000  0.00110209\n  0.00000000  0.00040230  0.00000000  0.00040387  0.00000001  0.00000005\n  0.00000002  0.00000000  0.00000000  0.00000000  0.00000000  0.00000000\n  0.00000001  0.00000007  0.00000001  0.00000000  0.00000000  0.00000000\n  0.00000000  0.00000000]\nsum8 =  0.00393498999616\np9 =  [ 0.00000182  0.00000174  0.00000092  0.00000103  0.00000362  0.00000319\n  0.00000201  0.00000201  0.00000004  0.00000001  0.00000001  0.00000000\n  0.00000000  0.00000000  0.00000000  0.00000000  0.00000005  0.00000002\n  0.00000001  0.00000000  0.00000000  0.00000000  0.00000000  0.00000000\n  0.00000006  0.00033620  0.00000000  0.00033089  0.00000000  0.00012166\n  0.00000000  0.00011976  0.00000010  0.00109214  0.00000000  0.00109423\n  0.00000000  0.00040022  0.00000000  0.00040101  0.00000000  0.00000004\n  0.00000002  0.00000000  0.00000000  0.00000000  0.00000000  0.00000000\n  0.00000001  0.00000007  0.00000001  0.00000000  0.00000000  0.00000000\n  0.00000000  0.00000000]\nsum9 =  0.0039129108343\np10 =  [ 0.00000152  0.00000142  0.00000078  0.00000083  0.00000360  0.00000318\n  0.00000201  0.00000200  0.00000003  0.00000001  0.00000001  0.00000000\n  0.00000000  0.00000000  0.00000000  0.00000000  0.00000005  0.00000002\n  0.00000001  0.00000000  0.00000000  0.00000000  0.00000000  0.00000000\n  0.00000005  0.00033424  0.00000000  0.00033109  0.00000000  0.00012100\n  0.00000000  0.00011987  0.00000010  0.00108866  0.00000000  0.00109005\n  0.00000000  0.00039895  0.00000000  0.00039949  0.00000000  0.00000003\n  0.00000001  0.00000000  0.00000000  0.00000000  0.00000000  0.00000000\n  0.00000001  0.00000007  0.00000001  0.00000000  0.00000000  0.00000000\n  0.00000000  0.00000000]\nsum10 =  0.00389911849871\np11 =  [ 0.00000134  0.00000123  0.00000070  0.00000073  0.00000359  0.00000317\n  0.00000200  0.00000199  0.00000002  0.00000001  0.00000001  0.00000000\n  0.00000000  0.00000000  0.00000000  0.00000000  0.00000005  0.00000002\n  0.00000001  0.00000000  0.00000000  0.00000000  0.00000000  0.00000000\n  0.00000004  0.00033295  0.00000000  0.00033119  0.00000000  0.00012058\n  0.00000000  0.00011994  0.00000010  0.00108583  0.00000000  0.00108707\n  0.00000000  0.00039793  0.00000000  0.00039841  0.00000000  0.00000003\n  0.00000001  0.00000000  0.00000000  0.00000000  0.00000000  0.00000000\n  0.00000001  0.00000007  0.00000001  0.00000000  0.00000000  0.00000000\n  0.00000000  0.00000000]\nsum11 =  0.00388905095858\np12 =  [ 0.00000124  0.00000112  0.00000066  0.00000067  0.00000358  0.00000316\n  0.00000200  0.00000199  0.00000002  0.00000001  0.00000001  0.00000000\n  0.00000000  0.00000000  0.00000000  0.00000000  0.00000005  0.00000002\n  0.00000001  0.00000000  0.00000000  0.00000000  0.00000000  0.00000000\n  0.00000004  0.00033174  0.00000000  0.00033081  0.00000000  0.00012018\n  0.00000000  0.00011984  0.00000010  0.00108318  0.00000000  0.00108437\n  0.00000000  0.00039697  0.00000000  0.00039743  0.00000000  0.00000002\n  0.00000001  0.00000000  0.00000000  0.00000000  0.00000000  0.00000000\n  0.00000001  0.00000007  0.00000001  0.00000000  0.00000000  0.00000000\n  0.00000000  0.00000000]\nsum12 =  0.0038793245632\np13 =  [ 0.00000117  0.00000105  0.00000063  0.00000064  0.00000357  0.00000315\n  0.00000199  0.00000198  0.00000002  0.00000001  0.00000000  0.00000000\n  0.00000000  0.00000000  0.00000000  0.00000000  0.00000005  0.00000002\n  0.00000001  0.00000000  0.00000000  0.00000000  0.00000000  0.00000000\n  0.00000003  0.00033071  0.00000000  0.00033027  0.00000000  0.00011985\n  0.00000000  0.00011969  0.00000010  0.00108059  0.00000000  0.00108177\n  0.00000000  0.00039603  0.00000000  0.00039649  0.00000000  0.00000002\n  0.00000001  0.00000000  0.00000000  0.00000000  0.00000000  0.00000000\n  0.00000001  0.00000007  0.00000001  0.00000000  0.00000000  0.00000000\n  0.00000000  0.00000000]\nsum13 =  0.00386997168477\np14 =  [ 0.00000114  0.00000101  0.00000062  0.00000062  0.00000356  0.00000314\n  0.00000199  0.00000198  0.00000002  0.00000001  0.00000000  0.00000000\n  0.00000000  0.00000000  0.00000000  0.00000000  0.00000005  0.00000002\n  0.00000001  0.00000000  0.00000000  0.00000000  0.00000000  0.00000000\n  0.00000003  0.00032977  0.00000000  0.00032965  0.00000000  0.00011955\n  0.00000000  0.00011950  0.00000010  0.00107802  0.00000000  0.00107920\n  0.00000000  0.00039510  0.00000000  0.00039556  0.00000000  0.00000002\n  0.00000001  0.00000000  0.00000000  0.00000000  0.00000000  0.00000000\n  0.00000001  0.00000007  0.00000001  0.00000000  0.00000000  0.00000000\n  0.00000000  0.00000000]\nsum14 =  0.00386080170173\np15 =  [ 0.00000111  0.00000099  0.00000061  0.00000061  0.00000355  0.00000313\n  0.00000198  0.00000197  0.00000002  0.00000001  0.00000000  0.00000000\n  0.00000000  0.00000000  0.00000000  0.00000000  0.00000005  0.00000002\n  0.00000001  0.00000000  0.00000000  0.00000000  0.00000000  0.00000000\n  0.00000003  0.00032888  0.00000000  0.00032895  0.00000000  0.00011926\n  0.00000000  0.00011928  0.00000010  0.00107547  0.00000000  0.00107665\n  0.00000000  0.00039418  0.00000000  0.00039463  0.00000000  0.00000002\n  0.00000001  0.00000000  0.00000000  0.00000000  0.00000000  0.00000000\n  0.00000001  0.00000007  0.00000001  0.00000000  0.00000000  0.00000000\n  0.00000000  0.00000000]\nsum15 =  0.00385165150022\np16 =  [ 0.00000110  0.00000097  0.00000061  0.00000061  0.00000355  0.00000312\n  0.00000198  0.00000197  0.00000002  0.00000001  0.00000000  0.00000000\n  0.00000000  0.00000000  0.00000000  0.00000000  0.00000005  0.00000002\n  0.00000001  0.00000000  0.00000000  0.00000000  0.00000000  0.00000000\n  0.00000003  0.00032803  0.00000000  0.00032821  0.00000000  0.00011899\n  0.00000000  0.00011905  0.00000010  0.00107293  0.00000000  0.00107410\n  0.00000000  0.00039325  0.00000000  0.00039371  0.00000000  0.00000002\n  0.00000000  0.00000000  0.00000000  0.00000000  0.00000000  0.00000000\n  0.00000001  0.00000007  0.00000001  0.00000000  0.00000000  0.00000000\n  0.00000000  0.00000000]\nsum16 =  "
     ]
    },
    {
     "name": "stdout",
     "output_type": "stream",
     "text": [
      "0.00384255380707\np17 =  [ 0.00000109  0.00000096  0.00000060  0.00000060  0.00000354  0.00000312\n  0.00000197  0.00000196  0.00000002  0.00000001  0.00000000  0.00000000\n  0.00000000  0.00000000  0.00000000  0.00000000  0.00000005  0.00000002\n  0.00000001  0.00000000  0.00000000  0.00000000  0.00000000  0.00000000\n  0.00000003  0.00032720  0.00000000  0.00032746  0.00000000  0.00011873\n  0.00000000  0.00011881  0.00000010  0.00107039  0.00000000  0.00107156\n  0.00000000  0.00039233  0.00000000  0.00039279  0.00000000  0.00000002\n  0.00000000  0.00000000  0.00000000  0.00000000  0.00000000  0.00000000\n  0.00000001  0.00000007  0.00000001  0.00000000  0.00000000  0.00000000\n  0.00000000  0.00000000]\nsum17 =  0.00383348761736\np18 =  [ 0.00000108  0.00000095  0.00000060  0.00000060  0.00000353  0.00000311\n  0.00000197  0.00000196  0.00000002  0.00000001  0.00000000  0.00000000\n  0.00000000  0.00000000  0.00000000  0.00000000  0.00000005  0.00000002\n  0.00000001  0.00000000  0.00000000  0.00000000  0.00000000  0.00000000\n  0.00000003  0.00032638  0.00000000  0.00032668  0.00000000  0.00011847\n  0.00000000  0.00011857  0.00000010  0.00106786  0.00000000  0.00106903\n  0.00000000  0.00039141  0.00000000  0.00039187  0.00000000  0.00000002\n  0.00000000  0.00000000  0.00000000  0.00000000  0.00000000  0.00000000\n  0.00000001  0.00000007  0.00000001  0.00000000  0.00000000  0.00000000\n  0.00000000  0.00000000]\nsum18 =  0.00382444378025\np19 =  [ 0.00000108  0.00000095  0.00000060  0.00000060  0.00000352  0.00000310\n  0.00000196  0.00000195  0.00000002  0.00000001  0.00000000  0.00000000\n  0.00000000  0.00000000  0.00000000  0.00000000  0.00000005  0.00000002\n  0.00000001  0.00000000  0.00000000  0.00000000  0.00000000  0.00000000\n  0.00000003  0.00032558  0.00000000  0.00032590  0.00000000  0.00011821\n  0.00000000  0.00011832  0.00000010  0.00106533  0.00000000  0.00106650\n  0.00000000  0.00039050  0.00000000  0.00039095  0.00000000  0.00000002\n  0.00000000  0.00000000  0.00000000  0.00000000  0.00000000  0.00000000\n  0.00000001  0.00000007  0.00000001  0.00000000  0.00000000  0.00000000\n  0.00000000  0.00000000]\nsum19 =  0.00381542487414\n"
     ]
    },
    {
     "name": "stdout",
     "output_type": "stream",
     "text": [
      "p20 =  [ 0.00000107  0.00000095  0.00000060  0.00000059  0.00000351  0.00000309\n  0.00000196  0.00000195  0.00000002  0.00000001  0.00000000  0.00000000\n  0.00000000  0.00000000  0.00000000  0.00000000  0.00000005  0.00000002\n  0.00000001  0.00000000  0.00000000  0.00000000  0.00000000  0.00000000\n  0.00000003  0.00032478  0.00000000  0.00032512  0.00000000  0.00011795\n  0.00000000  0.00011807  0.00000010  0.00106281  0.00000000  0.00106398\n  0.00000000  0.00038958  0.00000000  0.00039004  0.00000000  0.00000002\n  0.00000000  0.00000000  0.00000000  0.00000000  0.00000000  0.00000000\n  0.00000001  0.00000007  0.00000001  0.00000000  0.00000000  0.00000000\n  0.00000000  0.00000000]\nsum20 =  0.00380642810151\np21 =  [ 0.00000107  0.00000094  0.00000060  0.00000059  0.00000350  0.00000309\n  0.00000195  0.00000194  0.00000002  0.00000001  0.00000000  0.00000000\n  0.00000000  0.00000000  0.00000000  0.00000000  0.00000005  0.00000002\n  0.00000001  0.00000000  0.00000000  0.00000000  0.00000000  0.00000000\n  0.00000003  0.00032398  0.00000000  0.00032433  0.00000000  0.00011769\n  0.00000000  0.00011781  0.00000010  0.00106030  0.00000000  0.00106147\n  0.00000000  0.00038867  0.00000000  0.00038913  0.00000000  0.00000002\n  0.00000000  0.00000000  0.00000000  0.00000000  0.00000000  0.00000000\n  0.00000001  0.00000007  0.00000001  0.00000000  0.00000000  0.00000000\n  0.00000000  0.00000000]\nsum21 =  0.00379745290682\np22 =  [ 0.00000107  0.00000094  0.00000059  0.00000059  0.00000350  0.00000308\n  0.00000195  0.00000194  0.00000002  0.00000001  0.00000000  0.00000000\n  0.00000000  0.00000000  0.00000000  0.00000000  0.00000005  0.00000002\n  0.00000001  0.00000000  0.00000000  0.00000000  0.00000000  0.00000000\n  0.00000003  0.00032319  0.00000000  0.00032355  0.00000000  0.00011744\n  0.00000000  0.00011756  0.00000010  0.00105780  0.00000000  0.00105896\n  0.00000000  0.00038776  0.00000000  0.00038821  0.00000000  0.00000002\n  0.00000000  0.00000000  0.00000000  0.00000000  0.00000000  0.00000000\n  0.00000001  0.00000007  0.00000001  0.00000000  0.00000000  0.00000000\n  0.00000000  0.00000000]\nsum22 =  0.00378849927299\np23 =  [ 0.00000106  0.00000094  0.00000059  0.00000059  0.00000349  0.00000307\n  0.00000194  0.00000194  0.00000002  0.00000001  0.00000000  0.00000000\n  0.00000000  0.00000000  0.00000000  0.00000000  0.00000005  0.00000002\n  0.00000001  0.00000000  0.00000000  0.00000000  0.00000000  0.00000000\n  0.00000003  0.00032241  0.00000000  0.00032277  0.00000000  0.00011718\n  0.00000000  0.00011731  0.00000010  0.00105530  0.00000000  0.00105646\n  0.00000000  0.00038685  0.00000000  0.00038730  0.00000000  0.00000002\n  0.00000000  0.00000000  0.00000000  0.00000000  0.00000000  0.00000000\n  0.00000001  0.00000007  0.00000001  0.00000000  0.00000000  0.00000000\n  0.00000000  0.00000000]\nsum23 =  0.00377956683462\np24 =  [ 0.00000106  0.00000094  0.00000059  0.00000059  0.00000348  0.00000307\n  0.00000194  0.00000193  0.00000002  0.00000001  0.00000000  0.00000000\n  0.00000000  0.00000000  0.00000000  0.00000000  0.00000005  0.00000002\n  0.00000001  0.00000000  0.00000000  0.00000000  0.00000000  0.00000000\n  0.00000003  0.00032163  0.00000000  0.00032199  0.00000000  0.00011693\n  0.00000000  0.00011705  0.00000010  0.00105280  0.00000000  0.00105396\n  0.00000000  0.00038595  0.00000000  0.00038640  0.00000000  0.00000002\n  0.00000000  0.00000000  0.00000000  0.00000000  0.00000000  0.00000000\n  0.00000001  0.00000007  0.00000001  0.00000000  0.00000000  0.00000000\n  0.00000000  0.00000000]\nsum24 =  0.00377065551128\np25 =  [ 0.00000106  0.00000093  0.00000059  0.00000059  0.00000347  0.00000306\n  0.00000193  0.00000193  0.00000002  0.00000001  0.00000000  0.00000000\n  0.00000000  0.00000000  0.00000000  0.00000000  0.00000005  0.00000002\n  0.00000001  0.00000000  0.00000000  0.00000000  0.00000000  0.00000000\n  0.00000003  0.00032085  0.00000000  0.00032121  0.00000000  0.00011667\n  0.00000000  0.00011680  0.00000010  0.00105031  0.00000000  0.00105147\n  0.00000000  0.00038504  0.00000000  0.00038549  0.00000000  0.00000002\n  0.00000000  0.00000000  0.00000000  0.00000000  0.00000000  0.00000000\n  0.00000001  0.00000007  0.00000001  0.00000000  0.00000000  0.00000000\n  0.00000000  0.00000000]\nsum25 =  0.00376176523061\np26 =  [ 0.00000106  0.00000093  0.00000059  0.00000059  0.00000346  0.00000305\n  0.00000193  0.00000192  0.00000002  0.00000001  0.00000000  0.00000000\n  0.00000000  0.00000000  0.00000000  0.00000000  0.00000005  0.00000002\n  0.00000001  0.00000000  0.00000000  0.00000000  0.00000000  0.00000000\n  0.00000003  0.00032007  0.00000000  0.00032043  0.00000000  0.00011642\n  0.00000000  0.00011654  0.00000010  0.00104783  0.00000000  0.00104898\n  0.00000000  0.00038414  0.00000000  0.00038459  0.00000000  0.00000002\n  0.00000000  0.00000000  0.00000000  0.00000000  0.00000000  0.00000000\n  0.00000001  0.00000007  0.00000001  0.00000000  0.00000000  0.00000000\n  0.00000000  0.00000000]\nsum26 =  0.00375289591311\np27 =  [ 0.00000105  0.00000093  0.00000059  0.00000058  0.00000345  0.00000304\n  0.00000193  0.00000192  0.00000002  0.00000001  0.00000000  0.00000000\n  0.00000000  0.00000000  0.00000000  0.00000000  0.00000005  0.00000002\n  0.00000001  0.00000000  0.00000000  0.00000000  0.00000000  0.00000000\n  0.00000003  0.00031930  0.00000000  0.00031965  0.00000000  0.00011616\n  0.00000000  0.00011629  0.00000010  0.00104536  0.00000000  0.00104651\n  0.00000000  0.00038324  0.00000000  0.00038369  0.00000000  0.00000002\n  0.00000000  0.00000000  0.00000000  0.00000000  0.00000000  0.00000000\n  0.00000001  0.00000007  0.00000001  0.00000000  0.00000000  0.00000000\n  0.00000000  0.00000000]\nsum27 =  0.00374404750809\np28 =  [ 0.00000105  0.00000093  0.00000059  0.00000058  0.00000345  0.00000304\n  0.00000192  0.00000191  0.00000002  0.00000001  0.00000000  0.00000000\n  0.00000000  0.00000000  0.00000000  0.00000000  0.00000005  0.00000002\n  0.00000001  0.00000000  0.00000000  0.00000000  0.00000000  0.00000000\n  0.00000003  0.00031852  0.00000000  0.00031888  0.00000000  0.00011591\n  0.00000000  0.00011603  0.00000010  0.00104289  0.00000000  0.00104403\n  0.00000000  0.00038234  0.00000000  0.00038279  0.00000000  0.00000002\n  0.00000000  0.00000000  0.00000000  0.00000000  0.00000000  0.00000000\n  0.00000001  0.00000007  0.00000001  0.00000000  0.00000000  0.00000000\n  0.00000000  0.00000000]\nsum28 =  0.0037352199631\np29 =  [ 0.00000105  0.00000092  0.00000058  0.00000058  0.00000344  0.00000303\n  0.00000192  0.00000191  0.00000002  0.00000001  0.00000000  0.00000000\n  0.00000000  0.00000000  0.00000000  0.00000000  0.00000005  0.00000002\n  0.00000001  0.00000000  0.00000000  0.00000000  0.00000000  0.00000000\n  0.00000003  0.00031775  0.00000000  0.00031811  0.00000000  0.00011565\n  0.00000000  0.00011578  0.00000010  0.00104042  0.00000000  0.00104157\n  0.00000000  0.00038144  0.00000000  0.00038189  0.00000000  0.00000002\n  0.00000000  0.00000000  0.00000000  0.00000000  0.00000000  0.00000000\n  0.00000001  0.00000007  0.00000001  0.00000000  0.00000000  0.00000000\n  0.00000000  0.00000000]\nsum29 =  0.00372641322756\np30 =  [ 0.00000105  0.00000092  0.00000058  0.00000058  0.00000343  0.00000302\n  0.00000191  0.00000190  0.00000002  0.00000001  0.00000000  0.00000000\n  0.00000000  0.00000000  0.00000000  0.00000000  0.00000005  0.00000002\n  0.00000001  0.00000000  0.00000000  0.00000000  0.00000000  0.00000000\n  0.00000003  0.00031699  0.00000000  0.00031734  0.00000000  0.00011540\n  0.00000000  0.00011552  0.00000010  0.00103797  0.00000000  0.00103911\n  0.00000000  0.00038055  0.00000000  0.00038099  0.00000000  0.00000002\n  0.00000000  0.00000000  0.00000000  0.00000000  0.00000000  0.00000000\n  0.00000001  0.00000007  0.00000001  0.00000000  0.00000000  0.00000000\n  0.00000000  0.00000000]\nsum30 =  0.00371762725313\np31 =  [ 0.00000104  0.00000092  0.00000058  0.00000058  0.00000342  0.00000301\n  0.00000191  0.00000190  0.00000002  0.00000001  0.00000000  0.00000000\n  0.00000000  0.00000000  0.00000000  0.00000000  0.00000005  0.00000002\n  0.00000001  0.00000000  0.00000000  0.00000000  0.00000000  0.00000000\n  0.00000003  0.00031622  0.00000000  0.00031658  0.00000000  0.00011514\n  0.00000000  0.00011527  0.00000010  0.00103551  0.00000000  0.00103665\n  0.00000000  0.00037966  0.00000000  0.00038010  0.00000000  0.00000002\n  0.00000000  0.00000000  0.00000000  0.00000000  0.00000000  0.00000000\n  0.00000001  0.00000007  0.00000001  0.00000000  0.00000000  0.00000000\n  0.00000000  0.00000000]\nsum31 =  0.00370886199116\np32 =  [ 0.00000104  0.00000092  0.00000058  0.00000058  0.00000341  0.00000301\n  0.00000190  0.00000189  0.00000002  0.00000001  0.00000000  0.00000000\n  0.00000000  0.00000000  0.00000000  0.00000000  0.00000005  0.00000002\n  0.00000001  0.00000000  0.00000000  0.00000000  0.00000000  0.00000000\n  0.00000003  0.00031546  0.00000000  0.00031581  0.00000000  0.00011489\n  0.00000000  0.00011501  0.00000010  0.00103307  0.00000000  0.00103420\n  0.00000000  0.00037877  0.00000000  0.00037921  0.00000000  0.00000002\n  0.00000000  0.00000000  0.00000000  0.00000000  0.00000000  0.00000000\n  0.00000001  0.00000007  0.00000001  0.00000000  0.00000000  0.00000000\n  0.00000000  0.00000000]\nsum32 =  0.00370011739328\np33 =  [ 0.00000104  0.00000092  0.00000058  0.00000058  0.00000341  0.00000300\n  0.00000190  0.00000189  0.00000002  0.00000001  0.00000000  0.00000000\n  0.00000000  0.00000000  0.00000000  0.00000000  0.00000005  0.00000002\n  0.00000001  0.00000000  0.00000000  0.00000000  0.00000000  0.00000000\n  0.00000003  0.00031470  0.00000000  0.00031505  0.00000000  0.00011463\n  0.00000000  0.00011476  0.00000010  0.00103063  0.00000000  0.00103176\n  0.00000000  0.00037788  0.00000000  0.00037832  0.00000000  0.00000002\n  0.00000000  0.00000000  0.00000000  0.00000000  0.00000000  0.00000000\n  0.00000001  0.00000007  0.00000001  0.00000000  0.00000000  0.00000000\n  0.00000000  0.00000000]\nsum33 =  0.00369139341123\np34 =  [ 0.00000104  0.00000091  0.00000058  0.00000057  0.00000340  0.00000299\n  0.00000189  0.00000189  0.00000002  0.00000001  0.00000000  0.00000000\n  0.00000000  0.00000000  0.00000000  0.00000000  0.00000005  0.00000002\n  0.00000001  0.00000000  0.00000000  0.00000000  0.00000000  0.00000000\n  0.00000003  0.00031394  0.00000000  0.00031429  0.00000000  0.00011438\n  0.00000000  0.00011451  0.00000010  0.00102819  0.00000000  0.00102932\n  0.00000000  0.00037699  0.00000000  0.00037743  0.00000000  0.00000002\n  0.00000000  0.00000000  0.00000000  0.00000000  0.00000000  0.00000000\n  0.00000001  0.00000007  0.00000001  0.00000000  0.00000000  0.00000000\n  0.00000000  0.00000000]\nsum34 =  0.00368268999672\np35 =  [ 0.00000103  0.00000091  0.00000058  0.00000057  0.00000339  0.00000299\n  0.00000189  0.00000188  0.00000002  0.00000001  0.00000000  0.00000000\n  0.00000000  0.00000000  0.00000000  0.00000000  0.00000005  0.00000002\n  0.00000001  0.00000000  0.00000000  0.00000000  0.00000000  0.00000000\n  0.00000003  0.00031319  0.00000000  0.00031354  0.00000000  0.00011413\n  0.00000000  0.00011425  0.00000010  0.00102576  0.00000000  0.00102689\n  0.00000000  0.00037611  0.00000000  0.00037655  0.00000000  0.00000002\n  0.00000000  0.00000000  0.00000000  0.00000000  0.00000000  0.00000000\n  0.00000001  0.00000007  0.00000001  0.00000000  0.00000000  0.00000000\n  0.00000000  0.00000000]\nsum35 =  0.00367400710152\np36 =  [ 0.00000103  0.00000091  0.00000057  0.00000057  0.00000338  0.00000298\n  0.00000188  0.00000188  0.00000002  0.00000001  0.00000000  0.00000000\n  0.00000000  0.00000000  0.00000000  0.00000000  0.00000005  0.00000002\n  0.00000001  0.00000000  0.00000000  0.00000000  0.00000000  0.00000000\n  0.00000003  0.00031243  0.00000000  0.00031278  0.00000000  0.00011387\n  0.00000000  0.00011400  0.00000010  0.00102334  0.00000000  0.00102447\n  0.00000000  0.00037522  0.00000000  0.00037566  0.00000000  0.00000002\n  0.00000000  0.00000000  0.00000000  0.00000000  0.00000000  0.00000000\n  0.00000001  0.00000007  0.00000001  0.00000000  0.00000000  0.00000000\n  0.00000000  0.00000000]\nsum36 =  0.00366534467746\np37 =  [ 0.00000103  0.00000091  0.00000057  0.00000057  0.00000337  0.00000297\n  0.00000188  0.00000187  0.00000002  0.00000001  0.00000000  0.00000000\n  0.00000000  0.00000000  0.00000000  0.00000000  0.00000005  0.00000002\n  0.00000001  0.00000000  0.00000000  0.00000000  0.00000000  0.00000000\n  0.00000003  0.00031168  0.00000000  0.00031203  0.00000000  0.00011362\n  0.00000000  0.00011374  0.00000010  0.00102093  0.00000000  0.00102205\n  0.00000000  0.00037434  0.00000000  0.00037478  0.00000000  0.00000002\n  0.00000000  0.00000000  0.00000000  0.00000000  0.00000000  0.00000000\n  0.00000001  0.00000006  0.00000001  0.00000000  0.00000000  0.00000000\n  0.00000000  0.00000000]\nsum37 =  0.0036567026764\np38 =  [ 0.00000103  0.00000090  0.00000057  0.00000057  0.00000337  0.00000297\n  0.00000188  0.00000187  0.00000002  0.00000001  0.00000000  0.00000000\n  0.00000000  0.00000000  0.00000000  0.00000000  0.00000005  0.00000002\n  0.00000001  0.00000000  0.00000000  0.00000000  0.00000000  0.00000000\n  0.00000003  0.00031093  0.00000000  0.00031128  0.00000000  0.00011336\n  0.00000000  0.00011349  0.00000010  0.00101851  0.00000000  0.00101963\n  0.00000000  0.00037346  0.00000000  0.00037390  0.00000000  0.00000002\n  0.00000000  0.00000000  0.00000000  0.00000000  0.00000000  0.00000000\n  0.00000001  0.00000006  0.00000001  0.00000000  0.00000000  0.00000000\n  0.00000000  0.00000000]\nsum38 =  0.0036480810503\np39 =  [ 0.00000102  0.00000090  0.00000057  0.00000057  0.00000336  0.00000296\n  0.00000187  0.00000186  0.00000002  0.00000001  0.00000000  0.00000000\n  0.00000000  0.00000000  0.00000000  0.00000000  0.00000005  0.00000002\n  0.00000001  0.00000000  0.00000000  0.00000000  0.00000000  0.00000000\n  0.00000003  0.00031019  0.00000000  0.00031053  0.00000000  0.00011311\n  0.00000000  0.00011324  0.00000010  0.00101611  0.00000000  0.00101722\n  0.00000000  0.00037259  0.00000000  0.00037302  0.00000000  0.00000002\n  0.00000000  0.00000000  0.00000000  0.00000000  0.00000000  0.00000000\n  0.00000001  0.00000006  0.00000001  0.00000000  0.00000000  0.00000000\n  0.00000000  0.00000000]\nsum39 =  0.0036394797512\np40 =  [ 0.00000102  0.00000090  0.00000057  0.00000057  0.00000335  0.00000295\n  0.00000187  0.00000186  0.00000002  0.00000001  0.00000000  0.00000000\n  0.00000000  0.00000000  0.00000000  0.00000000  0.00000005  0.00000002\n  0.00000001  0.00000000  0.00000000  0.00000000  0.00000000  0.00000000\n  0.00000003  0.00030944  0.00000000  0.00030979  0.00000000  0.00011286\n  0.00000000  0.00011298  0.00000009  0.00101371  0.00000000  0.00101482\n  0.00000000  0.00037171  0.00000000  0.00037215  0.00000000  0.00000002\n  0.00000000  0.00000000  0.00000000  0.00000000  0.00000000  0.00000000\n  0.00000001  0.00000006  0.00000001  0.00000000  0.00000000  0.00000000\n  0.00000000  0.00000000]\nsum40 =  0.00363089873124\np41 =  [ 0.00000102  0.00000090  0.00000057  0.00000057  0.00000334  0.00000294\n  0.00000186  0.00000185  0.00000002  0.00000001  0.00000000  0.00000000\n  0.00000000  0.00000000  0.00000000  0.00000000  0.00000005  0.00000002\n  0.00000001  0.00000000  0.00000000  0.00000000  0.00000000  0.00000000\n  0.00000003  0.00030870  0.00000000  0.00030904  0.00000000  0.00011260\n  0.00000000  0.00011273  0.00000009  0.00101132  0.00000000  0.00101243\n  0.00000000  0.00037084  0.00000000  0.00037127  0.00000000  0.00000002\n  0.00000000  0.00000000  0.00000000  0.00000000  0.00000000  0.00000000\n  0.00000001  0.00000006  0.00000001  0.00000000  0.00000000  0.00000000\n  0.00000000  0.00000000]\nsum41 =  0.00362233794264\np42 =  [ 0.00000102  0.00000090  0.00000057  0.00000056  0.00000333  0.00000294\n  0.00000186  0.00000185  0.00000001  0.00000001  0.00000000  0.00000000\n  0.00000000  0.00000000  0.00000000  0.00000000  0.00000005  0.00000002\n  0.00000001  0.00000000  0.00000000  0.00000000  0.00000000  0.00000000\n  0.00000003  0.00030796  0.00000000  0.00030830  0.00000000  0.00011235\n  0.00000000  0.00011248  0.00000009  0.00100893  0.00000000  0.00101004\n  0.00000000  0.00036997  0.00000000  0.00037040  0.00000000  0.00000002\n  0.00000000  0.00000000  0.00000000  0.00000000  0.00000000  0.00000000\n  0.00000001  0.00000006  0.00000001  0.00000000  0.00000000  0.00000000\n  0.00000000  0.00000000]\nsum42 =  0.00361379733775\np43 =  [ 0.00000101  0.00000089  0.00000057  0.00000056  0.00000333  0.00000293\n  0.00000185  0.00000185  0.00000001  0.00000001  0.00000000  0.00000000\n  0.00000000  0.00000000  0.00000000  0.00000000  0.00000005  0.00000002\n  0.00000001  0.00000000  0.00000000  0.00000000  0.00000000  0.00000000\n  0.00000003  0.00030722  0.00000000  0.00030756  0.00000000  0.00011210\n  0.00000000  0.00011222  0.00000009  0.00100655  0.00000000  0.00100765\n  0.00000000  0.00036910  0.00000000  0.00036953  0.00000000  0.00000002\n  0.00000000  0.00000000  0.00000000  0.00000000  0.00000000  0.00000000\n  0.00000001  0.00000006  0.00000001  0.00000000  0.00000000  0.00000000\n  0.00000000  0.00000000]\nsum43 =  0.003605276869\np44 =  [ 0.00000101  0.00000089  0.00000056  0.00000056  0.00000332  0.00000292\n  0.00000185  0.00000184  0.00000001  0.00000001  0.00000000  0.00000000\n  0.00000000  0.00000000  0.00000000  0.00000000  0.00000005  0.00000002\n  0.00000001  0.00000000  0.00000000  0.00000000  0.00000000  0.00000000\n  0.00000003  0.00030648  0.00000000  0.00030682  0.00000000  0.00011185\n  0.00000000  0.00011197  0.00000009  0.00100417  0.00000000  0.00100527\n  0.00000000  0.00036823  0.00000000  0.00036866  0.00000000  0.00000002\n  0.00000000  0.00000000  0.00000000  0.00000000  0.00000000  0.00000000\n  0.00000001  0.00000006  0.00000001  0.00000000  0.00000000  0.00000000\n  0.00000000  0.00000000]\nsum44 =  0.00359677648895\np45 =  [ 0.00000101  0.00000089  0.00000056  0.00000056  0.00000331  0.00000292\n  0.00000185  0.00000184  0.00000001  0.00000001  0.00000000  0.00000000\n  0.00000000  0.00000000  0.00000000  0.00000000  0.00000005  0.00000002\n  0.00000001  0.00000000  0.00000000  0.00000000  0.00000000  0.00000000\n  0.00000003  0.00030575  0.00000000  0.00030609  0.00000000  0.00011159\n  0.00000000  0.00011172  0.00000009  0.00100180  0.00000000  0.00100290\n  0.00000000  0.00036737  0.00000000  0.00036780  0.00000000  0.00000002\n  0.00000000  0.00000000  0.00000000  0.00000000  0.00000000  0.00000000\n  0.00000001  0.00000006  0.00000001  0.00000000  0.00000000  0.00000000\n  0.00000000  0.00000000]\nsum45 =  0.00358829615025\np46 =  [ 0.00000101  0.00000089  0.00000056  0.00000056  0.00000330  0.00000291\n  0.00000184  0.00000183  0.00000001  0.00000001  0.00000000  0.00000000\n  0.00000000  0.00000000  0.00000000  0.00000000  0.00000005  0.00000002\n  0.00000001  0.00000000  0.00000000  0.00000000  0.00000000  0.00000000\n  0.00000003  0.00030502  0.00000000  0.00030536  0.00000000  0.00011134\n  0.00000000  0.00011147  0.00000009  0.00099943  0.00000000  0.00100053\n  0.00000000  0.00036650  0.00000000  0.00036693  0.00000000  0.00000002\n  0.00000000  0.00000000  0.00000000  0.00000000  0.00000000  0.00000000\n  0.00000001  0.00000006  0.00000001  0.00000000  0.00000000  0.00000000\n  0.00000000  0.00000000]\nsum46 =  0.00357983580568\np47 =  [ 0.00000101  0.00000089  0.00000056  0.00000056  0.00000330  0.00000290\n  0.00000184  0.00000183  0.00000001  0.00000001  0.00000000  0.00000000\n  0.00000000  0.00000000  0.00000000  0.00000000  0.00000005  0.00000002\n  0.00000001  0.00000000  0.00000000  0.00000000  0.00000000  0.00000000\n  0.00000003  0.00030429  0.00000000  0.00030463  0.00000000  0.00011109\n  0.00000000  0.00011122  0.00000009  0.00099708  0.00000000  0.00099817\n  0.00000000  0.00036564  0.00000000  0.00036607  0.00000000  0.00000002\n  0.00000000  0.00000000  0.00000000  0.00000000  0.00000000  0.00000000\n  0.00000001  0.00000006  0.00000001  0.00000000  0.00000000  0.00000000\n  0.00000000  0.00000000]\nsum47 =  0.00357139540809\np48 =  [ 0.00000100  0.00000088  0.00000056  0.00000056  0.00000329  0.00000290\n  0.00000183  0.00000182  0.00000001  0.00000001  0.00000000  0.00000000\n  0.00000000  0.00000000  0.00000000  0.00000000  0.00000005  0.00000002\n  0.00000001  0.00000000  0.00000000  0.00000000  0.00000000  0.00000000\n  0.00000003  0.00030356  0.00000000  0.00030390  0.00000000  0.00011084\n  0.00000000  0.00011096  0.00000009  0.00099472  0.00000000  0.00099581\n  0.00000000  0.00036478  0.00000000  0.00036521  0.00000000  0.00000002\n  0.00000000  0.00000000  0.00000000  0.00000000  0.00000000  0.00000000\n  0.00000001  0.00000006  0.00000001  0.00000000  0.00000000  0.00000000\n  0.00000000  0.00000000]\nsum48 =  0.00356297491049\np49 =  [ 0.00000100  0.00000088  0.00000056  0.00000056  0.00000328  0.00000289\n  0.00000183  0.00000182  0.00000001  0.00000001  0.00000000  0.00000000\n  0.00000000  0.00000000  0.00000000  0.00000000  0.00000005  0.00000002\n  0.00000001  0.00000000  0.00000000  0.00000000  0.00000000  0.00000000\n  0.00000003  0.00030283  0.00000000  0.00030317  0.00000000  0.00011059\n  0.00000000  0.00011071  0.00000009  0.00099237  0.00000000  0.00099346\n  0.00000000  0.00036393  0.00000000  0.00036435  0.00000000  0.00000002\n  0.00000000  0.00000000  0.00000000  0.00000000  0.00000000  0.00000000\n  0.00000001  0.00000006  0.00000001  0.00000000  0.00000000  0.00000000\n  0.00000000  0.00000000]\nsum49 =  0.00355457426597\np50 =  [ 0.00000100  0.00000088  0.00000056  0.00000055  0.00000327  0.00000288\n  0.00000182  0.00000182  0.00000001  0.00000001  0.00000000  0.00000000\n  0.00000000  0.00000000  0.00000000  0.00000000  0.00000005  0.00000002\n  0.00000001  0.00000000  0.00000000  0.00000000  0.00000000  0.00000000\n  0.00000003  0.00030211  0.00000000  0.00030245  0.00000000  0.00011034\n  0.00000000  0.00011046  0.00000009  0.00099003  0.00000000  0.00099112\n  0.00000000  0.00036307  0.00000000  0.00036350  0.00000000  0.00000002\n  0.00000000  0.00000000  0.00000000  0.00000000  0.00000000  0.00000000\n  0.00000001  0.00000006  0.00000001  0.00000000  0.00000000  0.00000000\n  0.00000000  0.00000000]\nsum50 =  0.00354619342774\np51 =  [ 0.00000100  0.00000088  0.00000055  0.00000055  0.00000326  0.00000288\n  0.00000182  0.00000181  0.00000001  0.00000001  0.00000000  0.00000000\n  0.00000000  0.00000000  0.00000000  0.00000000  0.00000005  0.00000002\n  0.00000001  0.00000000  0.00000000  0.00000000  0.00000000  0.00000000\n  0.00000003  0.00030139  0.00000000  0.00030172  0.00000000  0.00011009\n  0.00000000  0.00011021  0.00000009  0.00098769  0.00000000  0.00098878\n  0.00000000  0.00036222  0.00000000  0.00036264  0.00000000  0.00000002\n  0.00000000  0.00000000  0.00000000  0.00000000  0.00000000  0.00000000\n  0.00000001  0.00000006  0.00000001  0.00000000  0.00000000  0.00000000\n  0.00000000  0.00000000]\nsum51 =  0.00353783234911\np52 =  [ 0.00000099  0.00000088  0.00000055  0.00000055  0.00000326  0.00000287\n  0.00000181  0.00000181  0.00000001  0.00000001  0.00000000  0.00000000\n  0.00000000  0.00000000  0.00000000  0.00000000  0.00000005  0.00000002\n  0.00000001  0.00000000  0.00000000  0.00000000  0.00000000  0.00000000\n  0.00000003  0.00030067  0.00000000  0.00030100  0.00000000  0.00010984\n  0.00000000  0.00010996  0.00000009  0.00098536  0.00000000  0.00098644\n  0.00000000  0.00036137  0.00000000  0.00036179  0.00000000  0.00000002\n  0.00000000  0.00000000  0.00000000  0.00000000  0.00000000  0.00000000\n  0.00000001  0.00000006  0.00000001  0.00000000  0.00000000  0.00000000\n  0.00000000  0.00000000]\nsum52 =  0.0035294909835\np53 =  [ 0.00000099  0.00000087  0.00000055  0.00000055  0.00000325  0.00000286\n  0.00000181  0.00000180  0.00000001  0.00000001  0.00000000  0.00000000\n  0.00000000  0.00000000  0.00000000  0.00000000  0.00000005  0.00000002\n  0.00000001  0.00000000  0.00000000  0.00000000  0.00000000  0.00000000\n  0.00000003  0.00029995  0.00000000  0.00030028  0.00000000  0.00010959\n  0.00000000  0.00010971  0.00000009  0.00098304  0.00000000  0.00098412\n  0.00000000  0.00036052  0.00000000  0.00036094  0.00000000  0.00000002\n  0.00000000  0.00000000  0.00000000  0.00000000  0.00000000  0.00000000\n  0.00000001  0.00000006  0.00000001  0.00000000  0.00000000  0.00000000\n  0.00000000  0.00000000]\nsum53 =  0.00352116928445\np54 =  [ 0.00000099  0.00000087  0.00000055  0.00000055  0.00000324  0.00000286\n  0.00000181  0.00000180  0.00000001  0.00000001  0.00000000  0.00000000\n  0.00000000  0.00000000  0.00000000  0.00000000  0.00000005  0.00000002\n  0.00000001  0.00000000  0.00000000  0.00000000  0.00000000  0.00000000\n  0.00000003  0.00029923  0.00000000  0.00029957  0.00000000  0.00010934\n  0.00000000  0.00010946  0.00000009  0.00098072  0.00000000  0.00098179\n  0.00000000  0.00035967  0.00000000  0.00036009  0.00000000  0.00000002\n  0.00000000  0.00000000  0.00000000  0.00000000  0.00000000  0.00000000\n  0.00000001  0.00000006  0.00000001  0.00000000  0.00000000  0.00000000\n  0.00000000  0.00000000]\nsum54 =  0.00351286720561\np55 =  [ 0.00000099  0.00000087  0.00000055  0.00000055  0.00000323  0.00000285\n  0.00000180  0.00000179  0.00000001  0.00000001  0.00000000  0.00000000\n  0.00000000  0.00000000  0.00000000  0.00000000  0.00000005  0.00000002\n  0.00000001  0.00000000  0.00000000  0.00000000  0.00000000  0.00000000\n  0.00000003  0.00029852  0.00000000  0.00029885  0.00000000  0.00010909\n  0.00000000  0.00010921  0.00000009  0.00097840  0.00000000  0.00097948\n  0.00000000  0.00035882  0.00000000  0.00035924  0.00000000  0.00000002\n  0.00000000  0.00000000  0.00000000  0.00000000  0.00000000  0.00000000\n  0.00000001  0.00000006  0.00000001  0.00000000  0.00000000  0.00000000\n  0.00000000  0.00000000]\nsum55 =  0.00350458470072\np56 =  [ 0.00000098  0.00000087  0.00000055  0.00000055  0.00000323  0.00000284\n  0.00000180  0.00000179  0.00000001  0.00000001  0.00000000  0.00000000\n  0.00000000  0.00000000  0.00000000  0.00000000  0.00000005  0.00000002\n  0.00000001  0.00000000  0.00000000  0.00000000  0.00000000  0.00000000\n  0.00000003  0.00029781  0.00000000  0.00029814  0.00000000  0.00010884\n  0.00000000  0.00010896  0.00000009  0.00097609  0.00000000  0.00097716\n  0.00000000  0.00035798  0.00000000  0.00035840  0.00000000  0.00000002\n  0.00000000  0.00000000  0.00000000  0.00000000  0.00000000  0.00000000\n  0.00000001  0.00000006  0.00000001  0.00000000  0.00000000  0.00000000\n  0.00000000  0.00000000]"
     ]
    },
    {
     "name": "stdout",
     "output_type": "stream",
     "text": [
      "\nsum56 =  0.00349632172365\np57 =  [ 0.00000098  0.00000087  0.00000055  0.00000054  0.00000322  0.00000284\n  0.00000179  0.00000179  0.00000001  0.00000001  0.00000000  0.00000000\n  0.00000000  0.00000000  0.00000000  0.00000000  0.00000005  0.00000002\n  0.00000001  0.00000000  0.00000000  0.00000000  0.00000000  0.00000000\n  0.00000003  0.00029710  0.00000000  0.00029743  0.00000000  0.00010859\n  0.00000000  0.00010871  0.00000009  0.00097379  0.00000000  0.00097486\n  0.00000000  0.00035714  0.00000000  0.00035756  0.00000000  0.00000002\n  0.00000000  0.00000000  0.00000000  0.00000000  0.00000000  0.00000000\n  0.00000001  0.00000006  0.00000001  0.00000000  0.00000000  0.00000000\n  0.00000000  0.00000000]\nsum57 =  0.00348807822836\np58 =  [ 0.00000098  0.00000086  0.00000055  0.00000054  0.00000321  0.00000283\n  0.00000179  0.00000178  0.00000001  0.00000001  0.00000000  0.00000000\n  0.00000000  0.00000000  0.00000000  0.00000000  0.00000005  0.00000002\n  0.00000001  0.00000000  0.00000000  0.00000000  0.00000000  0.00000000\n  0.00000003  0.00029639  0.00000000  0.00029672  0.00000000  0.00010834\n  0.00000000  0.00010847  0.00000009  0.00097149  0.00000000  0.00097256\n  0.00000000  0.00035630  0.00000000  0.00035672  0.00000000  0.00000002\n  0.00000000  0.00000000  0.00000000  0.00000000  0.00000000  0.00000000\n  0.00000001  0.00000006  0.00000001  0.00000000  0.00000000  0.00000000\n  0.00000000  0.00000000]\nsum58 =  0.00347985416894\np59 =  [ 0.00000098  0.00000086  0.00000054  0.00000054  0.00000320  0.00000282\n  0.00000179  0.00000178  0.00000001  0.00000001  0.00000000  0.00000000\n  0.00000000  0.00000000  0.00000000  0.00000000  0.00000005  0.00000002\n  0.00000001  0.00000000  0.00000000  0.00000000  0.00000000  0.00000000\n  0.00000003  0.00029568  0.00000000  0.00029601  0.00000000  0.00010809\n  0.00000000  0.00010822  0.00000009  0.00096920  0.00000000  0.00097026\n  0.00000000  0.00035546  0.00000000  0.00035588  0.00000000  0.00000002\n  0.00000000  0.00000000  0.00000000  0.00000000  0.00000000  0.00000000\n  0.00000001  0.00000006  0.00000001  0.00000000  0.00000000  0.00000000\n  0.00000000  0.00000000]\nsum59 =  0.00347164949957\np60 =  [ 0.00000097  0.00000086  0.00000054  0.00000054  0.00000320  0.00000282\n  0.00000178  0.00000177  0.00000001  0.00000001  0.00000000  0.00000000\n  0.00000000  0.00000000  0.00000000  0.00000000  0.00000005  0.00000002\n  0.00000001  0.00000000  0.00000000  0.00000000  0.00000000  0.00000000\n  0.00000003  0.00029498  0.00000000  0.00029530  0.00000000  0.00010785\n  0.00000000  0.00010797  0.00000009  0.00096691  0.00000000  0.00096797\n  0.00000000  0.00035462  0.00000000  0.00035504  0.00000000  0.00000002\n  0.00000000  0.00000000  0.00000000  0.00000000  0.00000000  0.00000000\n  0.00000001  0.00000006  0.00000001  0.00000000  0.00000000  0.00000000\n  0.00000000  0.00000000]\nsum60 =  0.00346346417454\np61 =  [ 0.00000097  0.00000086  0.00000054  0.00000054  0.00000319  0.00000281\n  0.00000178  0.00000177  0.00000001  0.00000001  0.00000000  0.00000000\n  0.00000000  0.00000000  0.00000000  0.00000000  0.00000005  0.00000002\n  0.00000001  0.00000000  0.00000000  0.00000000  0.00000000  0.00000000\n  0.00000003  0.00029427  0.00000000  0.00029460  0.00000000  0.00010760\n  0.00000000  0.00010772  0.00000009  0.00096463  0.00000000  0.00096569\n  0.00000000  0.00035379  0.00000000  0.00035420  0.00000000  0.00000002\n  0.00000000  0.00000000  0.00000000  0.00000000  0.00000000  0.00000000\n  0.00000001  0.00000006  0.00000001  0.00000000  0.00000000  0.00000000\n  0.00000000  0.00000000]\nsum61 =  0.00345529814826\np62 =  [ 0.00000097  0.00000085  0.00000054  0.00000054  0.00000318  0.00000280\n  0.00000177  0.00000177  0.00000001  0.00000001  0.00000000  0.00000000\n  0.00000000  0.00000000  0.00000000  0.00000000  0.00000005  0.00000002\n  0.00000001  0.00000000  0.00000000  0.00000000  0.00000000  0.00000000\n  0.00000003  0.00029357  0.00000000  0.00029390  0.00000000  0.00010735\n  0.00000000  0.00010748  0.00000009  0.00096235  0.00000000  0.00096341\n  0.00000000  0.00035296  0.00000000  0.00035337  0.00000000  0.00000002\n  0.00000000  0.00000000  0.00000000  0.00000000  0.00000000  0.00000000\n  0.00000001  0.00000006  0.00000001  0.00000000  0.00000000  0.00000000\n  0.00000000  0.00000000]\nsum62 =  0.00344715137522\np63 =  [ 0.00000097  0.00000085  0.00000054  0.00000054  0.00000317  0.00000280\n  0.00000177  0.00000176  0.00000001  0.00000001  0.00000000  0.00000000\n  0.00000000  0.00000000  0.00000000  0.00000000  0.00000005  0.00000002\n  0.00000001  0.00000000  0.00000000  0.00000000  0.00000000  0.00000000\n  0.00000003  0.00029287  0.00000000  0.00029320  0.00000000  0.00010711\n  0.00000000  0.00010723  0.00000009  0.00096008  0.00000000  0.00096114\n  0.00000000  0.00035213  0.00000000  0.00035254  0.00000000  0.00000002\n  0.00000000  0.00000000  0.00000000  0.00000000  0.00000000  0.00000000\n  0.00000001  0.00000006  0.00000001  0.00000000  0.00000000  0.00000000\n  0.00000000  0.00000000]\nsum63 =  0.00343902381006\np64 =  [ 0.00000097  0.00000085  0.00000054  0.00000054  0.00000317  0.00000279\n  0.00000176  0.00000176  0.00000001  0.00000001  0.00000000  0.00000000\n  0.00000000  0.00000000  0.00000000  0.00000000  0.00000005  0.00000002\n  0.00000001  0.00000000  0.00000000  0.00000000  0.00000000  0.00000000\n  0.00000003  0.00029218  0.00000000  0.00029250  0.00000000  0.00010686\n  0.00000000  0.00010698  0.00000009  0.00095782  0.00000000  0.00095887\n  0.00000000  0.00035130  0.00000000  0.00035171  0.00000000  0.00000002\n  0.00000000  0.00000000  0.00000000  0.00000000  0.00000000  0.00000000\n  0.00000001  0.00000006  0.00000001  0.00000000  0.00000000  0.00000000\n  0.00000000  0.00000000]\nsum64 =  0.00343091540747\np65 =  [ 0.00000096  0.00000085  0.00000054  0.00000053  0.00000316  0.00000278\n  0.00000176  0.00000175  0.00000001  0.00000001  0.00000000  0.00000000\n  0.00000000  0.00000000  0.00000000  0.00000000  0.00000005  0.00000002\n  0.00000001  0.00000000  0.00000000  0.00000000  0.00000000  0.00000000\n  0.00000003  0.00029148  0.00000000  0.00029180  0.00000000  0.00010661\n  0.00000000  0.00010674  0.00000009  0.00095556  0.00000000  0.00095661\n  0.00000000  0.00035047  0.00000000  0.00035088  0.00000000  0.00000002\n  0.00000000  0.00000000  0.00000000  0.00000000  0.00000000  0.00000000\n  0.00000001  0.00000006  0.00000001  0.00000000  0.00000000  0.00000000\n  0.00000000  0.00000000]\nsum65 =  0.00342282612231\np66 =  [ 0.00000096  0.00000085  0.00000054  0.00000053  0.00000315  0.00000278\n  0.00000176  0.00000175  0.00000001  0.00000001  0.00000000  0.00000000\n  0.00000000  0.00000000  0.00000000  0.00000000  0.00000005  0.00000002\n  0.00000001  0.00000000  0.00000000  0.00000000  0.00000000  0.00000000\n  0.00000003  0.00029079  0.00000000  0.00029111  0.00000000  0.00010637\n  0.00000000  0.00010649  0.00000009  0.00095330  0.00000000  0.00095435\n  0.00000000  0.00034965  0.00000000  0.00035006  0.00000000  0.00000002\n  0.00000000  0.00000000  0.00000000  0.00000000  0.00000000  0.00000000\n  0.00000001  0.00000006  0.00000001  0.00000000  0.00000000  0.00000000\n  0.00000000  0.00000000]\nsum66 =  0.00341475590949\np67 =  [ 0.00000096  0.00000084  0.00000053  0.00000053  0.00000314  0.00000277\n  0.00000175  0.00000174  0.00000001  0.00000001  0.00000000  0.00000000\n  0.00000000  0.00000000  0.00000000  0.00000000  0.00000005  0.00000002\n  0.00000001  0.00000000  0.00000000  0.00000000  0.00000000  0.00000000\n  0.00000003  0.00029010  0.00000000  0.00029042  0.00000000  0.00010612\n  0.00000000  0.00010625  0.00000009  0.00095105  0.00000000  0.00095210\n  0.00000000  0.00034882  0.00000000  0.00034923  0.00000000  0.00000002\n  0.00000000  0.00000000  0.00000000  0.00000000  0.00000000  0.00000000\n  0.00000001  0.00000006  0.00000001  0.00000000  0.00000000  0.00000000\n  0.00000000  0.00000000]\nsum67 =  0.00340670472407\np68 =  [ 0.00000096  0.00000084  0.00000053  0.00000053  0.00000314  0.00000276\n  0.00000175  0.00000174  0.00000001  0.00000001  0.00000000  0.00000000\n  0.00000000  0.00000000  0.00000000  0.00000000  0.00000005  0.00000002\n  0.00000001  0.00000000  0.00000000  0.00000000  0.00000000  0.00000000\n  0.00000003  0.00028941  0.00000000  0.00028973  0.00000000  0.00010588\n  0.00000000  0.00010600  0.00000009  0.00094881  0.00000000  0.00094985\n  0.00000000  0.00034800  0.00000000  0.00034841  0.00000000  0.00000002\n  0.00000000  0.00000000  0.00000000  0.00000000  0.00000000  0.00000000\n  0.00000001  0.00000006  0.00000001  0.00000000  0.00000000  0.00000000\n  0.00000000  0.00000000]\nsum68 =  0.00339867252118\np69 =  [ 0.00000095  0.00000084  0.00000053  0.00000053  0.00000313  0.00000276\n  0.00000174  0.00000174  0.00000001  0.00000001  0.00000000  0.00000000\n  0.00000000  0.00000000  0.00000000  0.00000000  0.00000005  0.00000002\n  0.00000001  0.00000000  0.00000000  0.00000000  0.00000000  0.00000000\n  0.00000003  0.00028872  0.00000000  0.00028904  0.00000000  0.00010564\n  0.00000000  0.00010576  0.00000009  0.00094657  0.00000000  0.00094761\n  0.00000000  0.00034718  0.00000000  0.00034759  0.00000000  0.00000002\n  0.00000000  0.00000000  0.00000000  0.00000000  0.00000000  0.00000000\n  0.00000001  0.00000006  0.00000001  0.00000000  0.00000000  0.00000000\n  0.00000000  0.00000000]\nsum69 =  0.00339065925608\np70 =  [ 0.00000095  0.00000084  0.00000053  0.00000053  0.00000312  0.00000275\n  0.00000174  0.00000173  0.00000001  0.00000001  0.00000000  0.00000000\n  0.00000000  0.00000000  0.00000000  0.00000000  0.00000005  0.00000002\n  0.00000001  0.00000000  0.00000000  0.00000000  0.00000000  0.00000000\n  0.00000003  0.00028803  0.00000000  0.00028835  0.00000000  0.00010539\n  0.00000000  0.00010551  0.00000009  0.00094434  0.00000000  0.00094537\n  0.00000000  0.00034637  0.00000000  0.00034677  0.00000000  0.00000002\n  0.00000000  0.00000000  0.00000000  0.00000000  0.00000000  0.00000000\n  0.00000001  0.00000006  0.00000001  0.00000000  0.00000000  0.00000000\n  0.00000000  0.00000000]\nsum70 =  0.00338266488412\np71 =  [ 0.00000095  0.00000084  0.00000053  0.00000053  0.00000311  0.00000274\n  0.00000174  0.00000173  0.00000001  0.00000001  0.00000000  0.00000000\n  0.00000000  0.00000000  0.00000000  0.00000000  0.00000005  0.00000002\n  0.00000001  0.00000000  0.00000000  0.00000000  0.00000000  0.00000000\n  0.00000003  0.00028735  0.00000000  0.00028767  0.00000000  0.00010515\n  0.00000000  0.00010527  0.00000009  0.00094211  0.00000000  0.00094314\n  0.00000000  0.00034555  0.00000000  0.00034596  0.00000000  0.00000002\n  0.00000000  0.00000000  0.00000000  0.00000000  0.00000000  0.00000000\n  0.00000001  0.00000006  0.00000001  0.00000000  0.00000000  0.00000000\n  0.00000000  0.00000000]\nsum71 =  0.00337468936077\np72 =  [ 0.00000095  0.00000083  0.00000053  0.00000053  0.00000311  0.00000274\n  0.00000173  0.00000172  0.00000001  0.00000001  0.00000000  0.00000000\n  0.00000000  0.00000000  0.00000000  0.00000000  0.00000005  0.00000002\n  0.00000001  0.00000000  0.00000000  0.00000000  0.00000000  0.00000000\n  0.00000003  0.00028667  0.00000000  0.00028698  0.00000000  0.00010491\n  0.00000000  0.00010503  0.00000009  0.00093989  0.00000000  0.00094092\n  0.00000000  0.00034474  0.00000000  0.00034514  0.00000000  0.00000002\n  0.00000000  0.00000000  0.00000000  0.00000000  0.00000000  0.00000000\n  0.00000001  0.00000006  0.00000001  0.00000000  0.00000000  0.00000000\n  0.00000000  0.00000000]\nsum72 =  0.00336673264159\np73 =  [ 0.00000095  0.00000083  0.00000053  0.00000052  0.00000310  0.00000273\n  0.00000173  0.00000172  0.00000001  0.00000001  0.00000000  0.00000000\n  0.00000000  0.00000000  0.00000000  0.00000000  0.00000005  0.00000002\n  0.00000001  0.00000000  0.00000000  0.00000000  0.00000000  0.00000000\n  0.00000003  0.00028598  0.00000000  0.00028630  0.00000000  0.00010466\n  0.00000000  0.00010479  0.00000009  0.00093767  0.00000000  0.00093870\n  0.00000000  0.00034393  0.00000000  0.00034433  0.00000000  0.00000002\n  0.00000000  0.00000000  0.00000000  0.00000000  0.00000000  0.00000000\n  0.00000001  0.00000006  0.00000001  0.00000000  0.00000000  0.00000000\n  0.00000000  0.00000000]\nsum73 =  0.00335879468226\np74 =  [ 0.00000094  0.00000083  0.00000053  0.00000052  0.00000309  0.00000272\n  0.00000172  0.00000172  0.00000001  0.00000001  0.00000000  0.00000000\n  0.00000000  0.00000000  0.00000000  0.00000000  0.00000005  0.00000002\n  0.00000001  0.00000000  0.00000000  0.00000000  0.00000000  0.00000000\n  0.00000003  0.00028531  0.00000000  0.00028562  0.00000000  0.00010442\n  0.00000000  0.00010454  0.00000009  0.00093546  0.00000000  0.00093648\n  0.00000000  0.00034312  0.00000000  0.00034352  0.00000000  0.00000002\n  0.00000000  0.00000000  0.00000000  0.00000000  0.00000000  0.00000000\n  0.00000001  0.00000006  0.00000001  0.00000000  0.00000000  0.00000000\n  0.00000000  0.00000000]\nsum74 =  0.00335087543855\np75 =  [ 0.00000094  0.00000083  0.00000052  0.00000052  0.00000308  0.00000272\n  0.00000172  0.00000171  0.00000001  0.00000001  0.00000000  0.00000000\n  0.00000000  0.00000000  0.00000000  0.00000000  0.00000005  0.00000002\n  0.00000001  0.00000000  0.00000000  0.00000000  0.00000000  0.00000000\n  0.00000003  0.00028463  0.00000000  0.00028494  0.00000000  0.00010418\n  0.00000000  0.00010430  0.00000009  0.00093325  0.00000000  0.00093427\n  0.00000000  0.00034231  0.00000000  0.00034271  0.00000000  0.00000002\n  0.00000000  0.00000000  0.00000000  0.00000000  0.00000000  0.00000000\n  0.00000001  0.00000006  0.00000001  0.00000000  0.00000000  0.00000000\n  0.00000000  0.00000000]\nsum75 =  0.00334297486633\np76 =  [ 0.00000094  0.00000083  0.00000052  0.00000052  0.00000308  0.00000271\n  0.00000171  0.00000171  0.00000001  0.00000001  0.00000000  0.00000000\n  0.00000000  0.00000000  0.00000000  0.00000000  0.00000005  0.00000002\n  0.00000001  0.00000000  0.00000000  0.00000000  0.00000000  0.00000000\n  0.00000003  0.00028395  0.00000000  0.00028427  0.00000000  0.00010394\n  0.00000000  0.00010406  0.00000009  0.00093105  0.00000000  0.00093207\n  0.00000000  0.00034150  0.00000000  0.00034191  0.00000000  0.00000002\n  0.00000000  0.00000000  0.00000000  0.00000000  0.00000000  0.00000000\n  0.00000001  0.00000006  0.00000001  0.00000000  0.00000000  0.00000000\n  0.00000000  0.00000000]\nsum76 =  0.0033350929216\np77 =  [ 0.00000094  0.00000083  0.00000052  0.00000052  0.00000307  0.00000270\n  0.00000171  0.00000170  0.00000001  0.00000001  0.00000000  0.00000000\n  0.00000000  0.00000000  0.00000000  0.00000000  0.00000005  0.00000002\n  0.00000001  0.00000000  0.00000000  0.00000000  0.00000000  0.00000000\n  0.00000003  0.00028328  0.00000000  0.00028359  0.00000000  0.00010370\n  0.00000000  0.00010382  0.00000009  0.00092885  0.00000000  0.00092987\n  0.00000000  0.00034070  0.00000000  0.00034110  0.00000000  0.00000002\n  0.00000000  0.00000000  0.00000000  0.00000000  0.00000000  0.00000000\n  0.00000001  0.00000006  0.00000001  0.00000000  0.00000000  0.00000000\n  0.00000000  0.00000000]\nsum77 =  0.00332722956044\np78 =  [ 0.00000093  0.00000082  0.00000052  0.00000052  0.00000306  0.00000270\n  0.00000171  0.00000170  0.00000001  0.00000001  0.00000000  0.00000000\n  0.00000000  0.00000000  0.00000000  0.00000000  0.00000005  0.00000002\n  0.00000001  0.00000000  0.00000000  0.00000000  0.00000000  0.00000000\n  0.00000003  0.00028261  0.00000000  0.00028292  0.00000000  0.00010346\n  0.00000000  0.00010358  0.00000009  0.00092666  0.00000000  0.00092768\n  0.00000000  0.00033990  0.00000000  0.00034030  0.00000000  0.00000002\n  0.00000000  0.00000000  0.00000000  0.00000000  0.00000000  0.00000000\n  0.00000001  0.00000006  0.00000001  0.00000000  0.00000000  0.00000000\n  0.00000000  0.00000000]\nsum78 =  0.00331938473904\np79 =  [ 0.00000093  0.00000082  0.00000052  0.00000052  0.00000306  0.00000269\n  0.00000170  0.00000170  0.00000001  0.00000001  0.00000000  0.00000000\n  0.00000000  0.00000000  0.00000000  0.00000000  0.00000005  0.00000002\n  0.00000001  0.00000000  0.00000000  0.00000000  0.00000000  0.00000000\n  0.00000003  0.00028194  0.00000000  0.00028225  0.00000000  0.00010322\n  0.00000000  0.00010334  0.00000009  0.00092448  0.00000000  0.00092549\n  0.00000000  0.00033910  0.00000000  0.00033950  0.00000000  0.00000002\n  0.00000000  0.00000000  0.00000000  0.00000000  0.00000000  0.00000000\n  0.00000001  0.00000006  0.00000001  0.00000000  0.00000000  0.00000000\n  0.00000000  0.00000000]\nsum79 =  0.00331155841369\np80 =  [ 0.00000093  0.00000082  0.00000052  0.00000052  0.00000305  0.00000269\n  0.00000170  0.00000169  0.00000001  0.00000001  0.00000000  0.00000000\n  0.00000000  0.00000000  0.00000000  0.00000000  0.00000004  0.00000002\n  0.00000001  0.00000000  0.00000000  0.00000000  0.00000000  0.00000000\n  0.00000003  0.00028127  0.00000000  0.00028158  0.00000000  0.00010298\n  0.00000000  0.00010310  0.00000009  0.00092229  0.00000000  0.00092331\n  0.00000000  0.00033830  0.00000000  0.00033870  0.00000000  0.00000002\n  0.00000000  0.00000000  0.00000000  0.00000000  0.00000000  0.00000000\n  0.00000001  0.00000006  0.00000001  0.00000000  0.00000000  0.00000000\n  0.00000000  0.00000000]\nsum80 =  0.0033037505408\np81 =  [ 0.00000093  0.00000082  0.00000052  0.00000051  0.00000304  0.00000268\n  0.00000169  0.00000169  0.00000001  0.00000001  0.00000000  0.00000000\n  0.00000000  0.00000000  0.00000000  0.00000000  0.00000004  0.00000002\n  0.00000001  0.00000000  0.00000000  0.00000000  0.00000000  0.00000000\n  0.00000003  0.00028060  0.00000000  0.00028091  0.00000000  0.00010274\n  0.00000000  0.00010286  0.00000009  0.00092012  0.00000000  0.00092113\n  0.00000000  0.00033750  0.00000000  0.00033790  0.00000000  0.00000002\n  0.00000000  0.00000000  0.00000000  0.00000000  0.00000000  0.00000000\n  0.00000001  0.00000006  0.00000001  0.00000000  0.00000000  0.00000000\n  0.00000000  0.00000000]\nsum81 =  0.00329596107685\np82 =  [ 0.00000093  0.00000082  0.00000052  0.00000051  0.00000303  0.00000267\n  0.00000169  0.00000168  0.00000001  0.00000001  0.00000000  0.00000000\n  0.00000000  0.00000000  0.00000000  0.00000000  0.00000004  0.00000002\n  0.00000001  0.00000000  0.00000000  0.00000000  0.00000000  0.00000000\n  0.00000003  0.00027993  0.00000000  0.00028024  0.00000000  0.00010250\n  0.00000000  0.00010262  0.00000009  0.00091795  0.00000000  0.00091896\n  0.00000000  0.00033671  0.00000000  0.00033710  0.00000000  0.00000002\n  0.00000000  0.00000000  0.00000000  0.00000000  0.00000000  0.00000000\n  0.00000001  0.00000006  0.00000001  0.00000000  0.00000000  0.00000000\n  0.00000000  0.00000000]\nsum82 =  0.00328818997845\np83 =  [ 0.00000092  0.00000081  0.00000051  0.00000051  0.00000303  0.00000267\n  0.00000169  0.00000168  0.00000001  0.00000001  0.00000000  0.00000000\n  0.00000000  0.00000000  0.00000000  0.00000000  0.00000004  0.00000002\n  0.00000001  0.00000000  0.00000000  0.00000000  0.00000000  0.00000000\n  0.00000003  0.00027927  0.00000000  0.00027958  0.00000000  0.00010227\n  0.00000000  0.00010238  0.00000009  0.00091578  0.00000000  0.00091679\n  0.00000000  0.00033592  0.00000000  0.00033631  0.00000000  0.00000002\n  0.00000000  0.00000000  0.00000000  0.00000000  0.00000000  0.00000000\n  0.00000001  0.00000006  0.00000001  0.00000000  0.00000000  0.00000000\n  0.00000000  0.00000000]\nsum83 =  0.00328043720231\np84 =  [ 0.00000092  0.00000081  0.00000051  0.00000051  0.00000302  0.00000266\n  0.00000168  0.00000168  0.00000001  0.00000001  0.00000000  0.00000000\n  0.00000000  0.00000000  0.00000000  0.00000000  0.00000004  0.00000002\n  0.00000001  0.00000000  0.00000000  0.00000000  0.00000000  0.00000000\n  0.00000003  0.00027861  0.00000000  0.00027892  0.00000000  0.00010203\n  0.00000000  0.00010215  0.00000009  0.00091362  0.00000000  0.00091462\n  0.00000000  0.00033512  0.00000000  0.00033552  0.00000000  0.00000002\n  0.00000000  0.00000000  0.00000000  0.00000000  0.00000000  0.00000000\n  0.00000001  0.00000006  0.00000001  0.00000000  0.00000000  0.00000000\n  0.00000000  0.00000000]\nsum84 =  0.00327270270523\np85 =  [ 0.00000092  0.00000081  0.00000051  0.00000051  0.00000301  0.00000265\n  0.00000168  0.00000167  0.00000001  0.00000001  0.00000000  0.00000000\n  0.00000000  0.00000000  0.00000000  0.00000000  0.00000004  0.00000002\n  0.00000001  0.00000000  0.00000000  0.00000000  0.00000000  0.00000000\n  0.00000003  0.00027795  0.00000000  0.00027825  0.00000000  0.00010179\n  0.00000000  0.00010191  0.00000009  0.00091147  0.00000000  0.00091247\n  0.00000000  0.00033434  0.00000000  0.00033473  0.00000000  0.00000002\n  0.00000000  0.00000000  0.00000000  0.00000000  0.00000000  0.00000000\n  0.00000001  0.00000006  0.00000001  0.00000000  0.00000000  0.00000000\n  0.00000000  0.00000000]\nsum85 =  0.00326498644411\np86 =  [ 0.00000092  0.00000081  0.00000051  0.00000051  0.00000301  0.00000265\n  0.00000167  0.00000167  0.00000001  0.00000001  0.00000000  0.00000000\n  0.00000000  0.00000000  0.00000000  0.00000000  0.00000004  0.00000002\n  0.00000001  0.00000000  0.00000000  0.00000000  0.00000000  0.00000000\n  0.00000003  0.00027729  0.00000000  0.00027759  0.00000000  0.00010155\n  0.00000000  0.00010167  0.00000009  0.00090932  0.00000000  0.00091032\n  0.00000000  0.00033355  0.00000000  0.00033394  0.00000000  0.00000002\n  0.00000000  0.00000000  0.00000000  0.00000000  0.00000000  0.00000000\n  0.00000001  0.00000006  0.00000001  0.00000000  0.00000000  0.00000000\n  0.00000000  0.00000000]\nsum86 =  0.00325728837597\np87 =  [ 0.00000091  0.00000081  0.00000051  0.00000051  0.00000300  0.00000264\n  0.00000167  0.00000166  0.00000001  0.00000001  0.00000000  0.00000000\n  0.00000000  0.00000000  0.00000000  0.00000000  0.00000004  0.00000002\n  0.00000001  0.00000000  0.00000000  0.00000000  0.00000000  0.00000000\n  0.00000003  0.00027663  0.00000000  0.00027694  0.00000000  0.00010132\n  0.00000000  0.00010144  0.00000008  0.00090717  0.00000000  0.00090817\n  0.00000000  0.00033276  0.00000000  0.00033315  0.00000000  0.00000002\n  0.00000000  0.00000000  0.00000000  0.00000000  0.00000000  0.00000000\n  0.00000001  0.00000006  0.00000001  0.00000000  0.00000000  0.00000000\n  0.00000000  0.00000000]\nsum87 =  0.00324960845792\np88 =  [ 0.00000091  0.00000080  0.00000051  0.00000051  0.00000299  0.00000264\n  0.00000167  0.00000166  0.00000001  0.00000001  0.00000000  0.00000000\n  0.00000000  0.00000000  0.00000000  0.00000000  0.00000004  0.00000002\n  0.00000001  0.00000000  0.00000000  0.00000000  0.00000000  0.00000000\n  0.00000003  0.00027598  0.00000000  0.00027628  0.00000000  0.00010108\n  0.00000000  0.00010120  0.00000008  0.00090503  0.00000000  0.00090603\n  0.00000000  0.00033198  0.00000000  0.00033237  0.00000000  0.00000002\n  0.00000000  0.00000000  0.00000000  0.00000000  0.00000000  0.00000000\n  0.00000001  0.00000006  0.00000001  0.00000000  0.00000000  0.00000000\n  0.00000000  0.00000000]\nsum88 =  0.00324194664716\np89 =  [ 0.00000091  0.00000080  0.00000051  0.00000051  0.00000298  0.00000263\n  0.00000166  0.00000166  0.00000001  0.00000001  0.00000000  0.00000000\n  0.00000000  0.00000000  0.00000000  0.00000000  0.00000004  0.00000002\n  0.00000001  0.00000000  0.00000000  0.00000000  0.00000000  0.00000000\n  0.00000003  0.00027532  0.00000000  0.00027563  0.00000000  0.00010085\n  0.00000000  0.00010097  0.00000008  0.00090290  0.00000000  0.00090389\n  0.00000000  0.00033120  0.00000000  0.00033159  0.00000000  0.00000002\n  0.00000000  0.00000000  0.00000000  0.00000000  0.00000000  0.00000000\n  0.00000001  0.00000006  0.00000001  0.00000000  0.00000000  0.00000000\n  0.00000000  0.00000000]\nsum89 =  0.00323430290101\np90 =  [ 0.00000091  0.00000080  0.00000051  0.00000050  0.00000298  0.00000262\n  0.00000166  0.00000165  0.00000001  0.00000001  0.00000000  0.00000000\n  0.00000000  0.00000000  0.00000000  0.00000000  0.00000004  0.00000002\n  0.00000001  0.00000000  0.00000000  0.00000000  0.00000000  0.00000000\n  0.00000003  0.00027467  0.00000000  0.00027497  0.00000000  0.00010061\n  0.00000000  0.00010073  0.00000008  0.00090077  0.00000000  0.00090176\n  0.00000000  0.00033042  0.00000000  0.00033080  0.00000000  0.00000002\n  0.00000000  0.00000000  0.00000000  0.00000000  0.00000000  0.00000000\n  0.00000001  0.00000006  0.00000001  0.00000000  0.00000000  0.00000000\n  0.00000000  0.00000000]\nsum90 =  0.00322667717688\np91 =  [ 0.00000091  0.00000080  0.00000051  0.00000050  0.00000297  0.00000262\n  0.00000166  0.00000165  0.00000001  0.00000001  0.00000000  0.00000000\n  0.00000000  0.00000000  0.00000000  0.00000000  0.00000004  0.00000002\n  0.00000001  0.00000000  0.00000000  0.00000000  0.00000000  0.00000000\n  0.00000003  0.00027402  0.00000000  0.00027432  0.00000000  0.00010038\n  0.00000000  0.00010050  0.00000008  0.00089864  0.00000000  0.00089963\n  0.00000000  0.00032964  0.00000000  0.00033003  0.00000000  0.00000002\n  0.00000000  0.00000000  0.00000000  0.00000000  0.00000000  0.00000000\n  0.00000001  0.00000006  0.00000001  0.00000000  0.00000000  0.00000000\n  0.00000000  0.00000000]\nsum91 =  0.00321906943228\np92 =  [ 0.00000090  0.00000080  0.00000050  0.00000050  0.00000296  0.00000261\n  0.00000165  0.00000164  0.00000001  0.00000001  0.00000000  0.00000000\n  0.00000000  0.00000000  0.00000000  0.00000000  0.00000004  0.00000002\n  0.00000001  0.00000000  0.00000000  0.00000000  0.00000000  0.00000000\n  0.00000003  0.00027337  0.00000000  0.00027367  0.00000000  0.00010015\n  0.00000000  0.00010026  0.00000008  0.00089653  0.00000000  0.00089751\n  0.00000000  0.00032886  0.00000000  0.00032925  0.00000000  0.00000002\n  0.00000000  0.00000000  0.00000000  0.00000000  0.00000000  0.00000000\n  0.00000001  0.00000006  0.00000001  0.00000000  0.00000000  0.00000000\n  0.00000000  0.00000000]\nsum92 =  0.00321147962483\np93 =  [ 0.00000090  0.00000079  0.00000050  0.00000050  0.00000296  0.00000260\n  0.00000165  0.00000164  0.00000001  0.00000001  0.00000000  0.00000000\n  0.00000000  0.00000000  0.00000000  0.00000000  0.00000004  0.00000002\n  0.00000001  0.00000000  0.00000000  0.00000000  0.00000000  0.00000000\n  0.00000003  0.00027272  0.00000000  0.00027302  0.00000000  0.00009991\n  0.00000000  0.00010003  0.00000008  0.00089441  0.00000000  0.00089539\n  0.00000000  0.00032809  0.00000000  0.00032847  0.00000000  0.00000002\n  0.00000000  0.00000000  0.00000000  0.00000000  0.00000000  0.00000000\n  0.00000001  0.00000006  0.00000001  0.00000000  0.00000000  0.00000000\n  0.00000000  0.00000000]\nsum93 =  0.00320390771224\np94 =  [ 0.00000090  0.00000079  0.00000050  0.00000050  0.00000295  0.00000260\n  0.00000164  0.00000164  0.00000001  0.00000001  0.00000000  0.00000000\n  0.00000000  0.00000000  0.00000000  0.00000000  0.00000004  0.00000002\n  0.00000001  0.00000000  0.00000000  0.00000000  0.00000000  0.00000000\n  0.00000003  0.00027208  0.00000000  0.00027238  0.00000000  0.00009968\n  0.00000000  0.00009979  0.00000008  0.00089230  0.00000000  0.00089328\n  0.00000000  0.00032731  0.00000000  0.00032770  0.00000000  0.00000002\n  0.00000000  0.00000000  0.00000000  0.00000000  0.00000000  0.00000000\n  0.00000001  0.00000006  0.00000001  0.00000000  0.00000000  0.00000000\n  0.00000000  0.00000000]\nsum94 =  0.00319635365231\np95 =  [ 0.00000090  0.00000079  0.00000050  0.00000050  0.00000294  0.00000259\n  0.00000164  0.00000163  0.00000001  0.00000001  0.00000000  0.00000000\n  0.00000000  0.00000000  0.00000000  0.00000000  0.00000004  0.00000002\n  0.00000001  0.00000000  0.00000000  0.00000000  0.00000000  0.00000000\n  0.00000003  0.00027143  0.00000000  0.00027173  0.00000000  0.00009945\n  0.00000000  0.00009956  0.00000008  0.00089020  0.00000000  0.00089117\n  0.00000000  0.00032654  0.00000000  0.00032693  0.00000000  0.00000002\n  0.00000000  0.00000000  0.00000000  0.00000000  0.00000000  0.00000000\n  0.00000001  0.00000006  0.00000001  0.00000000  0.00000000  0.00000000\n  0.00000000  0.00000000]\nsum95 =  0.00318881740297\np96 =  [ 0.00000090  0.00000079  0.00000050  0.00000050  0.00000294  0.00000259\n  0.00000164  0.00000163  0.00000001  0.00000001  0.00000000  0.00000000\n  0.00000000  0.00000000  0.00000000  0.00000000  0.00000004  0.00000002\n  0.00000001  0.00000000  0.00000000  0.00000000  0.00000000  0.00000000\n  0.00000003  0.00027079  0.00000000  0.00027109  0.00000000  0.00009921\n  0.00000000  0.00009933  0.00000008  0.00088810  0.00000000  0.00088907\n  0.00000000  0.00032577  0.00000000  0.00032616  0.00000000  0.00000002\n  0.00000000  0.00000000  0.00000000  0.00000000  0.00000000  0.00000000\n  0.00000001  0.00000006  0.00000001  0.00000000  0.00000000  0.00000000\n  0.00000000  0.00000000]\nsum96 =  0.00318129892222\np97 =  [ 0.00000089  0.00000079  0.00000050  0.00000050  0.00000293  0.00000258\n  0.00000163  0.00000163  0.00000001  0.00000001  0.00000000  0.00000000\n  0.00000000  0.00000000  0.00000000  0.00000000  0.00000004  0.00000002\n  0.00000001  0.00000000  0.00000000  0.00000000  0.00000000  0.00000000\n  0.00000003  0.00027015  0.00000000  0.00027045  0.00000000  0.00009898\n  0.00000000  0.00009910  0.00000008  0.00088600  0.00000000  0.00088697\n  0.00000000  0.00032501  0.00000000  0.00032539  0.00000000  0.00000002\n  0.00000000  0.00000000  0.00000000  0.00000000  0.00000000  0.00000000\n  0.00000001  0.00000006  0.00000001  0.00000000  0.00000000  0.00000000\n  0.00000000  0.00000000]\nsum97 =  0.00317379816817\np98 =  [ 0.00000089  0.00000079  0.00000050  0.00000049  0.00000292  0.00000257\n  0.00000163  0.00000162  0.00000001  0.00000001  0.00000000  0.00000000\n  0.00000000  0.00000000  0.00000000  0.00000000  0.00000004  0.00000002\n  0.00000001  0.00000000  0.00000000  0.00000000  0.00000000  0.00000000\n  0.00000003  0.00026951  0.00000000  0.00026981  0.00000000  0.00009875\n  0.00000000  0.00009887  0.00000008  0.00088391  0.00000000  0.00088488\n  0.00000000  0.00032424  0.00000000  0.00032462  0.00000000  0.00000002\n  0.00000000  0.00000000  0.00000000  0.00000000  0.00000000  0.00000000\n  0.00000001  0.00000006  0.00000001  0.00000000  0.00000000  0.00000000\n  0.00000000  0.00000000]\nsum98 =  0.00316631509902\np99 =  [ 0.00000089  0.00000078  0.00000050  0.00000049  0.00000291  0.00000257\n  0.00000162  0.00000162  0.00000001  0.00000001  0.00000000  0.00000000\n  0.00000000  0.00000000  0.00000000  0.00000000  0.00000004  0.00000002\n  0.00000001  0.00000000  0.00000000  0.00000000  0.00000000  0.00000000\n  0.00000003  0.00026887  0.00000000  0.00026917  0.00000000  0.00009852\n  0.00000000  0.00009864  0.00000008  0.00088183  0.00000000  0.00088279\n  0.00000000  0.00032348  0.00000000  0.00032386  0.00000000  0.00000002\n  0.00000000  0.00000000  0.00000000  0.00000000  0.00000000  0.00000000\n  0.00000001  0.00000006  0.00000001  0.00000000  0.00000000  0.00000000\n  0.00000000  0.00000000]\nsum99 =  0.00315884967309\np100 =  [ 0.00000089  0.00000078  0.00000049  0.00000049  0.00000291  0.00000256\n  0.00000162  0.00000161  0.00000001  0.00000001  0.00000000  0.00000000\n  0.00000000  0.00000000  0.00000000  0.00000000  0.00000004  0.00000002\n  0.00000001  0.00000000  0.00000000  0.00000000  0.00000000  0.00000000\n  0.00000003  0.00026824  0.00000000  0.00026853  0.00000000  0.00009829\n  0.00000000  0.00009841  0.00000008  0.00087975  0.00000000  0.00088071\n  0.00000000  0.00032272  0.00000000  0.00032309  0.00000000  0.00000002\n  0.00000000  0.00000000  0.00000000  0.00000000  0.00000000  0.00000000\n  0.00000001  0.00000006  0.00000001  0.00000000  0.00000000  0.00000000\n  0.00000000  0.00000000]\nsum100 =  0.00315140184878\np101 =  [ 0.00000088  0.00000078  0.00000049  0.00000049  0.00000290  0.00000256\n  0.00000162  0.00000161  0.00000001  0.00000001  0.00000000  0.00000000\n  0.00000000  0.00000000  0.00000000  0.00000000  0.00000004  0.00000002\n  0.00000001  0.00000000  0.00000000  0.00000000  0.00000000  0.00000000\n  0.00000003  0.00026760  0.00000000  0.00026790  0.00000000  0.00009806\n  0.00000000  0.00009818  0.00000008  0.00087767  0.00000000  0.00087864\n  0.00000000  0.00032195  0.00000000  0.00032233  0.00000000  0.00000002\n  0.00000000  0.00000000  0.00000000  0.00000000  0.00000000  0.00000000\n  0.00000001  0.00000006  0.00000001  0.00000000  0.00000000  0.00000000\n  0.00000000  0.00000000]\nsum101 =  0.0031439715846\np102 =  [ 0.00000088  0.00000078  0.00000049  0.00000049  0.00000289  0.00000255\n  0.00000161  0.00000161  0.00000001  0.00000001  0.00000000  0.00000000\n  0.00000000  0.00000000  0.00000000  0.00000000  0.00000004  0.00000002\n  0.00000001  0.00000000  0.00000000  0.00000000  0.00000000  0.00000000\n  0.00000003  0.00026697  0.00000000  0.00026726  0.00000000  0.00009783\n  0.00000000  0.00009795  0.00000008  0.00087560  0.00000000  0.00087656\n  0.00000000  0.00032120  0.00000000  0.00032157  0.00000000  0.00000002\n  0.00000000  0.00000000  0.00000000  0.00000000  0.00000000  0.00000000\n  0.00000001  0.00000006  0.00000001  0.00000000  0.00000000  0.00000000\n  0.00000000  0.00000000]"
     ]
    },
    {
     "name": "stdout",
     "output_type": "stream",
     "text": [
      "\nsum102 =  0.00313655883913\np103 =  [ 0.00000088  0.00000078  0.00000049  0.00000049  0.00000289  0.00000254\n  0.00000161  0.00000160  0.00000001  0.00000001  0.00000000  0.00000000\n  0.00000000  0.00000000  0.00000000  0.00000000  0.00000004  0.00000002\n  0.00000001  0.00000000  0.00000000  0.00000000  0.00000000  0.00000000\n  0.00000002  0.00026634  0.00000000  0.00026663  0.00000000  0.00009760\n  0.00000000  0.00009772  0.00000008  0.00087354  0.00000000  0.00087450\n  0.00000000  0.00032044  0.00000000  0.00032082  0.00000000  0.00000002\n  0.00000000  0.00000000  0.00000000  0.00000000  0.00000000  0.00000000\n  0.00000001  0.00000006  0.00000001  0.00000000  0.00000000  0.00000000\n  0.00000000  0.00000000]\nsum103 =  0.00312916357109\np104 =  [ 0.00000088  0.00000077  0.00000049  0.00000049  0.00000288  0.00000254\n  0.00000161  0.00000160  0.00000001  0.00000001  0.00000000  0.00000000\n  0.00000000  0.00000000  0.00000000  0.00000000  0.00000004  0.00000002\n  0.00000001  0.00000000  0.00000000  0.00000000  0.00000000  0.00000000\n  0.00000002  0.00026571  0.00000000  0.00026600  0.00000000  0.00009738\n  0.00000000  0.00009749  0.00000008  0.00087148  0.00000000  0.00087243\n  0.00000000  0.00031968  0.00000000  0.00032006  0.00000000  0.00000002\n  0.00000000  0.00000000  0.00000000  0.00000000  0.00000000  0.00000000\n  0.00000001  0.00000006  0.00000001  0.00000000  0.00000000  0.00000000\n  0.00000000  0.00000000]\nsum104 =  0.00312178573926\np105 =  [ 0.00000088  0.00000077  0.00000049  0.00000049  0.00000287  0.00000253\n  0.00000160  0.00000159  0.00000001  0.00000001  0.00000000  0.00000000\n  0.00000000  0.00000000  0.00000000  0.00000000  0.00000004  0.00000002\n  0.00000001  0.00000000  0.00000000  0.00000000  0.00000000  0.00000000\n  0.00000002  0.00026508  0.00000000  0.00026537  0.00000000  0.00009715\n  0.00000000  0.00009726  0.00000008  0.00086942  0.00000000  0.00087038\n  0.00000000  0.00031893  0.00000000  0.00031931  0.00000000  0.00000002\n  0.00000000  0.00000000  0.00000000  0.00000000  0.00000000  0.00000000\n  0.00000001  0.00000006  0.00000001  0.00000000  0.00000000  0.00000000\n  0.00000000  0.00000000]\nsum105 =  0.00311442530254\np106 =  [ 0.00000087  0.00000077  0.00000049  0.00000049  0.00000287  0.00000253\n  0.00000160  0.00000159  0.00000001  0.00000001  0.00000000  0.00000000\n  0.00000000  0.00000000  0.00000000  0.00000000  0.00000004  0.00000002\n  0.00000001  0.00000000  0.00000000  0.00000000  0.00000000  0.00000000\n  0.00000002  0.00026445  0.00000000  0.00026474  0.00000000  0.00009692\n  0.00000000  0.00009703  0.00000008  0.00086737  0.00000000  0.00086832\n  0.00000000  0.00031818  0.00000000  0.00031855  0.00000000  0.00000002\n  0.00000000  0.00000000  0.00000000  0.00000000  0.00000000  0.00000000\n  0.00000001  0.00000006  0.00000001  0.00000000  0.00000000  0.00000000\n  0.00000000  0.00000000]\nsum106 =  0.00310708221992\np107 =  [ 0.00000087  0.00000077  0.00000049  0.00000048  0.00000286  0.00000252\n  0.00000159  0.00000159  0.00000001  0.00000001  0.00000000  0.00000000\n  0.00000000  0.00000000  0.00000000  0.00000000  0.00000004  0.00000002\n  0.00000001  0.00000000  0.00000000  0.00000000  0.00000000  0.00000000\n  0.00000002  0.00026383  0.00000000  0.00026412  0.00000000  0.00009670\n  0.00000000  0.00009681  0.00000008  0.00086533  0.00000000  0.00086628\n  0.00000000  0.00031743  0.00000000  0.00031780  0.00000000  0.00000002\n  0.00000000  0.00000000  0.00000000  0.00000000  0.00000000  0.00000000\n  0.00000001  0.00000006  0.00000001  0.00000000  0.00000000  0.00000000\n  0.00000000  0.00000000]\nsum107 =  0.00309975645047\np108 =  [ 0.00000087  0.00000077  0.00000049  0.00000048  0.00000285  0.00000251\n  0.00000159  0.00000158  0.00000001  0.00000001  0.00000000  0.00000000\n  0.00000000  0.00000000  0.00000000  0.00000000  0.00000004  0.00000002\n  0.00000001  0.00000000  0.00000000  0.00000000  0.00000000  0.00000000\n  0.00000002  0.00026320  0.00000000  0.00026349  0.00000000  0.00009647\n  0.00000000  0.00009658  0.00000008  0.00086329  0.00000000  0.00086423\n  0.00000000  0.00031668  0.00000000  0.00031705  0.00000000  0.00000002\n  0.00000000  0.00000000  0.00000000  0.00000000  0.00000000  0.00000000\n  0.00000001  0.00000005  0.00000001  0.00000000  0.00000000  0.00000000\n  0.00000000  0.00000000]\nsum108 =  0.0030924479534\np109 =  [ 0.00000087  0.00000076  0.00000048  0.00000048  0.00000285  0.00000251\n  0.00000159  0.00000158  0.00000001  0.00000001  0.00000000  0.00000000\n  0.00000000  0.00000000  0.00000000  0.00000000  0.00000004  0.00000002\n  0.00000001  0.00000000  0.00000000  0.00000000  0.00000000  0.00000000\n  0.00000002  0.00026258  0.00000000  0.00026287  0.00000000  0.00009624\n  0.00000000  0.00009636  0.00000008  0.00086125  0.00000000  0.00086219\n  0.00000000  0.00031594  0.00000000  0.00031631  0.00000000  0.00000002\n  0.00000000  0.00000000  0.00000000  0.00000000  0.00000000  0.00000000\n  0.00000001  0.00000005  0.00000001  0.00000000  0.00000000  0.00000000\n  0.00000000  0.00000000]\nsum109 =  0.00308515668796\np110 =  [ 0.00000087  0.00000076  0.00000048  0.00000048  0.00000284  0.00000250\n  0.00000158  0.00000158  0.00000001  0.00000001  0.00000000  0.00000000\n  0.00000000  0.00000000  0.00000000  0.00000000  0.00000004  0.00000002\n  0.00000001  0.00000000  0.00000000  0.00000000  0.00000000  0.00000000\n  0.00000002  0.00026196  0.00000000  0.00026225  0.00000000  0.00009602\n  0.00000000  0.00009613  0.00000008  0.00085922  0.00000000  0.00086016\n  0.00000000  0.00031519  0.00000000  0.00031556  0.00000000  0.00000002\n  0.00000000  0.00000000  0.00000000  0.00000000  0.00000000  0.00000000\n  0.00000001  0.00000005  0.00000001  0.00000000  0.00000000  0.00000000\n  0.00000000  0.00000000]\nsum110 =  0.00307788261355\np111 =  [ 0.00000086  0.00000076  0.00000048  0.00000048  0.00000283  0.00000250\n  0.00000158  0.00000157  0.00000001  0.00000001  0.00000000  0.00000000\n  0.00000000  0.00000000  0.00000000  0.00000000  0.00000004  0.00000002\n  0.00000001  0.00000000  0.00000000  0.00000000  0.00000000  0.00000000\n  0.00000002  0.00026134  0.00000000  0.00026163  0.00000000  0.00009579\n  0.00000000  0.00009591  0.00000008  0.00085719  0.00000000  0.00085813\n  0.00000000  0.00031445  0.00000000  0.00031482  0.00000000  0.00000002\n  0.00000000  0.00000000  0.00000000  0.00000000  0.00000000  0.00000000\n  0.00000001  0.00000005  0.00000001  0.00000000  0.00000000  0.00000000\n  0.00000000  0.00000000]\nsum111 =  0.00307062568962\np112 =  [ 0.00000086  0.00000076  0.00000048  0.00000048  0.00000283  0.00000249\n  0.00000158  0.00000157  0.00000001  0.00000001  0.00000000  0.00000000\n  0.00000000  0.00000000  0.00000000  0.00000000  0.00000004  0.00000002\n  0.00000001  0.00000000  0.00000000  0.00000000  0.00000000  0.00000000\n  0.00000002  0.00026072  0.00000000  0.00026101  0.00000000  0.00009557\n  0.00000000  0.00009568  0.00000008  0.00085517  0.00000000  0.00085611\n  0.00000000  0.00031371  0.00000000  0.00031408  0.00000000  0.00000002\n  0.00000000  0.00000000  0.00000000  0.00000000  0.00000000  0.00000000\n  0.00000001  0.00000005  0.00000001  0.00000000  0.00000000  0.00000000\n  0.00000000  0.00000000]\nsum112 =  0.00306338587574\np113 =  [ 0.00000086  0.00000076  0.00000048  0.00000048  0.00000282  0.00000248\n  0.00000157  0.00000156  0.00000001  0.00000001  0.00000000  0.00000000\n  0.00000000  0.00000000  0.00000000  0.00000000  0.00000004  0.00000002\n  0.00000001  0.00000000  0.00000000  0.00000000  0.00000000  0.00000000\n  0.00000002  0.00026011  0.00000000  0.00026039  0.00000000  0.00009535\n  0.00000000  0.00009546  0.00000008  0.00085315  0.00000000  0.00085409\n  0.00000000  0.00031297  0.00000000  0.00031334  0.00000000  0.00000002\n  0.00000000  0.00000000  0.00000000  0.00000000  0.00000000  0.00000000\n  0.00000001  0.00000005  0.00000001  0.00000000  0.00000000  0.00000000\n  0.00000000  0.00000000]\nsum113 =  0.00305616313157\np114 =  [ 0.00000086  0.00000076  0.00000048  0.00000048  0.00000281  0.00000248\n  0.00000157  0.00000156  0.00000001  0.00000001  0.00000000  0.00000000\n  0.00000000  0.00000000  0.00000000  0.00000000  0.00000004  0.00000002\n  0.00000001  0.00000000  0.00000000  0.00000000  0.00000000  0.00000000\n  0.00000002  0.00025949  0.00000000  0.00025978  0.00000000  0.00009512\n  0.00000000  0.00009523  0.00000008  0.00085114  0.00000000  0.00085208\n  0.00000000  0.00031223  0.00000000  0.00031260  0.00000000  0.00000002\n  0.00000000  0.00000000  0.00000000  0.00000000  0.00000000  0.00000000\n  0.00000001  0.00000005  0.00000001  0.00000000  0.00000000  0.00000000\n  0.00000000  0.00000000]\nsum114 =  0.00304895741688\np115 =  [ 0.00000086  0.00000075  0.00000048  0.00000048  0.00000281  0.00000247\n  0.00000156  0.00000156  0.00000001  0.00000001  0.00000000  0.00000000\n  0.00000000  0.00000000  0.00000000  0.00000000  0.00000004  0.00000002\n  0.00000001  0.00000000  0.00000000  0.00000000  0.00000000  0.00000000\n  0.00000002  0.00025888  0.00000000  0.00025916  0.00000000  0.00009490\n  0.00000000  0.00009501  0.00000008  0.00084914  0.00000000  0.00085007\n  0.00000000  0.00031150  0.00000000  0.00031186  0.00000000  0.00000002\n  0.00000000  0.00000000  0.00000000  0.00000000  0.00000000  0.00000000\n  0.00000001  0.00000005  0.00000001  0.00000000  0.00000000  0.00000000\n  0.00000000  0.00000000]\nsum115 =  0.0030417686915\np116 =  [ 0.00000085  0.00000075  0.00000048  0.00000047  0.00000280  0.00000247\n  0.00000156  0.00000155  0.00000001  0.00000001  0.00000000  0.00000000\n  0.00000000  0.00000000  0.00000000  0.00000000  0.00000004  0.00000002\n  0.00000001  0.00000000  0.00000000  0.00000000  0.00000000  0.00000000\n  0.00000002  0.00025827  0.00000000  0.00025855  0.00000000  0.00009468\n  0.00000000  0.00009479  0.00000008  0.00084713  0.00000000  0.00084806\n  0.00000000  0.00031076  0.00000000  0.00031113  0.00000000  0.00000002\n  0.00000000  0.00000000  0.00000000  0.00000000  0.00000000  0.00000000\n  0.00000001  0.00000005  0.00000001  0.00000000  0.00000000  0.00000000\n  0.00000000  0.00000000]\nsum116 =  0.00303459691539\np117 =  [ 0.00000085  0.00000075  0.00000048  0.00000047  0.00000279  0.00000246\n  0.00000156  0.00000155  0.00000001  0.00000001  0.00000000  0.00000000\n  0.00000000  0.00000000  0.00000000  0.00000000  0.00000004  0.00000002\n  0.00000001  0.00000000  0.00000000  0.00000000  0.00000000  0.00000000\n  0.00000002  0.00025766  0.00000000  0.00025794  0.00000000  0.00009446\n  0.00000000  0.00009457  0.00000008  0.00084514  0.00000000  0.00084606\n  0.00000000  0.00031003  0.00000000  0.00031039  0.00000000  0.00000002\n  0.00000000  0.00000000  0.00000000  0.00000000  0.00000000  0.00000000\n  0.00000001  0.00000005  0.00000001  0.00000000  0.00000000  0.00000000\n  0.00000000  0.00000000]\nsum117 =  0.00302744204858\np118 =  [ 0.00000085  0.00000075  0.00000047  0.00000047  0.00000279  0.00000246\n  0.00000155  0.00000155  0.00000001  0.00000001  0.00000000  0.00000000\n  0.00000000  0.00000000  0.00000000  0.00000000  0.00000004  0.00000002\n  0.00000001  0.00000000  0.00000000  0.00000000  0.00000000  0.00000000\n  0.00000002  0.00025705  0.00000000  0.00025733  0.00000000  0.00009423\n  0.00000000  0.00009434  0.00000008  0.00084314  0.00000000  0.00084407\n  0.00000000  0.00030930  0.00000000  0.00030966  0.00000000  0.00000002\n  0.00000000  0.00000000  0.00000000  0.00000000  0.00000000  0.00000000\n  0.00000001  0.00000005  0.00000001  0.00000000  0.00000000  0.00000000\n  0.00000000  0.00000000]\nsum118 =  0.00302030405121\np119 =  [ 0.00000085  0.00000075  0.00000047  0.00000047  0.00000278  0.00000245\n  0.00000155  0.00000154  0.00000001  0.00000001  0.00000000  0.00000000\n  0.00000000  0.00000000  0.00000000  0.00000000  0.00000004  0.00000002\n  0.00000001  0.00000000  0.00000000  0.00000000  0.00000000  0.00000000\n  0.00000002  0.00025644  0.00000000  0.00025672  0.00000000  0.00009401\n  0.00000000  0.00009412  0.00000008  0.00084115  0.00000000  0.00084208\n  0.00000000  0.00030857  0.00000000  0.00030893  0.00000000  0.00000002\n  0.00000000  0.00000000  0.00000000  0.00000000  0.00000000  0.00000000\n  0.00000001  0.00000005  0.00000001  0.00000000  0.00000000  0.00000000\n  0.00000000  0.00000000]\nsum119 =  0.00301318288351\np120 =  [ 0.00000085  0.00000075  0.00000047  0.00000047  0.00000277  0.00000244\n  0.00000155  0.00000154  0.00000001  0.00000001  0.00000000  0.00000000\n  0.00000000  0.00000000  0.00000000  0.00000000  0.00000004  0.00000002\n  0.00000001  0.00000000  0.00000000  0.00000000  0.00000000  0.00000000\n  0.00000002  0.00025583  0.00000000  0.00025612  0.00000000  0.00009379\n  0.00000000  0.00009390  0.00000008  0.00083917  0.00000000  0.00084009\n  0.00000000  0.00030784  0.00000000  0.00030820  0.00000000  0.00000002\n  0.00000000  0.00000000  0.00000000  0.00000000  0.00000000  0.00000000\n  0.00000001  0.00000005  0.00000001  0.00000000  0.00000000  0.00000000\n  0.00000000  0.00000000]\nsum120 =  0.00300607850579\np121 =  [ 0.00000084  0.00000074  0.00000047  0.00000047  0.00000277  0.00000244\n  0.00000154  0.00000154  0.00000001  0.00000001  0.00000000  0.00000000\n  0.00000000  0.00000000  0.00000000  0.00000000  0.00000004  0.00000002\n  0.00000001  0.00000000  0.00000000  0.00000000  0.00000000  0.00000000\n  0.00000002  0.00025523  0.00000000  0.00025551  0.00000000  0.00009357\n  0.00000000  0.00009368  0.00000008  0.00083719  0.00000000  0.00083811\n  0.00000000  0.00030712  0.00000000  0.00030748  0.00000000  0.00000002\n  0.00000000  0.00000000  0.00000000  0.00000000  0.00000000  0.00000000\n  0.00000001  0.00000005  0.00000001  0.00000000  0.00000000  0.00000000\n  0.00000000  0.00000000]\nsum121 =  0.00299899087847\np122 =  [ 0.00000084  0.00000074  0.00000047  0.00000047  0.00000276  0.00000243\n  0.00000154  0.00000153  0.00000001  0.00000001  0.00000000  0.00000000\n  0.00000000  0.00000000  0.00000000  0.00000000  0.00000004  0.00000002\n  0.00000001  0.00000000  0.00000000  0.00000000  0.00000000  0.00000000\n  0.00000002  0.00025463  0.00000000  0.00025491  0.00000000  0.00009335\n  0.00000000  0.00009346  0.00000008  0.00083522  0.00000000  0.00083613\n  0.00000000  0.00030639  0.00000000  0.00030675  0.00000000  0.00000002\n  0.00000000  0.00000000  0.00000000  0.00000000  0.00000000  0.00000000\n  0.00000001  0.00000005  0.00000001  0.00000000  0.00000000  0.00000000\n  0.00000000  0.00000000]\nsum122 =  0.00299191996207\np123 =  [ 0.00000084  0.00000074  0.00000047  0.00000047  0.00000275  0.00000243\n  0.00000153  0.00000153  0.00000001  0.00000001  0.00000000  0.00000000\n  0.00000000  0.00000000  0.00000000  0.00000000  0.00000004  0.00000002\n  0.00000001  0.00000000  0.00000000  0.00000000  0.00000000  0.00000000\n  0.00000002  0.00025403  0.00000000  0.00025430  0.00000000  0.00009313\n  0.00000000  0.00009324  0.00000008  0.00083325  0.00000000  0.00083416\n  0.00000000  0.00030567  0.00000000  0.00030603  0.00000000  0.00000002\n  0.00000000  0.00000000  0.00000000  0.00000000  0.00000000  0.00000000\n  0.00000001  0.00000005  0.00000001  0.00000000  0.00000000  0.00000000\n  0.00000000  0.00000000]\nsum123 =  0.00298486571717\np124 =  [ 0.00000084  0.00000074  0.00000047  0.00000047  0.00000275  0.00000242\n  0.00000153  0.00000152  0.00000001  0.00000001  0.00000000  0.00000000\n  0.00000000  0.00000000  0.00000000  0.00000000  0.00000004  0.00000002\n  0.00000001  0.00000000  0.00000000  0.00000000  0.00000000  0.00000000\n  0.00000002  0.00025343  0.00000000  0.00025370  0.00000000  0.00009292\n  0.00000000  0.00009302  0.00000008  0.00083128  0.00000000  0.00083219\n  0.00000000  0.00030495  0.00000000  0.00030531  0.00000000  0.00000002\n  0.00000000  0.00000000  0.00000000  0.00000000  0.00000000  0.00000000\n  0.00000001  0.00000005  0.00000001  0.00000000  0.00000000  0.00000000\n  0.00000000  0.00000000]\nsum124 =  0.00297782810448\np125 =  [ 0.00000084  0.00000074  0.00000047  0.00000046  0.00000274  0.00000241\n  0.00000153  0.00000152  0.00000001  0.00000001  0.00000000  0.00000000\n  0.00000000  0.00000000  0.00000000  0.00000000  0.00000004  0.00000002\n  0.00000001  0.00000000  0.00000000  0.00000000  0.00000000  0.00000000\n  0.00000002  0.00025283  0.00000000  0.00025310  0.00000000  0.00009270\n  0.00000000  0.00009281  0.00000008  0.00082932  0.00000000  0.00083023\n  0.00000000  0.00030423  0.00000000  0.00030459  0.00000000  0.00000002\n  0.00000000  0.00000000  0.00000000  0.00000000  0.00000000  0.00000000\n  0.00000001  0.00000005  0.00000001  0.00000000  0.00000000  0.00000000\n  0.00000000  0.00000000]\nsum125 =  0.00297080708478\np126 =  [ 0.00000083  0.00000073  0.00000047  0.00000046  0.00000273  0.00000241\n  0.00000152  0.00000152  0.00000001  0.00000001  0.00000000  0.00000000\n  0.00000000  0.00000000  0.00000000  0.00000000  0.00000004  0.00000002\n  0.00000001  0.00000000  0.00000000  0.00000000  0.00000000  0.00000000\n  0.00000002  0.00025223  0.00000000  0.00025251  0.00000000  0.00009248\n  0.00000000  0.00009259  0.00000008  0.00082737  0.00000000  0.00082827\n  0.00000000  0.00030352  0.00000000  0.00030387  0.00000000  0.00000002\n  0.00000000  0.00000000  0.00000000  0.00000000  0.00000000  0.00000000\n  0.00000001  0.00000005  0.00000001  0.00000000  0.00000000  0.00000000\n  0.00000000  0.00000000]\nsum126 =  0.00296380261895\np127 =  [ 0.00000083  0.00000073  0.00000046  0.00000046  0.00000273  0.00000240\n  0.00000152  0.00000151  0.00000001  0.00000001  0.00000000  0.00000000\n  0.00000000  0.00000000  0.00000000  0.00000000  0.00000004  0.00000002\n  0.00000001  0.00000000  0.00000000  0.00000000  0.00000000  0.00000000\n  0.00000002  0.00025163  0.00000000  0.00025191  0.00000000  0.00009226\n  0.00000000  0.00009237  0.00000008  0.00082542  0.00000000  0.00082632\n  0.00000000  0.00030280  0.00000000  0.00030316  0.00000000  0.00000002\n  0.00000000  0.00000000  0.00000000  0.00000000  0.00000000  0.00000000\n  0.00000001  0.00000005  0.00000001  0.00000000  0.00000000  0.00000000\n  0.00000000  0.00000000]\nsum127 =  0.00295681466797\np128 =  [ 0.00000083  0.00000073  0.00000046  0.00000046  0.00000272  0.00000240\n  0.00000152  0.00000151  0.00000001  0.00000001  0.00000000  0.00000000\n  0.00000000  0.00000000  0.00000000  0.00000000  0.00000004  0.00000002\n  0.00000001  0.00000000  0.00000000  0.00000000  0.00000000  0.00000000\n  0.00000002  0.00025104  0.00000000  0.00025132  0.00000000  0.00009205\n  0.00000000  0.00009215  0.00000008  0.00082347  0.00000000  0.00082437\n  0.00000000  0.00030209  0.00000000  0.00030244  0.00000000  0.00000002\n  0.00000000  0.00000000  0.00000000  0.00000000  0.00000000  0.00000000\n  0.00000001  0.00000005  0.00000001  0.00000000  0.00000000  0.00000000\n  0.00000000  0.00000000]\nsum128 =  0.00294984319289\np129 =  [ 0.00000083  0.00000073  0.00000046  0.00000046  0.00000272  0.00000239\n  0.00000151  0.00000151  0.00000001  0.00000001  0.00000000  0.00000000\n  0.00000000  0.00000000  0.00000000  0.00000000  0.00000004  0.00000002\n  0.00000001  0.00000000  0.00000000  0.00000000  0.00000000  0.00000000\n  0.00000002  0.00025045  0.00000000  0.00025072  0.00000000  0.00009183\n  0.00000000  0.00009194  0.00000008  0.00082153  0.00000000  0.00082243\n  0.00000000  0.00030137  0.00000000  0.00030173  0.00000000  0.00000002\n  0.00000000  0.00000000  0.00000000  0.00000000  0.00000000  0.00000000\n  0.00000001  0.00000005  0.00000001  0.00000000  0.00000000  0.00000000\n  0.00000000  0.00000000]\nsum129 =  0.00294288815487\np130 =  [ 0.00000083  0.00000073  0.00000046  0.00000046  0.00000271  0.00000239\n  0.00000151  0.00000150  0.00000001  0.00000001  0.00000000  0.00000000\n  0.00000000  0.00000000  0.00000000  0.00000000  0.00000004  0.00000002\n  0.00000001  0.00000000  0.00000000  0.00000000  0.00000000  0.00000000\n  0.00000002  0.00024986  0.00000000  0.00025013  0.00000000  0.00009162\n  0.00000000  0.00009172  0.00000008  0.00081959  0.00000000  0.00082049\n  0.00000000  0.00030066  0.00000000  0.00030102  0.00000000  0.00000002\n  0.00000000  0.00000000  0.00000000  0.00000000  0.00000000  0.00000000\n  0.00000001  0.00000005  0.00000001  0.00000000  0.00000000  0.00000000\n  0.00000000  0.00000000]\nsum130 =  0.00293594951515\np131 =  [ 0.00000082  0.00000073  0.00000046  0.00000046  0.00000270  0.00000238\n  0.00000151  0.00000150  0.00000001  0.00000001  0.00000000  0.00000000\n  0.00000000  0.00000000  0.00000000  0.00000000  0.00000004  0.00000002\n  0.00000001  0.00000000  0.00000000  0.00000000  0.00000000  0.00000000\n  0.00000002  0.00024927  0.00000000  0.00024954  0.00000000  0.00009140\n  0.00000000  0.00009151  0.00000008  0.00081766  0.00000000  0.00081855\n  0.00000000  0.00029996  0.00000000  0.00030031  0.00000000  0.00000002\n  0.00000000  0.00000000  0.00000000  0.00000000  0.00000000  0.00000000\n  0.00000001  0.00000005  0.00000001  0.00000000  0.00000000  0.00000000\n  0.00000000  0.00000000]\nsum131 =  0.00292902723508\np132 =  [ 0.00000082  0.00000072  0.00000046  0.00000046  0.00000270  0.00000238\n  0.00000150  0.00000150  0.00000001  0.00000001  0.00000000  0.00000000\n  0.00000000  0.00000000  0.00000000  0.00000000  0.00000004  0.00000002\n  0.00000001  0.00000000  0.00000000  0.00000000  0.00000000  0.00000000\n  0.00000002  0.00024868  0.00000000  0.00024895  0.00000000  0.00009119\n  0.00000000  0.00009129  0.00000008  0.00081573  0.00000000  0.00081662\n  0.00000000  0.00029925  0.00000000  0.00029960  0.00000000  0.00000002\n  0.00000000  0.00000000  0.00000000  0.00000000  0.00000000  0.00000000\n  0.00000001  0.00000005  0.00000001  0.00000000  0.00000000  0.00000000\n  0.00000000  0.00000000]\nsum132 =  0.00292212127609\np133 =  [ 0.00000082  0.00000072  0.00000046  0.00000046  0.00000269  0.00000237\n  0.00000150  0.00000149  0.00000001  0.00000001  0.00000000  0.00000000\n  0.00000000  0.00000000  0.00000000  0.00000000  0.00000004  0.00000002\n  0.00000001  0.00000000  0.00000000  0.00000000  0.00000000  0.00000000\n  0.00000002  0.00024809  0.00000000  0.00024836  0.00000000  0.00009097\n  0.00000000  0.00009108  0.00000008  0.00081381  0.00000000  0.00081470\n  0.00000000  0.00029854  0.00000000  0.00029889  0.00000000  0.00000002\n  0.00000000  0.00000000  0.00000000  0.00000000  0.00000000  0.00000000\n  0.00000001  0.00000005  0.00000001  0.00000000  0.00000000  0.00000000\n  0.00000000  0.00000000]\nsum133 =  0.00291523159969\np134 =  [ 0.00000082  0.00000072  0.00000046  0.00000045  0.00000268  0.00000236\n  0.00000150  0.00000149  0.00000001  0.00000001  0.00000000  0.00000000\n  0.00000000  0.00000000  0.00000000  0.00000000  0.00000004  0.00000002\n  0.00000001  0.00000000  0.00000000  0.00000000  0.00000000  0.00000000\n  0.00000002  0.00024750  0.00000000  0.00024778  0.00000000  0.00009076\n  0.00000000  0.00009086  0.00000008  0.00081189  0.00000000  0.00081278\n  0.00000000  0.00029784  0.00000000  0.00029819  0.00000000  0.00000002\n  0.00000000  0.00000000  0.00000000  0.00000000  0.00000000  0.00000000\n  0.00000001  0.00000005  0.00000001  0.00000000  0.00000000  0.00000000\n  0.00000000  0.00000000]\nsum134 =  0.00290835816749\np135 =  [ 0.00000082  0.00000072  0.00000046  0.00000045  0.00000268  0.00000236\n  0.00000149  0.00000149  0.00000001  0.00000001  0.00000000  0.00000000\n  0.00000000  0.00000000  0.00000000  0.00000000  0.00000004  0.00000002\n  0.00000001  0.00000000  0.00000000  0.00000000  0.00000000  0.00000000\n  0.00000002  0.00024692  0.00000000  0.00024719  0.00000000  0.00009054\n  0.00000000  0.00009065  0.00000008  0.00080997  0.00000000  0.00081086\n  0.00000000  0.00029714  0.00000000  0.00029749  0.00000000  0.00000002\n  0.00000000  0.00000000  0.00000000  0.00000000  0.00000000  0.00000000\n  0.00000001  0.00000005  0.00000001  0.00000000  0.00000000  0.00000000\n  0.00000000  0.00000000]\nsum135 =  0.0029015009412\np136 =  [ 0.00000081  0.00000072  0.00000045  0.00000045  0.00000267  0.00000235\n  0.00000149  0.00000148  0.00000001  0.00000001  0.00000000  0.00000000\n  0.00000000  0.00000000  0.00000000  0.00000000  0.00000004  0.00000002\n  0.00000001  0.00000000  0.00000000  0.00000000  0.00000000  0.00000000\n  0.00000002  0.00024634  0.00000000  0.00024661  0.00000000  0.00009033\n  0.00000000  0.00009044  0.00000008  0.00080806  0.00000000  0.00080895\n  0.00000000  0.00029644  0.00000000  0.00029679  0.00000000  0.00000002\n  0.00000000  0.00000000  0.00000000  0.00000000  0.00000000  0.00000000\n  0.00000001  0.00000005  0.00000001  0.00000000  0.00000000  0.00000000\n  0.00000000  0.00000000]\nsum136 =  0.00289465988261\np137 =  [ 0.00000081  0.00000072  0.00000045  0.00000045  0.00000266  0.00000235\n  0.00000148  0.00000148  0.00000001  0.00000001  0.00000000  0.00000000\n  0.00000000  0.00000000  0.00000000  0.00000000  0.00000004  0.00000002\n  0.00000001  0.00000000  0.00000000  0.00000000  0.00000000  0.00000000\n  0.00000002  0.00024575  0.00000000  0.00024602  0.00000000  0.00009012\n  0.00000000  0.00009023  0.00000008  0.00080616  0.00000000  0.00080704\n  0.00000000  0.00029574  0.00000000  0.00029609  0.00000000  0.00000002\n  0.00000000  0.00000000  0.00000000  0.00000000  0.00000000  0.00000000\n  0.00000001  0.00000005  0.00000001  0.00000000  0.00000000  0.00000000\n  0.00000000  0.00000000]\nsum137 =  0.00288783495359\np138 =  [ 0.00000081  0.00000071  0.00000045  0.00000045  0.00000266  0.00000234\n  0.00000148  0.00000148  0.00000001  0.00000001  0.00000000  0.00000000\n  0.00000000  0.00000000  0.00000000  0.00000000  0.00000004  0.00000002\n  0.00000001  0.00000000  0.00000000  0.00000000  0.00000000  0.00000000\n  0.00000002  0.00024517  0.00000000  0.00024544  0.00000000  0.00008991\n  0.00000000  0.00009001  0.00000008  0.00080426  0.00000000  0.00080514\n  0.00000000  0.00029504  0.00000000  0.00029539  0.00000000  0.00000002\n  0.00000000  0.00000000  0.00000000  0.00000000  0.00000000  0.00000000\n  0.00000001  0.00000005  0.00000001  0.00000000  0.00000000  0.00000000\n  0.00000000  0.00000000]\nsum138 =  0.00288102611613\np139 =  [ 0.00000081  0.00000071  0.00000045  0.00000045  0.00000265  0.00000234\n  0.00000148  0.00000147  0.00000001  0.00000000  0.00000000  0.00000000\n  0.00000000  0.00000000  0.00000000  0.00000000  0.00000004  0.00000002\n  0.00000001  0.00000000  0.00000000  0.00000000  0.00000000  0.00000000\n  0.00000002  0.00024460  0.00000000  0.00024486  0.00000000  0.00008970\n  0.00000000  0.00008980  0.00000008  0.00080236  0.00000000  0.00080324\n  0.00000000  0.00029435  0.00000000  0.00029469  0.00000000  0.00000002\n  0.00000000  0.00000000  0.00000000  0.00000000  0.00000000  0.00000000\n  0.00000001  0.00000005  0.00000001  0.00000000  0.00000000  0.00000000\n  0.00000000  0.00000000]\nsum139 =  0.00287423333227\np140 =  [ 0.00000081  0.00000071  0.00000045  0.00000045  0.00000265  0.00000233\n  0.00000147  0.00000147  0.00000001  0.00000000  0.00000000  0.00000000\n  0.00000000  0.00000000  0.00000000  0.00000000  0.00000004  0.00000002\n  0.00000001  0.00000000  0.00000000  0.00000000  0.00000000  0.00000000\n  0.00000002  0.00024402  0.00000000  0.00024429  0.00000000  0.00008949\n  0.00000000  0.00008959  0.00000007  0.00080047  0.00000000  0.00080135\n  0.00000000  0.00029365  0.00000000  0.00029400  0.00000000  0.00000002\n  0.00000000  0.00000000  0.00000000  0.00000000  0.00000000  0.00000000\n  0.00000001  0.00000005  0.00000001  0.00000000  0.00000000  0.00000000\n  0.00000000  0.00000000]\nsum140 =  0.00286745656418\np141 =  [ 0.00000081  0.00000071  0.00000045  0.00000045  0.00000264  0.00000233\n  0.00000147  0.00000146  0.00000001  0.00000000  0.00000000  0.00000000\n  0.00000000  0.00000000  0.00000000  0.00000000  0.00000004  0.00000002\n  0.00000001  0.00000000  0.00000000  0.00000000  0.00000000  0.00000000\n  0.00000002  0.00024344  0.00000000  0.00024371  0.00000000  0.00008928\n  0.00000000  0.00008938  0.00000007  0.00079858  0.00000000  0.00079946\n  0.00000000  0.00029296  0.00000000  0.00029330  0.00000000  0.00000002\n  0.00000000  0.00000000  0.00000000  0.00000000  0.00000000  0.00000000\n  0.00000001  0.00000005  0.00000001  0.00000000  0.00000000  0.00000000\n  0.00000000  0.00000000]"
     ]
    },
    {
     "name": "stdout",
     "output_type": "stream",
     "text": [
      "\nsum141 =  0.00286069577408\np142 =  [ 0.00000080  0.00000071  0.00000045  0.00000045  0.00000263  0.00000232\n  0.00000147  0.00000146  0.00000001  0.00000000  0.00000000  0.00000000\n  0.00000000  0.00000000  0.00000000  0.00000000  0.00000004  0.00000002\n  0.00000001  0.00000000  0.00000000  0.00000000  0.00000000  0.00000000\n  0.00000002  0.00024287  0.00000000  0.00024313  0.00000000  0.00008907\n  0.00000000  0.00008917  0.00000007  0.00079670  0.00000000  0.00079757\n  0.00000000  0.00029227  0.00000000  0.00029261  0.00000000  0.00000002\n  0.00000000  0.00000000  0.00000000  0.00000000  0.00000000  0.00000000\n  0.00000001  0.00000005  0.00000001  0.00000000  0.00000000  0.00000000\n  0.00000000  0.00000000]\nsum142 =  0.00285395092432\np143 =  [ 0.00000080  0.00000071  0.00000045  0.00000044  0.00000263  0.00000231\n  0.00000146  0.00000146  0.00000001  0.00000000  0.00000000  0.00000000\n  0.00000000  0.00000000  0.00000000  0.00000000  0.00000004  0.00000002\n  0.00000001  0.00000000  0.00000000  0.00000000  0.00000000  0.00000000\n  0.00000002  0.00024229  0.00000000  0.00024256  0.00000000  0.00008886\n  0.00000000  0.00008896  0.00000007  0.00079482  0.00000000  0.00079569\n  0.00000000  0.00029158  0.00000000  0.00029192  0.00000000  0.00000002\n  0.00000000  0.00000000  0.00000000  0.00000000  0.00000000  0.00000000\n  0.00000001  0.00000005  0.00000001  0.00000000  0.00000000  0.00000000\n  0.00000000  0.00000000]\nsum143 =  0.0028472219773\np144 =  [ 0.00000080  0.00000070  0.00000045  0.00000044  0.00000262  0.00000231\n  0.00000146  0.00000145  0.00000001  0.00000000  0.00000000  0.00000000\n  0.00000000  0.00000000  0.00000000  0.00000000  0.00000004  0.00000002\n  0.00000001  0.00000000  0.00000000  0.00000000  0.00000000  0.00000000\n  0.00000002  0.00024172  0.00000000  0.00024199  0.00000000  0.00008865\n  0.00000000  0.00008875  0.00000007  0.00079294  0.00000000  0.00079381\n  0.00000000  0.00029089  0.00000000  0.00029123  0.00000000  0.00000002\n  0.00000000  0.00000000  0.00000000  0.00000000  0.00000000  0.00000000\n  0.00000001  0.00000005  0.00000001  0.00000000  0.00000000  0.00000000\n  0.00000000  0.00000000]\nsum144 =  0.00284050889553\np145 =  [ 0.00000080  0.00000070  0.00000044  0.00000044  0.00000261  0.00000230\n  0.00000146  0.00000145  0.00000001  0.00000000  0.00000000  0.00000000\n  0.00000000  0.00000000  0.00000000  0.00000000  0.00000004  0.00000002\n  0.00000001  0.00000000  0.00000000  0.00000000  0.00000000  0.00000000\n  0.00000002  0.00024115  0.00000000  0.00024142  0.00000000  0.00008844\n  0.00000000  0.00008854  0.00000007  0.00079108  0.00000000  0.00079194\n  0.00000000  0.00029021  0.00000000  0.00029055  0.00000000  0.00000002\n  0.00000000  0.00000000  0.00000000  0.00000000  0.00000000  0.00000000\n  0.00000001  0.00000005  0.00000001  0.00000000  0.00000000  0.00000000\n  0.00000000  0.00000000]\nsum145 =  0.00283381164161\np146 =  [ 0.00000080  0.00000070  0.00000044  0.00000044  0.00000261  0.00000230\n  0.00000145  0.00000145  0.00000001  0.00000000  0.00000000  0.00000000\n  0.00000000  0.00000000  0.00000000  0.00000000  0.00000004  0.00000002\n  0.00000001  0.00000000  0.00000000  0.00000000  0.00000000  0.00000000\n  0.00000002  0.00024058  0.00000000  0.00024085  0.00000000  0.00008823\n  0.00000000  0.00008833  0.00000007  0.00078921  0.00000000  0.00079007\n  0.00000000  0.00028952  0.00000000  0.00028986  0.00000000  0.00000002\n  0.00000000  0.00000000  0.00000000  0.00000000  0.00000000  0.00000000\n  0.00000001  0.00000005  0.00000001  0.00000000  0.00000000  0.00000000\n  0.00000000  0.00000000]\nsum146 =  0.00282713017822\np147 = "
     ]
    },
    {
     "name": "stdout",
     "output_type": "stream",
     "text": [
      " [ 0.00000066  0.00000059  0.00000037  0.00000037  0.00000211  0.00000186\n  0.00000118  0.00000117  0.00000001  0.00000000  0.00000000  0.00000000\n  0.00000000  0.00000000  0.00000000  0.00000000  0.00000003  0.00000001\n  0.00000001  0.00000000  0.00000000  0.00000000  0.00000000  0.00000000\n  0.00000002  0.00023772  0.00000000  0.00023915  0.00000000  0.00008718\n  0.00000000  0.00008772  0.00000006  0.00064358  0.00000000  0.00064925\n  0.00000000  0.00023610  0.00000000  0.00023820  0.00000000  0.00000001\n  0.00000000  0.00000000  0.00000000  0.00000000  0.00000000  0.00000000\n  0.00000001  0.00000004  0.00000001  0.00000000  0.00000000  0.00000000\n  0.00000000  0.00000000]\nsum147 =  0.00242743368511\np148 =  [ 0.00000038  0.00000036  0.00000021  0.00000022  0.00000109  0.00000097\n  0.00000061  0.00000061  0.00000001  0.00000000  0.00000000  0.00000000\n  0.00000000  0.00000000  0.00000000  0.00000000  0.00000002  0.00000001\n  0.00000000  0.00000000  0.00000000  0.00000000  0.00000000  0.00000000\n  0.00000001  0.00021861  0.00000000  0.00022931  0.00000000  0.00008018\n  0.00000000  0.00008411  0.00000003  0.00034349  0.00000000  0.00035739\n  0.00000000  0.00012601  0.00000000  0.00013112  0.00000000  0.00000001\n  0.00000000  0.00000000  0.00000000  0.00000000  0.00000000  0.00000000\n  0.00000000  0.00000002  0.00000000  0.00000000  0.00000000  0.00000000\n  0.00000000  0.00000000]\nsum148 =  0.00157479179186\np149 =  [ 0.00000007  0.00000011  0.00000003  0.00000006  0.00000001  0.00000001\n  0.00000000  0.00000001  0.00000000  0.00000000  0.00000000  0.00000000\n  0.00000000  0.00000000  0.00000000  0.00000000  0.00000000  0.00000000\n  0.00000000  0.00000000  0.00000000  0.00000000  0.00000000  0.00000000\n  0.00000000  0.00011877  0.00000000  0.00017853  0.00000000  0.00004356\n  0.00000000  0.00006548  0.00000000  0.00001992  0.00000000  0.00003948\n  0.00000000  0.00000731  0.00000000  0.00001449  0.00000000  0.00000000\n  0.00000000  0.00000000  0.00000000  0.00000000  0.00000000  0.00000000\n  0.00000000  0.00000000  0.00000000  0.00000000  0.00000000  0.00000000\n  0.00000000  0.00000000]\nsum149 =  0.000487862731271\nsum =  1.0\n"
     ]
    }
   ],
   "source": [
    "vect_p_l = [p0]\n",
    "p_sums = [np.sum(p0)]\n",
    "print('p0 = ', vect_p_l[0][0])\n",
    "print('sum0 = ', p_sums[0])\n",
    "for l in range(1, p_num):\n",
    "    vect_p_l.append(np.dot(vect_p_l[0], matrPhi_l[l]))\n",
    "    p_sums.append(np.sum(vect_p_l[l]))\n",
    "    print('p' + str(l) + ' = ', vect_p_l[l][0])\n",
    "    print('sum' + str(l) + ' = ', p_sums[l])\n",
    "print('sum = ', np.sum(p_sums))"
   ]
  },
  {
   "cell_type": "code",
   "execution_count": 31,
   "metadata": {
    "collapsed": false
   },
   "outputs": [
    {
     "data": {
      "image/png": "[encoded data removed]",
      "text/plain": [
       "<matplotlib.figure.Figure at 0x7f5a707574e0>"
      ]
     },
     "metadata": {},
     "output_type": "display_data"
    },
    {
     "name": "stdout",
     "output_type": "stream",
     "text": [
      "[0.44592029328596866, 0.031534446074859043, 0.021998064213027448, 0.01335350565747628, 0.0054201293323584976, 0.0045719867609342307, 0.0041459986428762485, 0.0039744752263468587, 0.0039349899961619861, 0.0039129108342996401, 0.0038991184987134278, 0.0038890509585767668, 0.0038793245632047411, 0.0038699716847682437, 0.0038608017017334488, 0.0038516515002232701, 0.0038425538070695851, 0.0038334876173635865, 0.003824443780252474, 0.0038154248741431793, 0.0038064281015069172, 0.0037974529068209627, 0.0037884992729924349, 0.0037795668346151433, 0.0037706555112842991, 0.0037617652306060657, 0.0037528959131074482, 0.0037440475080862293, 0.0037352199631012421, 0.0037264132275606362, 0.0037176272531343106, 0.0037088619911619055, 0.0037001173932791698, 0.0036913934112275271, 0.0036826899967188822, 0.0036740071015238743, 0.0036653446774589479, 0.0036567026764001069, 0.0036480810503018127, 0.0036394797512040076, 0.0036308987312404146, 0.0036223379426442472, 0.003613797337751746, 0.0036052768690048738, 0.003596776488953019, 0.003588296150254086, 0.0035798358056751715, 0.003571395408092942, 0.003562974910493821, 0.0035545742659740176, 0.0035461934277394871, 0.0035378323491058157, 0.0035294909834980639, 0.0035211692844505848, 0.003512867205606817, 0.0035045847007190703, 0.0034963217236483042, 0.0034880782283638863, 0.0034798541689433646, 0.0034716494995722267, 0.0034634641745436576, 0.0034552981482583005, 0.0034471513752240132, 0.0034390238100556253, 0.0034309154074746986, 0.0034228261223092798, 0.0034147559094936586, 0.0034067047240681301, 0.0033986725211787453, 0.0033906592560770739, 0.0033826648841199605, 0.0033746893607692844, 0.0033667326415917189, 0.0033587946822584867, 0.0033508754385451252, 0.0033429748663312427, 0.00333509292160028, 0.0033272295604392719, 0.0033193847390386054, 0.0033115584136917866, 0.0033037505407951979, 0.0032959610768478597, 0.0032881899784512033, 0.0032804372023088162, 0.0032727027052262252, 0.0032649864441106455, 0.0032572883759707546, 0.0032496084579164523, 0.0032419466471586282, 0.0032343029010089243, 0.0032266771768795083, 0.0032190694322828321, 0.0032114796248314047, 0.0032039077122375586, 0.0031963536523132137, 0.0031888174029696516, 0.0031812989222172834, 0.0031737981681654141, 0.0031663150990220192, 0.0031588496730935106, 0.0031514018487845069, 0.0031439715845976114, 0.0031365588391331738, 0.0031291635710890679, 0.0031217857392604651, 0.0031144253025396076, 0.0031070822199155751, 0.003099756450474069, 0.0030924479533971784, 0.0030851566879631595, 0.00307788261354621, 0.0030706256896162448, 0.0030633858757386735, 0.0030561631315741719, 0.003048957416878469, 0.0030417686915021154, 0.0030345969153902658, 0.0030274420485824562, 0.0030203040512123886, 0.003013182883507699, 0.0030060785057897483, 0.0029989908784733999, 0.0029919199620667982, 0.0029848657171711512, 0.0029778281044805155, 0.0029708070847815713, 0.0029638026189534178, 0.0029568146679673415, 0.0029498431928866127, 0.002942888154866262, 0.0029359495151528711, 0.0029290272350843511, 0.0029221212760897333, 0.0029152315996889577, 0.0029083581674926506, 0.0029015009412019211, 0.0028946598826081449, 0.0028878349535927509, 0.0028810261161270139, 0.002874233332271838, 0.0028674565641775536, 0.002860695774083699, 0.0028539509243188195, 0.002847221977300249, 0.0028405088955339112, 0.0028338116416141042, 0.0028271301782232957, 0.0024274336851107968, 0.00157479179185911, 0.0004878627312708099]\n"
     ]
    }
   ],
   "source": [
    "plt.scatter(x=[_ for _ in range(150)], y=p_sums)\n",
    "plt.show()\n",
    "# print(p_sums)"
   ]
  },
  {
   "cell_type": "heading",
   "metadata": {},
   "level": 3,
   "source": [
    "Условие эргодичности по формулам (6) - (7)"
   ]
  },
  {
   "cell_type": "code",
   "execution_count": 32,
   "metadata": {
    "collapsed": true
   },
   "outputs": [],
   "source": [
    "matr_Q_1_ = copy.deepcopy(matrQ_k[0])\n",
    "for l in range(1, n+2):\n",
    "    matr_Q_1_ += matrQ_k[l]"
   ]
  },
  {
   "cell_type": "code",
   "execution_count": 33,
   "metadata": {},
   "outputs": [],
   "source": [
    "matr_dQ_1_ = copy.deepcopy(matrQ_k[1])\n",
    "for l in range(2, n+2):\n",
    "    matr_dQ_1_ += l * matrQ_k[l]"
   ]
  },
  {
   "cell_type": "code",
   "execution_count": 34,
   "metadata": {},
   "outputs": [],
   "source": [
    "matr_a = copy.deepcopy(np.array(matr_Q_1_))\n",
    "for i in range(matr_a.shape[0]):\n",
    "    matr_a[i][0] = 1 \n",
    "matr_b = np.zeros((matr_a.shape[0], 1))\n",
    "matr_b[0][0] = 1\n",
    "matr_a = np.transpose(matr_a)\n",
    "\n",
    "vect_y = la.solve(matr_a, matr_b).reshape(-1)"
   ]
  },
  {
   "cell_type": "code",
   "execution_count": 35,
   "metadata": {
    "collapsed": false
   },
   "outputs": [
    {
     "name": "stdout",
     "output_type": "stream",
     "text": [
      "ergodicity = -0.228793196557\n"
     ]
    }
   ],
   "source": [
    "vect_e = np.array([[1.] for _ in range(matr_dQ_1_.shape[1])])\n",
    "ergodicity = np.dot(np.dot(vect_y, matr_dQ_1_), vect_e)[0, 0]\n",
    "print('ergodicity =', ergodicity)"
   ]
  },
  {
   "cell_type": "heading",
   "metadata": {},
   "level": 3,
   "source": [
    "Коэффициент загруженности системы"
   ]
  },
  {
   "cell_type": "code",
   "execution_count": 36,
   "metadata": {},
   "outputs": [
    {
     "name": "stdout",
     "output_type": "stream",
     "text": [
      "\\rho = 0.782294164074\n"
     ]
    }
   ],
   "source": [
    "vect_e = [[1] for _ in range(matrQ_0.shape[1])]\n",
    "denom = np.dot(np.dot(vect_y, matrQ_0), vect_e)[0]\n",
    "rho = lamD / denom\n",
    "print('\\\\rho =', rho)"
   ]
  },
  {
   "cell_type": "heading",
   "metadata": {},
   "level": 2,
   "source": [
    ""
   ]
  },
  {
   "cell_type": "code",
   "execution_count": 37,
   "metadata": {
    "collapsed": true
   },
   "outputs": [],
   "source": [
    "# Условие эргодичности\n",
    "block00 = kronsum(matrH0, matrS1) + kron(np.eye(V_), np.dot(matrS1_0, beta1))\n",
    "block03 = kron(kron(kron(matrH1, M1_e), tau), alpha1)\n",
    "block10 = kron(kron(np.eye(V_), np.dot(M2_e, beta1)), matrA2_0)\n",
    "block11 = kronsum(kronsum(matrH0, matrS2), matrA2) + kron(kron(np.eye(V_), np.dot(matrS2_0, beta2)), np.eye(L2))\n",
    "block12 = kron(kron(kron(matrH1, np.eye(M2)), tau), L2_e)\n",
    "block21 = kron(kron(kron(np.eye(V_), np.eye(M2)), matrT0), alpha1)\n",
    "block22 = kronsum(kronsum(matrH, matrS2), matrT) + kron(kron(np.eye(V_), np.dot(matrS2_0, beta2)), np.eye(R))\n",
    "block30 = kron(kron(kron(np.eye(V_), beta1), matrT0), L1_e)\n",
    "block32 = kron(kron(kron(np.eye(V_), beta2), np.eye(R)), matrA1_0)\n",
    "block33 = kronsum(kronsum(matrH, matrT), matrA1)\n",
    "block01 = np.zeros((block00.shape[0], block11.shape[1]))\n",
    "block02 = np.zeros((block00.shape[0], block12.shape[1]))\n",
    "block13 = np.zeros((block10.shape[0], block03.shape[1]))\n",
    "block20 = np.zeros((block21.shape[0], block00.shape[1]))\n",
    "block23 = np.zeros((block21.shape[0], block03.shape[1]))\n",
    "block31 = np.zeros((block30.shape[0], block11.shape[1]))\n",
    "matrGamma = np.bmat([[block00, block01, block02, block03],\n",
    "                     [block10, block11, block12, block13],\n",
    "                     [block20, block21, block22, block23],\n",
    "                     [block30, block31, block32, block33]])\n",
    "# pd.DataFrame(matrGamma)"
   ]
  },
  {
   "cell_type": "code",
   "execution_count": 38,
   "metadata": {
    "collapsed": false
   },
   "outputs": [
    {
     "name": "stdout",
     "output_type": "stream",
     "text": [
      "x =  [ 0.00188895  0.00166401  0.00119355  0.00118834  0.00002762  0.00001158\n  0.00000632  0.00000047  0.00000085  0.00000024  0.00000041  0.00000006\n  0.00005357  0.36373087  0.00000123  0.36368237  0.00000087  0.13325071\n  0.00000002  0.13324969  0.00000465  0.00003640  0.00000514  0.00000125\n  0.00000008  0.00000059  0.00000013  0.00000002]\nx1 =  [ 0.00188895  0.00166401  0.00119355  0.00118834]\nx2 =  [ 0.00002762  0.00001158  0.00000632  0.00000047  0.00000085  0.00000024\n  0.00000041  0.00000006]\nx3 =  [ 0.00005357  0.36373087  0.00000123  0.36368237  0.00000087  0.13325071\n  0.00000002  0.13324969]"
     ]
    },
    {
     "name": "stdout",
     "output_type": "stream",
     "text": [
      "\n"
     ]
    }
   ],
   "source": [
    "matr_a = copy.deepcopy(np.array(matrGamma))\n",
    "for i in range(matr_a.shape[0]):\n",
    "    matr_a[i][0] = 1\n",
    "matr_b = np.zeros((matr_a.shape[0], 1))\n",
    "matr_b[0][0] = 1\n",
    "matr_a = np.transpose(matr_a)\n",
    "\n",
    "x = la.solve(matr_a, matr_b).reshape(-1)\n",
    "\n",
    "print('x = ', x)\n",
    "x1 = x[0:V_*M1]\n",
    "x2 = x[V_*M1:V_*M1 + V_*M2*L2]\n",
    "x3 = x[V_*M1 + V_*M2*L2: V_*M1 + V_*M2*L2 + V_*M2*R]\n",
    "\n",
    "print('x1 = ', x1)\n",
    "print('x2 = ', x2)\n",
    "print('x3 = ', x3)"
   ]
  },
  {
   "cell_type": "code",
   "execution_count": 39,
   "metadata": {
    "collapsed": false
   },
   "outputs": [
    {
     "name": "stdout",
     "output_type": "stream",
     "text": [
      "pi1 =  [ 0.00308250  0.00285235]\npi2 =  [ 0.00004029  0.00000726]\npi3 =  [ 0.49703602  0.49693331]\n"
     ]
    }
   ],
   "source": [
    "e_V_ = np.array([[1.] for i in range(0, V_)])\n",
    "e_R = np.array([[1.] for i in range(0, R)])\n",
    "pi1 = x1.dot(kron(e_V_, np.eye(M1)))\n",
    "pi2 = x2.dot(kron(kron(e_V_, np.eye(M2)), L2_e))\n",
    "pi3 = x3.dot(kron(kron(e_V_, np.eye(M2)), e_R))\n",
    "print('pi1 = ', pi1)\n",
    "print('pi2 = ', pi2)\n",
    "print('pi3 = ', pi3)"
   ]
  },
  {
   "cell_type": "heading",
   "metadata": {},
   "level": 3,
   "source": [
    "1. Пропускная способность системы rho"
   ]
  },
  {
   "cell_type": "code",
   "execution_count": 40,
   "metadata": {
    "collapsed": false
   },
   "outputs": [
    {
     "name": "stdout",
     "output_type": "stream",
     "text": [
      "\\varrho =  1.05092817371\n"
     ]
    }
   ],
   "source": [
    "varrho = np.dot(pi1, matrS1_0) + np.dot((pi2 + pi3), matrS2_0)\n",
    "varrho = varrho[0]\n",
    "print('\\\\varrho = ', varrho)"
   ]
  },
  {
   "cell_type": "heading",
   "metadata": {},
   "level": 3,
   "source": [
    ""
   ]
  },
  {
   "cell_type": "code",
   "execution_count": 41,
   "metadata": {
    "collapsed": false
   },
   "outputs": [
    {
     "name": "stdout",
     "output_type": "stream",
     "text": [
      "P(1) = [ 0.00025713  0.00022632  0.00015932  0.00015847  0.00048395  0.00042647\n  0.00027144  0.00027038  0.00000426  0.00000161  0.00000095  0.00000006\n  0.00000013  0.00000003  0.00000005  0.00000001  0.00000738  0.00000300\n  0.00000175  0.00000015  0.00000026  0.00000007  0.00000015  0.00000003\n  0.00000743  0.04265181  0.00000017  0.04215565  0.00000012  0.01557542\n  0.00000000  0.01539769  0.00001377  0.15949469  0.00000032  0.15954429\n  0.00000021  0.05846079  0.00000000  0.05848465  0.00000064  0.00000498\n  0.00000092  0.00000017  0.00000001  0.00000008  0.00000002  0.00000000\n  0.00000119  0.00000932  0.00000149  0.00000032  0.00000002  0.00000014\n  0.00000004  0.00000000]\n"
     ]
    }
   ],
   "source": [
    "vect_P_1_ = copy.deepcopy(vect_p_l[1])\n",
    "for l in range(2, p_num):\n",
    "    vect_P_1_ += vect_p_l[l]\n",
    "print('P(1) =', vect_P_1_[0])"
   ]
  },
  {
   "cell_type": "heading",
   "metadata": {},
   "level": 3,
   "source": [
    ""
   ]
  },
  {
   "cell_type": "code",
   "execution_count": 42,
   "metadata": {
    "collapsed": true
   },
   "outputs": [],
   "source": [
    "vect_dP_1_ = copy.deepcopy(vect_p_l[1])\n",
    "for l in range(2, p_num):\n",
    "    vect_dP_1_ += l * vect_p_l[l]"
   ]
  },
  {
   "cell_type": "heading",
   "metadata": {},
   "level": 3,
   "source": [
    "P''(2)"
   ]
  },
  {
   "cell_type": "code",
   "execution_count": 43,
   "metadata": {
    "collapsed": true
   },
   "outputs": [],
   "source": [
    "vect_ddP_1_ = copy.deepcopy(vect_p_l[2]) * 2\n",
    "for l in range(3, p_num):\n",
    "    vect_ddP_1_ += l * (l - 1) * vect_p_l[l]"
   ]
  },
  {
   "cell_type": "heading",
   "metadata": {},
   "level": 3,
   "source": [
    "3. Среднее число запросов в системе"
   ]
  },
  {
   "cell_type": "code",
   "execution_count": 44,
   "metadata": {
    "collapsed": false
   },
   "outputs": [
    {
     "name": "stdout",
     "output_type": "stream",
     "text": [
      "L = 34.8845584716\n"
     ]
    }
   ],
   "source": [
    "# Среднее число запросов в системе\n",
    "\n",
    "vect_e = np.array([[1.] for _ in range(vect_dP_1_.shape[1])])\n",
    "L = np.dot(vect_dP_1_, vect_e)[0, 0]\n",
    "print('L =', L)"
   ]
  },
  {
   "cell_type": "heading",
   "metadata": {},
   "level": 3,
   "source": [
    "4. Дисперсия числа запросов в системе"
   ]
  },
  {
   "cell_type": "code",
   "execution_count": 45,
   "metadata": {
    "collapsed": false
   },
   "outputs": [
    {
     "name": "stdout",
     "output_type": "stream",
     "text": [
      "V = 2115.23574869\n"
     ]
    }
   ],
   "source": [
    "# Дисперсия числа запросов в системе\n",
    "dispV = np.dot(vect_ddP_1_, vect_e)[0] + L - L ** 2\n",
    "dispV = dispV[0]\n",
    "print('V =', dispV)"
   ]
  },
  {
   "cell_type": "heading",
   "metadata": {},
   "level": 3,
   "source": [
    "5. Вероятность того, что прибор 1 исправен и обслуживает запрос"
   ]
  },
  {
   "cell_type": "code",
   "execution_count": 46,
   "metadata": {
    "collapsed": false
   },
   "outputs": [
    {
     "name": "stdout",
     "output_type": "stream",
     "text": [
      "P^{(1,0)} = 0.00225347624912\n"
     ]
    }
   ],
   "source": [
    "# Вероятность того, что прибор 1 исправен и обслуживает запрос\n",
    "temp_matr = np.dot(vect_P_1_, la.block_diag(np.eye(a*M1), np.zeros((a*(M2*L2 + M2*R + R*L1), a*(M2*L2 + M2*R + R*L1)))))\n",
    "vect_e = np.array([[1.] for i in range(0, temp_matr.shape[1])])\n",
    "prob1work = np.dot(temp_matr, vect_e)[0, 0]\n",
    "print('P^{(1,0)} =', prob1work)"
   ]
  },
  {
   "cell_type": "heading",
   "metadata": {},
   "level": 3,
   "source": [
    "6. Вероятность того, что прибор-1 в неисправном состоянии и прибор-2 обслуживает запрос"
   ]
  },
  {
   "cell_type": "code",
   "execution_count": 47,
   "metadata": {
    "collapsed": false
   },
   "outputs": [
    {
     "name": "stdout",
     "output_type": "stream",
     "text": [
      "P^{(2,0),(1,2)} = 0.551806873862\n"
     ]
    }
   ],
   "source": [
    "# Вероятность того, что прибор-1 в неисправном состоянии и прибор-2 обслуживает запрос\n",
    "temp_matr = np.dot(vect_P_1_, la.block_diag(np.zeros((a*M1, a*M1)), np.eye(a*M2*(L2 + R)), np.zeros((a*R*L1, a*R*L1))))\n",
    "vect_e = np.array([[1.] for i in range(0, temp_matr.shape[1])])\n",
    "prob1notwork = np.dot(temp_matr, vect_e)[0, 0]\n",
    "print('P^{(2,0),(1,2)} =', prob1notwork)"
   ]
  },
  {
   "cell_type": "heading",
   "metadata": {},
   "level": 3,
   "source": [
    "7. Вероятность того, что в системе есть запросы, прибор 1 в неисправном состоянии и идет переключение с этого прибора на прибор 2 (при этом оба  прибора не обслуживают заявки)"
   ]
  },
  {
   "cell_type": "code",
   "execution_count": 48,
   "metadata": {
    "collapsed": false
   },
   "outputs": [
    {
     "name": "stdout",
     "output_type": "stream",
     "text": [
      "P^{(2,1)} = 1.93566026111e-05\n"
     ]
    }
   ],
   "source": [
    "# Вероятность того, что в системе есть запросы, прибор 1 в неисправном состоянии и идет переключение с этого прибора на прибор 2 (при этом оба  прибора не обслуживают заявки)\n",
    "temp_matr = np.dot(vect_P_1_, la.block_diag(np.zeros((a*(M1+M2*(L2+R)), a*(M1+M2*(L2+R)))), np.eye(a*R*L1)))\n",
    "vect_e = np.array([[1.] for i in range(0, temp_matr.shape[1])])\n",
    "prob1notworkswitch2 = np.dot(temp_matr, vect_e)[0, 0]\n",
    "print('P^{(2,1)} =', prob1notworkswitch2)"
   ]
  },
  {
   "cell_type": "heading",
   "metadata": {},
   "level": 3,
   "source": [
    "8. Вероятность того, что в системе есть запросы, прибор 1 в исправном состоянии и идет переключение с  прибора 2 на прибор 1 (при этом прибор 2 продолжает обслуживать запросы)\n"
   ]
  },
  {
   "cell_type": "code",
   "execution_count": 49,
   "metadata": {
    "collapsed": false
   },
   "outputs": [
    {
     "name": "stdout",
     "output_type": "stream",
     "text": [
      "P^{(2,2)} = 1.98750434115e-05\n"
     ]
    }
   ],
   "source": [
    "# Вероятность того, что в системе есть запросы, прибор 1 в исправном состоянии и идет переключение с  прибора 2 на прибор 1 (при этом прибор 2 продолжает обслуживать запросы)\n",
    "temp_matr = np.dot(vect_P_1_, la.block_diag(np.zeros((a*M1, a*M1)), np.eye(a*M2*L2),\n",
    "                                            np.zeros((a*(R*L1 + M2*R), a*(R*L1 + M2*R)))))\n",
    "vect_e = np.array([[1.] for i in range(0, temp_matr.shape[1])])\n",
    "prob1workswitch21 = np.dot(temp_matr, vect_e)[0, 0]\n",
    "print('P^{(2,2)} =', prob1workswitch21)"
   ]
  },
  {
   "cell_type": "heading",
   "metadata": {},
   "level": 3,
   "source": [
    "9. Вероятность того, что прибор 1 доступен (средняя доля времени, в течение которой прибор 1 доступен)"
   ]
  },
  {
   "cell_type": "code",
   "execution_count": 50,
   "metadata": {
    "collapsed": false
   },
   "outputs": [
    {
     "name": "stdout",
     "output_type": "stream",
     "text": [
      "P_1+ = 0.00869352535566\n"
     ]
    }
   ],
   "source": [
    "# Вероятность того, что прибор 1 доступен (средняя доля времени, в течение которого прибор 1 доступен)\n",
    "temp_matr1 = np.dot(vect_P_1_, la.block_diag(np.eye(a*M1), np.zeros((a*(M2*L2 + M2*R + R*L1), a*(M2*L2 + M2*R + R*L1)))))\n",
    "vect_e = np.array([[1.] for i in range(0, temp_matr1.shape[1])])\n",
    "temp_matr = np.dot(temp_matr1, vect_e)\n",
    "\n",
    "temp_matr2 = np.dot(vect_p_l[0], la.block_diag(np.eye(a), np.zeros((a*(L2+R+R*L1), a*(L2+R+R*L1)))))\n",
    "vect_e = np.array([[1.] for i in range(0, temp_matr2.shape[1])])\n",
    "temp_matr += np.dot(temp_matr2, vect_e)\n",
    "prob1avail = temp_matr[0, 0]\n",
    "print('P_1+ =', prob1avail)"
   ]
  },
  {
   "cell_type": "heading",
   "metadata": {},
   "level": 3,
   "source": [
    "10. Вероятность того, что прибор 1 недоступен (средняя доля времени, в течение которого прибор 1 недоступен)"
   ]
  },
  {
   "cell_type": "code",
   "execution_count": 51,
   "metadata": {
    "collapsed": false
   },
   "outputs": [],
   "source": [
    "# Вероятность того, что прибор 1 недоступен (средняя доля времени, в течение которого прибор 1 недоступен)\n",
    "temp_matr1 = np.dot(vect_P_1_, la.block_diag(np.zeros((a*M1, a*M1)), np.eye(a*(M2*L2 + M2*R + R*L1))))\n",
    "vect_e = np.array([[1.] for i in range(0, temp_matr1.shape[1])])\n",
    "temp_matr = np.dot(temp_matr1, vect_e)\n",
    "\n",
    "temp_matr2 = np.dot(vect_p_l[0], la.block_diag(np.zeros((a, a)), np.eye(a*(L2+R+R*L1))))\n",
    "vect_e = np.array([[1.] for i in range(0, temp_matr2.shape[1])])\n",
    "temp_matr += np.dot(temp_matr2, vect_e)\n",
    "prob1notavail = temp_matr[0, 0]\n",
    "# print('P_2 =', prob1notavail)"
   ]
  },
  {
   "cell_type": "heading",
   "metadata": {},
   "level": 3,
   "source": [
    "10.1 Вероятность того, что прибор 1 недоступен, а прибор 2 доступен (средняя доля времени, в течение которого прибор 2 доступен)"
   ]
  },
  {
   "cell_type": "code",
   "execution_count": 52,
   "metadata": {},
   "outputs": [
    {
     "name": "stdout",
     "output_type": "stream",
     "text": [
      "P_2 = 0.991237413528\n"
     ]
    }
   ],
   "source": [
    "temp_matr1 = np.dot(vect_P_1_, la.block_diag(np.zeros((a*M1, a*M1)), np.eye(a*M2*(L2+R)), np.zeros((a*R*L1, a*R*L1))))\n",
    "vect_e = np.array([[1.] for i in range(0, temp_matr1.shape[1])])\n",
    "temp_matr = np.dot(temp_matr1, vect_e)\n",
    "\n",
    "temp_matr2 = np.dot(vect_p_l[0], la.block_diag(np.zeros((a, a)), np.eye(a*(L2+R)), np.zeros((a*R*L1, a*R*L1))))\n",
    "vect_e = np.array([[1.] for i in range(0, temp_matr2.shape[1])])\n",
    "temp_matr += np.dot(temp_matr2, vect_e)\n",
    "\n",
    "prob2_avail = temp_matr[0, 0]\n",
    "print('P_2 =', prob2_avail)"
   ]
  },
  {
   "cell_type": "heading",
   "metadata": {},
   "level": 3,
   "source": [
    "11. Вероятность того, что оба прибора недоступны, т.е. идет переключение с прибора 1 на прибор 2 (средняя доля времени, в течение которого оба прибора недоступны)"
   ]
  },
  {
   "cell_type": "code",
   "execution_count": 53,
   "metadata": {
    "collapsed": true
   },
   "outputs": [
    {
     "name": "stdout",
     "output_type": "stream",
     "text": [
      "P- = 6.90611165343e-05\n"
     ]
    }
   ],
   "source": [
    "temp_matr1 = np.dot(vect_P_1_, la.block_diag(np.zeros((a*(M1+M2*(L2+R)), a*(M1+M2*(L2+R)))), np.eye(a*R*L1)))\n",
    "vect_e = np.array([[1.] for i in range(0, temp_matr1.shape[1])])\n",
    "temp_matr = np.dot(temp_matr1, vect_e)\n",
    "\n",
    "temp_matr2 = np.dot(vect_p_l[0], la.block_diag(np.zeros((a*(1+L2+R), a*(1+L2+R))), np.eye(a*R*L1)))\n",
    "vect_e = np.array([[1.] for i in range(0, temp_matr2.shape[1])])\n",
    "temp_matr += np.dot(temp_matr2, vect_e)\n",
    "\n",
    "prob_both_not_avail = temp_matr[0, 0]\n",
    "print('P- =', prob_both_not_avail)"
   ]
  },
  {
   "cell_type": "heading",
   "metadata": {
    "collapsed": true
   },
   "level": 3,
   "source": [
    "12. Среднее число переключений с прибора 1 на прибор 2 в единицу времени"
   ]
  },
  {
   "cell_type": "code",
   "execution_count": 54,
   "metadata": {},
   "outputs": [
    {
     "name": "stdout",
     "output_type": "stream",
     "text": [
      "Khi_1_2 = 0.0140463409006\n"
     ]
    }
   ],
   "source": [
    "temp_matr1 = np.dot(vect_P_1_, la.block_diag(kron(kron(np.eye(W_), matrH1), np.eye(M1)), np.zeros((a*(M2*(L2+R)+R*L1), a*(M2*(L2+R)+R*L1)))))\n",
    "vect_e = np.array([[1.] for i in range(0, temp_matr1.shape[1])])\n",
    "temp_matr = np.dot(temp_matr1, vect_e)\n",
    "\n",
    "temp_matr2 = np.dot(vect_p_l[0], la.block_diag(kron(np.eye(W_), matrH1), np.zeros((a*(L2+R+R*L1), a*(L2+R+R*L1)))))\n",
    "vect_e = np.array([[1.] for i in range(0, temp_matr2.shape[1])])\n",
    "temp_matr += np.dot(temp_matr2, vect_e)\n",
    "\n",
    "switches12_num = temp_matr[0, 0]\n",
    "print('Khi_1_2 =', switches12_num)"
   ]
  },
  {
   "cell_type": "heading",
   "metadata": {},
   "level": 3,
   "source": [
    "13. Среднее число переключений с прибора 2 на прибор 1 в единицу времени"
   ]
  },
  {
   "cell_type": "code",
   "execution_count": 55,
   "metadata": {},
   "outputs": [
    {
     "name": "stdout",
     "output_type": "stream",
     "text": [
      "Khi_2_1 = 0.00816654902\n"
     ]
    }
   ],
   "source": [
    "temp_matr1 = np.dot(vect_P_1_, la.block_diag(np.zeros((a*(M1+M2*L2), a*(M1+M2*L2))), kron(np.eye(a*M2), matrT),\n",
    "                                             np.zeros((a*R*L1, a*R*L1))))\n",
    "vect_e = np.array([[1.] for i in range(0, temp_matr1.shape[1])])\n",
    "temp_matr = np.dot(temp_matr1, vect_e)\n",
    "temp_matr2 = np.dot(vect_p_l[0], la.block_diag(np.zeros((a*(1+L2), a*(1+L2))), kron(np.eye(a), matrT),\n",
    "                                               np.zeros((a*R*L1, a*R*L1))))\n",
    "vect_e = np.array([[1.] for i in range(0, temp_matr2.shape[1])])\n",
    "temp_matr += np.dot(temp_matr2, vect_e)\n",
    "switches21_num = temp_matr[0, 0]\n",
    "print('Khi_2_1 =', -switches21_num)"
   ]
  },
  {
   "cell_type": "code",
   "execution_count": 55,
   "metadata": {},
   "outputs": [],
   "source": [
    ""
   ]
  },
  {
   "cell_type": "code",
   "execution_count": 55,
   "metadata": {},
   "outputs": [],
   "source": [
    ""
   ]
  },
  {
   "cell_type": "code",
   "execution_count": null,
   "metadata": {},
   "outputs": [],
   "source": [
    ""
   ]
  }
 ],
 "metadata": {
  "kernelspec": {
   "display_name": "Python 3",
   "language": "python",
   "name": "python3"
  },
  "language_info": {
   "codemirror_mode": {
    "name": "ipython",
    "version": 3.0
   },
   "file_extension": ".py",
   "mimetype": "text/x-python",
   "name": "python",
   "nbconvert_exporter": "python",
   "pygments_lexer": "ipython3",
   "version": "3.5.2"
  }
 },
 "nbformat": 4,
 "nbformat_minor": 0
}