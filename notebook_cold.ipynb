{
 "cells": [
  {
   "cell_type": "code",
   "execution_count": 2,
   "metadata": {
    "collapsed": true
   },
   "outputs": [],
   "source": [
    "import numpy as np\n",
    "import pandas as pd\n",
    "import scipy.linalg as la\n",
    "import scipy.optimize as opt\n",
    "import copy\n",
    "np.set_printoptions(threshold=np.inf, suppress=True, formatter={'float': '{: 0.8f}'.format}, linewidth=75)"
   ]
  },
  {
   "cell_type": "code",
   "execution_count": 3,
   "metadata": {
    "collapsed": true
   },
   "outputs": [],
   "source": [
    "def kron(A, B):\n",
    "    return la.kron(A, B)"
   ]
  },
  {
   "cell_type": "code",
   "execution_count": 4,
   "metadata": {
    "collapsed": true
   },
   "outputs": [],
   "source": [
    "def kronsum(A, B):\n",
    "    if A.shape[0] != A.shape[1]:\n",
    "        raise ValueError('A is not square')\n",
    "\n",
    "    if B.shape[0] != B.shape[1]:\n",
    "        raise ValueError('B is not square')\n",
    "    \n",
    "    L = kron(A, np.eye(B.shape[0]))\n",
    "    R = kron(np.eye(A.shape[0]), B)\n",
    "    \n",
    "    return L+R"
   ]
  },
  {
   "cell_type": "code",
   "execution_count": 5,
   "metadata": {
    "collapsed": true
   },
   "outputs": [],
   "source": [
    "n = 3                   # Количество матриц D_k\n",
    "p_num = 100             # Количество векторов стац. вероятн. p\n",
    "eps_G = 10 ** (-6)      # Точность нахождения матр. G\n",
    "eps_Phi = 10 ** (-6)    # Точность нахождения матр. Phi\n",
    "eps_p_i = 10 ** (-6)    # Точность нахождения векторов p"
   ]
  },
  {
   "cell_type": "heading",
   "metadata": {},
   "level": 3,
   "source": [
    "Поток входящих заявок BMAP"
   ]
  },
  {
   "cell_type": "code",
   "execution_count": 6,
   "metadata": {
    "collapsed": false
   },
   "outputs": [
    {
     "name": "stdout",
     "output_type": "stream",
     "text": [
      "[[-86.00000000  0.01000000]\n [ 0.02000000 -2.76000000]]\n[[ 34.83606557  0.40573770]\n [ 0.08196721  1.04098361]]\n[[ 27.86885246  0.32459016]\n [ 0.06557377  0.83278689]]\n[[ 22.29508197  0.25967213]\n [ 0.05245902  0.66622951]]\n"
     ]
    }
   ],
   "source": [
    "# Входной BMAP\n",
    "matrD_0 = np.array([[-86., 0.01], [0.02, -2.76]]) # / 35\n",
    "matrD = np.array([[85, 0.99], [0.2, 2.54]]) # / 35\n",
    "matrD_k = [matrD_0]\n",
    "\n",
    "W_ = matrD_0.shape[0]\n",
    "W = W_ - 1\n",
    "\n",
    "q = 0.8\n",
    "for k in range(1, n+1):\n",
    "    matrD_k.append(matrD * (q ** (k-1)) * (1 - q) / (1 - q ** 3))\n",
    "\n",
    "for matr in matrD_k:\n",
    "    print(matr)"
   ]
  },
  {
   "cell_type": "code",
   "execution_count": 7,
   "metadata": {
    "collapsed": false
   },
   "outputs": [
    {
     "name": "stdout",
     "output_type": "stream",
     "text": [
      "matrD_1_ = [[-1.00000000  1.00000000]\n [ 0.22000000 -0.22000000]]\nTheta = [ 0.18032787  0.81967213]\nlambda = 32.8853990863\n"
     ]
    }
   ],
   "source": [
    "# Характеристики входного BMAP\n",
    "\n",
    "matrD_1_ = np.zeros(matrD_k[0].shape)\n",
    "for matr in matrD_k:\n",
    "    matrD_1_ += matr\n",
    "print('matrD_1_ =', matrD_1_)\n",
    "matr_a = np.array(copy.deepcopy(matrD_1_))\n",
    "for i in range(matr_a.shape[0]):\n",
    "    matr_a[i][0] = 1\n",
    "\n",
    "matr_b = np.zeros((matr_a.shape[0], 1))\n",
    "matr_b[0][0] = 1\n",
    "\n",
    "matr_a = np.transpose(matr_a)\n",
    "\n",
    "theta = la.solve(matr_a, matr_b).reshape(-1)    # Алгоритм проверен.\n",
    "\n",
    "matrdD_1_ = np.array(copy.deepcopy(matrD_k[1]))\n",
    "\n",
    "print('Theta =', theta)\n",
    "\n",
    "for i in range(2, n+1):\n",
    "    matrdD_1_ += matrD_k[i] * i\n",
    "vect_e = np.array([[1.] for i in range(0, matrD_1_.shape[0])])\n",
    "lamD = np.dot(np.dot(theta, matrdD_1_), vect_e)\n",
    "print('lambda =', lamD[0])"
   ]
  },
  {
   "cell_type": "heading",
   "metadata": {},
   "level": 3,
   "source": [
    "Поток поломок MAP"
   ]
  },
  {
   "cell_type": "code",
   "execution_count": 8,
   "metadata": {
    "collapsed": false
   },
   "outputs": [
    {
     "name": "stdout",
     "output_type": "stream",
     "text": [
      "[[ 1.00000000  1.00000000]\n [ 0.05392500 -0.14662500]]"
     ]
    },
    {
     "name": "stdout",
     "output_type": "stream",
     "text": [
      "\nh = 6.00065225318\n"
     ]
    }
   ],
   "source": [
    "# Поток поломок MAP\n",
    "matrH0 = np.array([[-8.110725, 0], [0, -0.26325]])\n",
    "matrH1 = np.array([[8.0568, 0.053925], [0.146625, 0.116625]])\n",
    "V_ = matrH1.shape[0]\n",
    "V = V_ - 1\n",
    "matrH = matrH0 + matrH1\n",
    "matr_a = copy.deepcopy(matrH)\n",
    "for i in range(matr_a.shape[0]):\n",
    "    # print(matr_a)\n",
    "    matr_a[i][0] = 1\n",
    "    \n",
    "matr_b = np.zeros((matr_a.shape[0], 1))\n",
    "matr_b[0][0] = 1\n",
    "\n",
    "matr_a = np.transpose(matr_a)\n",
    "\n",
    "print(matr_a)\n",
    "\n",
    "gamma = la.solve(matr_a, matr_b).reshape(-1)\n",
    "\n",
    "vect_e = np.array([[1.] for i in range(0, matrD_1_.shape[0])])\n",
    "h = np.dot(np.dot(gamma, matrH1), vect_e)\n",
    "print('h =', h[0])"
   ]
  },
  {
   "cell_type": "code",
   "execution_count": 9,
   "metadata": {
    "collapsed": false
   },
   "outputs": [
    {
     "name": "stdout",
     "output_type": "stream",
     "text": [
      "[[ 10.00000000]]\n"
     ]
    }
   ],
   "source": [
    "# Поток обслуживания PH1\n",
    "beta1 = np.array([[1, 0]])\n",
    "matrS1 = np.array([[-20, 20], [0, -20]])\n",
    "M1 = matrS1.shape[0]\n",
    "M1_ = M1 + 1\n",
    "M1_e = np.array([[1], [1]])\n",
    "matrS1_0 = np.dot(- matrS1, M1_e)\n",
    "vect_e = np.array([[1.] for i in range(0, matrS1.shape[0])])\n",
    "# print(np.dot(beta1, la.inv(matrS1)))\n",
    "mu_1 = -la.inv(np.dot(np.dot(beta1, la.inv(matrS1)), vect_e))\n",
    "print(mu_1)"
   ]
  },
  {
   "cell_type": "code",
   "execution_count": 10,
   "metadata": {
    "collapsed": false
   },
   "outputs": [
    {
     "name": "stdout",
     "output_type": "stream",
     "text": [
      "[[ 1.00000000]]\n"
     ]
    }
   ],
   "source": [
    "# Поток обслуживания PH2\n",
    "beta2 = np.array([[1, 0]])\n",
    "matrS2 = np.array([[-2, 2], [0, -2]])\n",
    "M2 = matrS2.shape[0]\n",
    "M2_ = M2 + 1\n",
    "M2_e = np.array([[1], [1]])\n",
    "matrS2_0 = np.dot(- matrS2, M2_e)\n",
    "\n",
    "vect_e = np.array([[1.] for i in range(0, matrS2.shape[0])])\n",
    "mu_2 = -la.inv(np.dot(np.dot(beta2, la.inv(matrS2)), vect_e))\n",
    "print(mu_2)"
   ]
  },
  {
   "cell_type": "code",
   "execution_count": 11,
   "metadata": {
    "collapsed": true
   },
   "outputs": [],
   "source": [
    "matrS_w = kron(np.dot(matrS1_0, beta1), \n",
    "               np.dot(M2_e, beta2)) + kron(np.dot(M1_e, beta1), np.dot(matrS2_0, beta2))"
   ]
  },
  {
   "cell_type": "code",
   "execution_count": 12,
   "metadata": {
    "collapsed": false
   },
   "outputs": [
    {
     "name": "stdout",
     "output_type": "stream",
     "text": [
      "[[ 29.99985287]]\n"
     ]
    }
   ],
   "source": [
    "# Поток переключения с прибора-1 на прибор-2\n",
    "alpha1 = np.array([[0.05, 0.95]])\n",
    "matrA1 = np.array([[-1.86075, 0.], [0., -146.9994]])\n",
    "L1 = matrA1.shape[0]\n",
    "L1_ = L1 + 1\n",
    "L1_e = np.array([[1], [1]])\n",
    "matrA1_0 = - np.dot(matrA1, L1_e)\n",
    "\n",
    "vect_e = np.array([[1.] for i in range(0, matrA1.shape[0])])\n",
    "kappa_1 = -la.inv(np.dot(np.dot(alpha1, la.inv(matrA1)), vect_e))\n",
    "print(kappa_1)"
   ]
  },
  {
   "cell_type": "code",
   "execution_count": 13,
   "metadata": {
    "collapsed": false
   },
   "outputs": [
    {
     "name": "stdout",
     "output_type": "stream",
     "text": [
      "[[ 89.99955862]]\n"
     ]
    }
   ],
   "source": [
    "# Поток переключения с прибора-2 на прибор-1\n",
    "alpha2 = np.array([[0.05, 0.95]])\n",
    "matrA2 = np.array([[-5.58225, 0.], [0., -440.9982]])\n",
    "L2 = matrA2.shape[0]\n",
    "L2_ = L2 + 1\n",
    "L2_e = np.array([[1], [1]])\n",
    "matrA2_0 = - np.dot(matrA2, L2_e)\n",
    "\n",
    "vect_e = np.array([[1.] for i in range(0, matrA1.shape[0])])\n",
    "kappa_2 = -la.inv(np.dot(np.dot(alpha2, la.inv(matrA2)), vect_e))\n",
    "print(kappa_2)"
   ]
  },
  {
   "cell_type": "code",
   "execution_count": 14,
   "metadata": {
    "collapsed": false
   },
   "outputs": [
    {
     "name": "stdout",
     "output_type": "stream",
     "text": [
      "[[ 100.00980000]]\n"
     ]
    }
   ],
   "source": [
    "# Поток ремонта PH\n",
    "tau = np.array([[0.98, 0.02]])\n",
    "matrT = np.array([[-100., 0.], [0., -0.0002]])\n",
    "T_e = np.array([[1], [1]])\n",
    "matrT0 = - np.dot(matrT, T_e)\n",
    "\n",
    "R = matrT.shape[0]\n",
    "R_ = R + 1\n",
    "vect_e = np.array([[1.] for i in range(0, matrT.shape[0])])\n",
    "phi = -np.dot(np.dot(tau, la.inv(matrT)), vect_e)\n",
    "print(phi)"
   ]
  },
  {
   "cell_type": "code",
   "execution_count": 15,
   "metadata": {
    "collapsed": false
   },
   "outputs": [
    {
     "name": "stdout",
     "output_type": "stream",
     "text": [
      "a = 4\n"
     ]
    }
   ],
   "source": [
    "a = W_ * V_\n",
    "print('a =', a)"
   ]
  },
  {
   "cell_type": "code",
   "execution_count": 16,
   "metadata": {
    "collapsed": false
   },
   "outputs": [
    {
     "name": "stdout",
     "output_type": "stream",
     "text": [
      "(16, 4)\n(36, 36)\n"
     ]
    }
   ],
   "source": [
    "# Q~0\n",
    "block00 = kronsum(matrD_k[0], matrH0)\n",
    "block03 = kron(kron(kron(np.eye(W_), matrH1), tau), alpha1)\n",
    "block10 = kron(np.eye(a), matrA2_0)\n",
    "block11 = kronsum(kronsum(matrD_k[0], matrH0), matrA2)\n",
    "block12 = kron(kron(kron(np.eye(W_), matrH1), tau), L2_e)\n",
    "block21 = kron(kron(np.eye(a), matrT0), alpha2)\n",
    "block22 = kronsum(kronsum(matrD_k[0], matrH), matrT)\n",
    "block30 = kron(kron(np.eye(a), matrT0), L1_e)\n",
    "block32 = kron(kron(np.eye(a), np.eye(R)), matrA1_0)\n",
    "block33 = kronsum(kronsum(kronsum(matrD_k[0], matrH), matrT), matrA1)\n",
    "block01 = np.zeros((block00.shape[0], block11.shape[1]))\n",
    "block02 = np.zeros((block00.shape[0], block12.shape[1]))\n",
    "block13 = np.zeros((block10.shape[0], block03.shape[1]))\n",
    "block20 = np.zeros((block21.shape[0], block10.shape[1]))\n",
    "block23 = np.zeros((block21.shape[0], block03.shape[1]))\n",
    "block31 = np.zeros((block30.shape[0], block11.shape[1]))\n",
    "\n",
    "print(block30.shape)\n",
    "\n",
    "matrQw_0 = np.bmat([[block00, block01, block02, block03],\n",
    "                    [block10, block11, block12, block13], \n",
    "                    [block20, block21, block22, block23],\n",
    "                    [block30, block31, block32, block33]])\n",
    "print(matrQw_0.shape)"
   ]
  },
  {
   "cell_type": "code",
   "execution_count": 17,
   "metadata": {
    "collapsed": false
   },
   "outputs": [
    {
     "name": "stdout",
     "output_type": "stream",
     "text": [
      "(36, 36)\n(36, 56)\n"
     ]
    }
   ],
   "source": [
    "# Q~k\n",
    "matrQw_k = [matrQw_0]\n",
    "for i in range(1, n+1):\n",
    "    block0 = kron(kron(matrD_k[i], np.eye(V_)), beta1)\n",
    "    block1 = kron(kron(kron(matrD_k[i], np.eye(V_)), beta2), np.eye(L2))\n",
    "    block2 = kron(kron(kron(matrD_k[i], np.eye(V_)), beta2), np.eye(R))\n",
    "    block3 = kron(kron(matrD_k[i], np.eye(V_)), np.eye(R*L1))\n",
    "    matr_temp = la.block_diag(block0, block1, block2, block3)\n",
    "    matrQw_k.append(matr_temp)\n",
    "    \n",
    "print(matrQw_k[0].shape)\n",
    "print(matrQw_k[1].shape)\n",
    "\n",
    "for i in range(matrQw_k[0].shape[0]):\n",
    "    sum = 0\n",
    "    for matr in matrQw_k:\n",
    "        sum += np.sum(matr[i])\n",
    "    # print('matrQw_k[' + str(i) + '] = ', sum)"
   ]
  },
  {
   "cell_type": "code",
   "execution_count": 18,
   "metadata": {
    "collapsed": false
   },
   "outputs": [
    {
     "name": "stdout",
     "output_type": "stream",
     "text": [
      "(56, 36)\n"
     ]
    }
   ],
   "source": [
    "# Q^0\n",
    "block0 = kron(np.eye(a), matrS1_0)\n",
    "block1 = kron(kron(np.eye(a), matrS2_0), np.eye(L2))\n",
    "block2 = kron(kron(np.eye(a), matrS2_0), np.eye(R))\n",
    "block3 = np.zeros((a*R*L1, a*R*L1))\n",
    "matrQv_0 = la.block_diag(block0, block1, block2, block3)\n",
    "\n",
    "print(matrQv_0.shape)"
   ]
  },
  {
   "cell_type": "code",
   "execution_count": 19,
   "metadata": {
    "collapsed": false
   },
   "outputs": [
    {
     "name": "stdout",
     "output_type": "stream",
     "text": [
      "(56, 56)\n"
     ]
    }
   ],
   "source": [
    "# Q_0\n",
    "block0 = kron(np.eye(a), np.dot(matrS1_0, beta1))\n",
    "block1 = kron(kron(np.eye(a), np.dot(matrS2_0, beta2)), np.eye(L2))\n",
    "block2 = kron(kron(np.eye(a), np.dot(matrS2_0, beta2)), np.eye(R))\n",
    "block3 = np.zeros((a*R*L1, a*R*L1))\n",
    "matrQ_0 = la.block_diag(block0, block1, block2, block3)\n",
    "\n",
    "print(matrQ_0.shape)"
   ]
  },
  {
   "cell_type": "code",
   "execution_count": 20,
   "metadata": {
    "collapsed": false
   },
   "outputs": [
    {
     "name": "stdout",
     "output_type": "stream",
     "text": [
      "(56, 56)\n"
     ]
    }
   ],
   "source": [
    "# Q_1\n",
    "block00 = kronsum(kronsum(matrD_k[0], matrH0), matrS1)\n",
    "block03 = kron(kron(kron(kron(np.eye(W_), matrH1), M1_e), tau), alpha1)\n",
    "block10 = kron(kron(kron(np.eye(a), M2_e), beta1), matrA2_0)\n",
    "block11 = kronsum(kronsum(kronsum(matrD_k[0], matrH0), matrS2), matrA2)\n",
    "block12 = kron(kron(kron(kron(np.eye(W_), matrH1), np.eye(M2)), tau), L2_e)\n",
    "block21 = kron(kron(kron(np.eye(a), np.eye(M2)), matrT0), alpha1)\n",
    "block22 = kronsum(kronsum(kronsum(matrD_k[0], matrH), matrS2), matrT)\n",
    "block30 = kron(kron(kron(np.eye(a), beta1), matrT0), L1_e)\n",
    "block32 = kron(kron(kron(np.eye(a), beta2), np.eye(R)), matrA1_0)\n",
    "block33 = kronsum(kronsum(kronsum(matrD_k[0], matrH), matrT), matrA1)\n",
    "block01 = np.zeros((block00.shape[0], block11.shape[1]))\n",
    "block02 = np.zeros((block00.shape[0], block12.shape[1]))\n",
    "block13 = np.zeros((block10.shape[0], block03.shape[1]))\n",
    "block20 = np.zeros((block21.shape[0], block10.shape[1]))\n",
    "block23 = np.zeros((block21.shape[0], block03.shape[1]))\n",
    "block31 = np.zeros((block30.shape[0], block11.shape[1]))\n",
    "\n",
    "matrQ_1 = np.bmat([[block00, block01, block02, block03], \n",
    "                   [block10, block11, block12, block13], \n",
    "                   [block20, block21, block22, block23], \n",
    "                   [block30, block31, block32, block33]])\n",
    "\n",
    "print(matrQ_1.shape)"
   ]
  },
  {
   "cell_type": "code",
   "execution_count": 21,
   "metadata": {
    "collapsed": true
   },
   "outputs": [],
   "source": [
    "matrQ_k = [matrQ_0, matrQ_1]\n",
    "for k in range(2, n+2):\n",
    "    block0 = kron(matrD_k[k-1], np.eye(V_ * M1))\n",
    "    block1 = kron(matrD_k[k-1], np.eye(V_*M2*L2))\n",
    "    block2 = kron(matrD_k[k-1], np.eye(V_*M2*R))\n",
    "    block3 = kron(matrD_k[k-1], np.eye(V_*R*L1))\n",
    "    matr_temp = la.block_diag(block0, block1, block2, block3)\n",
    "    matrQ_k.append(matr_temp)\n",
    "\n",
    "# for i in range(matrQ_k[0].shape[0]):\n",
    "#     sum = np.sum(matrQv_0[i])\n",
    "#     for j in range(1, np.array(matrQ_k).shape[0]):\n",
    "#         sum += np.sum(matrQ_k[j][i])\n",
    "#     print('matrQ_k[' + str(i) + '] = ', sum)"
   ]
  },
  {
   "cell_type": "code",
   "execution_count": 22,
   "metadata": {
    "collapsed": true
   },
   "outputs": [],
   "source": [
    "# Проверка генератора Q"
   ]
  },
  {
   "cell_type": "code",
   "execution_count": 23,
   "metadata": {
    "collapsed": true
   },
   "outputs": [
    {
     "name": "stdout",
     "output_type": "stream",
     "text": [
      "137\n1.0000011004408416\n(56, 56)\n"
     ]
    }
   ],
   "source": [
    "# Поиск матрицы G\n",
    "\n",
    "matrQ_1_neg_inv = np.linalg.inv(-matrQ_k[1])\n",
    "\n",
    "\n",
    "def calc_G(matrG_prev):\n",
    "    temp_sum = np.array(copy.deepcopy(matrQ_k[0])) \n",
    "    for k in range(2, n + 2):\n",
    "        temp_sum += np.dot(matrQ_k[k], np.linalg.matrix_power(matrG_prev, k))\n",
    "    matrG_new = np.dot(matrQ_1_neg_inv, temp_sum)\n",
    "    return matrG_new\n",
    "\n",
    "matrG_old = np.eye(matrQ_k[1].shape[0])\n",
    "matrG = calc_G(matrG_old)\n",
    "\n",
    "i = 1\n",
    "while la.norm(matrG - matrG_old, ord=np.inf) >= eps_G:\n",
    "    matrG_old = matrG\n",
    "    matrG = calc_G(matrG_old)\n",
    "    i += 1\n",
    "print(i)\n",
    "print(la.norm(matrG, ord=np.inf))\n",
    "print(matrG.shape)"
   ]
  },
  {
   "cell_type": "code",
   "execution_count": 24,
   "metadata": {
    "collapsed": false
   },
   "outputs": [
    {
     "data": {
      "text/plain": [
       "1.0000011004408416"
      ]
     },
     "execution_count": 23,
     "metadata": {},
     "output_type": "execute_result"
    }
   ],
   "source": [
    "la.norm(matrG, ord=np.inf)"
   ]
  },
  {
   "cell_type": "code",
   "execution_count": 25,
   "metadata": {
    "collapsed": false
   },
   "outputs": [
    {
     "data": {
      "text/plain": [
       "1.0000012050895348"
      ]
     },
     "execution_count": 24,
     "metadata": {},
     "output_type": "execute_result"
    }
   ],
   "source": [
    "temp_sum = np.array(copy.deepcopy(matrQ_k[1]))\n",
    "for k in range(2, n+2):\n",
    "    temp_sum += np.dot(matrQ_k[k], np.linalg.matrix_power(matrG, k-1))\n",
    "matrG_0 = la.inv(temp_sum)\n",
    "matrG_0 = -np.dot(matrG_0, matrQv_0)\n",
    "# pd.DataFrame(matrG_0)\n",
    "la.norm(matrG_0, ord=np.inf)"
   ]
  },
  {
   "cell_type": "code",
   "execution_count": 26,
   "metadata": {
    "collapsed": false
   },
   "outputs": [
    {
     "name": "stdout",
     "output_type": "stream",
     "text": [
      "mult matr 0 shape :  (36, 36)\nmult matr 0 shape :  (36, 36)\nmult matr 0 shape :  (36, 36)\nmult matr 0 shape :  (36, 56)\nmult matr 0 shape :  (36, 56)\nmult matr 0 shape :  (36, 56)\n"
     ]
    },
    {
     "name": "stdout",
     "output_type": "stream",
     "text": [
      "50.74822150072864\n"
     ]
    }
   ],
   "source": [
    "matrQ_il = []\n",
    "for i in range(0, p_num):\n",
    "    matrQ_il.append([])\n",
    "    if i == 0:\n",
    "        for l in range(0, n + 1):\n",
    "            # здесь до n, т.к. нет больше матриц Q_k\n",
    "            temp_matr = np.array(copy.deepcopy(matrQw_k[l]))\n",
    "            for k in range(l + 1, n + 1):\n",
    "                mult_matr = np.array(copy.deepcopy(matrQw_k[k]))\n",
    "                for kk in range(k - 1, l - 1, -1):\n",
    "                    if kk == 0:\n",
    "                        mult_matr = np.dot(mult_matr, matrG_0)\n",
    "                    else:\n",
    "                        mult_matr = np.dot(mult_matr, matrG)\n",
    "                print(\"mult matr 0 shape : \", mult_matr.shape)\n",
    "                temp_matr += mult_matr\n",
    "            matrQ_il[i].append(temp_matr)\n",
    "        for l in range(n + 1, p_num):\n",
    "            matrQ_il[i].append(np.zeros(matrQw_k[1].shape))\n",
    "    else:\n",
    "        for l in range(0, p_num):\n",
    "            if l >= i and (l - i) <= (n + 1):\n",
    "                if (l - i + 1) <= (n + 1): \n",
    "                    temp_matr = np.array(copy.deepcopy(matrQ_k[l - i + 1]))\n",
    "                else:\n",
    "                    temp_matr = np.zeros(matrQ_k[0].shape)\n",
    "                    \n",
    "                for k in range(l + 1, p_num):  # sum from l+1 to inf\n",
    "                    if (k - i + 1) <= (n + 1):\n",
    "                        mult_matr = np.array(copy.deepcopy(matrQ_k[k - i + 1]))\n",
    "                        for kk in range(l, k):\n",
    "                            mult_matr = np.dot(mult_matr, matrG)\n",
    "                        \n",
    "                        temp_matr += mult_matr\n",
    "                matrQ_il[i].append(temp_matr)\n",
    "            else:\n",
    "                matrQ_il[i].append(np.zeros(matrQ_k[0].shape))\n",
    "\n",
    "# print(len(matrQ_il[3]))\n",
    "print(la.norm(matrQ_il[1][3], ord=np.inf))"
   ]
  },
  {
   "cell_type": "code",
   "execution_count": 27,
   "metadata": {
    "collapsed": false
   },
   "outputs": [
    {
     "name": "stdout",
     "output_type": "stream",
     "text": [
      "(36, 56)\n"
     ]
    }
   ],
   "source": [
    "matrPhi_0 = np.eye(matrQ_il[0][0].shape[0])\n",
    "matrPhi_l = [matrPhi_0]\n",
    "for l in range(1, p_num):\n",
    "    temp_matr = np.dot(np.dot(matrPhi_l[0], matrQ_il[0][l]), la.inv(-matrQ_il[l][l]))\n",
    "    for i in range(1, l):\n",
    "        # print(matrPhi_l[i].dot(matrQ_il[i][l]).dot(la.inv(-matrQ_il[l][l])).shape)\n",
    "        temp_matr += np.dot(np.dot(matrPhi_l[i], matrQ_il[i][l]), la.inv(-matrQ_il[l][l]))\n",
    "    matrPhi_l.append(temp_matr)\n",
    "print(matrPhi_l[1].shape)"
   ]
  },
  {
   "cell_type": "code",
   "execution_count": 28,
   "metadata": {
    "collapsed": false
   },
   "outputs": [
    {
     "name": "stdout",
     "output_type": "stream",
     "text": [
      "1047.1679185160397\n"
     ]
    }
   ],
   "source": [
    "print(la.norm(matrPhi_l[p_num - 1], ord=np.inf))"
   ]
  },
  {
   "cell_type": "code",
   "execution_count": 29,
   "metadata": {
    "collapsed": false
   },
   "outputs": [
    {
     "name": "stdout",
     "output_type": "stream",
     "text": [
      "[[ 0.00000016  0.00000035  0.00057630  0.00124123  0.00000000  0.00000000\n   0.00000000  0.00000000  0.00000820  0.00000564  0.00000057  0.00000021\n   0.00000001  0.00000001  0.00000000  0.00000000  0.00002682  0.00003995\n   0.00000096  0.00000237  0.00000000  0.00000000  0.00000000  0.00000000\n   0.00000000  0.00000000  0.00000000  0.00000000  0.00000226  0.00001798\n   0.00000103  0.00000061  0.00000008  0.00000066  0.00000005  0.00000002]]\n"
     ]
    }
   ],
   "source": [
    "# Вычисление p_0\n",
    "matr_a = np.array(- copy.deepcopy(matrQ_il[0][0]))\n",
    "vect_eaR = np.array([[1.] for _ in range(matrPhi_l[0].shape[1])])\n",
    "for i in range(1, p_num):\n",
    "    vect_e = np.array([[1.] for _ in range(matrPhi_l[i].shape[1])])\n",
    "    vect_eaR += np.dot(matrPhi_l[i], vect_e)\n",
    "\n",
    "for i in range(matr_a.shape[0]):\n",
    "    matr_a[i][0] = vect_eaR[i][0]\n",
    "\n",
    "matr_b = np.zeros((matr_a.shape[0], 1))\n",
    "matr_b[0][0] = 1.\n",
    "matr_a = np.transpose(matr_a)\n",
    "p0 = np.transpose(la.solve(matr_a, matr_b))\n",
    "\n",
    "# print(p0)\n",
    "print(p0)"
   ]
  },
  {
   "cell_type": "code",
   "execution_count": 58,
   "metadata": {
    "collapsed": true
   },
   "outputs": [
    {
     "name": "stdout",
     "output_type": "stream",
     "text": [
      "sum0 =  0.00192549500286\np0 =  [[ 0.00000016  0.00000035  0.00057630  0.00124123  0.00000000  0.00000000\n   0.00000000  0.00000000  0.00000820  0.00000564  0.00000057  0.00000021\n   0.00000001  0.00000001  0.00000000  0.00000000  0.00002682  0.00003995\n   0.00000096  0.00000237  0.00000000  0.00000000  0.00000000  0.00000000\n   0.00000000  0.00000000  0.00000000  0.00000000  0.00000226  0.00001798\n   0.00000103  0.00000061  0.00000008  0.00000066  0.00000005  0.00000002]]\np1 =  [[ 0.00000058  0.00000012  0.00000122  0.00000026  0.00013182  0.00008540\n   0.00020629  0.00017920  0.00000001  0.00000001  0.00000000  0.00000000\n   0.00000000  0.00000000  0.00000000  0.00000000  0.00000329  0.00000216\n   0.00000042  0.00000006  0.00000022  0.00000007  0.00000004  0.00000000\n   0.00000003  0.00000005  0.00000000  0.00000000  0.00000000  0.00000000\n   0.00000000  0.00000000  0.00001025  0.00002154  0.00000023  0.00000898\n   0.00000032  0.00000138  0.00000001  0.00000066  0.00000000  0.00000002\n   0.00000000  0.00000000  0.00000000  0.00000000  0.00000000  0.00000000\n   0.00000087  0.00000681  0.00000062  0.00000023  0.00000003  0.00000022\n   0.00000003  0.00000001]]\nsum1 =  0.000663453871257\np2 =  [[ 0.00000081  0.00000025  0.00000163  0.00000056  0.00012706  0.00008520\n   0.00018639  0.00017002  0.00000001  0.00000001  0.00000000  0.00000000\n   0.00000000  0.00000000  0.00000000  0.00000000  0.00000334  0.00000213\n   0.00000045  0.00000006  0.00000022  0.00000007  0.00000005  0.00000000\n   0.00000005  0.00000008  0.00000000  0.00000001  0.00000000  0.00000000\n   0.00000000  0.00000000  0.00001008  0.00002598  0.00000023  0.00001278\n   0.00000030  0.00000177  0.00000001  0.00000100  0.00000000  0.00000003\n   0.00000000  0.00000000  0.00000000  0.00000000  0.00000000  0.00000000\n   0.00000085  0.00000666  0.00000070  0.00000023  0.00000003  0.00000020\n   0.00000003  0.00000001]]\nsum2 =  0.000639298343274\np3 =  [[ 0.00000107  0.00000042  0.00000207  0.00000091  0.00011315  0.00007849\n   0.00015569  0.00014943  0.00000002  0.00000001  0.00000000  0.00000000\n   0.00000000  0.00000000  0.00000000  0.00000000  0.00000317  0.00000194\n   0.00000045  0.00000005  0.00000021  0.00000006  0.00000005  0.00000000\n   0.00000007  0.00000012  0.00000000  0.00000003  0.00000000  0.00000001\n   0.00000000  0.00000000  0.00000920  0.00002954  0.00000022  0.00001665\n   0.00000027  0.00000213  0.00000001  0.00000138  0.00000001  0.00000005\n   0.00000000  0.00000000  0.00000000  0.00000000  0.00000000  0.00000000\n   0.00000077  0.00000602  0.00000075  0.00000021  0.00000002  0.00000018\n   0.00000004  0.00000001]]\nsum3 =  0.000574869809586\np4 =  [[ 0.00000111  0.00000056  0.00000200  0.00000121  0.00008880  0.00006433\n   0.00011402  0.00011717  0.00000002  0.00000002  0.00000000  0.00000000\n   0.00000000  0.00000000  0.00000000  0.00000000  0.00000246  0.00000153\n   0.00000037  0.00000004  0.00000015  0.00000004  0.00000004  0.00000000\n   0.00000008  0.00000016  0.00000000  0.00000006  0.00000000  0.00000001\n   0.00000000  0.00000000  0.00000727  0.00002805  0.00000018  0.00001878\n   0.00000020  0.00000219  0.00000000  0.00000165  0.00000001  0.00000005\n   0.00000000  0.00000000  0.00000000  0.00000000  0.00000000  0.00000000\n   0.00000061  0.00000479  0.00000065  0.00000016  0.00000002  0.00000013\n   0.00000003  0.00000000]]\nsum4 =  0.000458986490725\np5 =  [[ 0.00000123  0.00000068  0.00000215  0.00000144  0.00008139  0.00005887\n   0.00010473  0.00010664  0.00000003  0.00000002  0.00000000  0.00000000\n   0.00000000  0.00000000  0.00000000  0.00000000  0.00000224  0.00000140\n   0.00000034  0.00000004  0.00000014  0.00000004  0.00000004  0.00000000\n   0.00000009  0.00000020  0.00000000  0.00000008  0.00000000  0.00000001\n   0.00000000  0.00000001  0.00000665  0.00002922  0.00000016  0.00002093\n   0.00000018  0.00000242  0.00000000  0.00000194  0.00000001  0.00000006\n   0.00000001  0.00000000  0.00000000  0.00000000  0.00000000  0.00000000\n   0.00000056  0.00000438  0.00000063  0.00000015  0.00000002  0.00000012\n   0.00000003  0.00000000]]\nsum5 =  0.000429306927395\np6 =  [[ 0.00000133  0.00000079  0.00000226  0.00000165  0.00007614  0.00005476\n   0.00009988  0.00010020  0.00000003  0.00000002  0.00000000  0.00000000\n   0.00000000  0.00000000  0.00000000  0.00000000  0.00000206  0.00000130\n   0.00000032  0.00000004  0.00000013  0.00000004  0.00000004  0.00000000\n   0.00000010  0.00000024  0.00000000  0.00000011  0.00000000  0.00000002\n   0.00000000  0.00000001  0.00000619  0.00002990  0.00000015  0.00002259\n   0.00000017  0.00000263  0.00000000  0.00000220  0.00000001  0.00000007\n   0.00000001  0.00000000  0.00000000  0.00000000  0.00000000  0.00000000\n   0.00000052  0.00000409  0.00000060  0.00000014  0.00000001  0.00000012\n   0.00000003  0.00000000]]\nsum6 =  0.000410922089592\np7 =  [[ 0.00000141  0.00000087  0.00000232  0.00000183  0.00007351  0.00005247\n   0.00009913  0.00009796  0.00000003  0.00000002  0.00000000  0.00000000\n   0.00000000  0.00000000  0.00000000  0.00000000  0.00000195  0.00000125\n   0.00000030  0.00000004  0.00000012  0.00000004  0.00000003  0.00000000\n   0.00000011  0.00000028  0.00000000  0.00000014  0.00000000  0.00000002\n   0.00000000  0.00000001  0.00000593  0.00003037  0.00000014  0.00002382\n   0.00000017  0.00000282  0.00000000  0.00000243  0.00000001  0.00000007\n   0.00000001  0.00000000  0.00000000  0.00000000  0.00000000  0.00000000\n   0.00000050  0.00000394  0.00000056  0.00000013  0.00000001  0.00000011\n   0.00000003  0.00000000]]\nsum7 =  0.000404934798852\np8 =  [[ 0.00000150  0.00000096  0.00000243  0.00000200  0.00007315  0.00005194\n   0.00010124  0.00009916  0.00000004  0.00000002  0.00000000  0.00000000\n   0.00000000  0.00000000  0.00000000  0.00000000  0.00000191  0.00000124\n   0.00000029  0.00000004  0.00000012  0.00000004  0.00000003  0.00000000\n   0.00000012  0.00000032  0.00000000  0.00000018  0.00000000  0.00000002\n   0.00000000  0.00000002  0.00000588  0.00003117  0.00000014  0.00002502\n   0.00000017  0.00000302  0.00000000  0.00000266  0.00000001  0.00000008\n   0.00000001  0.00000000  0.00000000  0.00000000  0.00000000  0.00000000\n   0.00000050  0.00000391  0.00000055  0.00000013  0.00000001  0.00000011\n   0.00000003  0.00000000]]\nsum8 =  0.000410174624759\np9 =  [[ 0.00000159  0.00000104  0.00000253  0.00000217  0.00007415  0.00005242\n   0.00010488  0.00010211  0.00000004  0.00000003  0.00000000  0.00000000\n   0.00000000  0.00000000  0.00000000  0.00000000  0.00000191  0.00000125\n   0.00000029  0.00000004  0.00000012  0.00000004  0.00000003  0.00000000\n   0.00000012  0.00000036  0.00000000  0.00000021  0.00000000  0.00000003\n   0.00000000  0.00000002  0.00000594  0.00003199  0.00000014  0.00002608\n   0.00000017  0.00000322  0.00000000  0.00000288  0.00000001  0.00000008\n   0.00000001  0.00000000  0.00000000  0.00000000  0.00000000  0.00000000\n   0.00000050  0.00000395  0.00000053  0.00000014  0.00000002  0.00000012\n   0.00000003  0.00000000]]\nsum9 =  0.000421224090422\np10 =  [[ 0.00000168  0.00000112  0.00000264  0.00000233  0.00007622  0.00005371\n   0.00010961  0.00010635  0.00000004  0.00000003  0.00000001  0.00000000\n   0.00000000  0.00000000  0.00000000  0.00000000  0.00000195  0.00000128\n   0.00000029  0.00000004  0.00000012  0.00000004  0.00000003  0.00000000\n   0.00000013  0.00000041  0.00000000  0.00000025  0.00000000  0.00000003\n   0.00000000  0.00000002  0.00000609  0.00003292  0.00000014  0.00002709\n   0.00000018  0.00000343  0.00000000  0.00000309  0.00000001  0.00000009\n   0.00000001  0.00000000  0.00000000  0.00000000  0.00000000  0.00000000\n   0.00000052  0.00000406  0.00000053  0.00000014  0.00000002  0.00000012\n   0.00000003  0.00000000]]\nsum10 =  0.000436811922414\np11 =  [[ 0.00000177  0.00000120  0.00000277  0.00000249  0.00007910  0.00005563\n   0.00011513  0.00011148  0.00000004  0.00000003  0.00000001  0.00000000\n   0.00000000  0.00000000  0.00000000  0.00000000  0.00000201  0.00000133\n   0.00000030  0.00000004  0.00000012  0.00000004  0.00000003  0.00000000\n   0.00000014  0.00000045  0.00000000  0.00000029  0.00000000  0.00000004\n   0.00000000  0.00000003  0.00000632  0.00003399  0.00000015  0.00002811\n   0.00000019  0.00000364  0.00000000  0.00000330  0.00000001  0.00000009\n   0.00000001  0.00000000  0.00000000  0.00000000  0.00000000  0.00000000\n   0.00000054  0.00000421  0.00000053  0.00000014  0.00000002  0.00000013\n   0.00000003  0.00000000]]\nsum11 =  0.000455879539179\np12 =  [[ 0.00000187  0.00000127  0.00000290  0.00000265  0.00008261  0.00005801\n   0.00012126  0.00011728  0.00000005  0.00000003  0.00000001  0.00000000\n   0.00000000  0.00000000  0.00000000  0.00000000  0.00000209  0.00000139\n   0.00000031  0.00000004  0.00000013  0.00000004  0.00000003  0.00000000\n   0.00000015  0.00000050  0.00000000  0.00000033  0.00000000  0.00000004\n   0.00000000  0.00000003  0.00000659  0.00003517  0.00000016  0.00002915\n   0.00000020  0.00000385  0.00000000  0.00000351  0.00000001  0.00000010\n   0.00000001  0.00000000  0.00000000  0.00000000  0.00000000  0.00000000\n   0.00000056  0.00000439  0.00000054  0.00000015  0.00000002  0.00000013\n   0.00000003  0.00000000]]\nsum12 =  0.000477636362396\np13 =  [[ 0.00000197  0.00000135  0.00000304  0.00000282  0.00008665  0.00006079\n   0.00012792  0.00012365  0.00000005  0.00000003  0.00000001  0.00000000\n   0.00000000  0.00000000  0.00000000  0.00000000  0.00000219  0.00000145\n   0.00000032  0.00000004  0.00000014  0.00000004  0.00000004  0.00000000\n   0.00000016  0.00000054  0.00000000  0.00000037  0.00000000  0.00000005\n   0.00000000  0.00000004  0.00000691  0.00003647  0.00000016  0.00003025\n   0.00000021  0.00000407  0.00000000  0.00000372  0.00000001  0.00000010\n   0.00000001  0.00000000  0.00000000  0.00000000  0.00000000  0.00000000\n   0.00000059  0.00000461  0.00000056  0.00000016  0.00000002  0.00000014\n   0.00000003  0.00000000]]\nsum13 =  0.000501718693142\np14 =  [[ 0.00000208  0.00000144  0.00000320  0.00000299  0.00009113  0.00006390\n   0.00013507  0.00013051  0.00000005  0.00000003  0.00000001  0.00000000\n   0.00000000  0.00000000  0.00000000  0.00000000  0.00000230  0.00000153\n   0.00000034  0.00000004  0.00000014  0.00000005  0.00000004  0.00000000\n   0.00000016  0.00000059  0.00000000  0.00000041  0.00000001  0.00000005\n   0.00000000  0.00000004  0.00000726  0.00003790  0.00000017  0.00003142\n   0.00000022  0.00000430  0.00000000  0.00000394  0.00000001  0.00000011\n   0.00000001  0.00000000  0.00000000  0.00000000  0.00000000  0.00000000\n   0.00000062  0.00000485  0.00000058  0.00000017  0.00000002  0.00000015\n   0.00000003  0.00000001]]\nsum14 =  0.000527903115279\np15 =  [[ 0.00000220  0.00000152  0.00000337  0.00000317  0.00009602  0.00006730\n   0.00014269  0.00013784  0.00000006  0.00000004  0.00000001  0.00000000\n   0.00000000  0.00000000  0.00000000  0.00000000  0.00000242  0.00000161\n   0.00000036  0.00000005  0.00000015  0.00000005  0.00000004  0.00000000\n   0.00000017  0.00000064  0.00000000  0.00000045  0.00000001  0.00000006\n   0.00000000  0.00000005  0.00000765  0.00003946  0.00000018  0.00003268\n   0.00000023  0.00000453  0.00000000  0.00000416  0.00000001  0.00000012\n   0.00000001  0.00000000  0.00000000  0.00000000  0.00000000  0.00000000\n   0.00000065  0.00000511  0.00000060  0.00000017  0.00000002  0.00000016\n   0.00000003  0.00000001]]\nsum15 =  0.000556073609009\np16 =  [[ 0.00000232  0.00000161  0.00000354  0.00000336  0.00010130  0.00007098\n   0.00015078  0.00014565  0.00000006  0.00000004  0.00000001  0.00000000\n   0.00000000  0.00000000  0.00000000  0.00000000  0.00000255  0.00000170\n   0.00000038  0.00000005  0.00000016  0.00000005  0.00000004  0.00000000\n   0.00000018  0.00000070  0.00000000  0.00000050  0.00000001  0.00000007\n   0.00000000  0.00000005  0.00000807  0.00004116  0.00000019  0.00003402\n   0.00000025  0.00000478  0.00000001  0.00000439  0.00000002  0.00000012\n   0.00000001  0.00000000  0.00000000  0.00000000  0.00000000  0.00000000\n   0.00000069  0.00000538  0.00000062  0.00000018  0.00000002  0.00000017\n   0.00000003  0.00000001]]\nsum16 =  0.000586198258623\np17 =  [[ 0.00000245  0.00000171  0.00000373  0.00000355  0.00010694  0.00007492\n   0.00015936  0.00015392  0.00000006  0.00000004  0.00000001  0.00000000\n   0.00000000  0.00000000  0.00000000  0.00000000  0.00000269  0.00000179\n   0.00000040  0.00000005  0.00000017  0.00000006  0.00000004  0.00000000\n   0.00000019  0.00000075  0.00000000  0.00000054  0.00000001  0.00000007\n   0.00000000  0.00000006  0.00000852  0.00004299  0.00000020  0.00003547\n   0.00000026  0.00000503  0.00000001  0.00000462  0.00000002  0.00000013\n   0.00000001  0.00000000  0.00000000  0.00000000  0.00000000  0.00000000\n   0.00000072  0.00000568  0.00000065  0.00000019  0.00000002  0.00000018\n   0.00000003  0.00000001]]\nsum17 =  0.000618290885045\np18 =  [[ 0.00000259  0.00000181  0.00000394  0.00000376  0.00011295  0.00007912\n   0.00016844  0.00016269  0.00000007  0.00000004  0.00000001  0.00000000\n   0.00000000  0.00000000  0.00000000  0.00000000  0.00000284  0.00000189\n   0.00000042  0.00000005  0.00000018  0.00000006  0.00000005  0.00000000\n   0.00000021  0.00000081  0.00000000  0.00000059  0.00000001  0.00000008\n   0.00000000  0.00000007  0.00000899  0.00004496  0.00000021  0.00003703\n   0.00000027  0.00000529  0.00000001  0.00000487  0.00000002  0.00000014\n   0.00000002  0.00000000  0.00000000  0.00000000  0.00000000  0.00000000\n   0.00000076  0.00000600  0.00000069  0.00000021  0.00000002  0.00000019\n   0.00000004  0.00000001]]\nsum18 =  0.000652399066317\np19 =  [[ 0.00000274  0.00000191  0.00000415  0.00000397  0.00011934  0.00008359\n   0.00017805  0.00017197  0.00000007  0.00000005  0.00000001  0.00000000\n   0.00000000  0.00000000  0.00000000  0.00000000  0.00000300  0.00000200\n   0.00000044  0.00000006  0.00000019  0.00000006  0.00000005  0.00000000\n   0.00000022  0.00000087  0.00000001  0.00000064  0.00000001  0.00000009\n   0.00000000  0.00000007  0.00000950  0.00004709  0.00000022  0.00003870\n   0.00000029  0.00000557  0.00000001  0.00000512  0.00000002  0.00000015\n   0.00000002  0.00000000  0.00000000  0.00000000  0.00000000  0.00000000\n   0.00000081  0.00000634  0.00000072  0.00000022  0.00000003  0.00000020\n   0.00000004  0.00000001]]\nsum19 =  0.000688595207763\np20 =  [[ 0.00000289  0.00000202  0.00000438  0.00000420  0.00012611  0.00008833\n   0.00018822  0.00018178  0.00000007  0.00000005  0.00000001  0.00000000\n   0.00000000  0.00000000  0.00000000  0.00000000  0.00000317  0.00000211\n   0.00000047  0.00000006  0.00000020  0.00000007  0.00000005  0.00000000\n   0.00000023  0.00000093  0.00000001  0.00000069  0.00000001  0.00000009\n   0.00000000  0.00000008  0.00001004  0.00004936  0.00000024  0.00004050\n   0.00000031  0.00000586  0.00000001  0.00000539  0.00000002  0.00000015\n   0.00000002  0.00000001  0.00000000  0.00000000  0.00000000  0.00000000\n   0.00000085  0.00000670  0.00000076  0.00000023  0.00000003  0.00000021\n   0.00000004  0.00000001]]\nsum20 =  0.000726969301848\np21 =  [[ 0.00000306  0.00000214  0.00000462  0.00000444  0.00013329  0.00009336\n   0.00019896  0.00019216  0.00000008  0.00000005  0.00000001  0.00000000\n   0.00000000  0.00000000  0.00000000  0.00000000  0.00000335  0.00000223\n   0.00000049  0.00000006  0.00000021  0.00000007  0.00000005  0.00000000\n   0.00000024  0.00000099  0.00000001  0.00000075  0.00000001  0.00000010\n   0.00000000  0.00000009  0.00001061  0.00005180  0.00000025  0.00004242\n   0.00000032  0.00000617  0.00000001  0.00000567  0.00000002  0.00000016\n   0.00000002  0.00000001  0.00000000  0.00000001  0.00000000  0.00000000\n   0.00000090  0.00000708  0.00000080  0.00000024  0.00000003  0.00000022\n   0.00000004  0.00000001]]\nsum21 =  0.000767625610391\np22 =  [[ 0.00000323  0.00000226  0.00000488  0.00000469  0.00014089  0.00009868\n   0.00021033  0.00020313  0.00000008  0.00000005  0.00000001  0.00000000\n   0.00000001  0.00000000  0.00000000  0.00000000  0.00000354  0.00000236\n   0.00000052  0.00000007  0.00000022  0.00000007  0.00000006  0.00000000\n   0.00000026  0.00000106  0.00000001  0.00000080  0.00000001  0.00000011\n   0.00000000  0.00000009  0.00001122  0.00005440  0.00000026  0.00004448\n   0.00000034  0.00000649  0.00000001  0.00000596  0.00000002  0.00000017\n   0.00000002  0.00000001  0.00000000  0.00000001  0.00000000  0.00000000\n   0.00000095  0.00000749  0.00000085  0.00000026  0.00000003  0.00000023\n   0.00000004  0.00000001]]\nsum22 =  0.000810680389121\np23 =  [[ 0.00000341  0.00000239  0.00000515  0.00000496  0.00014892  0.00010430\n   0.00022235  0.00021474  0.00000009  0.00000006  0.00000001  0.00000000\n   0.00000001  0.00000000  0.00000000  0.00000000  0.00000375  0.00000250\n   0.00000055  0.00000007  0.00000023  0.00000008  0.00000006  0.00000000\n   0.00000027  0.00000113  0.00000001  0.00000086  0.00000001  0.00000012\n   0.00000000  0.00000010  0.00001186  0.00005718  0.00000028  0.00004668\n   0.00000036  0.00000683  0.00000001  0.00000627  0.00000002  0.00000018\n   0.00000002  0.00000001  0.00000000  0.00000001  0.00000000  0.00000000\n   0.00000101  0.00000792  0.00000090  0.00000027  0.00000003  0.00000024\n   0.00000005  0.00000001]]\nsum23 =  0.00085626046946\np24 =  [[ 0.00000361  0.00000252  0.00000544  0.00000524  0.00015743  0.00011026\n   0.00023505  0.00022701  0.00000009  0.00000006  0.00000001  0.00000000\n   0.00000001  0.00000000  0.00000000  0.00000000  0.00000396  0.00000264\n   0.00000058  0.00000007  0.00000025  0.00000008  0.00000006  0.00000000\n   0.00000029  0.00000121  0.00000001  0.00000093  0.00000001  0.00000013\n   0.00000000  0.00000011  0.00001254  0.00006013  0.00000030  0.00004904\n   0.00000038  0.00000719  0.00000001  0.00000660  0.00000002  0.00000019\n   0.00000002  0.00000001  0.00000000  0.00000001  0.00000000  0.00000000\n   0.00000106  0.00000837  0.00000095  0.00000029  0.00000003  0.00000026\n   0.00000005  0.00000001]]\nsum24 =  0.000904502609192\np25 =  [[ 0.00000381  0.00000267  0.00000574  0.00000554  0.00016642  0.00011656\n   0.00024848  0.00023998  0.00000010  0.00000006  0.00000001  0.00000000\n   0.00000001  0.00000000  0.00000000  0.00000000  0.00000419  0.00000279\n   0.00000062  0.00000008  0.00000026  0.00000009  0.00000007  0.00000000\n   0.00000030  0.00000129  0.00000001  0.00000099  0.00000001  0.00000014\n   0.00000000  0.00000012  0.00001325  0.00006328  0.00000031  0.00005154\n   0.00000040  0.00000757  0.00000001  0.00000695  0.00000003  0.00000020\n   0.00000002  0.00000001  0.00000000  0.00000001  0.00000000  0.00000000\n   0.00000113  0.00000885  0.00000100  0.00000030  0.00000004  0.00000027\n   0.00000005  0.00000001]]\nsum25 =  0.000955553195287\np26 =  [[ 0.00000403  0.00000282  0.00000607  0.00000585  0.00017593  0.00012321\n   0.00026268  0.00025369  0.00000010  0.00000007  0.00000001  0.00000000\n   0.00000001  0.00000000  0.00000000  0.00000000  0.00000443  0.00000295\n   0.00000065  0.00000008  0.00000028  0.00000009  0.00000007  0.00000000\n   0.00000032  0.00000137  0.00000001  0.00000106  0.00000001  0.00000015\n   0.00000000  0.00000013  0.00001401  0.00006663  0.00000033  0.00005421\n   0.00000043  0.00000797  0.00000001  0.00000731  0.00000003  0.00000021\n   0.00000002  0.00000001  0.00000000  0.00000001  0.00000000  0.00000000\n   0.00000119  0.00000935  0.00000106  0.00000032  0.00000004  0.00000029\n   0.00000005  0.00000001]]\nsum26 =  0.00100956822303\np27 =  [[ 0.00000426  0.00000298  0.00000641  0.00000618  0.00018598  0.00013025\n   0.00027770  0.00026819  0.00000011  0.00000007  0.00000002  0.00000000\n   0.00000001  0.00000000  0.00000000  0.00000000  0.00000468  0.00000312\n   0.00000069  0.00000009  0.00000029  0.00000010  0.00000008  0.00000000\n   0.00000034  0.00000146  0.00000001  0.00000113  0.00000001  0.00000016\n   0.00000000  0.00000014  0.00001481  0.00007019  0.00000035  0.00005706\n   0.00000045  0.00000840  0.00000001  0.00000770  0.00000003  0.00000023\n   0.00000003  0.00000001  0.00000000  0.00000001  0.00000000  0.00000000\n   0.00000126  0.00000989  0.00000112  0.00000034  0.00000004  0.00000031\n   0.00000006  0.00000001]]\nsum27 =  0.00106671347731\np28 =  [[ 0.00000450  0.00000315  0.00000677  0.00000653  0.00019661  0.00013770\n   0.00029357  0.00028352  0.00000011  0.00000008  0.00000002  0.00000000\n   0.00000001  0.00000000  0.00000000  0.00000000  0.00000495  0.00000329\n   0.00000073  0.00000009  0.00000031  0.00000010  0.00000008  0.00000000\n   0.00000036  0.00000155  0.00000001  0.00000121  0.00000001  0.00000017\n   0.00000000  0.00000015  0.00001565  0.00007397  0.00000037  0.00006008\n   0.00000048  0.00000885  0.00000001  0.00000811  0.00000003  0.00000024\n   0.00000003  0.00000001  0.00000000  0.00000001  0.00000000  0.00000000\n   0.00000133  0.00001045  0.00000118  0.00000036  0.00000004  0.00000032\n   0.00000006  0.00000001]]\nsum28 =  0.00112716484192\np29 =  [[ 0.00000476  0.00000333  0.00000715  0.00000690  0.00020785  0.00014557\n   0.00031035  0.00029973  0.00000012  0.00000008  0.00000002  0.00000000\n   0.00000001  0.00000000  0.00000000  0.00000000  0.00000523  0.00000348\n   0.00000077  0.00000010  0.00000033  0.00000011  0.00000008  0.00000000\n   0.00000038  0.00000165  0.00000001  0.00000129  0.00000001  0.00000018\n   0.00000000  0.00000016  0.00001655  0.00007799  0.00000039  0.00006329\n   0.00000050  0.00000932  0.00000001  0.00000855  0.00000003  0.00000025\n   0.00000003  0.00000001  0.00000000  0.00000001  0.00000000  0.00000000\n   0.00000141  0.00001105  0.00000125  0.00000038  0.00000004  0.00000034\n   0.00000006  0.00000001]]\nsum29 =  0.00119110870961\np30 =  [[ 0.00000503  0.00000352  0.00000755  0.00000729  0.00021973  0.00015389\n   0.00032809  0.00031686  0.00000013  0.00000008  0.00000002  0.00000000\n   0.00000001  0.00000000  0.00000000  0.00000000  0.00000553  0.00000368\n   0.00000081  0.00000010  0.00000034  0.00000011  0.00000009  0.00000000\n   0.00000040  0.00000175  0.00000001  0.00000137  0.00000001  0.00000019\n   0.00000000  0.00000017  0.00001750  0.00008225  0.00000041  0.00006670\n   0.00000053  0.00000983  0.00000001  0.00000901  0.00000003  0.00000027\n   0.00000003  0.00000001  0.00000000  0.00000001  0.00000000  0.00000000\n   0.00000149  0.00001168  0.00000132  0.00000040  0.00000005  0.00000036\n   0.00000007  0.00000001]]\nsum30 =  0.00125874247064\np31 =  [[ 0.00000531  0.00000372  0.00000798  0.00000771  0.00023229  0.00016269\n   0.00034684  0.00033497  0.00000013  0.00000009  0.00000002  0.00000000\n   0.00000001  0.00000000  0.00000000  0.00000000  0.00000584  0.00000389\n   0.00000086  0.00000011  0.00000036  0.00000012  0.00000009  0.00000000\n   0.00000042  0.00000186  0.00000001  0.00000146  0.00000001  0.00000021\n   0.00000000  0.00000018  0.00001850  0.00008676  0.00000044  0.00007032\n   0.00000056  0.00001036  0.00000001  0.00000949  0.00000004  0.00000028\n   0.00000003  0.00000001  0.00000000  0.00000001  0.00000000  0.00000000\n   0.00000157  0.00001235  0.00000140  0.00000042  0.00000005  0.00000038\n   0.00000007  0.00000001]]\nsum31 =  0.00133027506435\np32 =  [[ 0.00000562  0.00000393  0.00000843  0.00000814  0.00024557  0.00017199\n   0.00036667  0.00035412  0.00000014  0.00000009  0.00000002  0.00000000\n   0.00000001  0.00000000  0.00000000  0.00000000  0.00000618  0.00000411\n   0.00000091  0.00000012  0.00000038  0.00000013  0.00000010  0.00000000\n   0.00000045  0.00000197  0.00000001  0.00000155  0.00000001  0.00000022\n   0.00000000  0.00000020  0.00001955  0.00009155  0.00000046  0.00007416\n   0.00000060  0.00001092  0.00000001  0.00001001  0.00000004  0.00000030\n   0.00000003  0.00000001  0.00000000  0.00000001  0.00000000  0.00000000\n   0.00000166  0.00001305  0.00000147  0.00000045  0.00000005  0.00000040\n   0.00000008  0.00000001]]\nsum32 =  0.00140592758636\np33 =  [[ 0.00000594  0.00000416  0.00000891  0.00000860  0.00025961  0.00018182\n   0.00038763  0.00037437  0.00000015  0.00000010  0.00000002  0.00000000\n   0.00000001  0.00000000  0.00000000  0.00000000  0.00000653  0.00000435\n   0.00000096  0.00000012  0.00000041  0.00000013  0.00000011  0.00000000\n   0.00000047  0.00000209  0.00000001  0.00000165  0.00000001  0.00000023\n   0.00000000  0.00000021  0.00002067  0.00009662  0.00000049  0.00007824\n   0.00000063  0.00001152  0.00000001  0.00001055  0.00000004  0.00000032\n   0.00000004  0.00000001  0.00000000  0.00000001  0.00000000  0.00000000\n   0.00000176  0.00001380  0.00000156  0.00000047  0.00000005  0.00000043\n   0.00000008  0.00000001]]\nsum33 =  0.00148593394645\np34 =  [[ 0.00000627  0.00000439  0.00000941  0.00000909  0.00027445  0.00019222\n   0.00040979  0.00039577  0.00000016  0.00000011  0.00000002  0.00000000\n   0.00000001  0.00000000  0.00000000  0.00000000  0.00000690  0.00000460\n   0.00000102  0.00000013  0.00000043  0.00000014  0.00000011  0.00000000\n   0.00000050  0.00000222  0.00000001  0.00000175  0.00000002  0.00000025\n   0.00000000  0.00000022  0.00002185  0.00010200  0.00000051  0.00008256\n   0.00000067  0.00001216  0.00000001  0.00001113  0.00000004  0.00000033\n   0.00000004  0.00000001  0.00000000  0.00000001  0.00000000  0.00000000\n   0.00000186  0.00001459  0.00000165  0.00000050  0.00000006  0.00000045\n   0.00000008  0.00000002]]\nsum34 =  0.0015705415747\np35 =  [[ 0.00000663  0.00000464  0.00000995  0.00000961  0.00029015  0.00020321\n   0.00043322  0.00041840  0.00000017  0.00000011  0.00000002  0.00000000\n   0.00000001  0.00000000  0.00000000  0.00000000  0.00000730  0.00000486\n   0.00000107  0.00000014  0.00000045  0.00000015  0.00000012  0.00000000\n   0.00000053  0.00000235  0.00000001  0.00000186  0.00000002  0.00000026\n   0.00000000  0.00000024  0.00002310  0.00010769  0.00000054  0.00008713\n   0.00000070  0.00001283  0.00000001  0.00001174  0.00000004  0.00000035\n   0.00000004  0.00000001  0.00000000  0.00000001  0.00000000  0.00000000\n   0.00000196  0.00001542  0.00000174  0.00000053  0.00000006  0.00000048\n   0.00000009  0.00000002]]\nsum35 =  0.0016600121753\np36 =  [[ 0.00000701  0.00000491  0.00001051  0.00001015  0.00030674  0.00021483\n   0.00045799  0.00044232  0.00000018  0.00000012  0.00000003  0.00000000\n   0.00000001  0.00000000  0.00000000  0.00000000  0.00000772  0.00000514\n   0.00000113  0.00000014  0.00000048  0.00000016  0.00000013  0.00000000\n   0.00000056  0.00000249  0.00000001  0.00000198  0.00000002  0.00000028\n   0.00000000  0.00000025  0.00002442  0.00011372  0.00000058  0.00009198\n   0.00000074  0.00001354  0.00000002  0.00001239  0.00000005  0.00000037\n   0.00000004  0.00000001  0.00000000  0.00000001  0.00000000  0.00000000\n   0.00000207  0.00001630  0.00000184  0.00000056  0.00000006  0.00000050\n   0.00000009  0.00000002]]\nsum36 =  0.00175462252838\np37 =  [[ 0.00000741  0.00000519  0.00001111  0.00001073  0.00032428  0.00022711\n   0.00048418  0.00046761  0.00000019  0.00000012  0.00000003  0.00000000\n   0.00000001  0.00000000  0.00000000  0.00000000  0.00000816  0.00000543\n   0.00000120  0.00000015  0.00000051  0.00000017  0.00000013  0.00000000\n   0.00000059  0.00000264  0.00000001  0.00000210  0.00000002  0.00000030\n   0.00000000  0.00000027  0.00002582  0.00012010  0.00000061  0.00009712\n   0.00000079  0.00001429  0.00000002  0.00001307  0.00000005  0.00000039\n   0.00000004  0.00000001  0.00000000  0.00000001  0.00000000  0.00000000\n   0.00000219  0.00001724  0.00000195  0.00000059  0.00000007  0.00000053\n   0.00000010  0.00000002]]\nsum37 =  0.00185466534109\np38 =  [[ 0.00000783  0.00000549  0.00001174  0.00001134  0.00034282  0.00024010\n   0.00051186  0.00049434  0.00000020  0.00000013  0.00000003  0.00000000\n   0.00000001  0.00000000  0.00000000  0.00000000  0.00000862  0.00000574\n   0.00000127  0.00000016  0.00000054  0.00000018  0.00000014  0.00000000\n   0.00000062  0.00000280  0.00000001  0.00000223  0.00000002  0.00000032\n   0.00000000  0.00000029  0.00002730  0.00012686  0.00000064  0.00010256\n   0.00000083  0.00001508  0.00000002  0.00001380  0.00000005  0.00000042\n   0.00000005  0.00000001  0.00000000  0.00000001  0.00000000  0.00000000\n   0.00000232  0.00001822  0.00000206  0.00000062  0.00000007  0.00000056\n   0.00000011  0.00000002]]\nsum38 =  0.00196045014975\np39 =  [[ 0.00000828  0.00000580  0.00001240  0.00001198  0.00036242  0.00025383\n   0.00054113  0.00052261  0.00000021  0.00000014  0.00000003  0.00000000\n   0.00000001  0.00000000  0.00000000  0.00000000  0.00000912  0.00000607\n   0.00000134  0.00000017  0.00000057  0.00000019  0.00000015  0.00000000\n   0.00000066  0.00000296  0.00000002  0.00000236  0.00000002  0.00000034\n   0.00000000  0.00000030  0.00002886  0.00013401  0.00000068  0.00010831\n   0.00000088  0.00001592  0.00000002  0.00001456  0.00000006  0.00000044\n   0.00000005  0.00000002  0.00000000  0.00000001  0.00000000  0.00000000\n   0.00000245  0.00001926  0.00000218  0.00000066  0.00000008  0.00000060\n   0.00000011  0.00000002]]\nsum39 =  0.00207230427517\np40 =  [[ 0.00000875  0.00000613  0.00001311  0.00001266  0.00038315  0.00026834\n   0.00057207  0.00055249  0.00000022  0.00000015  0.00000003  0.00000000\n   0.00000001  0.00000000  0.00000000  0.00000000  0.00000964  0.00000642\n   0.00000142  0.00000018  0.00000060  0.00000020  0.00000016  0.00000001\n   0.00000070  0.00000314  0.00000002  0.00000250  0.00000002  0.00000036\n   0.00000000  0.00000032  0.00003051  0.00014157  0.00000072  0.00011441\n   0.00000093  0.00001682  0.00000002  0.00001538  0.00000006  0.00000047\n   0.00000005  0.00000002  0.00000000  0.00000001  0.00000000  0.00000000\n   0.00000259  0.00002037  0.00000230  0.00000070  0.00000008  0.00000063\n   0.00000012  0.00000002]]\nsum40 =  0.00219057383388\np41 =  [[ 0.00000925  0.00000648  0.00001386  0.00001338  0.00040506  0.00028369\n   0.00060478  0.00058408  0.00000023  0.00000016  0.00000003  0.00000000\n   0.00000001  0.00000000  0.00000000  0.00000000  0.00001019  0.00000679\n   0.00000150  0.00000019  0.00000063  0.00000021  0.00000017  0.00000001\n   0.00000074  0.00000332  0.00000002  0.00000265  0.00000002  0.00000038\n   0.00000000  0.00000034  0.00003225  0.00014958  0.00000076  0.00012086\n   0.00000098  0.00001776  0.00000002  0.00001624  0.00000006  0.00000049\n   0.00000006  0.00000002  0.00000000  0.00000002  0.00000000  0.00000000\n   0.00000274  0.00002153  0.00000243  0.00000074  0.00000009  0.00000067\n   0.00000013  0.00000002]]\nsum41 =  0.00231562480806\np42 =  [[ 0.00000978  0.00000685  0.00001464  0.00001414  0.00042822  0.00029991\n   0.00063937  0.00061748  0.00000025  0.00000016  0.00000004  0.00000000\n   0.00000002  0.00000001  0.00000000  0.00000000  0.00001077  0.00000717\n   0.00000158  0.00000020  0.00000067  0.00000022  0.00000018  0.00000001\n   0.00000078  0.00000352  0.00000002  0.00000281  0.00000002  0.00000040\n   0.00000000  0.00000037  0.00003410  0.00015805  0.00000080  0.00012768\n   0.00000104  0.00001876  0.00000002  0.00001715  0.00000007  0.00000052\n   0.00000006  0.00000002  0.00000000  0.00000002  0.00000000  0.00000000\n   0.00000290  0.00002276  0.00000257  0.00000078  0.00000009  0.00000070\n   0.00000013  0.00000002]]\nsum42 =  0.00244784417732\np43 =  [[ 0.00001034  0.00000724  0.00001548  0.00001495  0.00045271  0.00031706\n   0.00067593  0.00065279  0.00000026  0.00000017  0.00000004  0.00000000\n   0.00000002  0.00000001  0.00000000  0.00000000  0.00001139  0.00000758\n   0.00000167  0.00000021  0.00000071  0.00000024  0.00000019  0.00000001\n   0.00000082  0.00000373  0.00000002  0.00000298  0.00000003  0.00000043\n   0.00000000  0.00000039  0.00003605  0.00016701  0.00000085  0.00013491\n   0.00000110  0.00001981  0.00000002  0.00001811  0.00000007  0.00000055\n   0.00000006  0.00000002  0.00000000  0.00000002  0.00000000  0.00000000\n   0.00000306  0.00002406  0.00000272  0.00000082  0.00000010  0.00000074\n   0.00000014  0.00000003]]\nsum43 =  0.00258764111568\np44 =  [[ 0.00001093  0.00000765  0.00001636  0.00001580  0.00047860  0.00033520\n   0.00071458  0.00069012  0.00000027  0.00000018  0.00000004  0.00000001\n   0.00000002  0.00000001  0.00000000  0.00000000  0.00001204  0.00000802\n   0.00000177  0.00000022  0.00000075  0.00000025  0.00000020  0.00000001\n   0.00000087  0.00000394  0.00000002  0.00000315  0.00000003  0.00000045\n   0.00000000  0.00000041  0.00003811  0.00017649  0.00000090  0.00014255\n   0.00000116  0.00002093  0.00000002  0.00001913  0.00000007  0.00000058\n   0.00000007  0.00000002  0.00000000  0.00000002  0.00000000  0.00000000\n   0.00000324  0.00002544  0.00000287  0.00000087  0.00000010  0.00000079\n   0.00000015  0.00000003]]\nsum44 =  0.00273544825752\np45 =  [[ 0.00001155  0.00000809  0.00001729  0.00001670  0.00050597  0.00035437\n   0.00075545  0.00072959  0.00000029  0.00000019  0.00000004  0.00000001\n   0.00000002  0.00000001  0.00000000  0.00000000  0.00001273  0.00000848\n   0.00000187  0.00000024  0.00000079  0.00000026  0.00000021  0.00000001\n   0.00000092  0.00000417  0.00000002  0.00000334  0.00000003  0.00000048\n   0.00000000  0.00000044  0.00004029  0.00018652  0.00000095  0.00015063\n   0.00000123  0.00002211  0.00000003  0.00002021  0.00000008  0.00000061\n   0.00000007  0.00000002  0.00000000  0.00000002  0.00000000  0.00000000\n   0.00000342  0.00002689  0.00000304  0.00000092  0.00000011  0.00000083\n   0.00000016  0.00000003]]\nsum45 =  0.00289172303613\np46 =  [[ 0.00001221  0.00000855  0.00001827  0.00001765  0.00053491  0.00037463\n   0.00079865  0.00077131  0.00000031  0.00000020  0.00000005  0.00000001\n   0.00000002  0.00000001  0.00000000  0.00000000  0.00001345  0.00000896\n   0.00000198  0.00000025  0.00000084  0.00000028  0.00000022  0.00000001\n   0.00000097  0.00000442  0.00000002  0.00000354  0.00000003  0.00000051\n   0.00000000  0.00000046  0.00004259  0.00019713  0.00000100  0.00015918\n   0.00000130  0.00002336  0.00000003  0.00002135  0.00000008  0.00000065\n   0.00000007  0.00000002  0.00000000  0.00000002  0.00000000  0.00000000\n   0.00000362  0.00002843  0.00000321  0.00000097  0.00000011  0.00000088\n   0.00000017  0.00000003]]\nsum46 =  0.00305694909928\np47 =  [[ 0.00001291  0.00000904  0.00001931  0.00001865  0.00056550  0.00039606\n   0.00084433  0.00081542  0.00000032  0.00000022  0.00000005  0.00000001\n   0.00000002  0.00000001  0.00000001  0.00000000  0.00001422  0.00000947\n   0.00000209  0.00000027  0.00000089  0.00000029  0.00000023  0.00000001\n   0.00000103  0.00000468  0.00000002  0.00000375  0.00000003  0.00000054\n   0.00000000  0.00000049  0.00004503  0.00020835  0.00000106  0.00016823\n   0.00000137  0.00002468  0.00000003  0.00002256  0.00000009  0.00000069\n   0.00000008  0.00000002  0.00000000  0.00000002  0.00000000  0.00000000\n   0.00000383  0.00003006  0.00000340  0.00000103  0.00000012  0.00000093\n   0.00000017  0.00000003]]\nsum47 =  0.00323163780579\np48 =  [[ 0.00001365  0.00000956  0.00002041  0.00001972  0.00059784  0.00041871\n   0.00089261  0.00086206  0.00000034  0.00000023  0.00000005  0.00000001\n   0.00000002  0.00000001  0.00000001  0.00000000  0.00001504  0.00001002\n   0.00000221  0.00000028  0.00000094  0.00000031  0.00000024  0.00000001\n   0.00000109  0.00000495  0.00000003  0.00000397  0.00000003  0.00000057\n   0.00000000  0.00000052  0.00004760  0.00022021  0.00000112  0.00017780\n   0.00000145  0.00002608  0.00000003  0.00002383  0.00000009  0.00000073\n   0.00000008  0.00000002  0.00000000  0.00000002  0.00000000  0.00000000\n   0.00000404  0.00003178  0.00000359  0.00000109  0.00000013  0.00000098\n   0.00000018  0.00000003]]\nsum48 =  0.00341632980813\np49 =  [[ 0.00001443  0.00001010  0.00002158  0.00002084  0.00063203  0.00044266\n   0.00094366  0.00091136  0.00000036  0.00000024  0.00000005  0.00000001\n   0.00000002  0.00000001  0.00000001  0.00000000  0.00001590  0.00001059\n   0.00000234  0.00000030  0.00000099  0.00000033  0.00000026  0.00000001\n   0.00000115  0.00000523  0.00000003  0.00000420  0.00000004  0.00000061\n   0.00000000  0.00000055  0.00005033  0.00023276  0.00000119  0.00018792\n   0.00000153  0.00002756  0.00000003  0.00002519  0.00000010  0.00000077\n   0.00000009  0.00000003  0.00000000  0.00000002  0.00000000  0.00000000\n   0.00000428  0.00003359  0.00000380  0.00000115  0.00000013  0.00000104\n   0.00000020  0.00000004]]\nsum49 =  0.00361159672554\np50 =  [[ 0.00001525  0.00001068  0.00002281  0.00002203  0.00066818  0.00046797\n   0.00099763  0.00096348  0.00000038  0.00000026  0.00000006  0.00000001\n   0.00000002  0.00000001  0.00000001  0.00000000  0.00001681  0.00001119\n   0.00000247  0.00000031  0.00000105  0.00000035  0.00000027  0.00000001\n   0.00000121  0.00000554  0.00000003  0.00000444  0.00000004  0.00000064\n   0.00000000  0.00000059  0.00005320  0.00024603  0.00000125  0.00019862\n   0.00000162  0.00002913  0.00000003  0.00002661  0.00000010  0.00000081\n   0.00000009  0.00000003  0.00000000  0.00000003  0.00000000  0.00000000\n   0.00000452  0.00003552  0.00000401  0.00000122  0.00000014  0.00000110\n   0.00000021  0.00000004]]\nsum50 =  0.00381804291318\np51 =  [[ 0.00001612  0.00001129  0.00002411  0.00002328  0.00070640  0.00049474\n   0.00105469  0.00101858  0.00000041  0.00000027  0.00000006  0.00000001\n   0.00000003  0.00000001  0.00000001  0.00000000  0.00001777  0.00001183\n   0.00000261  0.00000033  0.00000111  0.00000037  0.00000029  0.00000001\n   0.00000128  0.00000586  0.00000003  0.00000470  0.00000004  0.00000068\n   0.00000000  0.00000062  0.00005625  0.00026006  0.00000132  0.00020994\n   0.00000171  0.00003078  0.00000004  0.00002813  0.00000011  0.00000086\n   0.00000010  0.00000003  0.00000000  0.00000003  0.00000000  0.00000000\n   0.00000478  0.00003755  0.00000424  0.00000129  0.00000015  0.00000116\n   0.00000022  0.00000004]]\nsum51 =  0.00403630733253\np52 =  [[ 0.00001704  0.00001194  0.00002548  0.00002461  0.00074680  0.00052303\n   0.00111501  0.00107684  0.00000043  0.00000029  0.00000006  0.00000001\n   0.00000003  0.00000001  0.00000001  0.00000000  0.00001878  0.00001251\n   0.00000276  0.00000035  0.00000117  0.00000039  0.00000031  0.00000001\n   0.00000136  0.00000620  0.00000003  0.00000498  0.00000004  0.00000072\n   0.00000000  0.00000066  0.00005946  0.00027490  0.00000140  0.00022191\n   0.00000181  0.00003254  0.00000004  0.00002972  0.00000012  0.00000091\n   0.00000010  0.00000003  0.00000000  0.00000003  0.00000001  0.00000000\n   0.00000505  0.00003969  0.00000448  0.00000136  0.00000016  0.00000123\n   0.00000023  0.00000004]]\nsum52 =  0.00426706552894\np53 =  [[ 0.00001802  0.00001262  0.00002694  0.00002602  0.00078951  0.00055295\n   0.00117878  0.00113842  0.00000045  0.00000030  0.00000007  0.00000001\n   0.00000003  0.00000001  0.00000001  0.00000000  0.00001986  0.00001323\n   0.00000292  0.00000037  0.00000124  0.00000041  0.00000032  0.00000001\n   0.00000143  0.00000656  0.00000003  0.00000527  0.00000004  0.00000076\n   0.00000000  0.00000070  0.00006286  0.00029058  0.00000148  0.00023456\n   0.00000191  0.00003439  0.00000004  0.00003142  0.00000012  0.00000096\n   0.00000011  0.00000003  0.00000000  0.00000003  0.00000001  0.00000000\n   0.00000534  0.00004196  0.00000474  0.00000144  0.00000017  0.00000130\n   0.00000024  0.00000004]]\nsum53 =  0.00451103172252\np54 =  [[ 0.00001905  0.00001334  0.00002847  0.00002750  0.00083467  0.00058457\n   0.00124620  0.00120354  0.00000048  0.00000032  0.00000007  0.00000001\n   0.00000003  0.00000001  0.00000001  0.00000000  0.00002099  0.00001398\n   0.00000309  0.00000039  0.00000131  0.00000043  0.00000034  0.00000001\n   0.00000152  0.00000694  0.00000004  0.00000558  0.00000005  0.00000081\n   0.00000000  0.00000074  0.00006646  0.00030717  0.00000157  0.00024795\n   0.00000202  0.00003635  0.00000004  0.00003320  0.00000013  0.00000101\n   0.00000011  0.00000003  0.00000000  0.00000003  0.00000001  0.00000000\n   0.00000565  0.00004436  0.00000501  0.00000152  0.00000018  0.00000137\n   0.00000026  0.00000005]]\nsum54 =  0.0047689610186\np55 =  [[ 0.00002013  0.00001410  0.00003010  0.00002907  0.00088241  0.00061801\n   0.00131747  0.00127237  0.00000051  0.00000034  0.00000007  0.00000001\n   0.00000003  0.00000001  0.00000001  0.00000000  0.00002220  0.00001478\n   0.00000326  0.00000041  0.00000138  0.00000046  0.00000036  0.00000001\n   0.00000160  0.00000734  0.00000004  0.00000590  0.00000005  0.00000086\n   0.00000000  0.00000078  0.00007026  0.00032472  0.00000165  0.00026210\n   0.00000214  0.00003842  0.00000004  0.00003510  0.00000014  0.00000107\n   0.00000012  0.00000004  0.00000000  0.00000003  0.00000001  0.00000000\n   0.00000597  0.00004690  0.00000530  0.00000161  0.00000019  0.00000145\n   0.00000027  0.00000005]]\nsum55 =  0.00504165174489\np56 =  [[ 0.00002128  0.00001491  0.00003181  0.00003073  0.00093288  0.00065336\n   0.00139283  0.00134514  0.00000054  0.00000036  0.00000008  0.00000001\n   0.00000003  0.00000001  0.00000001  0.00000000  0.00002347  0.00001563\n   0.00000345  0.00000044  0.00000146  0.00000048  0.00000038  0.00000001\n   0.00000169  0.00000776  0.00000004  0.00000624  0.00000005  0.00000091\n   0.00000000  0.00000083  0.00007428  0.00034326  0.00000175  0.00027707\n   0.00000226  0.00004061  0.00000005  0.00003710  0.00000014  0.00000113\n   0.00000013  0.00000004  0.00000000  0.00000004  0.00000001  0.00000000\n   0.00000631  0.00004958  0.00000560  0.00000170  0.00000020  0.00000153\n   0.00000029  0.00000005]]\nsum56 =  0.00532994792237\np57 =  [[ 0.00002250  0.00001576  0.00003363  0.00003248  0.00098624  0.00069073\n   0.00147249  0.00142208  0.00000057  0.00000038  0.00000008  0.00000001\n   0.00000004  0.00000001  0.00000001  0.00000000  0.00002481  0.00001652\n   0.00000365  0.00000046  0.00000155  0.00000051  0.00000040  0.00000001\n   0.00000179  0.00000821  0.00000004  0.00000660  0.00000005  0.00000096\n   0.00000000  0.00000087  0.00007853  0.00036287  0.00000185  0.00029289\n   0.00000239  0.00004292  0.00000005  0.00003921  0.00000015  0.00000120\n   0.00000014  0.00000004  0.00000000  0.00000004  0.00000001  0.00000000\n   0.00000667  0.00005242  0.00000592  0.00000180  0.00000021  0.00000162\n   0.00000030  0.00000006]]\nsum57 =  0.00563474187766\np58 =  [[ 0.00002379  0.00001666  0.00003555  0.00003433  0.00104265  0.00073023\n   0.00155671  0.00150342  0.00000060  0.00000040  0.00000009  0.00000001\n   0.00000004  0.00000001  0.00000001  0.00000000  0.00002623  0.00001747\n   0.00000386  0.00000049  0.00000163  0.00000054  0.00000043  0.00000001\n   0.00000189  0.00000868  0.00000004  0.00000699  0.00000006  0.00000102\n   0.00000000  0.00000093  0.00008302  0.00038361  0.00000196  0.00030962\n   0.00000253  0.00004537  0.00000005  0.00004145  0.00000016  0.00000126\n   0.00000014  0.00000004  0.00000001  0.00000004  0.00000001  0.00000000\n   0.00000705  0.00005542  0.00000626  0.00000190  0.00000022  0.00000171\n   0.00000032  0.00000006]]\nsum58 =  0.00595697700484\np59 =  [[ 0.00002515  0.00001761  0.00003758  0.00003629  0.00110228  0.00077200\n   0.00164575  0.00158941  0.00000063  0.00000042  0.00000009  0.00000001\n   0.00000004  0.00000001  0.00000001  0.00000000  0.00002773  0.00001847\n   0.00000408  0.00000052  0.00000173  0.00000057  0.00000045  0.00000001\n   0.00000200  0.00000918  0.00000005  0.00000739  0.00000006  0.00000108\n   0.00000000  0.00000098  0.00008777  0.00040553  0.00000207  0.00032731\n   0.00000267  0.00004796  0.00000006  0.00004381  0.00000017  0.00000134\n   0.00000015  0.00000005  0.00000001  0.00000004  0.00000001  0.00000000\n   0.00000746  0.00005859  0.00000662  0.00000201  0.00000023  0.00000181\n   0.00000034  0.00000006]]\nsum59 =  0.00629765068546\np60 =  [[ 0.00002658  0.00001862  0.00003972  0.00003837  0.00116533  0.00081616\n   0.00173988  0.00168032  0.00000067  0.00000045  0.00000010  0.00000001\n   0.00000004  0.00000001  0.00000001  0.00000000  0.00002931  0.00001952\n   0.00000431  0.00000055  0.00000183  0.00000061  0.00000048  0.00000002\n   0.00000212  0.00000971  0.00000005  0.00000782  0.00000006  0.00000114\n   0.00000000  0.00000104  0.00009279  0.00042871  0.00000219  0.00034601\n   0.00000283  0.00005070  0.00000006  0.00004631  0.00000018  0.00000141\n   0.00000016  0.00000005  0.00000001  0.00000004  0.00000001  0.00000000\n   0.00000788  0.00006194  0.00000700  0.00000212  0.00000025  0.00000192\n   0.00000036  0.00000007]]\nsum60 =  0.0066578173756\np61 =  [[ 0.00002810  0.00001968  0.00004199  0.00004056  0.00123199  0.00086284\n   0.00183940  0.00177643  0.00000071  0.00000047  0.00000010  0.00000001\n   0.00000004  0.00000001  0.00000001  0.00000000  0.00003099  0.00002064\n   0.00000456  0.00000058  0.00000193  0.00000064  0.00000050  0.00000002\n   0.00000224  0.00001027  0.00000005  0.00000827  0.00000007  0.00000120\n   0.00000000  0.00000110  0.00009810  0.00045321  0.00000231  0.00036579\n   0.00000299  0.00005360  0.00000006  0.00004896  0.00000019  0.00000149\n   0.00000017  0.00000005  0.00000001  0.00000005  0.00000001  0.00000000\n   0.00000833  0.00006548  0.00000740  0.00000224  0.00000026  0.00000202\n   0.00000038  0.00000007]]\nsum61 =  0.00703859186957\np62 =  [[ 0.00002971  0.00002081  0.00004439  0.00004287  0.00130245  0.00091219\n   0.00194461  0.00187804  0.00000075  0.00000050  0.00000011  0.00000001\n   0.00000005  0.00000002  0.00000001  0.00000000  0.00003276  0.00002182\n   0.00000482  0.00000061  0.00000204  0.00000068  0.00000053  0.00000002\n   0.00000237  0.00001086  0.00000006  0.00000875  0.00000007  0.00000127\n   0.00000000  0.00000116  0.00010371  0.00047912  0.00000244  0.00038670\n   0.00000316  0.00005666  0.00000007  0.00005176  0.00000020  0.00000158\n   0.00000018  0.00000005  0.00000001  0.00000005  0.00000001  0.00000000\n   0.00000881  0.00006923  0.00000782  0.00000237  0.00000027  0.00000214\n   0.00000040  0.00000007]]\nsum62 =  0.00744115275046\np63 =  [[ 0.00003141  0.00002200  0.00004693  0.00004532  0.00137695  0.00096437\n   0.00205584  0.00198546  0.00000079  0.00000053  0.00000012  0.00000001\n   0.00000005  0.00000002  0.00000001  0.00000000  0.00003463  0.00002307\n   0.00000509  0.00000065  0.00000216  0.00000072  0.00000056  0.00000002\n   0.00000250  0.00001149  0.00000006  0.00000925  0.00000008  0.00000135\n   0.00000000  0.00000123  0.00010964  0.00050652  0.00000258  0.00040880\n   0.00000334  0.00005990  0.00000007  0.00005471  0.00000021  0.00000167\n   0.00000019  0.00000006  0.00000001  0.00000005  0.00000001  0.00000000\n   0.00000931  0.00007319  0.00000827  0.00000251  0.00000029  0.00000226\n   0.00000043  0.00000008]]\nsum63 =  0.00786674603808\np64 =  [[ 0.00003320  0.00002325  0.00004961  0.00004791  0.00145571  0.00101953\n   0.00217343  0.00209902  0.00000084  0.00000056  0.00000012  0.00000002\n   0.00000005  0.00000002  0.00000001  0.00000000  0.00003662  0.00002439\n   0.00000538  0.00000068  0.00000228  0.00000076  0.00000059  0.00000002\n   0.00000264  0.00001215  0.00000006  0.00000979  0.00000008  0.00000143\n   0.00000000  0.00000130  0.00011591  0.00053548  0.00000273  0.00043218\n   0.00000353  0.00006332  0.00000007  0.00005784  0.00000022  0.00000176\n   0.00000020  0.00000006  0.00000001  0.00000005  0.00000001  0.00000000\n   0.00000985  0.00007737  0.00000874  0.00000265  0.00000031  0.00000239\n   0.00000045  0.00000008]]\nsum64 =  0.00831668904566\np65 =  [[ 0.00003510  0.00002458  0.00005244  0.00005065  0.00153898  0.00107785\n   0.00229775  0.00221908  0.00000088  0.00000059  0.00000013  0.00000002\n   0.00000006  0.00000002  0.00000001  0.00000000  0.00003871  0.00002578\n   0.00000569  0.00000072  0.00000241  0.00000080  0.00000063  0.00000002\n   0.00000279  0.00001285  0.00000007  0.00001035  0.00000009  0.00000151\n   0.00000000  0.00000138  0.00012254  0.00056610  0.00000289  0.00045689\n   0.00000373  0.00006694  0.00000008  0.00006114  0.00000024  0.00000187\n   0.00000021  0.00000006  0.00000001  0.00000006  0.00000001  0.00000000\n   0.00001041  0.00008180  0.00000924  0.00000280  0.00000032  0.00000253\n   0.00000048  0.00000009]]\nsum65 =  0.00879237445724\np66 =  [[ 0.00003711  0.00002599  0.00005544  0.00005354  0.00162701  0.00113950\n   0.00242918  0.00234601  0.00000093  0.00000062  0.00000014  0.00000002\n   0.00000006  0.00000002  0.00000002  0.00000000  0.00004092  0.00002726\n   0.00000602  0.00000076  0.00000255  0.00000085  0.00000066  0.00000002\n   0.00000295  0.00001359  0.00000007  0.00001095  0.00000009  0.00000160\n   0.00000000  0.00000146  0.00012955  0.00059848  0.00000305  0.00048301\n   0.00000395  0.00007077  0.00000008  0.00006464  0.00000025  0.00000197\n   0.00000022  0.00000007  0.00000001  0.00000006  0.00000001  0.00000000\n   0.00001101  0.00008648  0.00000977  0.00000296  0.00000034  0.00000267\n   0.00000050  0.00000009]]\nsum66 =  0.00929527463835\np67 =  [[ 0.00003923  0.00002747  0.00005860  0.00005660  0.00172007  0.00120468\n   0.00256813  0.00248020  0.00000099  0.00000066  0.00000015  0.00000002\n   0.00000006  0.00000002  0.00000002  0.00000000  0.00004327  0.00002882\n   0.00000636  0.00000081  0.00000270  0.00000089  0.00000070  0.00000002\n   0.00000312  0.00001437  0.00000007  0.00001158  0.00000010  0.00000169\n   0.00000000  0.00000154  0.00013696  0.00063270  0.00000323  0.00051064\n   0.00000417  0.00007481  0.00000009  0.00006833  0.00000027  0.00000209\n   0.00000024  0.00000007  0.00000001  0.00000006  0.00000001  0.00000000\n   0.00001164  0.00009143  0.00001033  0.00000313  0.00000036  0.00000283\n   0.00000053  0.00000010]]\nsum67 =  0.00982694619332\np68 =  [[ 0.00004147  0.00002905  0.00006195  0.00005983  0.00181846  0.00127359\n   0.00271503  0.00262207  0.00000104  0.00000069  0.00000015  0.00000002\n   0.00000007  0.00000002  0.00000002  0.00000000  0.00004574  0.00003047\n   0.00000673  0.00000085  0.00000285  0.00000094  0.00000074  0.00000002\n   0.00000330  0.00001519  0.00000008  0.00001224  0.00000010  0.00000179\n   0.00000000  0.00000163  0.00014479  0.00066889  0.00000341  0.00053984\n   0.00000441  0.00007909  0.00000009  0.00007224  0.00000028  0.00000220\n   0.00000025  0.00000008  0.00000001  0.00000007  0.00000001  0.00000000\n   0.00001230  0.00009666  0.00001092  0.00000331  0.00000038  0.00000299\n   0.00000056  0.00000010]]\nsum68 =  0.0103890347834\np69 =  [[ 0.00004384  0.00003071  0.00006549  0.00006325  0.00192248  0.00134644\n   0.00287033  0.00277205  0.00000110  0.00000073  0.00000016  0.00000002\n   0.00000007  0.00000002  0.00000002  0.00000000  0.00004836  0.00003221\n   0.00000711  0.00000090  0.00000301  0.00000100  0.00000079  0.00000003\n   0.00000349  0.00001606  0.00000008  0.00001295  0.00000011  0.00000189\n   0.00000000  0.00000172  0.00015308  0.00070714  0.00000361  0.00057071\n   0.00000466  0.00008361  0.00000010  0.00007637  0.00000030  0.00000233\n   0.00000026  0.00000008  0.00000001  0.00000007  0.00000001  0.00000000\n   0.00001300  0.00010218  0.00001154  0.00000350  0.00000041  0.00000316\n   0.00000059  0.00000011]]\nsum69 =  0.0109832802203\np70 =  [[ 0.00004635  0.00003246  0.00006923  0.00006686  0.00203245  0.00142346\n   0.00303451  0.00293062  0.00000117  0.00000078  0.00000017  0.00000002\n   0.00000007  0.00000002  0.00000002  0.00000000  0.00005112  0.00003405\n   0.00000752  0.00000095  0.00000318  0.00000106  0.00000083  0.00000003\n   0.00000369  0.00001699  0.00000009  0.00001369  0.00000011  0.00000200\n   0.00000000  0.00000182  0.00016183  0.00074759  0.00000381  0.00060336\n   0.00000493  0.00008840  0.00000010  0.00008074  0.00000031  0.00000246\n   0.00000028  0.00000008  0.00000001  0.00000008  0.00000001  0.00000000\n   0.00001375  0.00010803  0.00001220  0.00000370  0.00000043  0.00000334\n   0.00000063  0.00000011]]\nsum70 =  0.0116115218518\np71 =  [[ 0.00004900  0.00003432  0.00007319  0.00007069  0.00214871  0.00150488\n   0.00320809  0.00309825  0.00000123  0.00000082  0.00000018  0.00000002\n   0.00000008  0.00000003  0.00000002  0.00000000  0.00005405  0.00003600\n   0.00000795  0.00000101  0.00000337  0.00000112  0.00000088  0.00000003\n   0.00000390  0.00001796  0.00000009  0.00001448  0.00000012  0.00000211\n   0.00000000  0.00000193  0.00017109  0.00079035  0.00000403  0.00063787\n   0.00000521  0.00009345  0.00000011  0.00008536  0.00000033  0.00000260\n   0.00000029  0.00000009  0.00000001  0.00000008  0.00000002  0.00000000\n   0.00001453  0.00011421  0.00001290  0.00000391  0.00000045  0.00000353\n   0.00000066  0.00000012]]\nsum71 =  0.0122757042543\np72 =  [[ 0.00005180  0.00003628  0.00007737  0.00007472  0.00227161  0.00159096\n   0.00339159  0.00327547  0.00000130  0.00000087  0.00000019  0.00000002\n   0.00000008  0.00000003  0.00000002  0.00000000  0.00005714  0.00003806\n   0.00000840  0.00000107  0.00000356  0.00000118  0.00000093  0.00000003\n   0.00000412  0.00001899  0.00000010  0.00001531  0.00000013  0.00000224\n   0.00000000  0.00000204  0.00018087  0.00083556  0.00000426  0.00067435\n   0.00000551  0.00009880  0.00000012  0.00009024  0.00000035  0.00000275\n   0.00000031  0.00000009  0.00000001  0.00000009  0.00000002  0.00000000\n   0.00001537  0.00012074  0.00001364  0.00000413  0.00000048  0.00000373\n   0.00000070  0.00000013]]\nsum72 =  0.0129778832526\np73 =  [[ 0.00005476  0.00003835  0.00008179  0.00007900  0.00240155  0.00168197\n   0.00358559  0.00346283  0.00000138  0.00000092  0.00000020  0.00000003\n   0.00000009  0.00000003  0.00000002  0.00000000  0.00006041  0.00004024\n   0.00000888  0.00000113  0.00000376  0.00000125  0.00000098  0.00000003\n   0.00000436  0.00002008  0.00000010  0.00001619  0.00000013  0.00000237\n   0.00000000  0.00000216  0.00019122  0.00088335  0.00000450  0.00071293\n   0.00000582  0.00010445  0.00000012  0.00009540  0.00000037  0.00000291\n   0.00000033  0.00000010  0.00000001  0.00000009  0.00000002  0.00000000\n   0.00001624  0.00012765  0.00001442  0.00000437  0.00000051  0.00000395\n   0.00000074  0.00000014]]\nsum73 =  0.0137202322826\np74 =  [[ 0.00005789  0.00004055  0.00008647  0.00008351  0.00253893  0.00177818\n   0.00379069  0.00366091  0.00000146  0.00000097  0.00000021  0.00000003\n   0.00000009  0.00000003  0.00000002  0.00000000  0.00006386  0.00004254\n   0.00000939  0.00000119  0.00000398  0.00000132  0.00000104  0.00000003\n   0.00000461  0.00002123  0.00000011  0.00001712  0.00000014  0.00000250\n   0.00000000  0.00000228  0.00020216  0.00093388  0.00000476  0.00075371\n   0.00000616  0.00011042  0.00000013  0.00010086  0.00000039  0.00000308\n   0.00000035  0.00000011  0.00000001  0.00000010  0.00000002  0.00000000\n   0.00001717  0.00013495  0.00001525  0.00000462  0.00000054  0.00000417\n   0.00000078  0.00000014]]\nsum74 =  0.0145050491189\np75 =  [[ 0.00006121  0.00004287  0.00009141  0.00008828  0.00268416  0.00187989\n   0.00400753  0.00387032  0.00000154  0.00000103  0.00000023  0.00000003\n   0.00000010  0.00000003  0.00000003  0.00000000  0.00006752  0.00004497\n   0.00000993  0.00000126  0.00000421  0.00000139  0.00000110  0.00000004\n   0.00000487  0.00002245  0.00000011  0.00001810  0.00000015  0.00000265\n   0.00000000  0.00000241  0.00021372  0.00098731  0.00000503  0.00079682\n   0.00000651  0.00011674  0.00000014  0.00010663  0.00000041  0.00000325\n   0.00000037  0.00000011  0.00000001  0.00000010  0.00000002  0.00000000\n   0.00001816  0.00014267  0.00001612  0.00000489  0.00000057  0.00000441\n   0.00000083  0.00000015]]\nsum75 =  0.0153347629871\np76 =  [[ 0.00006470  0.00004532  0.00009664  0.00009333  0.00283770  0.00198742\n   0.00423677  0.00409171  0.00000163  0.00000108  0.00000024  0.00000003\n   0.00000010  0.00000003  0.00000003  0.00000000  0.00007138  0.00004754\n   0.00001049  0.00000133  0.00000445  0.00000147  0.00000116  0.00000004\n   0.00000515  0.00002374  0.00000012  0.00001914  0.00000016  0.00000280\n   0.00000000  0.00000255  0.00022595  0.00104378  0.00000532  0.00084240\n   0.00000688  0.00012342  0.00000014  0.00011273  0.00000044  0.00000344\n   0.00000039  0.00000012  0.00000001  0.00000011  0.00000002  0.00000000\n   0.00001919  0.00015083  0.00001704  0.00000517  0.00000060  0.00000466\n   0.00000088  0.00000016]]\nsum76 =  0.0162119420827\np77 =  [[ 0.00006840  0.00004791  0.00010216  0.00009866  0.00300002  0.00210111\n   0.00447912  0.00432576  0.00000172  0.00000115  0.00000025  0.00000003\n   0.00000011  0.00000004  0.00000003  0.00000000  0.00007546  0.00005026\n   0.00001109  0.00000141  0.00000470  0.00000156  0.00000123  0.00000004\n   0.00000545  0.00002510  0.00000013  0.00002024  0.00000017  0.00000296\n   0.00000000  0.00000270  0.00023887  0.00110349  0.00000563  0.00089059\n   0.00000728  0.00013048  0.00000015  0.00011918  0.00000046  0.00000364\n   0.00000041  0.00000012  0.00000001  0.00000011  0.00000002  0.00000000\n   0.00002029  0.00015946  0.00001801  0.00000546  0.00000063  0.00000493\n   0.00000093  0.00000017]]\nsum77 =  0.0171393015207\np78 =  [[ 0.00007232  0.00005065  0.00010800  0.00010430  0.00317162  0.00222130\n   0.00473533  0.00457320  0.00000182  0.00000121  0.00000027  0.00000003\n   0.00000011  0.00000004  0.00000003  0.00000000  0.00007978  0.00005314\n   0.00001173  0.00000149  0.00000497  0.00000165  0.00000130  0.00000004\n   0.00000576  0.00002654  0.00000014  0.00002140  0.00000018  0.00000313\n   0.00000000  0.00000286  0.00025254  0.00116662  0.00000595  0.00094154\n   0.00000769  0.00013794  0.00000016  0.00012600  0.00000049  0.00000384\n   0.00000043  0.00000013  0.00000002  0.00000012  0.00000002  0.00000000\n   0.00002145  0.00016858  0.00001904  0.00000577  0.00000067  0.00000521\n   0.00000098  0.00000018]]\nsum78 =  0.0181197117391\np79 =  [[ 0.00007645  0.00005354  0.00011417  0.00011027  0.00335305  0.00234836\n   0.00500620  0.00483480  0.00000192  0.00000128  0.00000028  0.00000004\n   0.00000012  0.00000004  0.00000003  0.00000000  0.00008434  0.00005618\n   0.00001240  0.00000157  0.00000525  0.00000174  0.00000137  0.00000004\n   0.00000609  0.00002806  0.00000014  0.00002263  0.00000019  0.00000331\n   0.00000000  0.00000302  0.00026698  0.00123335  0.00000629  0.00099540\n   0.00000813  0.00014584  0.00000017  0.00013320  0.00000052  0.00000406\n   0.00000046  0.00000014  0.00000002  0.00000013  0.00000002  0.00000000\n   0.00002268  0.00017822  0.00002013  0.00000610  0.00000071  0.00000551\n   0.00000104  0.00000019]]\nsum79 =  0.0191562073845\np80 =  [[ 0.00008082  0.00005661  0.00012070  0.00011657  0.00354485  0.00248269\n   0.00529257  0.00511136  0.00000203  0.00000135  0.00000030  0.00000004\n   0.00000013  0.00000004  0.00000003  0.00000000  0.00008916  0.00005939\n   0.00001311  0.00000166  0.00000555  0.00000184  0.00000145  0.00000005\n   0.00000644  0.00002967  0.00000015  0.00002393  0.00000020  0.00000350\n   0.00000000  0.00000319  0.00028226  0.00130391  0.00000665  0.00105234\n   0.00000860  0.00015418  0.00000018  0.00014082  0.00000055  0.00000430\n   0.00000049  0.00000015  0.00000002  0.00000013  0.00000002  0.00000000\n   0.00002398  0.00018842  0.00002129  0.00000645  0.00000075  0.00000583\n   0.00000109  0.00000020]]\nsum80 =  0.0202519967044\np81 =  [[ 0.00008545  0.00005984  0.00012760  0.00012324  0.00374763  0.00262471\n   0.00559531  0.00540374  0.00000215  0.00000143  0.00000032  0.00000004\n   0.00000013  0.00000004  0.00000003  0.00000000  0.00009427  0.00006279\n   0.00001386  0.00000176  0.00000587  0.00000195  0.00000153  0.00000005\n   0.00000680  0.00003137  0.00000016  0.00002530  0.00000021  0.00000370\n   0.00000000  0.00000338  0.00029840  0.00137850  0.00000703  0.00111254\n   0.00000909  0.00016300  0.00000019  0.00014888  0.00000058  0.00000454\n   0.00000051  0.00000016  0.00000002  0.00000014  0.00000003  0.00000000\n   0.00002535  0.00019919  0.00002250  0.00000682  0.00000079  0.00000616\n   0.00000116  0.00000021]]\nsum81 =  0.0214104714779\np82 =  [[ 0.00009033  0.00006327  0.00013490  0.00013028  0.00396200  0.00277485\n   0.00591538  0.00571285  0.00000227  0.00000151  0.00000033  0.00000004\n   0.00000014  0.00000005  0.00000004  0.00000000  0.00009966  0.00006638\n   0.00001465  0.00000186  0.00000621  0.00000206  0.00000162  0.00000005\n   0.00000719  0.00003317  0.00000017  0.00002675  0.00000022  0.00000391\n   0.00000000  0.00000357  0.00031547  0.00145736  0.00000743  0.00117619\n   0.00000961  0.00017233  0.00000020  0.00015740  0.00000061  0.00000480\n   0.00000054  0.00000016  0.00000002  0.00000015  0.00000003  0.00000001\n   0.00002680  0.00021059  0.00002379  0.00000721  0.00000084  0.00000651\n   0.00000122  0.00000022]]\nsum82 =  0.0226352175145\np83 =  [[ 0.00009550  0.00006688  0.00014261  0.00013773  0.00418864  0.00293358\n   0.00625376  0.00603964  0.00000240  0.00000160  0.00000035  0.00000004\n   0.00000015  0.00000005  0.00000004  0.00000000  0.00010536  0.00007018\n   0.00001549  0.00000196  0.00000656  0.00000218  0.00000171  0.00000006\n   0.00000760  0.00003507  0.00000018  0.00002829  0.00000023  0.00000414\n   0.00000000  0.00000378  0.00033352  0.00154073  0.00000785  0.00124348\n   0.00001016  0.00018219  0.00000021  0.00016641  0.00000065  0.00000508\n   0.00000057  0.00000017  0.00000002  0.00000016  0.00000003  0.00000001\n   0.00002833  0.00022264  0.00002515  0.00000762  0.00000088  0.00000688\n   0.00000129  0.00000024]]\nsum83 =  0.0239300257527\np84 =  [[ 0.00010096  0.00007071  0.00015076  0.00014560  0.00442824  0.00310138\n   0.00661149  0.00638512  0.00000254  0.00000169  0.00000037  0.00000005\n   0.00000016  0.00000005  0.00000004  0.00000000  0.00011138  0.00007419\n   0.00001638  0.00000208  0.00000694  0.00000230  0.00000181  0.00000006\n   0.00000804  0.00003708  0.00000019  0.00002991  0.00000024  0.00000438\n   0.00000001  0.00000399  0.00035259  0.00162887  0.00000830  0.00131461\n   0.00001074  0.00019261  0.00000023  0.00017593  0.00000068  0.00000537\n   0.00000061  0.00000018  0.00000002  0.00000017  0.00000003  0.00000001\n   0.00002995  0.00023537  0.00002659  0.00000806  0.00000093  0.00000728\n   0.00000137  0.00000025]]\nsum84 =  0.0252989039944\np85 =  [[ 0.00010673  0.00007475  0.00015939  0.00015393  0.00468155  0.00327879\n   0.00698968  0.00675037  0.00000268  0.00000179  0.00000039  0.00000005\n   0.00000017  0.00000006  0.00000004  0.00000000  0.00011776  0.00007843\n   0.00001731  0.00000220  0.00000734  0.00000243  0.00000191  0.00000006\n   0.00000850  0.00003920  0.00000020  0.00003163  0.00000026  0.00000463\n   0.00000001  0.00000422  0.00037276  0.00172205  0.00000878  0.00138982\n   0.00001135  0.00020363  0.00000024  0.00018599  0.00000072  0.00000567\n   0.00000064  0.00000019  0.00000002  0.00000018  0.00000003  0.00000001\n   0.00003167  0.00024883  0.00002811  0.00000852  0.00000099  0.00000769\n   0.00000145  0.00000026]]\nsum85 =  0.0267460893101\np86 =  [[ 0.00011284  0.00007903  0.00016850  0.00016273  0.00494934  0.00346635\n   0.00738951  0.00713651  0.00000284  0.00000189  0.00000042  0.00000005\n   0.00000018  0.00000006  0.00000005  0.00000000  0.00012449  0.00008292\n   0.00001830  0.00000232  0.00000776  0.00000257  0.00000202  0.00000007\n   0.00000898  0.00004145  0.00000021  0.00003344  0.00000027  0.00000489\n   0.00000001  0.00000447  0.00039409  0.00182057  0.00000928  0.00146933\n   0.00001200  0.00021528  0.00000025  0.00019663  0.00000076  0.00000600\n   0.00000068  0.00000021  0.00000002  0.00000019  0.00000003  0.00000001\n   0.00003348  0.00026307  0.00002972  0.00000901  0.00000104  0.00000813\n   0.00000153  0.00000028]]\nsum86 =  0.0282760611537\np87 =  [[ 0.00011929  0.00008355  0.00017813  0.00017204  0.00523246  0.00366464\n   0.00781222  0.00754474  0.00000300  0.00000200  0.00000044  0.00000006\n   0.00000019  0.00000006  0.00000005  0.00000000  0.00013161  0.00008766\n   0.00001935  0.00000245  0.00000820  0.00000272  0.00000214  0.00000007\n   0.00000950  0.00004382  0.00000022  0.00003535  0.00000029  0.00000517\n   0.00000001  0.00000472  0.00041663  0.00192472  0.00000981  0.00155338\n   0.00001269  0.00022760  0.00000027  0.00020788  0.00000081  0.00000634\n   0.00000072  0.00000022  0.00000003  0.00000020  0.00000004  0.00000001\n   0.00003539  0.00027812  0.00003142  0.00000952  0.00000110  0.00000860\n   0.00000162  0.00000030]]\nsum87 =  0.0298935552277\np88 =  [[ 0.00012612  0.00008833  0.00018832  0.00018187  0.00553178  0.00387426\n   0.00825910  0.00797632  0.00000317  0.00000211  0.00000047  0.00000006\n   0.00000020  0.00000007  0.00000005  0.00000000  0.00013914  0.00009268\n   0.00002046  0.00000259  0.00000867  0.00000287  0.00000226  0.00000007\n   0.00001004  0.00004633  0.00000024  0.00003738  0.00000031  0.00000547\n   0.00000001  0.00000499  0.00044046  0.00203482  0.00001037  0.00164225\n   0.00001342  0.00024062  0.00000028  0.00021978  0.00000085  0.00000670\n   0.00000076  0.00000023  0.00000003  0.00000021  0.00000004  0.00000001\n   0.00003742  0.00029403  0.00003322  0.00001007  0.00000117  0.00000909\n   0.00000171  0.00000031]]\nsum88 =  0.0316035781419\np89 =  [[ 0.00013333  0.00009338  0.00019909  0.00019227  0.00584821  0.00409588\n   0.00873155  0.00843259  0.00000335  0.00000223  0.00000049  0.00000006\n   0.00000021  0.00000007  0.00000005  0.00000000  0.00014710  0.00009798\n   0.00002163  0.00000274  0.00000916  0.00000304  0.00000239  0.00000008\n   0.00001062  0.00004899  0.00000025  0.00003952  0.00000032  0.00000578\n   0.00000001  0.00000528  0.00046566  0.00215123  0.00001097  0.00173620\n   0.00001418  0.00025438  0.00000030  0.00023235  0.00000090  0.00000709\n   0.00000080  0.00000024  0.00000003  0.00000022  0.00000004  0.00000001\n   0.00003956  0.00031085  0.00003512  0.00001064  0.00000123  0.00000961\n   0.00000181  0.00000033]]\nsum89 =  0.0334114229097\np90 =  [[ 0.00014095  0.00009872  0.00021047  0.00020327  0.00618275  0.00433018\n   0.00923102  0.00891496  0.00000355  0.00000236  0.00000052  0.00000007\n   0.00000022  0.00000007  0.00000006  0.00000000  0.00015552  0.00010359\n   0.00002287  0.00000290  0.00000969  0.00000321  0.00000253  0.00000008\n   0.00001122  0.00005179  0.00000026  0.00004179  0.00000034  0.00000612\n   0.00000001  0.00000558  0.00049229  0.00227429  0.00001159  0.00183552\n   0.00001500  0.00026894  0.00000031  0.00024565  0.00000095  0.00000749\n   0.00000085  0.00000026  0.00000003  0.00000023  0.00000004  0.00000001\n   0.00004182  0.00032863  0.00003713  0.00001125  0.00000131  0.00001016\n   0.00000191  0.00000035]]\nsum90 =  0.0353226853322\np91 =  [[ 0.00014902  0.00010437  0.00022251  0.00021489  0.00653642  0.00457788\n   0.00975906  0.00942493  0.00000375  0.00000250  0.00000055  0.00000007\n   0.00000023  0.00000008  0.00000006  0.00000000  0.00016441  0.00010951\n   0.00002417  0.00000306  0.00001024  0.00000339  0.00000267  0.00000009\n   0.00001187  0.00005476  0.00000028  0.00004418  0.00000036  0.00000647\n   0.00000001  0.00000590  0.00052046  0.00240440  0.00001226  0.00194053\n   0.00001585  0.00028433  0.00000033  0.00025970  0.00000101  0.00000792\n   0.00000089  0.00000027  0.00000003  0.00000024  0.00000005  0.00000001\n   0.00004421  0.00034743  0.00003925  0.00001190  0.00000138  0.00001074\n   0.00000202  0.00000037]]\nsum91 =  0.0373432813181\np92 =  [[ 0.00015754  0.00011033  0.00023524  0.00022718  0.00691033  0.00483975\n   0.01031732  0.00996407  0.00000396  0.00000264  0.00000058  0.00000007\n   0.00000025  0.00000008  0.00000006  0.00000000  0.00017382  0.00011578\n   0.00002556  0.00000324  0.00001083  0.00000359  0.00000282  0.00000009\n   0.00001254  0.00005789  0.00000030  0.00004671  0.00000038  0.00000684\n   0.00000001  0.00000624  0.00055023  0.00254195  0.00001296  0.00205154\n   0.00001676  0.00030059  0.00000035  0.00027456  0.00000107  0.00000837\n   0.00000095  0.00000029  0.00000003  0.00000026  0.00000005  0.00000001\n   0.00004674  0.00036730  0.00004149  0.00001258  0.00000146  0.00001136\n   0.00000213  0.00000039]]\nsum92 =  0.0394794651956\np93 =  [[ 0.00016655  0.00011665  0.00024869  0.00024018  0.00730562  0.00511660\n   0.01090750  0.01053405  0.00000419  0.00000279  0.00000062  0.00000008\n   0.00000026  0.00000009  0.00000007  0.00000000  0.00018376  0.00012240\n   0.00002702  0.00000343  0.00001145  0.00000379  0.00000299  0.00000010\n   0.00001326  0.00006121  0.00000031  0.00004939  0.00000040  0.00000723\n   0.00000001  0.00000660  0.00058170  0.00268736  0.00001370  0.00216891\n   0.00001772  0.00031779  0.00000037  0.00029027  0.00000113  0.00000885\n   0.00000100  0.00000030  0.00000004  0.00000027  0.00000005  0.00000001\n   0.00004942  0.00038831  0.00004387  0.00001330  0.00000154  0.00001201\n   0.00000226  0.00000041]]\nsum93 =  0.0417378490713\np94 =  [[ 0.00017608  0.00012332  0.00026291  0.00025391  0.00772353  0.00540929\n   0.01153145  0.01113663  0.00000443  0.00000295  0.00000065  0.00000008\n   0.00000028  0.00000009  0.00000007  0.00000000  0.00019427  0.00012940\n   0.00002856  0.00000362  0.00001210  0.00000401  0.00000316  0.00000010\n   0.00001402  0.00006471  0.00000033  0.00005221  0.00000043  0.00000764\n   0.00000001  0.00000698  0.00061498  0.00284110  0.00001448  0.00229299\n   0.00001873  0.00033597  0.00000039  0.00030687  0.00000119  0.00000936\n   0.00000106  0.00000032  0.00000004  0.00000029  0.00000005  0.00000001\n   0.00005224  0.00041052  0.00004638  0.00001406  0.00000163  0.00001269\n   0.00000239  0.00000044]]\nsum94 =  0.0441254232964\np95 =  [[ 0.00018615  0.00013037  0.00027795  0.00026843  0.00816534  0.00571872\n   0.01219109  0.01177368  0.00000468  0.00000312  0.00000069  0.00000009\n   0.00000029  0.00000010  0.00000008  0.00000000  0.00020539  0.00013680\n   0.00003020  0.00000383  0.00001279  0.00000424  0.00000334  0.00000011\n   0.00001482  0.00006842  0.00000035  0.00005521  0.00000045  0.00000808\n   0.00000001  0.00000738  0.00065016  0.00300363  0.00001531  0.00242416\n   0.00001980  0.00035519  0.00000042  0.00032443  0.00000126  0.00000989\n   0.00000112  0.00000034  0.00000004  0.00000031  0.00000006  0.00000001\n   0.00005523  0.00043401  0.00004903  0.00001486  0.00000172  0.00001342\n   0.00000252  0.00000046]]\n"
     ]
    },
    {
     "name": "stdout",
     "output_type": "stream",
     "text": [
      "sum95 =  0.0466495781039\np96 =  [[ 0.00019679  0.00013783  0.00029384  0.00028378  0.00863243  0.00604585\n   0.01288846  0.01244718  0.00000495  0.00000330  0.00000073  0.00000009\n   0.00000031  0.00000010  0.00000008  0.00000000  0.00021713  0.00014463\n   0.00003193  0.00000405  0.00001353  0.00000448  0.00000353  0.00000011\n   0.00001567  0.00007234  0.00000037  0.00005837  0.00000048  0.00000855\n   0.00000001  0.00000780  0.00068735  0.00317546  0.00001619  0.00256284\n   0.00002094  0.00037552  0.00000044  0.00034299  0.00000133  0.00001046\n   0.00000118  0.00000036  0.00000004  0.00000032  0.00000006  0.00000001\n   0.00005839  0.00045883  0.00005184  0.00001571  0.00000182  0.00001419\n   0.00000267  0.00000049]]\nsum96 =  0.0493181264837\np97 =  [[ 0.00020752  0.00014546  0.00030965  0.00029945  0.00773549  0.00549068\n   0.01134652  0.01117928  0.00000523  0.00000348  0.00000077  0.00000010\n   0.00000033  0.00000011  0.00000008  0.00000000  0.00020083  0.00013117\n   0.00003001  0.00000370  0.00001262  0.00000403  0.00000338  0.00000010\n   0.00001654  0.00007644  0.00000039  0.00006170  0.00000050  0.00000903\n   0.00000001  0.00000825  0.00062286  0.00323175  0.00001481  0.00265711\n   0.00001879  0.00038887  0.00000040  0.00035873  0.00000140  0.00001104\n   0.00000125  0.00000038  0.00000004  0.00000034  0.00000006  0.00000001\n   0.00005280  0.00041394  0.00005071  0.00001419  0.00000163  0.00001267\n   0.00000264  0.00000044]]\nsum97 =  0.0451397075713\np98 =  [[ 0.00021612  0.00015213  0.00032133  0.00031292  0.00511363  0.00378910\n   0.00710670  0.00748234  0.00000548  0.00000364  0.00000081  0.00000010\n   0.00000034  0.00000011  0.00000009  0.00000000  0.00014663  0.00009015\n   0.00002299  0.00000261  0.00000949  0.00000269  0.00000274  0.00000007\n   0.00001729  0.00008058  0.00000041  0.00006513  0.00000053  0.00000953\n   0.00000001  0.00000871  0.00042694  0.00300527  0.00001046  0.00262602\n   0.00001252  0.00037401  0.00000027  0.00036129  0.00000147  0.00001152\n   0.00000131  0.00000039  0.00000005  0.00000036  0.00000007  0.00000001\n   0.00003593  0.00027974  0.00004364  0.00000962  0.00000108  0.00000832\n   0.00000236  0.00000029]]\nsum98 =  0.0321773786219\np99 =  [[ 0.00019314  0.00015163  0.00026812  0.00031033  0.00133393  0.00127531\n   0.00114475  0.00211037  0.00000561  0.00000364  0.00000083  0.00000010\n   0.00000035  0.00000011  0.00000009  0.00000000  0.00006302  0.00002969\n   0.00001174  0.00000097  0.00000443  0.00000075  0.00000164  0.00000002\n   0.00001717  0.00008259  0.00000041  0.00006840  0.00000052  0.00000977\n   0.00000001  0.00000916  0.00013863  0.00177613  0.00000393  0.00214252\n   0.00000344  0.00022063  0.00000008  0.00029928  0.00000144  0.00001106\n   0.00000136  0.00000038  0.00000004  0.00000034  0.00000007  0.00000001\n   0.00001123  0.00008394  0.00003106  0.00000294  0.00000028  0.00000207\n   0.00000182  0.00000007]]\nsum99 =  0.0118314179063\nsum =  1.0\n"
     ]
    }
   ],
   "source": [
    "vect_p_l = [p0]\n",
    "p_sum = np.sum(p0)\n",
    "print('sum0 = ', np.sum(p0))\n",
    "print('p0 = ', vect_p_l[0])\n",
    "for l in range(1, p_num):\n",
    "    vect_p_l.append(np.dot(vect_p_l[0], matrPhi_l[l]))\n",
    "    p_sum += (np.sum(vect_p_l[l]))\n",
    "    print('p' + str(l) + ' = ', vect_p_l[l])\n",
    "    print('sum' + str(l) + ' = ', np.sum(vect_p_l[l]))\n",
    "print('sum = ', p_sum)"
   ]
  },
  {
   "cell_type": "heading",
   "metadata": {},
   "level": 2,
   "source": [
    ""
   ]
  },
  {
   "cell_type": "code",
   "execution_count": 31,
   "metadata": {
    "collapsed": true
   },
   "outputs": [],
   "source": [
    "# Условие эргодичности\n",
    "block00 = kronsum(matrH0, matrS1) + kron(np.eye(V_), np.dot(matrS1_0, beta1))\n",
    "block03 = kron(kron(kron(matrH1, M1_e), tau), alpha1)\n",
    "block10 = kron(kron(np.eye(V_), np.dot(M2_e, beta1)), matrA2_0)\n",
    "block11 = kronsum(kronsum(matrH0, matrS2), matrA2) + kron(kron(np.eye(V_), np.dot(matrS2_0, beta2)), np.eye(L2))\n",
    "block12 = kron(kron(kron(matrH1, np.eye(M2)), tau), L2_e)\n",
    "block21 = kron(kron(kron(np.eye(V_), np.eye(M2)), matrT0), alpha1)\n",
    "block22 = kronsum(kronsum(matrH, matrS2), matrT) + kron(kron(np.eye(V_), np.dot(matrS2_0, beta2)), np.eye(R))\n",
    "block30 = kron(kron(kron(np.eye(V_), beta1), matrT0), L1_e)\n",
    "block32 = kron(kron(kron(np.eye(V_), beta2), np.eye(R)), matrA1_0)\n",
    "block33 = kronsum(kronsum(matrH, matrT), matrA1)\n",
    "block01 = np.zeros((block00.shape[0], block11.shape[1]))\n",
    "block02 = np.zeros((block00.shape[0], block12.shape[1]))\n",
    "block13 = np.zeros((block10.shape[0], block03.shape[1]))\n",
    "block20 = np.zeros((block21.shape[0], block00.shape[1]))\n",
    "block23 = np.zeros((block21.shape[0], block03.shape[1]))\n",
    "block31 = np.zeros((block30.shape[0], block11.shape[1]))\n",
    "matrGamma = np.bmat([[block00, block01, block02, block03],\n",
    "                     [block10, block11, block12, block13],\n",
    "                     [block20, block21, block22, block23],\n",
    "                     [block30, block31, block32, block33]])\n",
    "# pd.DataFrame(matrGamma)"
   ]
  },
  {
   "cell_type": "code",
   "execution_count": 32,
   "metadata": {
    "collapsed": false
   },
   "outputs": [
    {
     "name": "stdout",
     "output_type": "stream",
     "text": [
      "x =  [ 0.00068409  0.00048671  0.00041198  0.00040662  0.00001789  0.00001158\n  0.00000294  0.00000048  0.00000086  0.00000025  0.00000040  0.00000006\n  0.00005425  0.36492823  0.00000133  0.36488009  0.00000092  0.13403250\n  0.00000002  0.13403103  0.00000459  0.00003600  0.00000501  0.00000123\n  0.00000008  0.00000061  0.00000021  0.00000002]\nx1 =  [ 0.00068409  0.00048671  0.00041198  0.00040662]\nx2 =  [ 0.00001789  0.00001158  0.00000294  0.00000048  0.00000086  0.00000025\n  0.00000040  0.00000006]\nx3 =  [ 0.00005425  0.36492823  0.00000133  0.36488009  0.00000092  0.13403250\n  0.00000002  0.13403103]\n"
     ]
    }
   ],
   "source": [
    "matr_a = copy.deepcopy(np.array(matrGamma))\n",
    "for i in range(matr_a.shape[0]):\n",
    "    matr_a[i][0] = 1\n",
    "matr_b = np.zeros((matr_a.shape[0], 1))\n",
    "matr_b[0][0] = 1\n",
    "matr_a = np.transpose(matr_a)\n",
    "\n",
    "x = la.solve(matr_a, matr_b).reshape(-1)\n",
    "\n",
    "print('x = ', x)\n",
    "x1 = x[0:V_*M1]\n",
    "x2 = x[V_*M1:V_*M1 + V_*M2*L2]\n",
    "x3 = x[V_*M1 + V_*M2*L2: V_*M1 + V_*M2*L2 + V_*M2*R]\n",
    "\n",
    "print('x1 = ', x1)\n",
    "print('x2 = ', x2)\n",
    "print('x3 = ', x3)"
   ]
  },
  {
   "cell_type": "code",
   "execution_count": 33,
   "metadata": {
    "collapsed": false
   },
   "outputs": [
    {
     "name": "stdout",
     "output_type": "stream",
     "text": [
      "pi1 =  [ 0.00109607  0.00089334]\npi2 =  [ 0.00003058  0.00000389]\npi3 =  [ 0.49901590  0.49891247]\n"
     ]
    }
   ],
   "source": [
    "e_V_ = np.array([[1.] for i in range(0, V_)])\n",
    "e_R = np.array([[1.] for i in range(0, R)])\n",
    "pi1 = x1.dot(kron(e_V_, np.eye(M1)))\n",
    "pi2 = x2.dot(kron(kron(e_V_, np.eye(M2)), L2_e))\n",
    "pi3 = x3.dot(kron(kron(e_V_, np.eye(M2)), e_R))\n",
    "print('pi1 = ', pi1)\n",
    "print('pi2 = ', pi2)\n",
    "print('pi3 = ', pi3)"
   ]
  },
  {
   "cell_type": "heading",
   "metadata": {},
   "level": 3,
   "source": [
    "1. Пропускная способность системы rho"
   ]
  },
  {
   "cell_type": "code",
   "execution_count": 34,
   "metadata": {
    "collapsed": false
   },
   "outputs": [
    {
     "name": "stdout",
     "output_type": "stream",
     "text": [
      "rho =  1.01569947522\n"
     ]
    }
   ],
   "source": [
    "rho = np.dot(pi1, matrS1_0) + np.dot((pi2 + pi3), matrS2_0)\n",
    "print('rho = ', rho[0])"
   ]
  },
  {
   "cell_type": "heading",
   "metadata": {},
   "level": 3,
   "source": [
    ""
   ]
  },
  {
   "cell_type": "code",
   "execution_count": 35,
   "metadata": {
    "collapsed": false
   },
   "outputs": [
    {
     "name": "stdout",
     "output_type": "stream",
     "text": [
      "P(1) = [[ 0.00423720  0.00298281  0.00631097  0.00614228  0.17331829  0.12200516\n   0.25709811  0.25013180  0.00010735  0.00007139  0.00001578  0.00000200\n   0.00000669  0.00000221  0.00000174  0.00000006  0.00441458  0.00291732\n   0.00065342  0.00008190  0.00027599  0.00009011  0.00007282  0.00000230\n   0.00033917  0.00156182  0.00000800  0.00125905  0.00001033  0.00018357\n   0.00000022  0.00016760  0.01386007  0.06657851  0.00032765  0.05467589\n   0.00042064  0.00790052  0.00000885  0.00733513  0.00002879  0.00022599\n   0.00002564  0.00000774  0.00000090  0.00000699  0.00000132  0.00000024\n   0.00117641  0.00923598  0.00108187  0.00031642  0.00003659  0.00028452\n   0.00005603  0.00000979]]\n"
     ]
    }
   ],
   "source": [
    "vect_P_1_ = copy.deepcopy(vect_p_l[1])\n",
    "for l in range(2, p_num):\n",
    "    vect_P_1_ += vect_p_l[l]\n",
    "print('P(1) =', vect_P_1_)"
   ]
  },
  {
   "cell_type": "heading",
   "metadata": {},
   "level": 3,
   "source": [
    ""
   ]
  },
  {
   "cell_type": "code",
   "execution_count": 36,
   "metadata": {
    "collapsed": true
   },
   "outputs": [],
   "source": [
    "vect_dP_1_ = copy.deepcopy(vect_p_l[1])\n",
    "for l in range(2, p_num):\n",
    "    vect_dP_1_ += l * vect_p_l[l]"
   ]
  },
  {
   "cell_type": "heading",
   "metadata": {},
   "level": 3,
   "source": [
    "P''(2)"
   ]
  },
  {
   "cell_type": "code",
   "execution_count": 37,
   "metadata": {
    "collapsed": true
   },
   "outputs": [],
   "source": [
    "vect_ddP_1_ = copy.deepcopy(vect_p_l[2]) * 2\n",
    "for l in range(3, p_num):\n",
    "    vect_ddP_1_ += l * (l - 1) * vect_p_l[l]"
   ]
  },
  {
   "cell_type": "heading",
   "metadata": {},
   "level": 3,
   "source": [
    "3. Среднее число запросов в системе"
   ]
  },
  {
   "cell_type": "code",
   "execution_count": 38,
   "metadata": {
    "collapsed": false
   },
   "outputs": [
    {
     "name": "stdout",
     "output_type": "stream",
     "text": [
      "L = 80.3573541693\n"
     ]
    }
   ],
   "source": [
    "# Среднее число запросов в системе\n",
    "\n",
    "vect_e = np.array([[1.] for _ in range(vect_dP_1_.shape[1])])\n",
    "L = np.dot(vect_dP_1_, vect_e)\n",
    "print('L =', L[0, 0])"
   ]
  },
  {
   "cell_type": "heading",
   "metadata": {},
   "level": 3,
   "source": [
    "4. Дисперсия числа запросов в системе"
   ]
  },
  {
   "cell_type": "code",
   "execution_count": 39,
   "metadata": {
    "collapsed": false
   },
   "outputs": [
    {
     "name": "stdout",
     "output_type": "stream",
     "text": [
      "V = 303.681861894\n"
     ]
    }
   ],
   "source": [
    "# Дисперсия числа запросов в системе\n",
    "dispV = np.dot(vect_ddP_1_, vect_e)[0] + L - L ** 2\n",
    "print('V =', dispV[0, 0])"
   ]
  },
  {
   "cell_type": "heading",
   "metadata": {},
   "level": 3,
   "source": [
    "5. Вероятность того, что прибор 1 исправен и обслуживает запрос"
   ]
  },
  {
   "cell_type": "code",
   "execution_count": 40,
   "metadata": {
    "collapsed": false
   },
   "outputs": [
    {
     "name": "stdout",
     "output_type": "stream",
     "text": [
      "P^{(1,0)} = 0.822226634202\n"
     ]
    }
   ],
   "source": [
    "# Вероятность того, что прибор 1 исправен и обслуживает запрос\n",
    "temp_matr = np.dot(vect_P_1_, la.block_diag(np.eye(a*M1), np.zeros((a*(M2*L2 + M2*R + R*L1), a*(M2*L2 + M2*R + R*L1)))))\n",
    "vect_e = np.array([[1.] for i in range(0, temp_matr.shape[1])])\n",
    "prob1work = np.dot(temp_matr, vect_e)\n",
    "print('P^{(1,0)} =', prob1work[0, 0])"
   ]
  },
  {
   "cell_type": "heading",
   "metadata": {},
   "level": 3,
   "source": [
    "6. Вероятность того, что прибор-1 в неисправном состоянии и прибор-2 обслуживает запрос"
   ]
  },
  {
   "cell_type": "code",
   "execution_count": 41,
   "metadata": {
    "collapsed": false
   },
   "outputs": [
    {
     "name": "stdout",
     "output_type": "stream",
     "text": [
      "P^{(2,0),(1,2)} = 0.16335266263\n"
     ]
    }
   ],
   "source": [
    "# Вероятность того, что прибор-1 в неисправном состоянии и прибор-2 обслуживает запрос\n",
    "temp_matr = np.dot(vect_P_1_, la.block_diag(np.zeros((a*M1, a*M1)), np.eye(a*M2*(L2 + R)), np.zeros((a*R*L1, a*R*L1))))\n",
    "vect_e = np.array([[1.] for i in range(0, temp_matr.shape[1])])\n",
    "prob1notwork = np.dot(temp_matr, vect_e)\n",
    "print('P^{(2,0),(1,2)} =', prob1notwork[0, 0])"
   ]
  },
  {
   "cell_type": "heading",
   "metadata": {},
   "level": 3,
   "source": [
    "7. Вероятность того, что в системе есть запросы, прибор 1 в неисправном состоянии и идет переключение с этого прибора на прибор 2 (при этом оба  прибора не обслуживают заявки)"
   ]
  },
  {
   "cell_type": "code",
   "execution_count": 42,
   "metadata": {
    "collapsed": false
   },
   "outputs": [
    {
     "name": "stdout",
     "output_type": "stream",
     "text": [
      "P^{(2,1)} = 0.0124952081646\n"
     ]
    }
   ],
   "source": [
    "# Вероятность того, что в системе есть запросы, прибор 1 в неисправном состоянии и идет переключение с этого прибора на прибор 2 (при этом оба  прибора не обслуживают заявки)\n",
    "temp_matr = np.dot(vect_P_1_, la.block_diag(np.zeros((a*(M1+M2*(L2+R)), a*(M1+M2*(L2+R)))), np.eye(a*R*L1)))\n",
    "vect_e = np.array([[1.] for i in range(0, temp_matr.shape[1])])\n",
    "prob1notworkswitch2 = np.dot(temp_matr, vect_e)\n",
    "print('P^{(2,1)} =', prob1notworkswitch2[0, 0])"
   ]
  },
  {
   "cell_type": "heading",
   "metadata": {},
   "level": 3,
   "source": [
    "8. Вероятность того, что в системе есть запросы, прибор 1 в исправном состоянии и идет переключение с  прибора 2 на прибор 1 (при этом прибор 2 продолжает обслуживать запросы)\n"
   ]
  },
  {
   "cell_type": "code",
   "execution_count": 43,
   "metadata": {
    "collapsed": false
   },
   "outputs": [
    {
     "name": "stdout",
     "output_type": "stream",
     "text": [
      "P^{(2,2)} = 0.0087156667819\n"
     ]
    }
   ],
   "source": [
    "# Вероятность того, что в системе есть запросы, прибор 1 в исправном состоянии и идет переключение с  прибора 2 на прибор 1 (при этом прибор 2 продолжает обслуживать запросы)\n",
    "temp_matr = np.dot(vect_P_1_, la.block_diag(np.zeros((a*M1, a*M1)), np.eye(a*M2*L2),\n",
    "                                            np.zeros((a*(R*L1 + M2*R), a*(R*L1 + M2*R)))))\n",
    "vect_e = np.array([[1.] for i in range(0, temp_matr.shape[1])])\n",
    "prob1workswitch21 = np.dot(temp_matr, vect_e)\n",
    "print('P^{(2,2)} =', prob1workswitch21[0, 0])"
   ]
  },
  {
   "cell_type": "heading",
   "metadata": {},
   "level": 3,
   "source": [
    "9. Вероятность того, что прибор 1 доступен (средняя доля времени, в течение которой прибор 1 доступен)"
   ]
  },
  {
   "cell_type": "code",
   "execution_count": 44,
   "metadata": {
    "collapsed": false
   },
   "outputs": [
    {
     "name": "stdout",
     "output_type": "stream",
     "text": [
      "P_1+ = 0.824044671594\n"
     ]
    }
   ],
   "source": [
    "# Вероятность того, что прибор 1 доступен (средняя доля времени, в течение которого прибор 1 доступен)\n",
    "temp_matr1 = np.dot(vect_P_1_, la.block_diag(np.eye(a*M1), np.zeros((a*(M2*L2 + M2*R + R*L1), a*(M2*L2 + M2*R + R*L1)))))\n",
    "vect_e = np.array([[1.] for i in range(0, temp_matr1.shape[1])])\n",
    "temp_matr = np.dot(temp_matr1, vect_e)\n",
    "\n",
    "temp_matr2 = np.dot(vect_p_l[0], la.block_diag(np.eye(a), np.zeros((a*(L2+R+R*L1), a*(L2+R+R*L1)))))\n",
    "vect_e = np.array([[1.] for i in range(0, temp_matr2.shape[1])])\n",
    "temp_matr += np.dot(temp_matr2, vect_e)\n",
    "prob1avail = temp_matr\n",
    "print('P_1+ =', prob1avail[0, 0])"
   ]
  },
  {
   "cell_type": "heading",
   "metadata": {},
   "level": 3,
   "source": [
    "10. Вероятность того, что прибор 1 недоступен (средняя доля времени, в течение которого прибор 1 недоступен)"
   ]
  },
  {
   "cell_type": "code",
   "execution_count": 45,
   "metadata": {
    "collapsed": false
   },
   "outputs": [
    {
     "name": "stdout",
     "output_type": "stream",
     "text": [
      "P_2 = 0.175955328406\n"
     ]
    }
   ],
   "source": [
    "# Вероятность того, что прибор 1 недоступен (средняя доля времени, в течение которого прибор 1 недоступен)\n",
    "temp_matr1 = np.dot(vect_P_1_, la.block_diag(np.zeros((a*M1, a*M1)), np.eye(a*(M2*L2 + M2*R + R*L1))))\n",
    "vect_e = np.array([[1.] for i in range(0, temp_matr1.shape[1])])\n",
    "temp_matr = np.dot(temp_matr1, vect_e)\n",
    "\n",
    "temp_matr2 = np.dot(vect_p_l[0], la.block_diag(np.zeros((a, a)), np.eye(a*(L2+R+R*L1))))\n",
    "vect_e = np.array([[1.] for i in range(0, temp_matr2.shape[1])])\n",
    "temp_matr += np.dot(temp_matr2, vect_e)\n",
    "prob1notavail = temp_matr\n",
    "print('P_2 =', prob1notavail[0, 0])"
   ]
  },
  {
   "cell_type": "heading",
   "metadata": {},
   "level": 3,
   "source": [
    "10.1 Вероятность того, что прибор 1 недоступен, а прибор 2 доступен (средняя доля времени, в течение которого прибор 2 доступен)"
   ]
  },
  {
   "cell_type": "code",
   "execution_count": 46,
   "metadata": {},
   "outputs": [
    {
     "name": "stdout",
     "output_type": "stream",
     "text": [
      "P_2 = 0.163437413637\n"
     ]
    }
   ],
   "source": [
    "temp_matr1 = np.dot(vect_P_1_, la.block_diag(np.zeros((a*M1, a*M1)), np.eye(a*M2*(L2+R)), np.zeros((a*R*L1, a*R*L1))))\n",
    "vect_e = np.array([[1.] for i in range(0, temp_matr1.shape[1])])\n",
    "temp_matr = np.dot(temp_matr1, vect_e)\n",
    "\n",
    "temp_matr2 = np.dot(vect_p_l[0], la.block_diag(np.zeros((a, a)), np.eye(a*(L2+R)), np.zeros((a*R*L1, a*R*L1))))\n",
    "vect_e = np.array([[1.] for i in range(0, temp_matr2.shape[1])])\n",
    "temp_matr += np.dot(temp_matr2, vect_e)\n",
    "\n",
    "prob2_avail = temp_matr\n",
    "print('P_2 =', prob2_avail[0, 0])"
   ]
  },
  {
   "cell_type": "heading",
   "metadata": {},
   "level": 3,
   "source": [
    "11. Вероятность того, что оба прибора недоступны, т.е. идет переключение с прибора 1 на прибор 2 (средняя доля времени, в течение которого оба прибора недоступны)"
   ]
  },
  {
   "cell_type": "code",
   "execution_count": 47,
   "metadata": {
    "collapsed": true
   },
   "outputs": [
    {
     "name": "stdout",
     "output_type": "stream",
     "text": [
      "P- = 0.012517914769\n"
     ]
    }
   ],
   "source": [
    "temp_matr1 = np.dot(vect_P_1_, la.block_diag(np.zeros((a*(M1+M2*(L2+R)), a*(M1+M2*(L2+R)))), np.eye(a*R*L1)))\n",
    "vect_e = np.array([[1.] for i in range(0, temp_matr1.shape[1])])\n",
    "temp_matr = np.dot(temp_matr1, vect_e)\n",
    "\n",
    "temp_matr2 = np.dot(vect_p_l[0], la.block_diag(np.zeros((a*(1+L2+R), a*(1+L2+R))), np.eye(a*R*L1)))\n",
    "vect_e = np.array([[1.] for i in range(0, temp_matr2.shape[1])])\n",
    "temp_matr += np.dot(temp_matr2, vect_e)\n",
    "\n",
    "prob_both_not_avail = temp_matr\n",
    "print('P- =', prob_both_not_avail[0, 0])"
   ]
  },
  {
   "cell_type": "heading",
   "metadata": {
    "collapsed": true
   },
   "level": 3,
   "source": [
    "12. Среднее число переключений с прибора 1 на прибор 2 в единицу времени"
   ]
  },
  {
   "cell_type": "code",
   "execution_count": 48,
   "metadata": {},
   "outputs": [
    {
     "name": "stdout",
     "output_type": "stream",
     "text": [
      "Khi_1_2 = 2.59565580937\n"
     ]
    }
   ],
   "source": [
    "temp_matr1 = np.dot(vect_P_1_, la.block_diag(kron(kron(np.eye(W_), matrH1), np.eye(M1)), np.zeros((a*(M2*(L2+R)+R*L1), a*(M2*(L2+R)+R*L1)))))\n",
    "vect_e = np.array([[1.] for i in range(0, temp_matr1.shape[1])])\n",
    "temp_matr = np.dot(temp_matr1, vect_e)\n",
    "\n",
    "temp_matr2 = np.dot(vect_p_l[0], la.block_diag(kron(np.eye(W_), matrH1), np.zeros((a*(L2+R+R*L1), a*(L2+R+R*L1)))))\n",
    "vect_e = np.array([[1.] for i in range(0, temp_matr2.shape[1])])\n",
    "temp_matr += np.dot(temp_matr2, vect_e)\n",
    "\n",
    "switches12_num = temp_matr\n",
    "print('Khi_1_2 =', switches12_num[0, 0])"
   ]
  },
  {
   "cell_type": "heading",
   "metadata": {},
   "level": 3,
   "source": [
    "13. Среднее число переключений с прибора 2 на прибор 1 в единицу времени"
   ]
  },
  {
   "cell_type": "code",
   "execution_count": 48,
   "metadata": {},
   "outputs": [],
   "source": [
    ""
   ]
  },
  {
   "cell_type": "code",
   "execution_count": 48,
   "metadata": {},
   "outputs": [
    {
     "name": "stdout",
     "output_type": "stream",
     "text": [
      "Khi_2_1 = 1.50029920262\n"
     ]
    }
   ],
   "source": [
    "temp_matr1 = np.dot(vect_P_1_, la.block_diag(np.zeros((a*(M1+M2*L2), a*(M1+M2*L2))), kron(np.eye(a*M2), matrT),\n",
    "                                             np.zeros((a*R*L1, a*R*L1))))\n",
    "vect_e = np.array([[1.] for i in range(0, temp_matr1.shape[1])])\n",
    "temp_matr = np.dot(temp_matr1, vect_e)\n",
    "temp_matr2 = np.dot(vect_p_l[0], la.block_diag(np.zeros((a*(1+L2), a*(1+L2))), kron(np.eye(a), matrT),\n",
    "                                               np.zeros((a*R*L1, a*R*L1))))\n",
    "vect_e = np.array([[1.] for i in range(0, temp_matr2.shape[1])])\n",
    "temp_matr += np.dot(temp_matr2, vect_e)\n",
    "switches21_num = temp_matr\n",
    "print('Khi_2_1 =', -switches21_num[0, 0])"
   ]
  },
  {
   "cell_type": "code",
   "execution_count": null,
   "metadata": {},
   "outputs": [],
   "source": [
    ""
   ]
  }
 ],
 "metadata": {
  "kernelspec": {
   "display_name": "Python 3",
   "language": "python",
   "name": "python3"
  },
  "language_info": {
   "codemirror_mode": {
    "name": "ipython",
    "version": 3.0
   },
   "file_extension": ".py",
   "mimetype": "text/x-python",
   "name": "python",
   "nbconvert_exporter": "python",
   "pygments_lexer": "ipython3",
   "version": "3.5.2"
  }
 },
 "nbformat": 4,
 "nbformat_minor": 0
}