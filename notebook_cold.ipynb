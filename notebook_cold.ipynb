{
 "cells": [
  {
   "cell_type": "code",
   "execution_count": 2,
   "metadata": {
    "collapsed": true
   },
   "outputs": [],
   "source": [
    "import numpy as np\n",
    "import pandas as pd\n",
    "import scipy.linalg as la\n",
    "import scipy.optimize as opt\n",
    "import copy\n",
    "np.set_printoptions(threshold=np.inf, suppress=True, formatter={'float': '{: 0.8f}'.format}, linewidth=75)"
   ]
  },
  {
   "cell_type": "code",
   "execution_count": 3,
   "metadata": {},
   "outputs": [
    {
     "name": "stdout",
     "output_type": "stream",
     "text": [
      "<class 'numpy.ndarray'>\n"
     ]
    }
   ],
   "source": [
    "test_matrix = np.array([[1, 2], [3, 4]])\n",
    "matr2 = np.array([[5, 6], [7, 8]])\n",
    "big_test_matrix = la.block_diag(test_matrix, test_matrix)\n",
    "readable_big_test_matrix = pd.DataFrame(big_test_matrix)\n",
    "print(type(big_test_matrix))"
   ]
  },
  {
   "cell_type": "code",
   "execution_count": 4,
   "metadata": {},
   "outputs": [],
   "source": [
    "def kron(A, B):\n",
    "    return la.kron(A, B)"
   ]
  },
  {
   "cell_type": "code",
   "execution_count": 5,
   "metadata": {},
   "outputs": [],
   "source": [
    "def kronsum(A, B):\n",
    "    if A.shape[0] != A.shape[1]:\n",
    "        raise ValueError('A is not square')\n",
    "\n",
    "    if B.shape[0] != B.shape[1]:\n",
    "        raise ValueError('B is not square')\n",
    "    \n",
    "    L = kron(A, np.eye(B.shape[0]))\n",
    "    R = kron(np.eye(A.shape[0]), B)\n",
    "    \n",
    "    return L+R"
   ]
  },
  {
   "cell_type": "code",
   "execution_count": 6,
   "metadata": {},
   "outputs": [
    {
     "name": "stdout",
     "output_type": "stream",
     "text": [
      "[[ 6.00000000  6.00000000  2.00000000  0.00000000]\n [ 7.00000000  9.00000000  0.00000000  2.00000000]\n [ 3.00000000  0.00000000  9.00000000  6.00000000]\n [ 0.00000000  3.00000000  7.00000000  12.00000000]]\n"
     ]
    }
   ],
   "source": [
    "print(kronsum(test_matrix, matr2))"
   ]
  },
  {
   "cell_type": "code",
   "execution_count": 7,
   "metadata": {
    "collapsed": true
   },
   "outputs": [
    {
     "name": "stdout",
     "output_type": "stream",
     "text": [
      "[[ 2.00000000  2.00000000  2.00000000  0.00000000]\n [ 3.00000000  5.00000000  0.00000000  2.00000000]\n [ 3.00000000  0.00000000  5.00000000  2.00000000]\n [ 0.00000000  3.00000000  3.00000000  8.00000000]]\n"
     ]
    }
   ],
   "source": [
    "print(kronsum(big_test_matrix[:2, :2], big_test_matrix[2:4, 2:4]))"
   ]
  },
  {
   "cell_type": "code",
   "execution_count": 8,
   "metadata": {},
   "outputs": [],
   "source": [
    "n = 3\n",
    "p_num = 200\n",
    "eps_G = 10 ** (-8)\n",
    "eps_Phi = 10 ** (-6)\n",
    "eps_p_i = 10 ** (-6)"
   ]
  },
  {
   "cell_type": "code",
   "execution_count": 9,
   "metadata": {},
   "outputs": [
    {
     "name": "stdout",
     "output_type": "stream",
     "text": [
      "[[-12.28571429  0.00142857]\n [ 0.00285714 -0.39428571]]\n[[ 4.97658080  0.05796253]\n [ 0.01170960  0.14871194]]\n[[ 3.98126464  0.04637002]\n [ 0.00936768  0.11896956]]\n[[ 3.18501171  0.03709602]\n [ 0.00749415  0.09517564]]\n"
     ]
    }
   ],
   "source": [
    "# Входной BMAP\n",
    "matrD_0 = np.array([[-86., 0.01], [0.02, -2.76]]) / 7\n",
    "matrD = np.array([[85, 0.99], [0.2, 2.54]]) / 7\n",
    "matrD_k = [matrD_0]\n",
    "\n",
    "W_ = matrD_0.shape[0]\n",
    "W = W_ - 1\n",
    "\n",
    "q = 0.8\n",
    "for k in range(1, n+1):\n",
    "    matrD_k.append(matrD * (q ** (k-1)) * (1 - q) / (1 - q ** 3))\n",
    "\n",
    "for matr in matrD_k:\n",
    "    print(matr)"
   ]
  },
  {
   "cell_type": "code",
   "execution_count": 10,
   "metadata": {},
   "outputs": [
    {
     "name": "stdout",
     "output_type": "stream",
     "text": [
      "[[-0.14285714  0.14285714]\n [ 0.03142857 -0.03142857]]\n[ 0.18032787  0.81967213]\n[ 4.69791416]\n"
     ]
    }
   ],
   "source": [
    "# Характеристики входного BMAP\n",
    "\n",
    "matrD_1_ = np.zeros(matrD_k[0].shape)\n",
    "for matr in matrD_k:\n",
    "    matrD_1_ += matr\n",
    "print(matrD_1_)\n",
    "matr_a = copy.deepcopy(matrD_1_)\n",
    "for i in range(matr_a.shape[0]):\n",
    "    matr_a[i][0] = 1\n",
    "\n",
    "matr_b = np.zeros((matr_a.shape[0], 1))\n",
    "matr_b[0][0] = 1\n",
    "\n",
    "matr_a = np.transpose(matr_a)\n",
    "\n",
    "theta = la.solve(matr_a, matr_b).reshape(-1)\n",
    "\n",
    "matrdD_1_ = copy.deepcopy(matrD_k[1])\n",
    "\n",
    "print(theta)\n",
    "\n",
    "for i in range(2, n+1):\n",
    "    matrdD_1_ += matrD_k[i] * i\n",
    "vect_e = np.array([[1.] for i in range(0, matrD_1_.shape[0])])\n",
    "lamD = np.dot(np.dot(theta, matrdD_1_), vect_e)\n",
    "print(lamD)"
   ]
  },
  {
   "cell_type": "code",
   "execution_count": 11,
   "metadata": {
    "collapsed": false
   },
   "outputs": [
    {
     "name": "stdout",
     "output_type": "stream",
     "text": [
      "[[-0.05392500  0.05392500]\n [ 0.14662500 -0.14662500]]\n[[ 1.00000000  0.05392500]\n [ 0.14662500 -0.14662500]]\n[[ 1.00000000  1.00000000]\n [ 0.05392500 -0.14662500]]\n[ 6.00065225]\n"
     ]
    }
   ],
   "source": [
    "# Поток поломок MAP\n",
    "matrH0 = np.array([[-8.110725, 0], [0, -0.26325]])\n",
    "matrH1 = np.array([[8.0568, 0.053925], [0.146625, 0.116625]])\n",
    "V_ = matrH1.shape[0]\n",
    "V = V_ - 1\n",
    "matrH = matrH0 + matrH1\n",
    "matr_a = copy.deepcopy(matrH)\n",
    "for i in range(matr_a.shape[0]):\n",
    "    print(matr_a)\n",
    "    matr_a[i][0] = 1\n",
    "    \n",
    "matr_b = np.zeros((matr_a.shape[0], 1))\n",
    "matr_b[0][0] = 1\n",
    "\n",
    "matr_a = np.transpose(matr_a)\n",
    "\n",
    "print(matr_a)\n",
    "\n",
    "gamma = la.solve(matr_a, matr_b).reshape(-1)\n",
    "\n",
    "vect_e = np.array([[1.] for i in range(0, matrD_1_.shape[0])])\n",
    "h = np.dot(np.dot(gamma, matrH1), vect_e)\n",
    "print(h)"
   ]
  },
  {
   "cell_type": "code",
   "execution_count": 12,
   "metadata": {
    "collapsed": false
   },
   "outputs": [
    {
     "name": "stdout",
     "output_type": "stream",
     "text": [
      "[[-0.05000000 -0.05000000]]\n[[ 10.00000000]]\n"
     ]
    }
   ],
   "source": [
    "# Поток обслуживания PH1\n",
    "beta1 = np.array([[1, 0]])\n",
    "matrS1 = np.array([[-20, 20], [0, -20]])\n",
    "M1 = matrS1.shape[0]\n",
    "M1_ = M1 + 1\n",
    "M1_e = np.array([[1], [1]])\n",
    "matrS1_0 = np.dot(- matrS1, M1_e)\n",
    "vect_e = np.array([[1.] for i in range(0, matrS1.shape[0])])\n",
    "print(np.dot(beta1, la.inv(matrS1)))\n",
    "mu_1 = -la.inv(np.dot(np.dot(beta1, la.inv(matrS1)), vect_e))\n",
    "print(mu_1)"
   ]
  },
  {
   "cell_type": "code",
   "execution_count": 13,
   "metadata": {},
   "outputs": [
    {
     "name": "stdout",
     "output_type": "stream",
     "text": [
      "[[ 1.00000000]]\n"
     ]
    }
   ],
   "source": [
    "# Поток обслуживания PH2\n",
    "beta2 = np.array([[1, 0]])\n",
    "matrS2 = np.array([[-2, 2], [0, -2]])\n",
    "M2 = matrS2.shape[0]\n",
    "M2_ = M2 + 1\n",
    "M2_e = np.array([[1], [1]])\n",
    "matrS2_0 = np.dot(- matrS2, M2_e)\n",
    "\n",
    "vect_e = np.array([[1.] for i in range(0, matrS2.shape[0])])\n",
    "mu_2 = -la.inv(np.dot(np.dot(beta2, la.inv(matrS2)), vect_e))\n",
    "print(mu_2)"
   ]
  },
  {
   "cell_type": "code",
   "execution_count": 14,
   "metadata": {},
   "outputs": [],
   "source": [
    "matrS_w = kron(np.dot(matrS1_0, beta1), \n",
    "               np.dot(M2_e, beta2)) + kron(np.dot(M1_e, beta1), np.dot(matrS2_0, beta2))"
   ]
  },
  {
   "cell_type": "code",
   "execution_count": 15,
   "metadata": {
    "collapsed": false
   },
   "outputs": [
    {
     "name": "stdout",
     "output_type": "stream",
     "text": [
      "[[ 29.99985287]]\n"
     ]
    }
   ],
   "source": [
    "# Поток переключения с прибора-1 на прибор-2\n",
    "alpha1 = np.array([[0.05, 0.95]])\n",
    "matrA1 = np.array([[-1.86075, 0.], [0., -146.9994]])\n",
    "L1 = matrA1.shape[0]\n",
    "L1_ = L1 + 1\n",
    "L1_e = np.array([[1], [1]])\n",
    "matrA1_0 = - np.dot(matrA1, L1_e)\n",
    "\n",
    "vect_e = np.array([[1.] for i in range(0, matrA1.shape[0])])\n",
    "kappa_1 = -la.inv(np.dot(np.dot(alpha1, la.inv(matrA1)), vect_e))\n",
    "print(kappa_1)"
   ]
  },
  {
   "cell_type": "code",
   "execution_count": 16,
   "metadata": {},
   "outputs": [
    {
     "name": "stdout",
     "output_type": "stream",
     "text": [
      "[[ 89.99955862]]\n"
     ]
    }
   ],
   "source": [
    "# Поток переключения с прибора-2 на прибор-1\n",
    "alpha2 = np.array([[0.05, 0.95]])\n",
    "matrA2 = np.array([[-5.58225, 0.], [0., -440.9982]])\n",
    "L2 = matrA2.shape[0]\n",
    "L2_ = L2 + 1\n",
    "L2_e = np.array([[1], [1]])\n",
    "matrA2_0 = - np.dot(matrA2, L2_e)\n",
    "\n",
    "vect_e = np.array([[1.] for i in range(0, matrA1.shape[0])])\n",
    "kappa_2 = -la.inv(np.dot(np.dot(alpha2, la.inv(matrA2)), vect_e))\n",
    "print(kappa_2)"
   ]
  },
  {
   "cell_type": "code",
   "execution_count": 17,
   "metadata": {},
   "outputs": [
    {
     "name": "stdout",
     "output_type": "stream",
     "text": [
      "[[ 100.00980000]]\n"
     ]
    }
   ],
   "source": [
    "# Поток ремонта PH\n",
    "tau = np.array([[0.98, 0.02]])\n",
    "matrT = np.array([[-100., 0.], [0., -0.0002]])\n",
    "T_e = np.array([[1], [1]])\n",
    "matrT0 = - np.dot(matrT, T_e)\n",
    "\n",
    "R = matrT.shape[0]\n",
    "R_ = R + 1\n",
    "vect_e = np.array([[1.] for i in range(0, matrT.shape[0])])\n",
    "phi = -np.dot(np.dot(tau, la.inv(matrT)), vect_e)\n",
    "print(phi)"
   ]
  },
  {
   "cell_type": "code",
   "execution_count": 18,
   "metadata": {},
   "outputs": [
    {
     "name": "stdout",
     "output_type": "stream",
     "text": [
      "4\n"
     ]
    }
   ],
   "source": [
    "a = W_ * V_\n",
    "print(a)"
   ]
  },
  {
   "cell_type": "code",
   "execution_count": 19,
   "metadata": {},
   "outputs": [
    {
     "name": "stdout",
     "output_type": "stream",
     "text": [
      "[[-20.39643929  0.00000000  0.00142857  0.00000000]\n [ 0.00000000 -12.54896429  0.00000000  0.00142857]\n [ 0.00285714  0.00000000 -8.50501071  0.00000000]\n [ 0.00000000  0.00285714  0.00000000 -0.65753571]]\n"
     ]
    }
   ],
   "source": [
    "print(kronsum(matrD_k[0], matrH0))"
   ]
  },
  {
   "cell_type": "code",
   "execution_count": 20,
   "metadata": {
    "collapsed": true
   },
   "outputs": [
    {
     "name": "stdout",
     "output_type": "stream",
     "text": [
      "(16, 4)\n(36, 36)\n"
     ]
    }
   ],
   "source": [
    "# Q~0\n",
    "block00 = kronsum(matrD_k[0], matrH0)\n",
    "block03 = kron(kron(kron(np.eye(W_), matrH1), tau), alpha1)\n",
    "block10 = kron(np.eye(a), matrA2_0)\n",
    "block11 = kronsum(kronsum(matrD_k[0], matrH0), matrA2)\n",
    "block12 = kron(kron(kron(np.eye(W_), matrH1), tau), L2_e)\n",
    "block21 = kron(kron(np.eye(a), matrT0), alpha2)\n",
    "block22 = kronsum(kronsum(matrD_k[0], matrH), matrT)\n",
    "block30 = kron(kron(np.eye(a), matrT0), L1_e)\n",
    "block32 = kron(kron(np.eye(a), np.eye(R)), matrA1_0)\n",
    "block33 = kronsum(kronsum(kronsum(matrD_k[0], matrH), matrT), matrA1)\n",
    "block01 = np.zeros((block00.shape[0], block11.shape[1]))\n",
    "block02 = np.zeros((block00.shape[0], block12.shape[1]))\n",
    "block13 = np.zeros((block10.shape[0], block03.shape[1]))\n",
    "block20 = np.zeros((block21.shape[0], block10.shape[1]))\n",
    "block23 = np.zeros((block21.shape[0], block03.shape[1]))\n",
    "block31 = np.zeros((block30.shape[0], block11.shape[1]))\n",
    "\n",
    "print(block30.shape)\n",
    "\n",
    "matrQw_0 = np.bmat([[block00, block01, block02, block03],\n",
    "                    [block10, block11, block12, block13], \n",
    "                    [block20, block21, block22, block23],\n",
    "                    [block30, block31, block32, block33]])\n",
    "print(matrQw_0.shape)"
   ]
  },
  {
   "cell_type": "code",
   "execution_count": 21,
   "metadata": {
    "collapsed": true
   },
   "outputs": [
    {
     "name": "stdout",
     "output_type": "stream",
     "text": [
      "(36, 36)\n(36, 56)\n"
     ]
    }
   ],
   "source": [
    "# Q~k\n",
    "matrQw_k = [matrQw_0]\n",
    "for i in range(1, n+1):\n",
    "    block0 = kron(kron(matrD_k[i], np.eye(V_)), beta1)\n",
    "    block1 = kron(kron(kron(matrD_k[i], np.eye(V_)), beta2), np.eye(L2))\n",
    "    block2 = kron(kron(kron(matrD_k[i], np.eye(V_)), beta2), np.eye(R))\n",
    "    block3 = kron(kron(matrD_k[i], np.eye(V_)), np.eye(R*L1))\n",
    "    matr_temp = la.block_diag(block0, block1, block2, block3)\n",
    "    matrQw_k.append(matr_temp)\n",
    "    \n",
    "print(matrQw_k[0].shape)\n",
    "print(matrQw_k[1].shape)\n",
    "\n",
    "for i in range(matrQw_k[0].shape[0]):\n",
    "    sum = 0\n",
    "    for matr in matrQw_k:\n",
    "        sum += np.sum(matr[i])\n",
    "    # print('matrQw_k[' + str(i) + '] = ', sum)"
   ]
  },
  {
   "cell_type": "code",
   "execution_count": 22,
   "metadata": {
    "collapsed": true
   },
   "outputs": [
    {
     "name": "stdout",
     "output_type": "stream",
     "text": [
      "(56, 36)\n"
     ]
    }
   ],
   "source": [
    "# Q^0\n",
    "block0 = kron(np.eye(a), matrS1_0)\n",
    "block1 = kron(kron(np.eye(a), matrS2_0), np.eye(L2))\n",
    "block2 = kron(kron(np.eye(a), matrS2_0), np.eye(R))\n",
    "block3 = np.zeros((a*R*L1, a*R*L1))\n",
    "matrQv_0 = la.block_diag(block0, block1, block2, block3)\n",
    "\n",
    "print(matrQv_0.shape)"
   ]
  },
  {
   "cell_type": "code",
   "execution_count": 23,
   "metadata": {
    "collapsed": true
   },
   "outputs": [
    {
     "name": "stdout",
     "output_type": "stream",
     "text": [
      "(56, 56)\n"
     ]
    }
   ],
   "source": [
    "# Q_0\n",
    "block0 = kron(np.eye(a), np.dot(matrS1_0, beta1))\n",
    "block1 = kron(kron(np.eye(a), np.dot(matrS2_0, beta2)), np.eye(L2))\n",
    "block2 = kron(kron(np.eye(a), np.dot(matrS2_0, beta2)), np.eye(R))\n",
    "block3 = np.zeros((a*R*L1, a*R*L1))\n",
    "matrQ_0 = la.block_diag(block0, block1, block2, block3)\n",
    "\n",
    "print(matrQ_0.shape)"
   ]
  },
  {
   "cell_type": "code",
   "execution_count": 24,
   "metadata": {
    "collapsed": true
   },
   "outputs": [
    {
     "name": "stdout",
     "output_type": "stream",
     "text": [
      "(56, 56)\n"
     ]
    }
   ],
   "source": [
    "# Q_1\n",
    "block00 = kronsum(kronsum(matrD_k[0], matrH0), matrS1)\n",
    "block03 = kron(kron(kron(kron(np.eye(W_), matrH1), M1_e), tau), alpha1)\n",
    "block10 = kron(kron(kron(np.eye(a), M2_e), beta1), matrA2_0)\n",
    "block11 = kronsum(kronsum(kronsum(matrD_k[0], matrH0), matrS2), matrA2)\n",
    "block12 = kron(kron(kron(kron(np.eye(W_), matrH1), np.eye(M2)), tau), L2_e)\n",
    "block21 = kron(kron(kron(np.eye(a), np.eye(M2)), matrT0), alpha1)\n",
    "block22 = kronsum(kronsum(kronsum(matrD_k[0], matrH), matrS2), matrT)\n",
    "block30 = kron(kron(kron(np.eye(a), beta1), matrT0), L1_e)\n",
    "block32 = kron(kron(kron(np.eye(a), beta2), np.eye(R)), matrA1_0)\n",
    "block33 = kronsum(kronsum(kronsum(matrD_k[0], matrH), matrT), matrA1)\n",
    "block01 = np.zeros((block00.shape[0], block11.shape[1]))\n",
    "block02 = np.zeros((block00.shape[0], block12.shape[1]))\n",
    "block13 = np.zeros((block10.shape[0], block03.shape[1]))\n",
    "block20 = np.zeros((block21.shape[0], block10.shape[1]))\n",
    "block23 = np.zeros((block21.shape[0], block03.shape[1]))\n",
    "block31 = np.zeros((block30.shape[0], block11.shape[1]))\n",
    "\n",
    "matrQ_1 = np.bmat([[block00, block01, block02, block03], \n",
    "                   [block10, block11, block12, block13], \n",
    "                   [block20, block21, block22, block23], \n",
    "                   [block30, block31, block32, block33]])\n",
    "\n",
    "print(matrQ_1.shape)"
   ]
  },
  {
   "cell_type": "code",
   "execution_count": 25,
   "metadata": {
    "collapsed": true
   },
   "outputs": [],
   "source": [
    "matrQ_k = [matrQ_0, matrQ_1]\n",
    "for k in range(2, n+2):\n",
    "    block0 = kron(matrD_k[k-1], np.eye(V_ * M1))\n",
    "    block1 = kron(matrD_k[k-1], np.eye(V_*M2*L2))\n",
    "    block2 = kron(matrD_k[k-1], np.eye(V_*M2*R))\n",
    "    block3 = kron(matrD_k[k-1], np.eye(V_*R*L1))\n",
    "    matr_temp = la.block_diag(block0, block1, block2, block3)\n",
    "    matrQ_k.append(matr_temp)\n",
    "\n",
    "# for i in range(matrQ_k[0].shape[0]):\n",
    "#     sum = np.sum(matrQv_0[i])\n",
    "#     for j in range(1, np.array(matrQ_k).shape[0]):\n",
    "#         sum += np.sum(matrQ_k[j][i])\n",
    "#     print('matrQ_k[' + str(i) + '] = ', sum)"
   ]
  },
  {
   "cell_type": "code",
   "execution_count": 26,
   "metadata": {},
   "outputs": [],
   "source": [
    "# Проверка генератора Q"
   ]
  },
  {
   "cell_type": "code",
   "execution_count": 30,
   "metadata": {
    "collapsed": true
   },
   "outputs": [
    {
     "name": "stdout",
     "output_type": "stream",
     "text": [
      "372\n1.0000000017054\n(56, 56)\n"
     ]
    }
   ],
   "source": [
    "# Поиск матрицы G\n",
    "\n",
    "matrQ_1_neg_inv = np.linalg.inv(-matrQ_k[1])\n",
    "\n",
    "\n",
    "def calc_G(matrG_prev):\n",
    "    temp_sum = copy.deepcopy(matrQ_k[0]) \n",
    "    for k in range(2, n + 2):\n",
    "        temp_sum += np.dot(matrQ_k[k], np.linalg.matrix_power(matrG_prev, k))\n",
    "    matrG_new = np.dot(matrQ_1_neg_inv, temp_sum)\n",
    "    return matrG_new\n",
    "\n",
    "matrG_old = np.eye(matrQ_k[1].shape[0])\n",
    "matrG = calc_G(matrG_old)\n",
    "\n",
    "\n",
    "i = 1\n",
    "while la.norm(matrG - matrG_old, ord=np.inf) >= eps_G:\n",
    "    matrG_old = matrG\n",
    "    matrG = calc_G(matrG_old)\n",
    "    i += 1\n",
    "print(i)\n",
    "print(la.norm(matrG, ord=np.inf))\n",
    "print(matrG.shape)"
   ]
  },
  {
   "cell_type": "code",
   "execution_count": 28,
   "metadata": {},
   "outputs": [
    {
     "data": {
      "text/plain": [
       "1.0000000017054"
      ]
     },
     "execution_count": 27,
     "metadata": {},
     "output_type": "execute_result"
    }
   ],
   "source": [
    "la.norm(matrG, ord=np.inf)"
   ]
  },
  {
   "cell_type": "code",
   "execution_count": 29,
   "metadata": {
    "collapsed": true
   },
   "outputs": [],
   "source": [
    "temp_sum = copy.deepcopy(matrQ_k[1])\n",
    "for k in range(2, n+2):\n",
    "    temp_sum += np.dot(matrQ_k[k], np.linalg.matrix_power(matrG, k-1))\n",
    "matrG_0 = la.inv(temp_sum)\n",
    "matrG_0 = np.dot(-matrG_0, matrQv_0)\n",
    "# pd.DataFrame(matrG_0)"
   ]
  },
  {
   "cell_type": "code",
   "execution_count": 31,
   "metadata": {
    "collapsed": true
   },
   "outputs": [
    {
     "name": "stdout",
     "output_type": "stream",
     "text": [
      "mult matr 0 shape :  (36, 36)\nmult matr 0 shape :  (36, 36)\nmult matr 0 shape :  (36, 36)\nmult matr 0 shape :  (36, 56)\nmult matr 0 shape :  (36, 56)\nmult matr 0 shape :  (36, 56)\n"
     ]
    }
   ],
   "source": [
    "matrQ_il = []\n",
    "for i in range(0, p_num):\n",
    "    matrQ_il.append([])\n",
    "    if i == 0:\n",
    "        for l in range(0, n + 1):\n",
    "            # здесь до n, т.к. нет больше матриц Q_k\n",
    "            temp_matr = copy.deepcopy(matrQw_k[l])\n",
    "            for k in range(l + 1, n + 1):\n",
    "                mult_matr = copy.deepcopy(matrQw_k[k])\n",
    "                for kk in range(k - 1, l - 1, -1):\n",
    "                    if kk == 0:\n",
    "                        mult_matr = np.dot(mult_matr, matrG_0)\n",
    "                    else:\n",
    "                        mult_matr = np.dot(mult_matr, matrG)\n",
    "                print(\"mult matr 0 shape : \", mult_matr.shape)\n",
    "                temp_matr += mult_matr\n",
    "            matrQ_il[i].append(temp_matr)\n",
    "        for l in range(n + 1, p_num):\n",
    "            matrQ_il[i].append(np.zeros(matrQw_k[1].shape))\n",
    "    else:\n",
    "        for l in range(0, p_num):\n",
    "            if l >= i and (l - i) <= (n + 1):\n",
    "                if (l - i + 1) <= (n + 1): \n",
    "                    temp_matr = copy.deepcopy(matrQ_k[l - i + 1])\n",
    "                else:\n",
    "                    temp_matr = np.zeros(matrQ_k[0].shape)\n",
    "                    \n",
    "                for k in range(l + 1, p_num):  # sum from l+1 to inf\n",
    "                    if (k - i) <= (n + 1):\n",
    "                        mult_matr = copy.deepcopy(matrQ_k[k - i])\n",
    "                        for kk in range(l, k):\n",
    "                            mult_matr = np.dot(mult_matr, matrG)\n",
    "                        \n",
    "                        temp_matr += mult_matr\n",
    "                matrQ_il[i].append(temp_matr)\n",
    "            else:\n",
    "                matrQ_il[i].append(np.zeros(matrQ_k[0].shape))\n",
    "\n",
    "# print(len(matrQ_il[3]))\n",
    "# print(matrQ_il[4][4].shape)"
   ]
  },
  {
   "cell_type": "code",
   "execution_count": null,
   "metadata": {
    "collapsed": true
   },
   "outputs": [],
   "source": [
    "matrPhi_0 = np.eye(matrQ_il[0][0].shape[0])\n",
    "matrPhi_l = [matrPhi_0]\n",
    "for l in range(1, p_num):\n",
    "    temp_matr = np.dot(np.dot(matrPhi_l[0], matrQ_il[0][l]), la.inv(-matrQ_il[l][l]))\n",
    "    for i in range(1, l):\n",
    "        # print(matrPhi_l[i].dot(matrQ_il[i][l]).dot(la.inv(-matrQ_il[l][l])).shape)\n",
    "        temp_matr += np.dot(np.dot(matrPhi_l[i], matrQ_il[i][l]), la.inv(-matrQ_il[l][l]))\n",
    "    matrPhi_l.append(temp_matr)"
   ]
  },
  {
   "cell_type": "code",
   "execution_count": null,
   "metadata": {},
   "outputs": [],
   "source": [
    "print(la.norm(matrPhi_l[p_num - 1], ord=np.inf))"
   ]
  },
  {
   "cell_type": "code",
   "execution_count": null,
   "metadata": {
    "collapsed": true
   },
   "outputs": [],
   "source": [
    "# Вычисление p_0\n",
    "matr_a = np.array(- copy.deepcopy(matrQ_il[0][0]))\n",
    "vect_eaR = np.array([[1.] for _ in range(matrPhi_l[0].shape[1])])\n",
    "for i in range(p_num):\n",
    "    vect_e = np.array([[1.] for _ in range(matrPhi_l[i].shape[1])])\n",
    "    vect_eaR += np.dot(matrPhi_l[i], vect_e)\n",
    "\n",
    "for i in range(matr_a.shape[0]):\n",
    "    matr_a[i][0] = vect_eaR[i][0] + 1.\n",
    "\n",
    "matr_b = np.zeros((matr_a.shape[0], 1))\n",
    "matr_b[0][0] = 1.\n",
    "matr_a = np.transpose(matr_a)\n",
    "p0 = np.transpose(la.solve(matr_a, matr_b))\n",
    "\n",
    "# print(p0)\n",
    "print(np.sum(p0))"
   ]
  },
  {
   "cell_type": "code",
   "execution_count": null,
   "metadata": {
    "collapsed": false
   },
   "outputs": [],
   "source": [
    "vect_p_l = [p0]\n",
    "p_sum = np.sum(p0)\n",
    "for l in range(1, p_num):\n",
    "    vect_p_l.append(vect_p_l[0].dot(matrPhi_l[l]))\n",
    "    print(np.sum(vect_p_l[l]))\n",
    "print(p_sum)"
   ]
  },
  {
   "cell_type": "code",
   "execution_count": null,
   "metadata": {
    "collapsed": true
   },
   "outputs": [],
   "source": [
    "# Условие эргодичности\n",
    "block00 = kronsum(matrH0, matrS1) + kron(np.eye(V_), matrS1_0.dot(beta1))\n",
    "block03 = kron(kron(kron(matrH1, M1_e), tau), alpha1)\n",
    "block10 = kron(kron(np.eye(V_), M2_e.dot(beta1)), matrA2_0)\n",
    "block11 = kronsum(kronsum(matrH0, matrS2), matrA2) + kron(kron(np.eye(V_), matrS2_0.dot(beta2)), np.eye(L2))\n",
    "block12 = kron(kron(kron(matrH1, np.eye(M2)), tau), L2_e)\n",
    "block21 = kron(kron(kron(np.eye(V_), np.eye(M2)), matrT0), alpha1)\n",
    "block22 = kronsum(kronsum(matrH, matrS2), matrT) + kron(kron(np.eye(V_), matrS2_0.dot(beta2)), np.eye(R))\n",
    "block30 = kron(kron(kron(np.eye(V_), beta1), matrT0), L1_e)\n",
    "block32 = kron(kron(kron(np.eye(V_), beta2), np.eye(R)), matrA1_0)\n",
    "block33 = kronsum(kronsum(matrH, matrT), matrA1)\n",
    "block01 = np.zeros((block00.shape[0], block11.shape[1]))\n",
    "block02 = np.zeros((block00.shape[0], block12.shape[1]))\n",
    "block13 = np.zeros((block10.shape[0], block03.shape[1]))\n",
    "block20 = np.zeros((block21.shape[0], block00.shape[1]))\n",
    "block23 = np.zeros((block21.shape[0], block03.shape[1]))\n",
    "block31 = np.zeros((block30.shape[0], block11.shape[1]))\n",
    "matrGamma = np.bmat([[block00, block01, block02, block03],\n",
    "                     [block10, block11, block12, block13],\n",
    "                     [block20, block21, block22, block23],\n",
    "                     [block30, block31, block32, block33]])\n",
    "pd.DataFrame(matrGamma)"
   ]
  },
  {
   "cell_type": "code",
   "execution_count": null,
   "metadata": {
    "collapsed": true
   },
   "outputs": [],
   "source": [
    "matr_a = copy.deepcopy(matrGamma)\n",
    "for i in range(matr_a.shape[0]):\n",
    "    matr_a[i][0] = 1\n",
    "matr_b = np.zeros((matr_a.shape[0], 1))\n",
    "matr_b[0][0] = 1\n",
    "matr_a = np.transpose(matr_a)\n",
    "\n",
    "x = la.solve(matr_a, matr_b).reshape(-1)\n",
    "\n",
    "print('x = ', x)\n",
    "x1 = x[0:V_*M1]\n",
    "x2 = x[V_*M1:V_*M1 + V_*M2*L2]\n",
    "x3 = x[V_*M1 + V_*M2*L2: V_*M1 + V_*M2*L2 + V_*M2*R]\n",
    "\n",
    "print('x1 = ', x1)\n",
    "print('x2 = ', x2)\n",
    "print('x3 = ', x3)"
   ]
  },
  {
   "cell_type": "code",
   "execution_count": null,
   "metadata": {},
   "outputs": [],
   "source": [
    "e_V_ = np.array([[1.] for i in range(0, V_)])\n",
    "e_R = np.array([[1.] for i in range(0, R)])\n",
    "pi1 = x1.dot(kron(e_V_, np.eye(M1)))\n",
    "pi2 = x2.dot(kron(kron(e_V_, np.eye(M2)), L2_e))\n",
    "pi3 = x3.dot(kron(kron(e_V_, np.eye(M2)), e_R))\n",
    "print('pi1 = ', pi1)\n",
    "print('pi2 = ', pi2)\n",
    "print('pi3 = ', pi3)"
   ]
  },
  {
   "cell_type": "code",
   "execution_count": null,
   "metadata": {},
   "outputs": [],
   "source": [
    "rho = pi1.dot(matrS1_0) + (pi2 + pi3).dot(matrS2_0)\n",
    "rho = rho.tolist()[0][0]\n",
    "print('rho = ', rho)"
   ]
  },
  {
   "cell_type": "code",
   "execution_count": null,
   "metadata": {},
   "outputs": [],
   "source": [
    "print(la.norm(np.eye(matrQ_il[0][0].shape[0]).dot(matrQ_il[0][1]).dot(la.inv(-matrQ_il[1][1])), np.inf))"
   ]
  },
  {
   "cell_type": "code",
   "execution_count": null,
   "metadata": {},
   "outputs": [],
   "source": [
    "result = np.sum(matrQv_0[0])\n",
    "i = 0\n",
    "for matrQk in matrQ_k:\n",
    "    if i > 0:\n",
    "        result += np.sum(matrQk[0])\n",
    "    i += 1\n",
    "print(result)"
   ]
  },
  {
   "cell_type": "code",
   "execution_count": null,
   "metadata": {},
   "outputs": [],
   "source": [
    ""
   ]
  },
  {
   "cell_type": "code",
   "execution_count": null,
   "metadata": {},
   "outputs": [],
   "source": [
    ""
   ]
  },
  {
   "cell_type": "code",
   "execution_count": null,
   "metadata": {},
   "outputs": [],
   "source": [
    ""
   ]
  }
 ],
 "metadata": {
  "kernelspec": {
   "display_name": "Python 2",
   "language": "python",
   "name": "python2"
  },
  "language_info": {
   "codemirror_mode": {
    "name": "ipython",
    "version": 2.0
   },
   "file_extension": ".py",
   "mimetype": "text/x-python",
   "name": "python",
   "nbconvert_exporter": "python",
   "pygments_lexer": "ipython2",
   "version": "2.7.6"
  }
 },
 "nbformat": 4,
 "nbformat_minor": 0
}