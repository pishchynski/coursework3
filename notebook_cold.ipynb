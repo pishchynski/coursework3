{
 "cells": [
  {
   "cell_type": "code",
   "execution_count": 1,
   "metadata": {
    "collapsed": true
   },
   "outputs": [],
   "source": [
    "import numpy as np\n",
    "import matplotlib.pyplot as plt\n",
    "import scipy.linalg as la\n",
    "import scipy.optimize as opt\n",
    "import copy\n",
    "np.set_printoptions(threshold=np.inf, suppress=True, formatter={'float': '{: 0.8f}'.format}, linewidth=75)\n",
    "%matplotlib inline"
   ]
  },
  {
   "cell_type": "code",
   "execution_count": 2,
   "metadata": {
    "collapsed": true
   },
   "outputs": [],
   "source": [
    "def kron(A, B):\n",
    "    return la.kron(A, B)"
   ]
  },
  {
   "cell_type": "code",
   "execution_count": 3,
   "metadata": {
    "collapsed": true
   },
   "outputs": [],
   "source": [
    "def kronsum(A, B):\n",
    "    if A.shape[0] != A.shape[1]:\n",
    "        raise ValueError('A is not square')\n",
    "\n",
    "    if B.shape[0] != B.shape[1]:\n",
    "        raise ValueError('B is not square')\n",
    "    \n",
    "    L = kron(A, np.eye(B.shape[0]))\n",
    "    R = kron(np.eye(A.shape[0]), B)\n",
    "    \n",
    "    return L+R"
   ]
  },
  {
   "cell_type": "code",
   "execution_count": 4,
   "metadata": {
    "collapsed": true
   },
   "outputs": [],
   "source": [
    "n = 3                   # Количество матриц D_k\n",
    "p_num = 150             # Количество векторов стац. вероятн. p\n",
    "eps_G = 10 ** (-6)      # Точность нахождения матр. G\n",
    "eps_Phi = 10 ** (-6)    # Точность нахождения матр. Phi\n",
    "eps_p_i = 10 ** (-6)    # Точность нахождения векторов p"
   ]
  },
  {
   "cell_type": "heading",
   "metadata": {},
   "level": 3,
   "source": [
    "Поток входящих заявок BMAP"
   ]
  },
  {
   "cell_type": "code",
   "execution_count": 5,
   "metadata": {
    "collapsed": false
   },
   "outputs": [
    {
     "name": "stdout",
     "output_type": "stream",
     "text": [
      "[[-86.00000000  0.01000000]\n [ 0.02000000 -2.76000000]]\n[[ 34.83606557  0.40573770]\n [ 0.08196721  1.04098361]]\n[[ 27.86885246  0.32459016]\n [ 0.06557377  0.83278689]]\n[[ 22.29508197  0.25967213]\n [ 0.05245902  0.66622951]]\n"
     ]
    }
   ],
   "source": [
    "# Входной BMAP\n",
    "matrD_0 = np.array([[-86., 0.01], [0.02, -2.76]]) #* 0.025\n",
    "matrD = np.array([[85, 0.99], [0.2, 2.54]]) #* 0.025\n",
    "matrD_k = [matrD_0]\n",
    "\n",
    "W_ = matrD_0.shape[0]\n",
    "W = W_ - 1\n",
    "\n",
    "q = 0.8\n",
    "for k in range(1, n+1):\n",
    "    matrD_k.append(matrD * (q ** (k-1)) * (1 - q) / (1 - q ** 3))\n",
    "\n",
    "for matr in matrD_k:\n",
    "    print(matr)"
   ]
  },
  {
   "cell_type": "code",
   "execution_count": 9,
   "metadata": {
    "collapsed": false
   },
   "outputs": [
    {
     "name": "stdout",
     "output_type": "stream",
     "text": [
      "matrD_1_ = [[-1.00000000  1.00000000]\n [ 0.22000000 -0.22000000]]\nTheta = [ 0.18032787  0.81967213]\nlambda = 32.8853990863\n"
     ]
    }
   ],
   "source": [
    "# Характеристики входного BMAP\n",
    "\n",
    "matrD_1_ = np.zeros(matrD_k[0].shape)\n",
    "for matr in matrD_k:\n",
    "    matrD_1_ += matr\n",
    "print('matrD_1_ =', matrD_1_)\n",
    "matr_a = np.array(copy.deepcopy(matrD_1_))\n",
    "for i in range(matr_a.shape[0]):\n",
    "    matr_a[i][0] = 1\n",
    "\n",
    "matr_b = np.zeros((matr_a.shape[0], 1))\n",
    "matr_b[0][0] = 1\n",
    "\n",
    "matr_a = np.transpose(matr_a)\n",
    "\n",
    "theta = la.solve(matr_a, matr_b).reshape(-1)    # Алгоритм проверен.\n",
    "\n",
    "matrdD_1_ = np.array(copy.deepcopy(matrD_k[1]))\n",
    "\n",
    "print('Theta =', theta)\n",
    "\n",
    "for i in range(2, n+1):\n",
    "    matrdD_1_ += matrD_k[i] * i\n",
    "vect_e = np.array([[1.] for i in range(0, matrD_1_.shape[1])])\n",
    "lamD = np.dot(np.dot(theta, matrdD_1_), vect_e)[0]\n",
    "print('lambda =', lamD)\n",
    "lamDb = np.dot(np.dot(theta, -matrD_0), vect_e)[0]  # Средняя интенсивность прихода групп\n",
    "print('\\\\lambda_b =', lamDb)"
   ]
  },
  {
   "cell_type": "code",
   "execution_count": 12,
   "metadata": {},
   "outputs": [
    {
     "name": "stdout",
     "output_type": "stream",
     "text": [
      "c_{var}^2 = 9.62142562303\n"
     ]
    }
   ],
   "source": [
    "c2var = np.sum(2*lamDb*(np.dot(theta, la.inv(-matrD_0)))) - 1   #c_{var}^2\n",
    "print('c_{var}^2 =', c2var)"
   ]
  },
  {
   "cell_type": "code",
   "execution_count": 15,
   "metadata": {},
   "outputs": [
    {
     "name": "stdout",
     "output_type": "stream",
     "text": [
      "5.20677811003\n"
     ]
    }
   ],
   "source": [
    "c_cor = np.sum(lamDb * np.dot(np.dot(theta, la.inv(-matrD_0)), matrD_1_ - np.dot(matrD_0, la.inv(-matrD_0)))) - 1 / c2var\n",
    "print(c_cor)"
   ]
  },
  {
   "cell_type": "heading",
   "metadata": {},
   "level": 3,
   "source": [
    "Поток поломок MAP"
   ]
  },
  {
   "cell_type": "code",
   "execution_count": 8,
   "metadata": {
    "collapsed": false
   },
   "outputs": [
    {
     "name": "stdout",
     "output_type": "stream",
     "text": [
      "H_0 = [[-2.70357500  0.00000000]\n [ 0.00000000 -0.08775000]]\nH_1 = [[ 2.68560000  0.01797500]\n [ 0.04887500  0.03887500]]\nh = 2.00021741773\n"
     ]
    }
   ],
   "source": [
    "# Поток поломок MAP\n",
    "matrH0 = np.array([[-8.110725, 0], [0, -0.26325]]) / 3\n",
    "matrH1 = np.array([[8.0568, 0.053925], [0.146625, 0.116625]]) / 3\n",
    "V_ = matrH1.shape[0]\n",
    "V = V_ - 1\n",
    "matrH = matrH0 + matrH1\n",
    "matr_a = copy.deepcopy(matrH)\n",
    "for i in range(matr_a.shape[0]):\n",
    "    # print(matr_a)\n",
    "    matr_a[i][0] = 1\n",
    "    \n",
    "matr_b = np.zeros((matr_a.shape[0], 1))\n",
    "matr_b[0][0] = 1\n",
    "\n",
    "matr_a = np.transpose(matr_a)\n",
    "\n",
    "print('H_0 =', matrH0)\n",
    "print('H_1 =', matrH1)\n",
    "\n",
    "gamma = la.solve(matr_a, matr_b).reshape(-1)\n",
    "\n",
    "vect_e = np.array([[1.] for i in range(0, matrD_1_.shape[1])])\n",
    "h = np.dot(np.dot(gamma, matrH1), vect_e)[0]\n",
    "print('h =', h)"
   ]
  },
  {
   "cell_type": "code",
   "execution_count": 9,
   "metadata": {
    "collapsed": false
   },
   "outputs": [
    {
     "name": "stdout",
     "output_type": "stream",
     "text": [
      "10.0\n"
     ]
    }
   ],
   "source": [
    "# Поток обслуживания PH1\n",
    "beta1 = np.array([[1, 0]])\n",
    "matrS1 = np.array([[-20, 20], [0, -20]])\n",
    "M1 = matrS1.shape[0]\n",
    "M1_ = M1 + 1\n",
    "M1_e = np.array([[1] for _ in range(matrS1.shape[1])])\n",
    "matrS1_0 = np.dot(- matrS1, M1_e)\n",
    "vect_e = np.array([[1.] for i in range(0, matrS1.shape[1])])\n",
    "# print(np.dot(beta1, la.inv(matrS1)))\n",
    "mu_1 = -la.inv(np.dot(np.dot(beta1, la.inv(matrS1)), vect_e))[0, 0]\n",
    "print(mu_1)"
   ]
  },
  {
   "cell_type": "code",
   "execution_count": 10,
   "metadata": {
    "collapsed": false
   },
   "outputs": [
    {
     "name": "stdout",
     "output_type": "stream",
     "text": [
      "1.0\n"
     ]
    }
   ],
   "source": [
    "# Поток обслуживания PH2\n",
    "beta2 = np.array([[1, 0]])\n",
    "matrS2 = np.array([[-2, 2], [0, -2]])\n",
    "M2 = matrS2.shape[0]\n",
    "M2_ = M2 + 1\n",
    "M2_e = np.array([[1] for _ in range(matrS2.shape[1])])\n",
    "matrS2_0 = np.dot(- matrS2, M2_e)\n",
    "\n",
    "vect_e = np.array([[1.] for i in range(0, matrS2.shape[1])])\n",
    "mu_2 = -la.inv(np.dot(np.dot(beta2, la.inv(matrS2)), vect_e))[0, 0]\n",
    "print(mu_2)"
   ]
  },
  {
   "cell_type": "code",
   "execution_count": 11,
   "metadata": {
    "collapsed": true
   },
   "outputs": [],
   "source": [
    "matrS_w = kron(np.dot(matrS1_0, beta1), \n",
    "               np.dot(M2_e, beta2)) + kron(np.dot(M1_e, beta1), np.dot(matrS2_0, beta2))"
   ]
  },
  {
   "cell_type": "code",
   "execution_count": 12,
   "metadata": {
    "collapsed": false
   },
   "outputs": [
    {
     "name": "stdout",
     "output_type": "stream",
     "text": [
      "29.9998528738\n"
     ]
    }
   ],
   "source": [
    "# Поток переключения с прибора-1 на прибор-2\n",
    "alpha1 = np.array([[0.05, 0.95]])\n",
    "matrA1 = np.array([[-1.86075, 0.], [0., -146.9994]])\n",
    "L1 = matrA1.shape[0]\n",
    "L1_ = L1 + 1\n",
    "L1_e = np.array([[1] for _ in range(matrA1.shape[1])])\n",
    "matrA1_0 = - np.dot(matrA1, L1_e)\n",
    "\n",
    "vect_e = np.array([[1.] for i in range(0, matrA1.shape[1])])\n",
    "kappa_1 = -la.inv(np.dot(np.dot(alpha1, la.inv(matrA1)), vect_e))[0, 0]\n",
    "print(kappa_1)"
   ]
  },
  {
   "cell_type": "code",
   "execution_count": 13,
   "metadata": {
    "collapsed": false
   },
   "outputs": [
    {
     "name": "stdout",
     "output_type": "stream",
     "text": [
      "89.9995586214\n"
     ]
    }
   ],
   "source": [
    "# Поток переключения с прибора-2 на прибор-1\n",
    "alpha2 = np.array([[0.05, 0.95]])\n",
    "matrA2 = np.array([[-5.58225, 0.], [0., -440.9982]])\n",
    "L2 = matrA2.shape[0]\n",
    "L2_ = L2 + 1\n",
    "L2_e = np.array([[1] for _ in range(matrA2.shape[1])])\n",
    "matrA2_0 = - np.dot(matrA2, L2_e)\n",
    "\n",
    "vect_e = np.array([[1.] for i in range(0, matrA2.shape[1])])\n",
    "kappa_2 = -la.inv(np.dot(np.dot(alpha2, la.inv(matrA2)), vect_e))[0, 0]\n",
    "print(kappa_2)"
   ]
  },
  {
   "cell_type": "code",
   "execution_count": 14,
   "metadata": {
    "collapsed": false
   },
   "outputs": [
    {
     "name": "stdout",
     "output_type": "stream",
     "text": [
      "0.990295107942\n"
     ]
    }
   ],
   "source": [
    "# Поток ремонта PH\n",
    "tau = np.array([[0.98, 0.02]])\n",
    "matrT = np.array([[-100, 0.], [0., -0.02]])\n",
    "T_e = np.array([[1] for _ in range(matrT.shape[1])])\n",
    "matrT0 = - np.dot(matrT, T_e)\n",
    "\n",
    "R = matrT.shape[0]\n",
    "R_ = R + 1\n",
    "vect_e = np.array([[1.] for i in range(0, matrT.shape[1])])\n",
    "phi = -la.inv(np.dot(np.dot(tau, la.inv(matrT)), vect_e))[0, 0]\n",
    "print(phi)"
   ]
  },
  {
   "cell_type": "code",
   "execution_count": 15,
   "metadata": {
    "collapsed": false
   },
   "outputs": [
    {
     "name": "stdout",
     "output_type": "stream",
     "text": [
      "a = 4\n"
     ]
    }
   ],
   "source": [
    "a = W_ * V_\n",
    "print('a =', a)"
   ]
  },
  {
   "cell_type": "code",
   "execution_count": 16,
   "metadata": {
    "collapsed": false
   },
   "outputs": [
    {
     "name": "stdout",
     "output_type": "stream",
     "text": [
      "(16, 4)\n(36, 36)\n"
     ]
    }
   ],
   "source": [
    "# Q~0\n",
    "block00 = kronsum(matrD_k[0], matrH0)\n",
    "block03 = kron(kron(kron(np.eye(W_), matrH1), tau), alpha1)\n",
    "block10 = kron(np.eye(a), matrA2_0)\n",
    "block11 = kronsum(kronsum(matrD_k[0], matrH0), matrA2)\n",
    "block12 = kron(kron(kron(np.eye(W_), matrH1), tau), L2_e)\n",
    "block21 = kron(kron(np.eye(a), matrT0), alpha2)\n",
    "block22 = kronsum(kronsum(matrD_k[0], matrH), matrT)\n",
    "block30 = kron(kron(np.eye(a), matrT0), L1_e)\n",
    "block32 = kron(kron(np.eye(a), np.eye(R)), matrA1_0)\n",
    "block33 = kronsum(kronsum(kronsum(matrD_k[0], matrH), matrT), matrA1)\n",
    "block01 = np.zeros((block00.shape[0], block11.shape[1]))\n",
    "block02 = np.zeros((block00.shape[0], block12.shape[1]))\n",
    "block13 = np.zeros((block10.shape[0], block03.shape[1]))\n",
    "block20 = np.zeros((block21.shape[0], block10.shape[1]))\n",
    "block23 = np.zeros((block21.shape[0], block03.shape[1]))\n",
    "block31 = np.zeros((block30.shape[0], block11.shape[1]))\n",
    "\n",
    "print(block30.shape)\n",
    "\n",
    "matrQw_0 = np.bmat([[block00, block01, block02, block03],\n",
    "                    [block10, block11, block12, block13], \n",
    "                    [block20, block21, block22, block23],\n",
    "                    [block30, block31, block32, block33]])\n",
    "print(matrQw_0.shape)"
   ]
  },
  {
   "cell_type": "code",
   "execution_count": 17,
   "metadata": {
    "collapsed": false
   },
   "outputs": [
    {
     "name": "stdout",
     "output_type": "stream",
     "text": [
      "(36, 36)\n(36, 56)\n"
     ]
    }
   ],
   "source": [
    "# Q~k\n",
    "matrQw_k = [matrQw_0]\n",
    "for i in range(1, n+1):\n",
    "    block0 = kron(kron(matrD_k[i], np.eye(V_)), beta1)\n",
    "    block1 = kron(kron(kron(matrD_k[i], np.eye(V_)), beta2), np.eye(L2))\n",
    "    block2 = kron(kron(kron(matrD_k[i], np.eye(V_)), beta2), np.eye(R))\n",
    "    block3 = kron(kron(matrD_k[i], np.eye(V_)), np.eye(R*L1))\n",
    "    matr_temp = la.block_diag(block0, block1, block2, block3)\n",
    "    matrQw_k.append(matr_temp)\n",
    "    \n",
    "print(matrQw_k[0].shape)\n",
    "print(matrQw_k[1].shape)\n",
    "\n",
    "for i in range(matrQw_k[0].shape[0]):\n",
    "    sum = 0\n",
    "    for matr in matrQw_k:\n",
    "        sum += np.sum(matr[i])\n",
    "    # print('matrQw_k[' + str(i) + '] = ', sum)"
   ]
  },
  {
   "cell_type": "code",
   "execution_count": 18,
   "metadata": {
    "collapsed": false
   },
   "outputs": [
    {
     "name": "stdout",
     "output_type": "stream",
     "text": [
      "(56, 36)\n"
     ]
    }
   ],
   "source": [
    "# Q^0\n",
    "block0 = kron(np.eye(a), matrS1_0)\n",
    "block1 = kron(kron(np.eye(a), matrS2_0), np.eye(L2))\n",
    "block2 = kron(kron(np.eye(a), matrS2_0), np.eye(R))\n",
    "block3 = np.zeros((a*R*L1, a*R*L1))\n",
    "matrQv_0 = la.block_diag(block0, block1, block2, block3)\n",
    "\n",
    "print(matrQv_0.shape)"
   ]
  },
  {
   "cell_type": "code",
   "execution_count": 19,
   "metadata": {
    "collapsed": false
   },
   "outputs": [
    {
     "name": "stdout",
     "output_type": "stream",
     "text": [
      "(56, 56)\n"
     ]
    }
   ],
   "source": [
    "# Q_0\n",
    "block0 = kron(np.eye(a), np.dot(matrS1_0, beta1))\n",
    "block1 = kron(kron(np.eye(a), np.dot(matrS2_0, beta2)), np.eye(L2))\n",
    "block2 = kron(kron(np.eye(a), np.dot(matrS2_0, beta2)), np.eye(R))\n",
    "block3 = np.zeros((a*R*L1, a*R*L1))\n",
    "matrQ_0 = la.block_diag(block0, block1, block2, block3)\n",
    "\n",
    "print(matrQ_0.shape)"
   ]
  },
  {
   "cell_type": "code",
   "execution_count": 20,
   "metadata": {
    "collapsed": false
   },
   "outputs": [
    {
     "name": "stdout",
     "output_type": "stream",
     "text": [
      "(56, 56)\n"
     ]
    }
   ],
   "source": [
    "# Q_1\n",
    "block00 = kronsum(kronsum(matrD_k[0], matrH0), matrS1)\n",
    "block03 = kron(kron(kron(kron(np.eye(W_), matrH1), M1_e), tau), alpha1)\n",
    "block10 = kron(kron(kron(np.eye(a), M2_e), beta1), matrA2_0)\n",
    "block11 = kronsum(kronsum(kronsum(matrD_k[0], matrH0), matrS2), matrA2)\n",
    "block12 = kron(kron(kron(kron(np.eye(W_), matrH1), np.eye(M2)), tau), L2_e)\n",
    "block21 = kron(kron(kron(np.eye(a), np.eye(M2)), matrT0), alpha1)\n",
    "block22 = kronsum(kronsum(kronsum(matrD_k[0], matrH), matrS2), matrT)\n",
    "block30 = kron(kron(kron(np.eye(a), beta1), matrT0), L1_e)\n",
    "block32 = kron(kron(kron(np.eye(a), beta2), np.eye(R)), matrA1_0)\n",
    "block33 = kronsum(kronsum(kronsum(matrD_k[0], matrH), matrT), matrA1)\n",
    "block01 = np.zeros((block00.shape[0], block11.shape[1]))\n",
    "block02 = np.zeros((block00.shape[0], block12.shape[1]))\n",
    "block13 = np.zeros((block10.shape[0], block03.shape[1]))\n",
    "block20 = np.zeros((block21.shape[0], block10.shape[1]))\n",
    "block23 = np.zeros((block21.shape[0], block03.shape[1]))\n",
    "block31 = np.zeros((block30.shape[0], block11.shape[1]))\n",
    "\n",
    "matrQ_1 = np.bmat([[block00, block01, block02, block03], \n",
    "                   [block10, block11, block12, block13], \n",
    "                   [block20, block21, block22, block23], \n",
    "                   [block30, block31, block32, block33]])\n",
    "\n",
    "print(matrQ_1.shape)"
   ]
  },
  {
   "cell_type": "code",
   "execution_count": 21,
   "metadata": {
    "collapsed": true
   },
   "outputs": [],
   "source": [
    "matrQ_k = [matrQ_0, matrQ_1]\n",
    "for k in range(2, n+2):\n",
    "    block0 = kron(matrD_k[k-1], np.eye(V_ * M1))\n",
    "    block1 = kron(matrD_k[k-1], np.eye(V_*M2*L2))\n",
    "    block2 = kron(matrD_k[k-1], np.eye(V_*M2*R))\n",
    "    block3 = kron(matrD_k[k-1], np.eye(V_*R*L1))\n",
    "    matr_temp = la.block_diag(block0, block1, block2, block3)\n",
    "    matrQ_k.append(matr_temp)\n",
    "\n",
    "# for i in range(matrQ_k[0].shape[0]):\n",
    "#     sum = np.sum(matrQv_0[i])\n",
    "#     for j in range(1, np.array(matrQ_k).shape[0]):\n",
    "#         sum += np.sum(matrQ_k[j][i])\n",
    "#     print('matrQ_k[' + str(i) + '] = ', sum)"
   ]
  },
  {
   "cell_type": "code",
   "execution_count": 22,
   "metadata": {
    "collapsed": true
   },
   "outputs": [],
   "source": [
    "# Проверка генератора Q"
   ]
  },
  {
   "cell_type": "code",
   "execution_count": 23,
   "metadata": {
    "collapsed": true
   },
   "outputs": [
    {
     "name": "stdout",
     "output_type": "stream",
     "text": [
      "305\n1.000000000000029\n(56, 56)\n"
     ]
    }
   ],
   "source": [
    "# Поиск матрицы G\n",
    "\n",
    "matrQ_1_neg_inv = np.linalg.inv(-matrQ_k[1])\n",
    "\n",
    "\n",
    "def calc_G(matrG_prev):\n",
    "    temp_sum = np.array(copy.deepcopy(matrQ_k[0])) \n",
    "    for k in range(2, n + 2):\n",
    "        temp_sum += np.dot(matrQ_k[k], np.linalg.matrix_power(matrG_prev, k))\n",
    "    matrG_new = np.dot(matrQ_1_neg_inv, temp_sum)\n",
    "    return matrG_new\n",
    "\n",
    "matrG_old = np.eye(matrQ_k[1].shape[0])\n",
    "matrG = calc_G(matrG_old)\n",
    "\n",
    "i = 1\n",
    "while la.norm(matrG - matrG_old, ord=np.inf) >= eps_G:\n",
    "    matrG_old = matrG\n",
    "    matrG = calc_G(matrG_old)\n",
    "    i += 1\n",
    "print(i)\n",
    "print(la.norm(matrG, ord=np.inf))\n",
    "print(matrG.shape)"
   ]
  },
  {
   "cell_type": "code",
   "execution_count": 24,
   "metadata": {
    "collapsed": false
   },
   "outputs": [
    {
     "data": {
      "text/plain": [
       "1.000000000000029"
      ]
     },
     "execution_count": 23,
     "metadata": {},
     "output_type": "execute_result"
    }
   ],
   "source": [
    "la.norm(matrG, ord=np.inf)"
   ]
  },
  {
   "cell_type": "code",
   "execution_count": 25,
   "metadata": {
    "collapsed": false
   },
   "outputs": [
    {
     "data": {
      "text/plain": [
       "1.0000000000000293"
      ]
     },
     "execution_count": 24,
     "metadata": {},
     "output_type": "execute_result"
    }
   ],
   "source": [
    "temp_sum = np.array(copy.deepcopy(matrQ_k[1]))\n",
    "for k in range(2, n+2):\n",
    "    temp_sum += np.dot(matrQ_k[k], np.linalg.matrix_power(matrG, k-1))\n",
    "matrG_0 = la.inv(temp_sum)\n",
    "matrG_0 = -np.dot(matrG_0, matrQv_0)\n",
    "# pd.DataFrame(matrG_0)\n",
    "la.norm(matrG_0, ord=np.inf)"
   ]
  },
  {
   "cell_type": "code",
   "execution_count": 26,
   "metadata": {
    "collapsed": false
   },
   "outputs": [
    {
     "name": "stdout",
     "output_type": "stream",
     "text": [
      "mult matr 0 shape :  (36, 36)\nmult matr 0 shape :  (36, 36)\nmult matr 0 shape :  (36, 36)\nmult matr 0 shape :  (36, 56)\nmult matr 0 shape :  (36, 56)\nmult matr 0 shape :  (36, 56)\n"
     ]
    },
    {
     "name": "stdout",
     "output_type": "stream",
     "text": [
      "1.2687049180328032\n"
     ]
    }
   ],
   "source": [
    "matrQ_il = []\n",
    "for i in range(0, p_num):\n",
    "    matrQ_il.append([])\n",
    "    if i == 0:\n",
    "        for l in range(0, n + 1):\n",
    "            # здесь до n, т.к. нет больше матриц Q_k\n",
    "            temp_matr = np.array(copy.deepcopy(matrQw_k[l]))\n",
    "            for k in range(l + 1, n + 1):\n",
    "                mult_matr = np.array(copy.deepcopy(matrQw_k[k]))\n",
    "                for kk in range(k - 1, l - 1, -1):\n",
    "                    if kk == 0:\n",
    "                        mult_matr = np.dot(mult_matr, matrG_0)\n",
    "                    else:\n",
    "                        mult_matr = np.dot(mult_matr, matrG)\n",
    "                print(\"mult matr 0 shape : \", mult_matr.shape)\n",
    "                temp_matr += mult_matr\n",
    "            matrQ_il[i].append(temp_matr)\n",
    "        for l in range(n + 1, p_num):\n",
    "            matrQ_il[i].append(np.zeros(matrQw_k[1].shape))\n",
    "    else:\n",
    "        for l in range(0, p_num):\n",
    "            if l >= i and (l - i) <= (n + 1):\n",
    "                if (l - i + 1) <= (n + 1): \n",
    "                    temp_matr = np.array(copy.deepcopy(matrQ_k[l - i + 1]))\n",
    "                else:\n",
    "                    temp_matr = np.zeros(matrQ_k[0].shape)\n",
    "                    \n",
    "                for k in range(l + 1, p_num):  # sum from l+1 to inf\n",
    "                    if (k - i + 1) <= (n + 1):\n",
    "                        mult_matr = np.array(copy.deepcopy(matrQ_k[k - i + 1]))\n",
    "                        for kk in range(l, k):\n",
    "                            mult_matr = np.dot(mult_matr, matrG)\n",
    "                        \n",
    "                        temp_matr += mult_matr\n",
    "                matrQ_il[i].append(temp_matr)\n",
    "            else:\n",
    "                matrQ_il[i].append(np.zeros(matrQ_k[0].shape))\n",
    "\n",
    "# print(len(matrQ_il[3]))\n",
    "print(la.norm(matrQ_il[1][3], ord=np.inf))"
   ]
  },
  {
   "cell_type": "code",
   "execution_count": 27,
   "metadata": {
    "collapsed": false
   },
   "outputs": [
    {
     "name": "stdout",
     "output_type": "stream",
     "text": [
      "(36, 56)\n"
     ]
    }
   ],
   "source": [
    "matrPhi_0 = np.eye(matrQ_il[0][0].shape[0])\n",
    "matrPhi_l = [matrPhi_0]\n",
    "for l in range(1, p_num):\n",
    "    temp_matr = np.dot(np.dot(matrPhi_l[0], matrQ_il[0][l]), la.inv(-matrQ_il[l][l]))\n",
    "    for i in range(1, l):\n",
    "        # print(matrPhi_l[i].dot(matrQ_il[i][l]).dot(la.inv(-matrQ_il[l][l])).shape)\n",
    "        temp_matr += np.dot(np.dot(matrPhi_l[i], matrQ_il[i][l]), la.inv(-matrQ_il[l][l]))\n",
    "    matrPhi_l.append(temp_matr)\n",
    "print(matrPhi_l[1].shape)"
   ]
  },
  {
   "cell_type": "code",
   "execution_count": 28,
   "metadata": {
    "collapsed": false
   },
   "outputs": [
    {
     "name": "stdout",
     "output_type": "stream",
     "text": [
      "0.08808535464499025\n"
     ]
    }
   ],
   "source": [
    "print(la.norm(matrPhi_l[p_num - 1], ord=np.inf))"
   ]
  },
  {
   "cell_type": "code",
   "execution_count": 29,
   "metadata": {
    "collapsed": false
   },
   "outputs": [
    {
     "name": "stdout",
     "output_type": "stream",
     "text": [
      "[[ 0.01630814  0.01208355  0.17902636  0.11046453  0.00011797  0.00005190\n   0.00000274  0.00000090  0.00168685  0.00060301  0.00005113  0.00001259\n   0.00024344  0.00069244  0.00000420  0.00006674  0.00275522  0.30795703\n   0.00004274  0.07861995  0.00002091  0.00016586  0.00001100  0.00000565\n   0.00000036  0.00000286  0.00000024  0.00000010  0.00023368  0.00183194\n   0.00024723  0.00006280  0.00000365  0.00002844  0.00000598  0.00000098]]\n"
     ]
    }
   ],
   "source": [
    "# Вычисление p_0\n",
    "matr_a = np.array(- copy.deepcopy(matrQ_il[0][0]))\n",
    "vect_eaR = np.array([[1.] for _ in range(matrPhi_l[0].shape[1])])\n",
    "for i in range(1, p_num):\n",
    "    vect_e = np.array([[1.] for _ in range(matrPhi_l[i].shape[1])])\n",
    "    vect_eaR += np.dot(matrPhi_l[i], vect_e)\n",
    "\n",
    "for i in range(matr_a.shape[0]):\n",
    "    matr_a[i][0] = vect_eaR[i][0]\n",
    "\n",
    "matr_b = np.zeros((matr_a.shape[0], 1))\n",
    "matr_b[0][0] = 1.\n",
    "matr_a = np.transpose(matr_a)\n",
    "p0 = np.transpose(la.solve(matr_a, matr_b))\n",
    "\n",
    "# print(p0)\n",
    "print(p0)"
   ]
  },
  {
   "cell_type": "code",
   "execution_count": 30,
   "metadata": {
    "collapsed": false
   },
   "outputs": [
    {
     "name": "stdout",
     "output_type": "stream",
     "text": [
      "p0 =  [ 0.01630814  0.01208355  0.17902636  0.11046453  0.00011797  0.00005190\n  0.00000274  0.00000090  0.00168685  0.00060301  0.00005113  0.00001259\n  0.00024344  0.00069244  0.00000420  0.00006674  0.00275522  0.30795703\n  0.00004274  0.07861995  0.00002091  0.00016586  0.00001100  0.00000565\n  0.00000036  0.00000286  0.00000024  0.00000010  0.00023368  0.00183194\n  0.00024723  0.00006280  0.00000365  0.00002844  0.00000598  0.00000098]\nsum0 =  0.713413108426\np1 =  [ 0.00228894  0.00184196  0.00145928  0.00131244  0.00082259  0.00072246\n  0.00041651  0.00041329  0.00003508  0.00001359  0.00000622  0.00000037\n  0.00000083  0.00000023  0.00000018  0.00000001  0.00001773  0.00000567\n  0.00000465  0.00000057  0.00000085  0.00000019  0.00000056  0.00000011\n  0.00006349  0.00051696  0.00000139  0.00024859  0.00000104  0.00008302\n  0.00000002  0.00004072  0.00002440  0.01009618  0.00000061  0.00964345\n  0.00000035  0.00266501  0.00000001  0.00257422  0.00000547  0.00004255\n  0.00000527  0.00000146  0.00000009  0.00000069  0.00000012  0.00000002\n  0.00000208  0.00001599  0.00000546  0.00000055  0.00000003  0.00000023\n  0.00000016  0.00000001]\nsum1 =  0.0354039384401\np2 =  [ 0.00185388  0.00155646  0.00113886  0.00107570  0.00052339  0.00046133\n  0.00026232  0.00026149  0.00003156  0.00001141  0.00000602  0.00000032\n  0.00000076  0.00000019  0.00000019  0.00000001  0.00001219  0.00000367\n  0.00000320  0.00000038  0.00000057  0.00000012  0.00000038  0.00000008\n  0.00005313  0.00060546  0.00000119  0.00034709  0.00000085  0.00009910\n  0.00000002  0.00005832  0.00001575  0.00669309  0.00000040  0.00651393\n  0.00000023  0.00176115  0.00000001  0.00173387  0.00000455  0.00003525\n  0.00000542  0.00000122  0.00000007  0.00000056  0.00000013  0.00000002\n  0.00000133  0.00001022  0.00000412  0.00000035  0.00000002  0.00000015\n  0.00000012  0.00000001]\nsum2 =  0.0251516224355\np3 =  [ 0.00130093  0.00115314  0.00075790  0.00076494  0.00028090  0.00024925\n  0.00013688  0.00013766  0.00002600  0.00000845  0.00000536  0.00000025\n  0.00000064  0.00000014  0.00000017  0.00000001  0.00000757  0.00000204\n  0.00000195  0.00000021  0.00000034  0.00000007  0.00000022  0.00000004\n  0.00003917  0.00066418  0.00000091  0.00043907  0.00000061  0.00011059\n  0.00000001  0.00007502  0.00000874  0.00361783  0.00000023  0.00363509\n  0.00000012  0.00095235  0.00000000  0.00096811  0.00000333  0.00002553\n  0.00000532  0.00000088  0.00000005  0.00000040  0.00000013  0.00000001\n  0.00000073  0.00000555  0.00000302  0.00000019  0.00000001  0.00000008\n  0.00000009  0.00000000]\nsum3 =  0.0153924152003\np4 =  [ 0.00064561  0.00064497  0.00032906  0.00039256  0.00008591  0.00007829\n  0.00003529  0.00003705  0.00001382  0.00000440  0.00000345  0.00000015\n  0.00000034  0.00000007  0.00000012  0.00000001  0.00000150  0.00000057\n  0.00000045  0.00000006  0.00000007  0.00000002  0.00000006  0.00000001\n  0.00002038  0.00056944  0.00000051  0.00046252  0.00000030  0.00009549\n  0.00000001  0.00007971  0.00000250  0.00085356  0.00000006  0.00100647\n  0.00000003  0.00023605  0.00000000  0.00027873  0.00000174  0.00001337\n  0.00000367  0.00000046  0.00000003  0.00000020  0.00000010  0.00000001\n  0.00000022  0.00000168  0.00000042  0.00000006  0.00000000  0.00000002\n  0.00000001  0.00000000]\nsum4 =  0.00590157169078\np5 =  [ 0.00043077  0.00043653  0.00020375  0.00024958  0.00007783  0.00007016\n  0.00003162  0.00003264  0.00000970  0.00000297  0.00000255  0.00000011\n  0.00000024  0.00000005  0.00000009  0.00000000  0.00000129  0.00000050\n  0.00000036  0.00000004  0.00000005  0.00000001  0.00000004  0.00000001\n  0.00001374  0.00056845  0.00000035  0.00049196  0.00000020  0.00009694\n  0.00000000  0.00008567  0.00000224  0.00060158  0.00000005  0.00068035\n  0.00000003  0.00016838  0.00000000  0.00019042  0.00000117  0.00000898\n  0.00000304  0.00000031  0.00000002  0.00000013  0.00000008  0.00000000\n  0.00000019  0.00000151  0.00000034  0.00000005  0.00000000  0.00000002\n  0.00000001  0.00000000]\nsum5 =  0.0044671481463\np6 =  [ 0.00028420  0.00028796  0.00012323  0.00015209  0.00007305  0.00006525\n  0.00002950  0.00003000  0.00000650  0.00000197  0.00000179  0.00000008\n  0.00000017  0.00000003  0.00000007  0.00000000  0.00000117  0.00000047\n  0.00000031  0.00000003  0.00000004  0.00000001  0.00000003  0.00000001\n  0.00000904  0.00055452  0.00000023  0.00050549  0.00000012  0.00009619\n  0.00000000  0.00008903  0.00000209  0.00048176  0.00000005  0.00051333\n  0.00000003  0.00013658  0.00000000  0.00014561  0.00000077  0.00000592\n  0.00000240  0.00000020  0.00000001  0.00000008  0.00000007  0.00000000\n  0.00000018  0.00000141  0.00000027  0.00000005  0.00000000  0.00000002\n  0.00000001  0.00000000]\nsum6 =  0.00360345652808\np7 =  [ 0.00019631  0.00019478  0.00007852  0.00009424  0.00007032  0.00006243\n  0.00002834  0.00002853  0.00000426  0.00000133  0.00000121  0.00000006\n  0.00000011  0.00000002  0.00000005  0.00000000  0.00000109  0.00000045\n  0.00000028  0.00000003  0.00000004  0.00000001  0.00000003  0.00000001\n  0.00000612  0.00053610  0.00000016  0.00050650  0.00000008  0.00009466\n  0.00000000  0.00009034  0.00000200  0.00043853  0.00000005  0.00044607\n  0.00000003  0.00012531  0.00000000  0.00012778  0.00000052  0.00000403\n  0.00000181  0.00000014  0.00000001  0.00000005  0.00000005  0.00000000\n  0.00000017  0.00000136  0.00000023  0.00000005  0.00000000  0.00000002\n  0.00000001  0.00000000]\nsum7 =  0.00314463998547\np8 =  [ 0.00014759  0.00014347  0.00005563  0.00006475  0.00006862  0.00006077\n  0.00002766  0.00002773  0.00000306  0.00000099  0.00000088  0.00000005\n  0.00000008  0.00000002  0.00000004  0.00000000  0.00000106  0.00000043\n  0.00000027  0.00000003  0.00000004  0.00000001  0.00000003  0.00000001\n  0.00000452  0.00052706  0.00000012  0.00050837  0.00000006  0.00009473\n  0.00000000  0.00009194  0.00000195  0.00042538  0.00000005  0.00042858\n  0.00000003  0.00012203  0.00000000  0.00012326  0.00000039  0.00000299\n  0.00000142  0.00000010  0.00000000  0.00000004  0.00000004  0.00000000\n  0.00000017  0.00000132  0.00000022  0.00000005  0.00000000  0.00000002\n  0.00000001  0.00000000]\nsum8 =  0.00293803958852\np9 =  [ 0.00011806  0.00011197  0.00004274  0.00004774  0.00006732  0.00005951\n  0.00002716  0.00002716  0.00000229  0.00000078  0.00000066  0.00000004\n  0.00000006  0.00000001  0.00000003  0.00000000  0.00000103  0.00000042\n  0.00000027  0.00000003  0.00000004  0.00000001  0.00000003  0.00000001\n  0.00000354  0.00051720  0.00000009  0.00050594  0.00000004  0.00009459\n  0.00000000  0.00009283  0.00000191  0.00041759  0.00000005  0.00041897\n  0.00000002  0.00012021  0.00000000  0.00012092  0.00000030  0.00000236\n  0.00000110  0.00000008  0.00000000  0.00000003  0.00000003  0.00000000\n  0.00000017  0.00000129  0.00000020  0.00000004  0.00000000  0.00000002\n  0.00000000  0.00000000]\nsum9 =  0.00280692627462\np10 =  [ 0.00010049  0.00009320  0.00003565  0.00003833  0.00006625  0.00005851\n  0.00002676  0.00002672  0.00000182  0.00000065  0.00000051  0.00000004\n  0.00000005  0.00000001  0.00000003  0.00000000  0.00000101  0.00000042\n  0.00000026  0.00000003  0.00000004  0.00000001  0.00000003  0.00000001\n  0.00000296  0.00050833  0.00000007  0.00050161  0.00000004  0.00009456\n  0.00000000  0.00009340  0.00000188  0.00041185  0.00000004  0.00041267\n  0.00000002  0.00011894  0.00000000  0.00011948  0.00000025  0.00000198\n  0.00000086  0.00000007  0.00000000  0.00000002  0.00000003  0.00000000\n  0.00000016  0.00000127  0.00000020  0.00000004  0.00000000  0.00000002\n  0.00000000  0.00000000]\nsum10 =  0.00272160939285\np11 =  [ 0.00008988  0.00008196  0.00003170  0.00003313  0.00006531  0.00005765\n  0.00002641  0.00002635  0.00000154  0.00000058  0.00000043  0.00000004\n  0.00000004  0.00000001  0.00000003  0.00000000  0.00000099  0.00000041\n  0.00000026  0.00000003  0.00000004  0.00000001  0.00000003  0.00000001\n  0.00000261  0.00050060  0.00000006  0.00049686  0.00000003  0.00009465\n  0.00000000  0.00009390  0.00000185  0.00040675  0.00000004  0.00040747\n  0.00000002  0.00011783  0.00000000  0.00011833  0.00000023  0.00000176\n  0.00000068  0.00000006  0.00000000  0.00000002  0.00000002  0.00000000\n  0.00000016  0.00000125  0.00000019  0.00000004  0.00000000  0.00000002\n  0.00000000  0.00000000]\nsum11 =  0.00266230133832\np12 =  [ 0.00008328  0.00007503  0.00002943  0.00003017  0.00006447  0.00005688\n  0.00002610  0.00002603  0.00000137  0.00000053  0.00000037  0.00000004\n  0.00000004  0.00000001  0.00000002  0.00000000  0.00000098  0.00000041\n  0.00000025  0.00000003  0.00000004  0.00000001  0.00000003  0.00000001\n  0.00000239  0.00049315  0.00000006  0.00049126  0.00000003  0.00009471\n  0.00000000  0.00009422  0.00000182  0.00040187  0.00000004  0.00040255\n  0.00000002  0.00011676  0.00000000  0.00011725  0.00000021  0.00000162\n  0.00000055  0.00000006  0.00000000  0.00000002  0.00000002  0.00000000\n  0.00000016  0.00000124  0.00000018  0.00000004  0.00000000  0.00000002\n  0.00000000  0.00000000]\nsum12 =  0.00261578999099\np13 =  [ 0.00007906  0.00007065  0.00002809  0.00002845  0.00006367  0.00005617\n  0.00002581  0.00002573  0.00000126  0.00000050  0.00000034  0.00000003\n  0.00000004  0.00000001  0.00000002  0.00000000  0.00000097  0.00000040\n  0.00000025  0.00000003  0.00000004  0.00000001  0.00000003  0.00000001\n  0.00000226  0.00048610  0.00000005  0.00048536  0.00000003  0.00009478\n  0.00000000  0.00009445  0.00000180  0.00039710  0.00000004  0.00039778\n  0.00000002  0.00011570  0.00000000  0.00011619  0.00000020  0.00000153\n  0.00000046  0.00000005  0.00000000  0.00000002  0.00000001  0.00000000\n  0.00000016  0.00000122  0.00000018  0.00000004  0.00000000  0.00000002\n  0.00000000  0.00000000]\nsum13 =  0.00257711339581\np14 =  [ 0.00007622  0.00006777  0.00002726  0.00002741  0.00006291  0.00005549\n  0.00002553  0.00002545  0.00000119  0.00000048  0.00000031  0.00000003\n  0.00000004  0.00000001  0.00000002  0.00000000  0.00000095  0.00000040\n  0.00000024  0.00000003  0.00000004  0.00000001  0.00000002  0.00000001\n  0.00000217  0.00047932  0.00000005  0.00047932  0.00000003  0.00009483\n  0.00000000  0.00009461  0.00000178  0.00039240  0.00000004  0.00039309\n  0.00000002  0.00011466  0.00000000  0.00011515  0.00000019  0.00000147\n  0.00000038  0.00000005  0.00000000  0.00000002  0.00000001  0.00000000\n  0.00000015  0.00000121  0.00000018  0.00000004  0.00000000  0.00000002\n  0.00000000  0.00000000]\nsum14 =  0.00254302430603\np15 =  [ 0.00007420  0.00006576  0.00002670  0.00002674  0.00006217  0.00005483\n  0.00002525  0.00002517  0.00000115  0.00000047  0.00000030  0.00000003\n  0.00000004  0.00000001  0.00000002  0.00000000  0.00000094  0.00000039\n  0.00000024  0.00000003  0.00000004  0.00000001  0.00000002  0.00000001\n  0.00000211  0.00047274  0.00000005  0.00047319  0.00000003  0.00009485\n  0.00000000  0.00009471  0.00000176  0.00038778  0.00000004  0.00038846\n  0.00000002  0.00011361  0.00000000  0.00011410  0.00000018  0.00000143\n  0.00000033  0.00000005  0.00000000  0.00000002  0.00000001  0.00000000\n  0.00000015  0.00000119  0.00000017  0.00000004  0.00000000  0.00000002\n  0.00000000  0.00000000]\nsum15 =  0.00251158161467\np16 =  [ 0.00007266  0.00006427  0.00002630  0.00002628  0.00006145  0.00005419\n  0.00002498  0.00002490  0.00000111  0.00000046  0.00000029  0.00000003\n  0.00000003  0.00000001  0.00000002  0.00000000  0.00000093  0.00000039\n  0.00000024  0.00000003  0.00000004  0.00000001  0.00000002  0.00000001\n  0.00000206  0.00046634  0.00000005  0.00046707  0.00000003  0.00009484\n  0.00000000  0.00009475  0.00000174  0.00038321  0.00000004  0.00038389\n  0.00000002  0.00011257  0.00000000  0.00011306  0.00000018  0.00000140\n  0.00000029  0.00000005  0.00000000  0.00000002  0.00000001  0.00000000\n  0.00000015  0.00000118  0.00000017  0.00000004  0.00000000  0.00000002\n  0.00000000  0.00000000]\nsum16 =  0.0024818325465\np17 =  [ 0.00007141  0.00006309  0.00002598  0.00002592  0.00006074  0.00005357\n  0.00002472  0.00002464  0.00000109  0.00000045  0.00000028  0.00000003\n  0.00000003  0.00000001  0.00000002  0.00000000  0.00000092  0.00000038\n  0.00000024  0.00000003  0.00000004  0.00000001  0.00000002  0.00000000\n  0.00000202  0.00046007  0.00000005  0.00046097  0.00000002  0.00009480\n  0.00000000  0.00009475  0.00000172  0.00037871  0.00000004  0.00037938\n  0.00000002  0.00011154  0.00000000  0.00011203  0.00000018  0.00000137\n  0.00000026  0.00000005  0.00000000  0.00000002  0.00000001  0.00000000\n  0.00000015  0.00000117  0.00000017  0.00000004  0.00000000  0.00000002\n  0.00000000  0.00000000]\nsum17 =  0.0024531753629\np18 =  [ 0.00007033  0.00006209  0.00002570  0.00002563  0.00006004  0.00005295\n  0.00002446  0.00002438  0.00000107  0.00000044  0.00000028  0.00000003\n  0.00000003  0.00000001  0.00000002  0.00000000  0.00000091  0.00000038\n  0.00000023  0.00000003  0.00000004  0.00000001  0.00000002  0.00000000\n  0.00000199  0.00045394  0.00000005  0.00045493  0.00000002  0.00009473\n  0.00000000  0.00009471  0.00000170  0.00037426  0.00000004  0.00037492\n  0.00000002  0.00011051  0.00000000  0.00011100  0.00000017  0.00000135\n  0.00000024  0.00000005  0.00000000  0.00000002  0.00000001  0.00000000\n  0.00000015  0.00000115  0.00000016  0.00000004  0.00000000  0.00000001\n  0.00000000  0.00000000]\nsum18 =  0.00242526690174\np19 =  [ 0.00006935  0.00006121  0.00002545  0.00002537  0.00005935  0.00005235\n  0.00002420  0.00002412  0.00000105  0.00000044  0.00000027  0.00000003\n  0.00000003  0.00000001  0.00000002  0.00000000  0.00000090  0.00000037\n  0.00000023  0.00000003  0.00000003  0.00000001  0.00000002  0.00000000\n  0.00000196  0.00044792  0.00000005  0.00044897  0.00000002  0.00009463\n  0.00000000  0.00009463  0.00000168  0.00036987  0.00000004  0.00037052\n  0.00000002  0.00010948  0.00000000  0.00010997  0.00000017  0.00000133\n  0.00000022  0.00000005  0.00000000  0.00000002  0.00000001  0.00000000\n  0.00000015  0.00000114  0.00000016  0.00000004  0.00000000  0.00000001\n  0.00000000  0.00000000]\nsum19 =  0.00239791876989\np20 =  [ 0.00006844  0.00006039  0.00002521  0.00002513  0.00005868  0.00005175\n  0.00002394  0.00002386  0.00000104  0.00000043  0.00000027  0.00000003\n  0.00000003  0.00000001  0.00000002  0.00000000  0.00000089  0.00000037\n  0.00000023  0.00000003  0.00000003  0.00000001  0.00000002  0.00000000\n  0.00000194  0.00044201  0.00000005  0.00044308  0.00000002  0.00009449\n  0.00000000  0.00009452  0.00000166  0.00036554  0.00000004  0.00036618\n  0.00000002  0.00010846  0.00000000  0.00010894  0.00000017  0.00000131\n  0.00000021  0.00000005  0.00000000  0.00000002  0.00000001  0.00000000\n  0.00000014  0.00000113  0.00000016  0.00000004  0.00000000  0.00000001\n  0.00000000  0.00000000]\nsum20 =  0.00237101591981\np21 =  [ 0.00006758  0.00005962  0.00002498  0.00002490  0.00005801  0.00005116\n  0.00002369  0.00002361  0.00000103  0.00000043  0.00000026  0.00000003\n  0.00000003  0.00000001  0.00000002  0.00000000  0.00000088  0.00000037\n  0.00000023  0.00000003  0.00000003  0.00000001  0.00000002  0.00000000\n  0.00000191  0.00043620  0.00000005  0.00043728  0.00000002  0.00009433\n  0.00000000  0.00009438  0.00000164  0.00036126  0.00000004  0.00036189\n  0.00000002  0.00010744  0.00000000  0.00010792  0.00000017  0.00000130\n  0.00000020  0.00000004  0.00000000  0.00000002  0.00000000  0.00000000\n  0.00000014  0.00000111  0.00000016  0.00000004  0.00000000  0.00000001\n  0.00000000  0.00000000]\nsum21 =  0.00234449223336\np22 =  [ 0.00006674  0.00005887  0.00002476  0.00002467  0.00005735  0.00005057\n  0.00002343  0.00002336  0.00000101  0.00000042  0.00000026  0.00000003\n  0.00000003  0.00000001  0.00000002  0.00000000  0.00000087  0.00000036\n  0.00000022  0.00000003  0.00000003  0.00000001  0.00000002  0.00000000\n  0.00000189  0.00043049  0.00000004  0.00043156  0.00000002  0.00009413\n  0.00000000  0.00009420  0.00000162  0.00035704  0.00000004  0.00035766\n  0.00000002  0.00010643  0.00000000  0.00010691  0.00000016  0.00000128\n  0.00000020  0.00000004  0.00000000  0.00000002  0.00000000  0.00000000\n  0.00000014  0.00000110  0.00000016  0.00000004  0.00000000  0.00000001\n  0.00000000  0.00000000]\nsum22 =  0.00231830880195\np23 =  [ 0.00006593  0.00005815  0.00002453  0.00002445  0.00005669  0.00005000\n  0.00002318  0.00002311  0.00000100  0.00000042  0.00000026  0.00000003\n  0.00000003  0.00000001  0.00000002  0.00000000  0.00000086  0.00000036\n  0.00000022  0.00000002  0.00000003  0.00000001  0.00000002  0.00000000\n  0.00000186  0.00042487  0.00000004  0.00042594  0.00000002  0.00009391\n  0.00000000  0.00009399  0.00000160  0.00035287  0.00000004  0.00035348\n  0.00000002  0.00010542  0.00000000  0.00010589  0.00000016  0.00000127\n  0.00000019  0.00000004  0.00000000  0.00000002  0.00000000  0.00000000\n  0.00000014  0.00000109  0.00000015  0.00000004  0.00000000  0.00000001\n  0.00000000  0.00000000]\nsum23 =  0.00229244151607\np24 =  [ 0.00006513  0.00005745  0.00002431  0.00002423  0.00005605  0.00004943\n  0.00002294  0.00002286  0.00000099  0.00000041  0.00000025  0.00000003\n  0.00000003  0.00000001  0.00000002  0.00000000  0.00000085  0.00000035\n  0.00000022  0.00000002  0.00000003  0.00000001  0.00000002  0.00000000\n  0.00000184  0.00041935  0.00000004  0.00042040  0.00000002  0.00009366\n  0.00000000  0.00009376  0.00000159  0.00034875  0.00000004  0.00034936\n  0.00000002  0.00010441  0.00000000  0.00010489  0.00000016  0.00000125\n  0.00000018  0.00000004  0.00000000  0.00000002  0.00000000  0.00000000\n  0.00000014  0.00000108  0.00000015  0.00000004  0.00000000  0.00000001\n  0.00000000  0.00000000]\nsum24 =  0.00226687540578\np25 =  [ 0.00006435  0.00005676  0.00002410  0.00002401  0.00005541  0.00004887\n  0.00002269  0.00002262  0.00000098  0.00000041  0.00000025  0.00000003\n  0.00000003  0.00000001  0.00000002  0.00000000  0.00000084  0.00000035\n  0.00000022  0.00000002  0.00000003  0.00000001  0.00000002  0.00000000\n  0.00000182  0.00041391  0.00000004  0.00041494  0.00000002  0.00009339\n  0.00000000  0.00009350  0.00000157  0.00034469  0.00000004  0.00034528\n  0.00000002  0.00010341  0.00000000  0.00010389  0.00000016  0.00000123\n  0.00000018  0.00000004  0.00000000  0.00000002  0.00000000  0.00000000\n  0.00000014  0.00000106  0.00000015  0.00000004  0.00000000  0.00000001\n  0.00000000  0.00000000]\nsum25 =  0.00224160057743\np26 =  [ 0.00006358  0.00005608  0.00002388  0.00002379  0.00005478  0.00004831\n  0.00002245  0.00002238  0.00000096  0.00000040  0.00000025  0.00000003\n  0.00000003  0.00000001  0.00000002  0.00000000  0.00000083  0.00000034\n  0.00000021  0.00000002  0.00000003  0.00000001  0.00000002  0.00000000\n  0.00000180  0.00040856  0.00000004  0.00040958  0.00000002  0.00009310\n  0.00000000  0.00009322  0.00000155  0.00034068  0.00000004  0.00034126\n  0.00000002  0.00010242  0.00000000  0.00010289  0.00000016  0.00000122\n  0.00000018  0.00000004  0.00000000  0.00000002  0.00000000  0.00000000\n  0.00000013  0.00000105  0.00000015  0.00000004  0.00000000  0.00000001\n  0.00000000  0.00000000]\nsum26 =  0.00221661005253\np27 =  [ 0.00006282  0.00005541  0.00002366  0.00002358  0.00005416  0.00004776\n  0.00002221  0.00002214  0.00000095  0.00000040  0.00000025  0.00000003\n  0.00000003  0.00000001  0.00000002  0.00000000  0.00000082  0.00000034\n  0.00000021  0.00000002  0.00000003  0.00000001  0.00000002  0.00000000\n  0.00000178  0.00040330  0.00000004  0.00040429  0.00000002  0.00009278\n  0.00000000  0.00009291  0.00000153  0.00033671  0.00000004  0.00033729\n  0.00000002  0.00010143  0.00000000  0.00010190  0.00000015  0.00000121\n  0.00000017  0.00000004  0.00000000  0.00000002  0.00000000  0.00000000\n  0.00000013  0.00000104  0.00000015  0.00000004  0.00000000  0.00000001\n  0.00000000  0.00000000]\nsum27 =  0.0021918985843\np28 =  [ 0.00006208  0.00005475  0.00002344  0.00002336  0.00005354  0.00004722\n  0.00002197  0.00002190  0.00000094  0.00000039  0.00000024  0.00000003\n  0.00000003  0.00000001  0.00000002  0.00000000  0.00000081  0.00000034\n  0.00000021  0.00000002  0.00000003  0.00000001  0.00000002  0.00000000\n  0.00000175  0.00039812  0.00000004  0.00039909  0.00000002  0.00009244\n  0.00000000  0.00009258  0.00000151  0.00033280  0.00000004  0.00033337\n  0.00000002  0.00010045  0.00000000  0.00010091  0.00000015  0.00000119\n  0.00000017  0.00000004  0.00000000  0.00000001  0.00000000  0.00000000\n  0.00000013  0.00000103  0.00000015  0.00000004  0.00000000  0.00000001\n  0.00000000  0.00000000]\nsum28 =  0.00216746191148\np29 =  [ 0.00006134  0.00005410  0.00002323  0.00002314  0.00005293  0.00004668\n  0.00002173  0.00002166  0.00000093  0.00000039  0.00000024  0.00000003\n  0.00000003  0.00000001  0.00000002  0.00000000  0.00000080  0.00000033\n  0.00000021  0.00000002  0.00000003  0.00000001  0.00000002  0.00000000\n  0.00000173  0.00039302  0.00000004  0.00039398  0.00000002  0.00009208\n  0.00000000  0.00009223  0.00000150  0.00032893  0.00000004  0.00032949\n  0.00000002  0.00009947  0.00000000  0.00009994  0.00000015  0.00000118\n  0.00000017  0.00000004  0.00000000  0.00000001  0.00000000  0.00000000\n  0.00000013  0.00000102  0.00000014  0.00000003  0.00000000  0.00000001\n  0.00000000  0.00000000]\nsum29 =  0.00214329635486\np30 =  [ 0.00006061  0.00005346  0.00002301  0.00002293  0.00005233  0.00004615\n  0.00002150  0.00002143  0.00000092  0.00000038  0.00000024  0.00000003\n  0.00000003  0.00000001  0.00000002  0.00000000  0.00000079  0.00000033\n  0.00000020  0.00000002  0.00000003  0.00000001  0.00000002  0.00000000\n  0.00000171  0.00038801  0.00000004  0.00038894  0.00000002  0.00009170\n  0.00000000  0.00009186  0.00000148  0.00032512  0.00000003  0.00032567\n  0.00000002  0.00009850  0.00000000  0.00009896  0.00000015  0.00000116\n  0.00000017  0.00000004  0.00000000  0.00000001  0.00000000  0.00000000\n  0.00000013  0.00000100  0.00000014  0.00000003  0.00000000  0.00000001\n  0.00000000  0.00000000]\nsum30 =  0.00211939858347\np31 =  [ 0.00005990  0.00005283  0.00002280  0.00002272  0.00005174  0.00004563\n  0.00002127  0.00002120  0.00000091  0.00000038  0.00000023  0.00000003\n  0.00000003  0.00000001  0.00000002  0.00000000  0.00000078  0.00000033\n  0.00000020  0.00000002  0.00000003  0.00000001  0.00000002  0.00000000\n  0.00000169  0.00038306  0.00000004  0.00038398  0.00000002  0.00009130\n  0.00000000  0.00009147  0.00000146  0.00032135  0.00000003  0.00032189\n  0.00000002  0.00009754  0.00000000  0.00009799  0.00000015  0.00000115\n  0.00000016  0.00000004  0.00000000  0.00000001  0.00000000  0.00000000\n  0.00000013  0.00000099  0.00000014  0.00000003  0.00000000  0.00000001\n  0.00000000  0.00000000]\nsum31 =  0.00209576547614\np32 =  [ 0.00005919  0.00005220  0.00002258  0.00002251  0.00005115  0.00004511\n  0.00002104  0.00002097  0.00000090  0.00000037  0.00000023  0.00000003\n  0.00000003  0.00000001  0.00000002  0.00000000  0.00000077  0.00000032\n  0.00000020  0.00000002  0.00000003  0.00000001  0.00000002  0.00000000\n  0.00000167  0.00037820  0.00000004  0.00037909  0.00000002  0.00009088\n  0.00000000  0.00009107  0.00000145  0.00031763  0.00000003  0.00031816\n  0.00000002  0.00009658  0.00000000  0.00009703  0.00000014  0.00000114\n  0.00000016  0.00000004  0.00000000  0.00000001  0.00000000  0.00000000\n  0.00000013  0.00000098  0.00000014  0.00000003  0.00000000  0.00000001\n  0.00000000  0.00000000]\nsum32 =  0.00207239404452\np33 =  [ 0.00005849  0.00005159  0.00002237  0.00002229  0.00005057  0.00004460\n  0.00002081  0.00002075  0.00000089  0.00000037  0.00000023  0.00000003\n  0.00000003  0.00000001  0.00000002  0.00000000  0.00000077  0.00000032\n  0.00000020  0.00000002  0.00000003  0.00000001  0.00000002  0.00000000\n  0.00000165  0.00037341  0.00000004  0.00037428  0.00000002  0.00009045\n  0.00000000  0.00009064  0.00000143  0.00031395  0.00000003  0.00031448\n  0.00000002  0.00009562  0.00000000  0.00009608  0.00000014  0.00000112\n  0.00000016  0.00000004  0.00000000  0.00000001  0.00000000  0.00000000\n  0.00000012  0.00000097  0.00000014  0.00000003  0.00000000  0.00000001\n  0.00000000  0.00000000]\nsum33 =  0.00204928138807"
     ]
    },
    {
     "name": "stdout",
     "output_type": "stream",
     "text": [
      "\np34 =  [ 0.00005780  0.00005098  0.00002216  0.00002208  0.00005000  0.00004409\n  0.00002059  0.00002052  0.00000088  0.00000036  0.00000023  0.00000003\n  0.00000003  0.00000001  0.00000002  0.00000000  0.00000076  0.00000031\n  0.00000019  0.00000002  0.00000003  0.00000001  0.00000002  0.00000000\n  0.00000163  0.00036869  0.00000004  0.00036955  0.00000002  0.00009000\n  0.00000000  0.00009020  0.00000141  0.00031032  0.00000003  0.00031084\n  0.00000002  0.00009468  0.00000000  0.00009513  0.00000014  0.00000111\n  0.00000016  0.00000004  0.00000000  0.00000001  0.00000000  0.00000000\n  0.00000012  0.00000096  0.00000014  0.00000003  0.00000000  0.00000001\n  0.00000000  0.00000000]\nsum34 =  0.00202642466812\np35 =  [ 0.00005712  0.00005038  0.00002195  0.00002187  0.00004943  0.00004359\n  0.00002037  0.00002030  0.00000087  0.00000036  0.00000022  0.00000003\n  0.00000003  0.00000001  0.00000002  0.00000000  0.00000075  0.00000031\n  0.00000019  0.00000002  0.00000003  0.00000001  0.00000002  0.00000000\n  0.00000162  0.00036404  0.00000004  0.00036488  0.00000002  0.00008954\n  0.00000000  0.00008975  0.00000140  0.00030673  0.00000003  0.00030724\n  0.00000002  0.00009374  0.00000000  0.00009418  0.00000014  0.00000110\n  0.00000016  0.00000004  0.00000000  0.00000001  0.00000000  0.00000000\n  0.00000012  0.00000095  0.00000013  0.00000003  0.00000000  0.00000001\n  0.00000000  0.00000000]\nsum35 =  0.00200382109308\np36 =  [ 0.00005645  0.00004979  0.00002174  0.00002167  0.00004887  0.00004310\n  0.00002015  0.00002008  0.00000086  0.00000036  0.00000022  0.00000002\n  0.00000003  0.00000001  0.00000002  0.00000000  0.00000074  0.00000031\n  0.00000019  0.00000002  0.00000003  0.00000001  0.00000002  0.00000000\n  0.00000160  0.00035947  0.00000004  0.00036029  0.00000002  0.00008906\n  0.00000000  0.00008928  0.00000138  0.00030319  0.00000003  0.00030369\n  0.00000002  0.00009280  0.00000000  0.00009325  0.00000014  0.00000108\n  0.00000015  0.00000004  0.00000000  0.00000001  0.00000000  0.00000000\n  0.00000012  0.00000094  0.00000013  0.00000003  0.00000000  0.00000001\n  0.00000000  0.00000000]\nsum36 =  0.00198146790984\np37 =  [ 0.00005579  0.00004920  0.00002153  0.00002146  0.00004832  0.00004261\n  0.00001993  0.00001987  0.00000085  0.00000035  0.00000022  0.00000002\n  0.00000003  0.00000001  0.00000002  0.00000000  0.00000073  0.00000030\n  0.00000019  0.00000002  0.00000003  0.00000001  0.00000002  0.00000000\n  0.00000158  0.00035496  0.00000004  0.00035576  0.00000002  0.00008858\n  0.00000000  0.00008880  0.00000137  0.00029969  0.00000003  0.00030019\n  0.00000002  0.00009187  0.00000000  0.00009231  0.00000014  0.00000107\n  0.00000015  0.00000004  0.00000000  0.00000001  0.00000000  0.00000000\n  0.00000012  0.00000093  0.00000013  0.00000003  0.00000000  0.00000001\n  0.00000000  0.00000000]\nsum37 =  0.00195936239884\np38 =  [ 0.00005513  0.00004862  0.00002133  0.00002125  0.00004777  0.00004213\n  0.00001971  0.00001965  0.00000084  0.00000035  0.00000022  0.00000002\n  0.00000003  0.00000001  0.00000002  0.00000000  0.00000072  0.00000030\n  0.00000019  0.00000002  0.00000003  0.00000001  0.00000002  0.00000000\n  0.00000156  0.00035052  0.00000004  0.00035131  0.00000002  0.00008807\n  0.00000000  0.00008830  0.00000135  0.00029624  0.00000003  0.00029672\n  0.00000002  0.00009095  0.00000000  0.00009139  0.00000014  0.00000106\n  0.00000015  0.00000004  0.00000000  0.00000001  0.00000000  0.00000000\n  0.00000012  0.00000092  0.00000013  0.00000003  0.00000000  0.00000001\n  0.00000000  0.00000000]\nsum38 =  0.00193750187115\np39 =  [ 0.00005448  0.00004805  0.00002112  0.00002105  0.00004723  0.00004165\n  0.00001950  0.00001944  0.00000083  0.00000034  0.00000021  0.00000002\n  0.00000003  0.00000001  0.00000002  0.00000000  0.00000071  0.00000030\n  0.00000018  0.00000002  0.00000003  0.00000001  0.00000002  0.00000000\n  0.00000154  0.00034615  0.00000004  0.00034692  0.00000002  0.00008756\n  0.00000000  0.00008780  0.00000134  0.00029282  0.00000003  0.00029330\n  0.00000002  0.00009004  0.00000000  0.00009047  0.00000013  0.00000105\n  0.00000015  0.00000004  0.00000000  0.00000001  0.00000000  0.00000000\n  0.00000012  0.00000091  0.00000013  0.00000003  0.00000000  0.00000001\n  0.00000000  0.00000000]\nsum39 =  0.00191588366672\np40 =  [ 0.00005385  0.00004749  0.00002092  0.00002084  0.00004669  0.00004118\n  0.00001929  0.00001923  0.00000082  0.00000034  0.00000021  0.00000002\n  0.00000003  0.00000001  0.00000002  0.00000000  0.00000071  0.00000029\n  0.00000018  0.00000002  0.00000003  0.00000001  0.00000002  0.00000000\n  0.00000152  0.00034184  0.00000004  0.00034259  0.00000002  0.00008704\n  0.00000000  0.00008728  0.00000132  0.00028945  0.00000003  0.00028992\n  0.00000002  0.00008913  0.00000000  0.00008956  0.00000013  0.00000103\n  0.00000015  0.00000004  0.00000000  0.00000001  0.00000000  0.00000000\n  0.00000011  0.00000090  0.00000013  0.00000003  0.00000000  0.00000001\n  0.00000000  0.00000000]\nsum40 =  0.00189450515337\np41 =  [ 0.00005322  0.00004694  0.00002071  0.00002064  0.00004616  0.00004071\n  0.00001908  0.00001902  0.00000081  0.00000034  0.00000021  0.00000002\n  0.00000003  0.00000001  0.00000002  0.00000000  0.00000070  0.00000029\n  0.00000018  0.00000002  0.00000003  0.00000001  0.00000002  0.00000000\n  0.00000150  0.00033759  0.00000004  0.00033833  0.00000002  0.00008651\n  0.00000000  0.00008675  0.00000131  0.00028612  0.00000003  0.00028659\n  0.00000002  0.00008823  0.00000000  0.00008866  0.00000013  0.00000102\n  0.00000014  0.00000004  0.00000000  0.00000001  0.00000000  0.00000000\n  0.00000011  0.00000089  0.00000013  0.00000003  0.00000000  0.00000001\n  0.00000000  0.00000000]\nsum41 =  0.00187336372609\np42 = "
     ]
    },
    {
     "name": "stdout",
     "output_type": "stream",
     "text": [
      " [ 0.00005260  0.00004639  0.00002051  0.00002044  0.00004564  0.00004025\n  0.00001887  0.00001881  0.00000080  0.00000033  0.00000021  0.00000002\n  0.00000003  0.00000001  0.00000002  0.00000000  0.00000069  0.00000029\n  0.00000018  0.00000002  0.00000003  0.00000001  0.00000002  0.00000000\n  0.00000149  0.00033341  0.00000004  0.00033413  0.00000002  0.00008596\n  0.00000000  0.00008621  0.00000129  0.00028283  0.00000003  0.00028329\n  0.00000002  0.00008733  0.00000000  0.00008776  0.00000013  0.00000101\n  0.00000014  0.00000003  0.00000000  0.00000001  0.00000000  0.00000000\n  0.00000011  0.00000088  0.00000012  0.00000003  0.00000000  0.00000001\n  0.00000000  0.00000000]\nsum42 =  0.00185245680659\np43 =  [ 0.00005198  0.00004585  0.00002031  0.00002024  0.00004513  0.00003980\n  0.00001867  0.00001861  0.00000079  0.00000033  0.00000020  0.00000002\n  0.00000003  0.00000001  0.00000002  0.00000000  0.00000068  0.00000028\n  0.00000018  0.00000002  0.00000003  0.00000001  0.00000002  0.00000000\n  0.00000147  0.00032928  0.00000003  0.00033000  0.00000002  0.00008541\n  0.00000000  0.00008566  0.00000128  0.00027958  0.00000003  0.00028003\n  0.00000002  0.00008645  0.00000000  0.00008687  0.00000013  0.00000100\n  0.00000014  0.00000003  0.00000000  0.00000001  0.00000000  0.00000000\n  0.00000011  0.00000087  0.00000012  0.00000003  0.00000000  0.00000001\n  0.00000000  0.00000000]\nsum43 =  0.00183178184294\np44 =  [ 0.00005138  0.00004531  0.00002011  0.00002004  0.00004461  0.00003935\n  0.00001847  0.00001841  0.00000078  0.00000032  0.00000020  0.00000002\n  0.00000003  0.00000001  0.00000002  0.00000000  0.00000068  0.00000028\n  0.00000017  0.00000002  0.00000003  0.00000001  0.00000002  0.00000000\n  0.00000145  0.00032522  0.00000003  0.00032592  0.00000002  0.00008485\n  0.00000000  0.00008511  0.00000126  0.00027637  0.00000003  0.00027681\n  0.00000002  0.00008557  0.00000000  0.00008599  0.00000013  0.00000099\n  0.00000014  0.00000003  0.00000000  0.00000001  0.00000000  0.00000000\n  0.00000011  0.00000086  0.00000012  0.00000003  0.00000000  0.00000001\n  0.00000000  0.00000000]\nsum44 =  0.00181133630932\np45 =  [ 0.00005078  0.00004478  0.00001991  0.00001984  0.00004411  0.00003890\n  0.00001826  0.00001821  0.00000077  0.00000032  0.00000020  0.00000002\n  0.00000003  0.00000001  0.00000002  0.00000000  0.00000067  0.00000028\n  0.00000017  0.00000002  0.00000003  0.00000001  0.00000002  0.00000000\n  0.00000144  0.00032122  0.00000003  0.00032190  0.00000002  0.00008429\n  0.00000000  0.00008455  0.00000125  0.00027319  0.00000003  0.00027363\n  0.00000002  0.00008469  0.00000000  0.00008511  0.00000012  0.00000097\n  0.00000014  0.00000003  0.00000000  0.00000001  0.00000000  0.00000000\n  0.00000011  0.00000085  0.00000012  0.00000003  0.00000000  0.00000001\n  0.00000000  0.00000000]\nsum45 =  0.00179111770576\np46 =  [ 0.00005019  0.00004426  0.00001971  0.00001965  0.00004361  0.00003846\n  0.00001807  0.00001801  0.00000076  0.00000032  0.00000020  0.00000002\n  0.00000003  0.00000001  0.00000002  0.00000000  0.00000066  0.00000027\n  0.00000017  0.00000002  0.00000003  0.00000001  0.00000002  0.00000000\n  0.00000142  0.00031727  0.00000003  0.00031794  0.00000002  0.00008371\n  0.00000000  0.00008398  0.00000123  0.00027006  0.00000003  0.00027049\n  0.00000002  0.00008383  0.00000000  0.00008424  0.00000012  0.00000096\n  0.00000014  0.00000003  0.00000000  0.00000001  0.00000000  0.00000000\n  0.00000011  0.00000084  0.00000012  0.00000003  0.00000000  0.00000001\n  0.00000000  0.00000000]\nsum46 =  0.00177112355791\np47 =  [ 0.00004960  0.00004375  0.00001952  0.00001945  0.00004312  0.00003803\n  0.00001787  0.00001781  0.00000075  0.00000031  0.00000019  0.00000002\n  0.00000003  0.00000001  0.00000002  0.00000000  0.00000065  0.00000027\n  0.00000017  0.00000002  0.00000003  0.00000001  0.00000002  0.00000000\n  0.00000140  0.00031338  0.00000003  0.00031403  0.00000002  0.00008313\n  0.00000000  0.00008340  0.00000122  0.00026696  0.00000003  0.00026739\n  0.00000002  0.00008296  0.00000000  0.00008337  0.00000012  0.00000095\n  0.00000014  0.00000003  0.00000000  0.00000001  0.00000000  0.00000000\n  0.00000011  0.00000083  0.00000012  0.00000003  0.00000000  0.00000001\n  0.00000000  0.00000000]\nsum47 =  0.00175135141685\np48 =  [ 0.00004903  0.00004324  0.00001932  0.00001926  0.00004263  0.00003760\n  0.00001767  0.00001762  0.00000074  0.00000031  0.00000019  0.00000002\n  0.00000003  0.00000001  0.00000002  0.00000000  0.00000065  0.00000027\n  0.00000017  0.00000002  0.00000003  0.00000001  0.00000002  0.00000000\n  0.00000139  0.00030954  0.00000003  0.00031019  0.00000002  0.00008255\n  0.00000000  0.00008282  0.00000121  0.00026390  0.00000003  0.00026433\n  0.00000002  0.00008211  0.00000000  0.00008252  0.00000012  0.00000094\n  0.00000013  0.00000003  0.00000000  0.00000001  0.00000000  0.00000000\n  0.00000010  0.00000082  0.00000012  0.00000003  0.00000000  0.00000001\n  0.00000000  0.00000000]\nsum48 =  0.00173179885888\np49 =  [ 0.00004846  0.00004274  0.00001913  0.00001906  0.00004215  0.00003717\n  0.00001748  0.00001743  0.00000073  0.00000031  0.00000019  0.00000002\n  0.00000003  0.00000001  0.00000002  0.00000000  0.00000064  0.00000027\n  0.00000016  0.00000002  0.00000003  0.00000001  0.00000002  0.00000000\n  0.00000137  0.00030576  0.00000003  0.00030639  0.00000002  0.00008195\n  0.00000000  0.00008223  0.00000119  0.00026088  0.00000003  0.00026130\n  0.00000002  0.00008127  0.00000000  0.00008167  0.00000012  0.00000093\n  0.00000013  0.00000003  0.00000000  0.00000001  0.00000000  0.00000000\n  0.00000010  0.00000081  0.00000011  0.00000003  0.00000000  0.00000001\n  0.00000000  0.00000000]\nsum49 =  0.00171246348528\np50 =  [ 0.00004789  0.00004224  0.00001894  0.00001887  0.00004167  0.00003675\n  0.00001729  0.00001724  0.00000073  0.00000030  0.00000019  0.00000002\n  0.00000003  0.00000001  0.00000002  0.00000000  0.00000063  0.00000026\n  0.00000016  0.00000002  0.00000003  0.00000001  0.00000002  0.00000000\n  0.00000135  0.00030203  0.00000003  0.00030265  0.00000002  0.00008136\n  0.00000000  0.00008163  0.00000118  0.00025789  0.00000003  0.00025831\n  0.00000002  0.00008043  0.00000000  0.00008083  0.00000012  0.00000092\n  0.00000013  0.00000003  0.00000000  0.00000001  0.00000000  0.00000000\n  0.00000010  0.00000080  0.00000011  0.00000003  0.00000000  0.00000001\n  0.00000000  0.00000000]\nsum50 =  0.00169334292216\np51 =  [ 0.00004734  0.00004175  0.00001875  0.00001868  0.00004120  0.00003634\n  0.00001710  0.00001705  0.00000072  0.00000030  0.00000018  0.00000002\n  0.00000003  0.00000001  0.00000002  0.00000000  0.00000062  0.00000026\n  0.00000016  0.00000002  0.00000002  0.00000001  0.00000002  0.00000000\n  0.00000134  0.00029836  0.00000003  0.00029897  0.00000002  0.00008076\n  0.00000000  0.00008104  0.00000117  0.00025494  0.00000003  0.00025535\n  0.00000002  0.00007959  0.00000000  0.00007999  0.00000012  0.00000091\n  0.00000013  0.00000003  0.00000000  0.00000001  0.00000000  0.00000000\n  0.00000010  0.00000079  0.00000011  0.00000003  0.00000000  0.00000001\n  0.00000000  0.00000000]\nsum51 =  0.0016744348202\np52 =  [ 0.00004679  0.00004127  0.00001856  0.00001849  0.00004074  0.00003593\n  0.00001691  0.00001686  0.00000071  0.00000029  0.00000018  0.00000002\n  0.00000003  0.00000001  0.00000002  0.00000000  0.00000062  0.00000026\n  0.00000016  0.00000002  0.00000002  0.00000001  0.00000002  0.00000000\n  0.00000132  0.00029473  0.00000003  0.00029533  0.00000002  0.00008015\n  0.00000000  0.00008043  0.00000115  0.00025203  0.00000003  0.00025243\n  0.00000002  0.00007877  0.00000000  0.00007916  0.00000011  0.00000090\n  0.00000013  0.00000003  0.00000000  0.00000001  0.00000000  0.00000000\n  0.00000010  0.00000078  0.00000011  0.00000003  0.00000000  0.00000001\n  0.00000000  0.00000000]\nsum52 =  0.00165573685448\np53 =  [ 0.00004625  0.00004079  0.00001837  0.00001831  0.00004028  0.00003552\n  0.00001673  0.00001668  0.00000070  0.00000029  0.00000018  0.00000002\n  0.00000003  0.00000001  0.00000002  0.00000000  0.00000061  0.00000025\n  0.00000016  0.00000002  0.00000002  0.00000001  0.00000002  0.00000000\n  0.00000131  0.00029116  0.00000003  0.00029175  0.00000002  0.00007954\n  0.00000000  0.00007983  0.00000114  0.00024915  0.00000003  0.00024954\n  0.00000001  0.00007795  0.00000000  0.00007834  0.00000011  0.00000089\n  0.00000013  0.00000003  0.00000000  0.00000001  0.00000000  0.00000000\n  0.00000010  0.00000077  0.00000011  0.00000003  0.00000000  0.00000001\n  0.00000000  0.00000000]\nsum53 =  0.00163724672427\np54 =  [ 0.00004572  0.00004032  0.00001818  0.00001812  0.00003982  0.00003512\n  0.00001655  0.00001649  0.00000069  0.00000029  0.00000018  0.00000002\n  0.00000003  0.00000001  0.00000002  0.00000000  0.00000060  0.00000025\n  0.00000015  0.00000002  0.00000002  0.00000001  0.00000002  0.00000000\n  0.00000129  0.00028764  0.00000003  0.00028821  0.00000002  0.00007893\n  0.00000000  0.00007922  0.00000113  0.00024630  0.00000003  0.00024669\n  0.00000001  0.00007714  0.00000000  0.00007752  0.00000011  0.00000088\n  0.00000012  0.00000003  0.00000000  0.00000001  0.00000000  0.00000000\n  0.00000010  0.00000076  0.00000011  0.00000003  0.00000000  0.00000001\n  0.00000000  0.00000000]\nsum54 =  0.00161896215279\np55 =  [ 0.00004519  0.00003985  0.00001800  0.00001794  0.00003937  0.00003472\n  0.00001637  0.00001631  0.00000068  0.00000028  0.00000018  0.00000002\n  0.00000003  0.00000001  0.00000002  0.00000000  0.00000060  0.00000025\n  0.00000015  0.00000002  0.00000002  0.00000001  0.00000002  0.00000000\n  0.00000128  0.00028416  0.00000003  0.00028473  0.00000002  0.00007832\n  0.00000000  0.00007860  0.00000111  0.00024349  0.00000003  0.00024387\n  0.00000001  0.00007633  0.00000000  0.00007672  0.00000011  0.00000087\n  0.00000012  0.00000003  0.00000000  0.00000001  0.00000000  0.00000000\n  0.00000010  0.00000076  0.00000011  0.00000003  0.00000000  0.00000001\n  0.00000000  0.00000000]\nsum55 =  0.00160088088706\np56 =  [ 0.00004467  0.00003939  0.00001781  0.00001776  0.00003893  0.00003433\n  0.00001619  0.00001613  0.00000068  0.00000028  0.00000017  0.00000002\n  0.00000003  0.00000001  0.00000002  0.00000000  0.00000059  0.00000025\n  0.00000015  0.00000002  0.00000002  0.00000001  0.00000002  0.00000000\n  0.00000126  0.00028073  0.00000003  0.00028129  0.00000002  0.00007770\n  0.00000000  0.00007799  0.00000110  0.00024071  0.00000003  0.00024109\n  0.00000001  0.00007554  0.00000000  0.00007592  0.00000011  0.00000086\n  0.00000012  0.00000003  0.00000000  0.00000001  0.00000000  0.00000000\n  0.00000010  0.00000075  0.00000011  0.00000003  0.00000000  0.00000001\n  0.00000000  0.00000000]\nsum56 =  0.00158300069765\np57 =  [ 0.00004415  0.00003894  0.00001763  0.00001757  0.00003849  0.00003395\n  0.00001601  0.00001596  0.00000067  0.00000028  0.00000017  0.00000002\n  0.00000002  0.00000001  0.00000002  0.00000000  0.00000058  0.00000024\n  0.00000015  0.00000002  0.00000002  0.00000001  0.00000002  0.00000000\n  0.00000125  0.00027735  0.00000003  0.00027790  0.00000002  0.00007708\n  0.00000000  0.00007737  0.00000109  0.00023796  0.00000003  0.00023834\n  0.00000001  0.00007475  0.00000000  0.00007512  0.00000011  0.00000085\n  0.00000012  0.00000003  0.00000000  0.00000001  0.00000000  0.00000000\n  0.00000009  0.00000074  0.00000010  0.00000003  0.00000000  0.00000001\n  0.00000000  0.00000000]\nsum57 =  0.0015653193785\np58 =  [ 0.00004364  0.00003849  0.00001745  0.00001739  0.00003806  0.00003356\n  0.00001583  0.00001578  0.00000066  0.00000027  0.00000017  0.00000002\n  0.00000002  0.00000001  0.00000002  0.00000000  0.00000058  0.00000024\n  0.00000015  0.00000002  0.00000002  0.00000001  0.00000002  0.00000000\n  0.00000123  0.00027402  0.00000003  0.00027455  0.00000002  0.00007646\n  0.00000000  0.00007675  0.00000108  0.00023525  0.00000003  0.00023562\n  0.00000001  0.00007396  0.00000000  0.00007433  0.00000011  0.00000084\n  0.00000012  0.00000003  0.00000000  0.00000001  0.00000000  0.00000000\n  0.00000009  0.00000073  0.00000010  0.00000003  0.00000000  0.00000001\n  0.00000000  0.00000000]\nsum58 =  0.00154783474668\np59 =  [ 0.00004314  0.00003804  0.00001727  0.00001722  0.00003763  0.00003318\n  0.00001566  0.00001561  0.00000065  0.00000027  0.00000017  0.00000002\n  0.00000002  0.00000001  0.00000002  0.00000000  0.00000057  0.00000024\n  0.00000015  0.00000002  0.00000002  0.00000001  0.00000002  0.00000000\n  0.00000122  0.00027073  0.00000003  0.00027125  0.00000002  0.00007584\n  0.00000000  0.00007613  0.00000106  0.00023257  0.00000003  0.00023293\n  0.00000001  0.00007318  0.00000000  0.00007355  0.00000011  0.00000083\n  0.00000012  0.00000003  0.00000000  0.00000001  0.00000000  0.00000000\n  0.00000009  0.00000072  0.00000010  0.00000002  0.00000000  0.00000001\n  0.00000000  0.00000000]\nsum59 =  0.00153054464223\np60 =  [ 0.00004264  0.00003761  0.00001710  0.00001704  0.00003720  0.00003281\n  0.00001549  0.00001544  0.00000065  0.00000027  0.00000017  0.00000002\n  0.00000002  0.00000001  0.00000002  0.00000000  0.00000056  0.00000023\n  0.00000014  0.00000002  0.00000002  0.00000001  0.00000002  0.00000000\n  0.00000121  0.00026749  0.00000003  0.00026800  0.00000002  0.00007521\n  0.00000000  0.00007551  0.00000105  0.00022992  0.00000002  0.00023028\n  0.00000001  0.00007241  0.00000000  0.00007278  0.00000010  0.00000082\n  0.00000012  0.00000003  0.00000000  0.00000001  0.00000000  0.00000000\n  0.00000009  0.00000071  0.00000010  0.00000002  0.00000000  0.00000001\n  0.00000000  0.00000000]\nsum60 =  0.00151344692793\np61 =  [ 0.00004215  0.00003717  0.00001692  0.00001686  0.00003679  0.00003244\n  0.00001532  0.00001527  0.00000064  0.00000027  0.00000016  0.00000002\n  0.00000002  0.00000001  0.00000002  0.00000000  0.00000056  0.00000023\n  0.00000014  0.00000002  0.00000002  0.00000001  0.00000002  0.00000000\n  0.00000119  0.00026428  0.00000003  0.00026479  0.00000002  0.00007459\n  0.00000000  0.00007488  0.00000104  0.00022730  0.00000002  0.00022766\n  0.00000001  0.00007165  0.00000000  0.00007202  0.00000010  0.00000081\n  0.00000011  0.00000003  0.00000000  0.00000001  0.00000000  0.00000000\n  0.00000009  0.00000071  0.00000010  0.00000002  0.00000000  0.00000001\n  0.00000000  0.00000000]\nsum61 =  0.00149653948907\np62 =  [ 0.00004167  0.00003675  0.00001674  0.00001669  0.00003637  0.00003208\n  0.00001515  0.00001510  0.00000063  0.00000026  0.00000016  0.00000002\n  0.00000002  0.00000001  0.00000002  0.00000000  0.00000055  0.00000023\n  0.00000014  0.00000002  0.00000002  0.00000001  0.00000002  0.00000000\n  0.00000118  0.00026113  0.00000003  0.00026162  0.00000002  0.00007396\n  0.00000000  0.00007426  0.00000103  0.00022471  0.00000002  0.00022506\n  0.00000001  0.00007090  0.00000000  0.00007126  0.00000010  0.00000080\n  0.00000011  0.00000003  0.00000000  0.00000001  0.00000000  0.00000000\n  0.00000009  0.00000070  0.00000010  0.00000002  0.00000000  0.00000001\n  0.00000000  0.00000000]\nsum62 =  0.00147982023331\np63 =  [ 0.00004119  0.00003632  0.00001657  0.00001652  0.00003596  0.00003171\n  0.00001498  0.00001494  0.00000062  0.00000026  0.00000016  0.00000002\n  0.00000002  0.00000001  0.00000002  0.00000000  0.00000054  0.00000023\n  0.00000014  0.00000002  0.00000002  0.00000001  0.00000002  0.00000000\n  0.00000116  0.00025801  0.00000003  0.00025850  0.00000002  0.00007334\n  0.00000000  0.00007363  0.00000102  0.00022216  0.00000002  0.00022250\n  0.00000001  0.00007015  0.00000000  0.00007050  0.00000010  0.00000079\n  0.00000011  0.00000003  0.00000000  0.00000001  0.00000000  0.00000000\n  0.00000009  0.00000069  0.00000010  0.00000002  0.00000000  0.00000001\n  0.00000000  0.00000000]\nsum63 =  0.00146328709042\np64 =  [ 0.00004071  0.00003591  0.00001640  0.00001634  0.00003556  0.00003136\n  0.00001482  0.00001477  0.00000062  0.00000026  0.00000016  0.00000002\n  0.00000002  0.00000001  0.00000002  0.00000000  0.00000054  0.00000022\n  0.00000014  0.00000002  0.00000002  0.00000001  0.00000001  0.00000000\n  0.00000115  0.00025494  0.00000003  0.00025542  0.00000001  0.00007271\n  0.00000000  0.00007301  0.00000101  0.00021963  0.00000002  0.00021997\n  0.00000001  0.00006940  0.00000000  0.00006976  0.00000010  0.00000078\n  0.00000011  0.00000003  0.00000000  0.00000001  0.00000000  0.00000000\n  0.00000009  0.00000068  0.00000010  0.00000002  0.00000000  0.00000001\n  0.00000000  0.00000000]\nsum64 =  0.00144693801209\np65 =  [ 0.00004025  0.00003550  0.00001623  0.00001617  0.00003516  0.00003100\n  0.00001466  0.00001461  0.00000061  0.00000025  0.00000016  0.00000002\n  0.00000002  0.00000001  0.00000002  0.00000000  0.00000053  0.00000022\n  0.00000014  0.00000002  0.00000002  0.00000001  0.00000001  0.00000000\n  0.00000114  0.00025190  0.00000003  0.00025238  0.00000001  0.00007209\n  0.00000000  0.00007238  0.00000099  0.00021713  0.00000002  0.00021747\n  0.00000001  0.00006867  0.00000000  0.00006902  0.00000010  0.00000077\n  0.00000011  0.00000003  0.00000000  0.00000001  0.00000000  0.00000000\n  0.00000009  0.00000068  0.00000010  0.00000002  0.00000000  0.00000001\n  0.00000000  0.00000000]\nsum65 =  0.00143077097175\np66 =  [ 0.00003979  0.00003509  0.00001606  0.00001601  0.00003476  0.00003065\n  0.00001449  0.00001445  0.00000060  0.00000025  0.00000015  0.00000002\n  0.00000002  0.00000001  0.00000002  0.00000000  0.00000053  0.00000022\n  0.00000013  0.00000002  0.00000002  0.00000001  0.00000001  0.00000000\n  0.00000113  0.00024891  0.00000003  0.00024937  0.00000001  0.00007146\n  0.00000000  0.00007176  0.00000098  0.00021466  0.00000002  0.00021500\n  0.00000001  0.00006794  0.00000000  0.00006829  0.00000010  0.00000076\n  0.00000011  0.00000003  0.00000000  0.00000001  0.00000000  0.00000000\n  0.00000009  0.00000067  0.00000009  0.00000002  0.00000000  0.00000001\n  0.00000000  0.00000000]\nsum66 =  0.00141478396435\np67 =  [ 0.00003933  0.00003469  0.00001589  0.00001584  0.00003437  0.00003031\n  0.00001433  0.00001429  0.00000060  0.00000025  0.00000015  0.00000002\n  0.00000002  0.00000001  0.00000002  0.00000000  0.00000052  0.00000022\n  0.00000013  0.00000001  0.00000002  0.00000001  0.00000001  0.00000000\n  0.00000111  0.00024596  0.00000003  0.00024641  0.00000001  0.00007084\n  0.00000000  0.00007113  0.00000097  0.00021223  0.00000002  0.00021255\n  0.00000001  0.00006722  0.00000000  0.00006756  0.00000010  0.00000076\n  0.00000011  0.00000003  0.00000000  0.00000001  0.00000000  0.00000000\n  0.00000008  0.00000066  0.00000009  0.00000002  0.00000000  0.00000001\n  0.00000000  0.00000000]\nsum67 =  0.00139897500616\np68 =  [ 0.00003888  0.00003429  0.00001573  0.00001567  0.00003398  0.00002997\n  0.00001418  0.00001413  0.00000059  0.00000024  0.00000015  0.00000002\n  0.00000002  0.00000001  0.00000002  0.00000000  0.00000051  0.00000021\n  0.00000013  0.00000001  0.00000002  0.00000001  0.00000001  0.00000000\n  0.00000110  0.00024304  0.00000003  0.00024349  0.00000001  0.00007022\n  0.00000000  0.00007051  0.00000096  0.00020982  0.00000002  0.00021014\n  0.00000001  0.00006650  0.00000000  0.00006684  0.00000010  0.00000075\n  0.00000011  0.00000003  0.00000000  0.00000001  0.00000000  0.00000000\n  0.00000008  0.00000065  0.00000009  0.00000002  0.00000000  0.00000001\n  0.00000000  0.00000000]\nsum68 =  0.00138334213456\np69 =  [ 0.00003843  0.00003390  0.00001556  0.00001551  0.00003360  0.00002963\n  0.00001402  0.00001398  0.00000058  0.00000024  0.00000015  0.00000002\n  0.00000002  0.00000001  0.00000002  0.00000000  0.00000051  0.00000021\n  0.00000013  0.00000001  0.00000002  0.00000001  0.00000001  0.00000000\n  0.00000109  0.00024017  0.00000003  0.00024061  0.00000001  0.00006960\n  0.00000000  0.00006989  0.00000095  0.00020743  0.00000002  0.00020775\n  0.00000001  0.00006579  0.00000000  0.00006613  0.00000009  0.00000074\n  0.00000010  0.00000003  0.00000000  0.00000001  0.00000000  0.00000000\n  0.00000008  0.00000065  0.00000009  0.00000002  0.00000000  0.00000001\n  0.00000000  0.00000000]\nsum69 =  0.00136788340787\np70 =  [ 0.00003799  0.00003351  0.00001540  0.00001535  0.00003322  0.00002930\n  0.00001387  0.00001382  0.00000058  0.00000024  0.00000015  0.00000002\n  0.00000002  0.00000001  0.00000002  0.00000000  0.00000050  0.00000021\n  0.00000013  0.00000001  0.00000002  0.00000001  0.00000001  0.00000000\n  0.00000107  0.00023733  0.00000003  0.00023776  0.00000001  0.00006897\n  0.00000000  0.00006927  0.00000094  0.00020508  0.00000002  0.00020539\n  0.00000001  0.00006509  0.00000000  0.00006543  0.00000009  0.00000073\n  0.00000010  0.00000003  0.00000000  0.00000001  0.00000000  0.00000000\n  0.00000008  0.00000064  0.00000009  0.00000002  0.00000000  0.00000001\n  0.00000000  0.00000000]\nsum70 =  0.00135259690513\np71 =  [ 0.00003756  0.00003312  0.00001524  0.00001519  0.00003285  0.00002897\n  0.00001371  0.00001367  0.00000057  0.00000024  0.00000015  0.00000002\n  0.00000002  0.00000001  0.00000001  0.00000000  0.00000050  0.00000021\n  0.00000013  0.00000001  0.00000002  0.00000001  0.00000001  0.00000000\n  0.00000106  0.00023453  0.00000003  0.00023495  0.00000001  0.00006836\n  0.00000000  0.00006865  0.00000093  0.00020275  0.00000002  0.00020306\n  0.00000001  0.00006440  0.00000000  0.00006473  0.00000009  0.00000072\n  0.00000010  0.00000002  0.00000000  0.00000001  0.00000000  0.00000000\n  0.00000008  0.00000063  0.00000009  0.00000002  0.00000000  0.00000001\n  0.00000000  0.00000000]\nsum71 =  0.00133748072591\np72 =  [ 0.00003713  0.00003275  0.00001508  0.00001503  0.00003248  0.00002864\n  0.00001356  0.00001352  0.00000056  0.00000023  0.00000014  0.00000002\n  0.00000002  0.00000001  0.00000001  0.00000000  0.00000049  0.00000020\n  0.00000013  0.00000001  0.00000002  0.00000001  0.00000001  0.00000000\n  0.00000105  0.00023176  0.00000002  0.00023218  0.00000001  0.00006774\n  0.00000000  0.00006803  0.00000092  0.00020045  0.00000002  0.00020076\n  0.00000001  0.00006371  0.00000000  0.00006404  0.00000009  0.00000071\n  0.00000010  0.00000002  0.00000000  0.00000001  0.00000000  0.00000000\n  0.00000008  0.00000062  0.00000009  0.00000002  0.00000000  0.00000001\n  0.00000000  0.00000000]\nsum72 =  0.00132253299011\np73 =  [ 0.00003671  0.00003237  0.00001492  0.00001487  0.00003211  0.00002832\n  0.00001341  0.00001337  0.00000056  0.00000023  0.00000014  0.00000002\n  0.00000002  0.00000001  0.00000001  0.00000000  0.00000049  0.00000020\n  0.00000012  0.00000001  0.00000002  0.00000001  0.00000001  0.00000000\n  0.00000104  0.00022903  0.00000002  0.00022944  0.00000001  0.00006712\n  0.00000000  0.00006741  0.00000091  0.00019818  0.00000002  0.00019848\n  0.00000001  0.00006303  0.00000000  0.00006335  0.00000009  0.00000070\n  0.00000010  0.00000002  0.00000000  0.00000001  0.00000000  0.00000000\n  0.00000008  0.00000062  0.00000009  0.00000002  0.00000000  0.00000001\n  0.00000000  0.00000000]\nsum73 =  0.00130775183776\np74 =  [ 0.00003629  0.00003200  0.00001476  0.00001471  0.00003175  0.00002800\n  0.00001326  0.00001322  0.00000055  0.00000023  0.00000014  0.00000002\n  0.00000002  0.00000001  0.00000001  0.00000000  0.00000048  0.00000020\n  0.00000012  0.00000001  0.00000002  0.00000001  0.00000001  0.00000000\n  0.00000103  0.00022634  0.00000002  0.00022674  0.00000001  0.00006651\n  0.00000000  0.00006680  0.00000090  0.00019593  0.00000002  0.00019623\n  0.00000001  0.00006235  0.00000000  0.00006267  0.00000009  0.00000070\n  0.00000010  0.00000002  0.00000000  0.00000001  0.00000000  0.00000000\n  0.00000008  0.00000061  0.00000009  0.00000002  0.00000000  0.00000001\n  0.00000000  0.00000000]\nsum74 =  0.00129313542884\np75 =  [ 0.00003587  0.00003164  0.00001460  0.00001456  0.00003139  0.00002769\n  0.00001312  0.00001308  0.00000054  0.00000023  0.00000014  0.00000002\n  0.00000002  0.00000001  0.00000001  0.00000000  0.00000048  0.00000020\n  0.00000012  0.00000001  0.00000002  0.00000001  0.00000001  0.00000000\n  0.00000101  0.00022368  0.00000002  0.00022408  0.00000001  0.00006590\n  0.00000000  0.00006619  0.00000089  0.00019371  0.00000002  0.00019401\n  0.00000001  0.00006168  0.00000000  0.00006200  0.00000009  0.00000069\n  0.00000010  0.00000002  0.00000000  0.00000001  0.00000000  0.00000000\n  0.00000008  0.00000060  0.00000009  0.00000002  0.00000000  0.00000001\n  0.00000000  0.00000000]\nsum75 =  0.00127868194309\np76 =  [ 0.00003546  0.00003128  0.00001445  0.00001440  0.00003104  0.00002737\n  0.00001297  0.00001293  0.00000054  0.00000022  0.00000014  0.00000002\n  0.00000002  0.00000001  0.00000001  0.00000000  0.00000047  0.00000020\n  0.00000012  0.00000001  0.00000002  0.00000001  0.00000001  0.00000000\n  0.00000100  0.00022105  0.00000002  0.00022145  0.00000001  0.00006529\n  0.00000000  0.00006557  0.00000088  0.00019152  0.00000002  0.00019181\n  0.00000001  0.00006102  0.00000000  0.00006134  0.00000009  0.00000068\n  0.00000010  0.00000002  0.00000000  0.00000001  0.00000000  0.00000000\n  0.00000008  0.00000060  0.00000008  0.00000002  0.00000000  0.00000001\n  0.00000000  0.00000000]\nsum76 =  0.0012643895798\np77 =  [ 0.00003506  0.00003092  0.00001430  0.00001425  0.00003069  0.00002707\n  0.00001283  0.00001279  0.00000053  0.00000022  0.00000014  0.00000002\n  0.00000002  0.00000001  0.00000001  0.00000000  0.00000046  0.00000019\n  0.00000012  0.00000001  0.00000002  0.00000001  0.00000001  0.00000000\n  0.00000099  0.00021846  0.00000002  0.00021885  0.00000001  0.00006468\n  0.00000000  0.00006497  0.00000087  0.00018935  0.00000002  0.00018964\n  0.00000001  0.00006036  0.00000000  0.00006068  0.00000009  0.00000067\n  0.00000010  0.00000002  0.00000000  0.00000001  0.00000000  0.00000000\n  0.00000008  0.00000059  0.00000008  0.00000002  0.00000000  0.00000001\n  0.00000000  0.00000000]\nsum77 =  0.00125025655761\np78 =  [ 0.00003466  0.00003057  0.00001414  0.00001410  0.00003035  0.00002676\n  0.00001269  0.00001265  0.00000052  0.00000022  0.00000013  0.00000002\n  0.00000002  0.00000001  0.00000001  0.00000000  0.00000046  0.00000019\n  0.00000012  0.00000001  0.00000002  0.00000000  0.00000001  0.00000000\n  0.00000098  0.00021590  0.00000002  0.00021628  0.00000001  0.00006407\n  0.00000000  0.00006436  0.00000086  0.00018721  0.00000002  0.00018749\n  0.00000001  0.00005972  0.00000000  0.00006003  0.00000008  0.00000067\n  0.00000009  0.00000002  0.00000000  0.00000001  0.00000000  0.00000000\n  0.00000007  0.00000058  0.00000008  0.00000002  0.00000000  0.00000001\n  0.00000000  0.00000000]\nsum78 =  0.00123628111438\np79 =  [ 0.00003426  0.00003022  0.00001399  0.00001395  0.00003001  0.00002646\n  0.00001255  0.00001251  0.00000052  0.00000022  0.00000013  0.00000001\n  0.00000002  0.00000001  0.00000001  0.00000000  0.00000045  0.00000019\n  0.00000012  0.00000001  0.00000002  0.00000000  0.00000001  0.00000000\n  0.00000097  0.00021338  0.00000002  0.00021375  0.00000001  0.00006347\n  0.00000000  0.00006376  0.00000085  0.00018509  0.00000002  0.00018537\n  0.00000001  0.00005907  0.00000000  0.00005938  0.00000008  0.00000066\n  0.00000009  0.00000002  0.00000000  0.00000001  0.00000000  0.00000000\n  0.00000007  0.00000058  0.00000008  0.00000002  0.00000000  0.00000001\n  0.00000000  0.00000000]\nsum79 =  0.00122246150692\np80 =  [ 0.00003387  0.00002987  0.00001384  0.00001380  0.00002967  0.00002616\n  0.00001241  0.00001237  0.00000051  0.00000021  0.00000013  0.00000001\n  0.00000002  0.00000001  0.00000001  0.00000000  0.00000045  0.00000019\n  0.00000012  0.00000001  0.00000002  0.00000000  0.00000001  0.00000000\n  0.00000096  0.00021088  0.00000002  0.00021125  0.00000001  0.00006287\n  0.00000000  0.00006316  0.00000084  0.00018299  0.00000002  0.00018327\n  0.00000001  0.00005844  0.00000000  0.00005874  0.00000008  0.00000065\n  0.00000009  0.00000002  0.00000000  0.00000001  0.00000000  0.00000000\n  0.00000007  0.00000057  0.00000008  0.00000002  0.00000000  0.00000001\n  0.00000000  0.00000000]\nsum80 =  0.00120879601086\np81 =  [ 0.00003349  0.00002953  0.00001370  0.00001365  0.00002933  0.00002587\n  0.00001227  0.00001223  0.00000051  0.00000021  0.00000013  0.00000001\n  0.00000002  0.00000001  0.00000001  0.00000000  0.00000044  0.00000018\n  0.00000011  0.00000001  0.00000002  0.00000000  0.00000001  0.00000000\n  0.00000095  0.00020842  0.00000002  0.00020878  0.00000001  0.00006228\n  0.00000000  0.00006256  0.00000083  0.00018092  0.00000002  0.00018120\n  0.00000001  0.00005780  0.00000000  0.00005811  0.00000008  0.00000064\n  0.00000009  0.00000002  0.00000000  0.00000001  0.00000000  0.00000000\n  0.00000007  0.00000056  0.00000008  0.00000002  0.00000000  0.00000001\n  0.00000000  0.00000000]\nsum81 =  0.00119528292045\np82 =  [ 0.00003311  0.00002920  0.00001355  0.00001351  0.00002900  0.00002558\n  0.00001214  0.00001210  0.00000050  0.00000021  0.00000013  0.00000001\n  0.00000002  0.00000001  0.00000001  0.00000000  0.00000044  0.00000018\n  0.00000011  0.00000001  0.00000002  0.00000000  0.00000001  0.00000000\n  0.00000094  0.00020599  0.00000002  0.00020635  0.00000001  0.00006168\n  0.00000000  0.00006196  0.00000082  0.00017888  0.00000002  0.00017915\n  0.00000001  0.00005718  0.00000000  0.00005748  0.00000008  0.00000064\n  0.00000009  0.00000002  0.00000000  0.00000001  0.00000000  0.00000000\n  0.00000007  0.00000056  0.00000008  0.00000002  0.00000000  0.00000001\n  0.00000000  0.00000000]\nsum82 =  0.00118192054836\np83 =  [ 0.00003273  0.00002886  0.00001341  0.00001336  0.00002868  0.00002529\n  0.00001200  0.00001196  0.00000050  0.00000021  0.00000013  0.00000001\n  0.00000002  0.00000001  0.00000001  0.00000000  0.00000043  0.00000018\n  0.00000011  0.00000001  0.00000002  0.00000000  0.00000001  0.00000000\n  0.00000093  0.00020359  0.00000002  0.00020394  0.00000001  0.00006109\n  0.00000000  0.00006137  0.00000081  0.00017685  0.00000002  0.00017712\n  0.00000001  0.00005656  0.00000000  0.00005686  0.00000008  0.00000063\n  0.00000009  0.00000002  0.00000000  0.00000001  0.00000000  0.00000000\n  0.00000007  0.00000055  0.00000008  0.00000002  0.00000000  0.00000001\n  0.00000000  0.00000000]\nsum83 =  0.00116870722553\np84 =  [ 0.00003236  0.00002854  0.00001326  0.00001322  0.00002836  0.00002501\n  0.00001187  0.00001183  0.00000049  0.00000020  0.00000013  0.00000001\n  0.00000002  0.00000001  0.00000001  0.00000000  0.00000043  0.00000018\n  0.00000011  0.00000001  0.00000002  0.00000000  0.00000001  0.00000000\n  0.00000092  0.00020122  0.00000002  0.00020156  0.00000001  0.00006051\n  0.00000000  0.00006078  0.00000080  0.00017485  0.00000002  0.00017512\n  0.00000001  0.00005595  0.00000000  0.00005624  0.00000008  0.00000062\n  0.00000009  0.00000002  0.00000000  0.00000001  0.00000000  0.00000000\n  0.00000007  0.00000054  0.00000008  0.00000002  0.00000000  0.00000001\n  0.00000000  0.00000000]\nsum84 =  0.00115564130094\np85 =  [ 0.00003199  0.00002821  0.00001312  0.00001308  0.00002804  0.00002473\n  0.00001174  0.00001170  0.00000048  0.00000020  0.00000012  0.00000001\n  0.00000002  0.00000001  0.00000001  0.00000000  0.00000042  0.00000018\n  0.00000011  0.00000001  0.00000002  0.00000000  0.00000001  0.00000000\n  0.00000090  0.00019888  0.00000002  0.00019922  0.00000001  0.00005992\n  0.00000000  0.00006020  0.00000079  0.00017288  0.00000002  0.00017314\n  0.00000001  0.00005534  0.00000000  0.00005563  0.00000008  0.00000061\n  0.00000009  0.00000002  0.00000000  0.00000001  0.00000000  0.00000000\n  0.00000007  0.00000054  0.00000008  0.00000002  0.00000000  0.00000001\n  0.00000000  0.00000000]\nsum85 =  0.00114272114147\np86 =  [ 0.00003163  0.00002789  0.00001298  0.00001294  0.00002772  0.00002445\n  0.00001161  0.00001157  0.00000048  0.00000020  0.00000012  0.00000001\n  0.00000002  0.00000001  0.00000001  0.00000000  0.00000042  0.00000017\n  0.00000011  0.00000001  0.00000002  0.00000000  0.00000001  0.00000000\n  0.00000089  0.00019657  0.00000002  0.00019690  0.00000001  0.00005934\n  0.00000000  0.00005962  0.00000078  0.00017092  0.00000002  0.00017118\n  0.00000001  0.00005474  0.00000000  0.00005503  0.00000008  0.00000061\n  0.00000009  0.00000002  0.00000000  0.00000001  0.00000000  0.00000000\n  0.00000007  0.00000053  0.00000008  0.00000002  0.00000000  0.00000001\n  0.00000000  0.00000000]\nsum86 =  0.00112994513171\np87 =  [ 0.00003127  0.00002757  0.00001284  0.00001280  0.00002741  0.00002417\n  0.00001148  0.00001144  0.00000047  0.00000020  0.00000012  0.00000001\n  0.00000002  0.00000001  0.00000001  0.00000000  0.00000041  0.00000017\n  0.00000011  0.00000001  0.00000002  0.00000000  0.00000001  0.00000000\n  0.00000088  0.00019428  0.00000002  0.00019461  0.00000001  0.00005876\n  0.00000000  0.00005904  0.00000078  0.00016899  0.00000002  0.00016925\n  0.00000001  0.00005415  0.00000000  0.00005443  0.00000008  0.00000060\n  0.00000009  0.00000002  0.00000000  0.00000001  0.00000000  0.00000000\n  0.00000007  0.00000053  0.00000007  0.00000002  0.00000000  0.00000001\n  0.00000000  0.00000000]\nsum87 =  0.00111731167376\np88 =  [ 0.00003091  0.00002726  0.00001270  0.00001266  0.00002710  0.00002390\n  0.00001135  0.00001132  0.00000047  0.00000019  0.00000012  0.00000001\n  0.00000002  0.00000000  0.00000001  0.00000000  0.00000041  0.00000017\n  0.00000011  0.00000001  0.00000002  0.00000000  0.00000001  0.00000000\n  0.00000087  0.00019203  0.00000002  0.00019236  0.00000001  0.00005819\n  0.00000000  0.00005846  0.00000077  0.00016708  0.00000002  0.00016734\n  0.00000001  0.00005356  0.00000000  0.00005384  0.00000008  0.00000059\n  0.00000008  0.00000002  0.00000000  0.00000001  0.00000000  0.00000000\n  0.00000007  0.00000052  0.00000007  0.00000002  0.00000000  0.00000001\n  0.00000000  0.00000000]\nsum88 =  0.0011048191871\np89 =  [ 0.00003056  0.00002695  0.00001257  0.00001253  0.00002680  0.00002363\n  0.00001123  0.00001119  0.00000046  0.00000019  0.00000012  0.00000001\n  0.00000002  0.00000000  0.00000001  0.00000000  0.00000041  0.00000017\n  0.00000010  0.00000001  0.00000002  0.00000000  0.00000001  0.00000000\n  0.00000086  0.00018980  0.00000002  0.00019012  0.00000001  0.00005762\n  0.00000000  0.00005789  0.00000076  0.00016520  0.00000002  0.00016545\n  0.00000001  0.00005298  0.00000000  0.00005326  0.00000007  0.00000059\n  0.00000008  0.00000002  0.00000000  0.00000001  0.00000000  0.00000000\n  0.00000007  0.00000051  0.00000007  0.00000002  0.00000000  0.00000001\n  0.00000000  0.00000000]\nsum89 =  0.00109246610836\np90 =  [ 0.00003021  0.00002665  0.00001243  0.00001239  0.00002650  0.00002337\n  0.00001110  0.00001107  0.00000046  0.00000019  0.00000012  0.00000001\n  0.00000002  0.00000000  0.00000001  0.00000000  0.00000040  0.00000017\n  0.00000010  0.00000001  0.00000002  0.00000000  0.00000001  0.00000000\n  0.00000085  0.00018761  0.00000002  0.00018792  0.00000001  0.00005705\n  0.00000000  0.00005732  0.00000075  0.00016333  0.00000002  0.00016358\n  0.00000001  0.00005241  0.00000000  0.00005268  0.00000007  0.00000058\n  0.00000008  0.00000002  0.00000000  0.00000001  0.00000000  0.00000000\n  0.00000006  0.00000051  0.00000007  0.00000002  0.00000000  0.00000001\n  0.00000000  0.00000000]\nsum90 =  0.00108025089118\np91 =  [ 0.00002987  0.00002634  0.00001230  0.00001226  0.00002620  0.00002311\n  0.00001098  0.00001094  0.00000045  0.00000019  0.00000012  0.00000001\n  0.00000002  0.00000000  0.00000001  0.00000000  0.00000040  0.00000016\n  0.00000010  0.00000001  0.00000002  0.00000000  0.00000001  0.00000000\n  0.00000084  0.00018543  0.00000002  0.00018575  0.00000001  0.00005649\n  0.00000000  0.00005676  0.00000074  0.00016149  0.00000002  0.00016173\n  0.00000001  0.00005184  0.00000000  0.00005211  0.00000007  0.00000057\n  0.00000008  0.00000002  0.00000000  0.00000001  0.00000000  0.00000000\n  0.00000006  0.00000050  0.00000007  0.00000002  0.00000000  0.00000001\n  0.00000000  0.00000000]"
     ]
    },
    {
     "name": "stdout",
     "output_type": "stream",
     "text": [
      "\nsum91 =  0.00106817200602\np92 =  [ 0.00002953  0.00002604  0.00001216  0.00001213  0.00002591  0.00002285\n  0.00001086  0.00001082  0.00000045  0.00000019  0.00000011  0.00000001\n  0.00000002  0.00000000  0.00000001  0.00000000  0.00000039  0.00000016\n  0.00000010  0.00000001  0.00000002  0.00000000  0.00000001  0.00000000\n  0.00000084  0.00018329  0.00000002  0.00018360  0.00000001  0.00005593\n  0.00000000  0.00005620  0.00000073  0.00015967  0.00000002  0.00015991\n  0.00000001  0.00005127  0.00000000  0.00005154  0.00000007  0.00000057\n  0.00000008  0.00000002  0.00000000  0.00000001  0.00000000  0.00000000\n  0.00000006  0.00000050  0.00000007  0.00000002  0.00000000  0.00000001\n  0.00000000  0.00000000]\nsum92 =  0.00105622794\np93 =  [ 0.00002920  0.00002575  0.00001203  0.00001199  0.00002562  0.00002259\n  0.00001074  0.00001070  0.00000044  0.00000018  0.00000011  0.00000001\n  0.00000002  0.00000000  0.00000001  0.00000000  0.00000039  0.00000016\n  0.00000010  0.00000001  0.00000002  0.00000000  0.00000001  0.00000000\n  0.00000083  0.00018117  0.00000002  0.00018147  0.00000001  0.00005537\n  0.00000000  0.00005564  0.00000072  0.00015787  0.00000002  0.00015810\n  0.00000001  0.00005071  0.00000000  0.00005098  0.00000007  0.00000056\n  0.00000008  0.00000002  0.00000000  0.00000001  0.00000000  0.00000000\n  0.00000006  0.00000049  0.00000007  0.00000002  0.00000000  0.00000001\n  0.00000000  0.00000000]\nsum93 =  0.00104441719674\np94 =  [ 0.00002887  0.00002546  0.00001190  0.00001187  0.00002533  0.00002234\n  0.00001062  0.00001058  0.00000044  0.00000018  0.00000011  0.00000001\n  0.00000002  0.00000000  0.00000001  0.00000000  0.00000038  0.00000016\n  0.00000010  0.00000001  0.00000002  0.00000000  0.00000001  0.00000000\n  0.00000082  0.00017908  0.00000002  0.00017938  0.00000001  0.00005482\n  0.00000000  0.00005508  0.00000072  0.00015608  0.00000002  0.00015632\n  0.00000001  0.00005016  0.00000000  0.00005042  0.00000007  0.00000055\n  0.00000008  0.00000002  0.00000000  0.00000001  0.00000000  0.00000000\n  0.00000006  0.00000049  0.00000007  0.00000002  0.00000000  0.00000001\n  0.00000000  0.00000000]\nsum94 =  0.00103273829615\np95 =  [ 0.00002854  0.00002517  0.00001177  0.00001174  0.00002504  0.00002209\n  0.00001050  0.00001047  0.00000043  0.00000018  0.00000011  0.00000001\n  0.00000002  0.00000000  0.00000001  0.00000000  0.00000038  0.00000016\n  0.00000010  0.00000001  0.00000002  0.00000000  0.00000001  0.00000000\n  0.00000081  0.00017701  0.00000002  0.00017731  0.00000001  0.00005427\n  0.00000000  0.00005453  0.00000071  0.00015432  0.00000002  0.00015455\n  0.00000001  0.00004961  0.00000000  0.00004987  0.00000007  0.00000055\n  0.00000008  0.00000002  0.00000000  0.00000001  0.00000000  0.00000000\n  0.00000006  0.00000048  0.00000007  0.00000002  0.00000000  0.00000001\n  0.00000000  0.00000000]\nsum95 =  0.00102118977432\np96 =  [ 0.00002822  0.00002488  0.00001165  0.00001161  0.00002476  0.00002184\n  0.00001038  0.00001035  0.00000043  0.00000018  0.00000011  0.00000001\n  0.00000002  0.00000000  0.00000001  0.00000000  0.00000037  0.00000016\n  0.00000010  0.00000001  0.00000002  0.00000000  0.00000001  0.00000000\n  0.00000080  0.00017497  0.00000002  0.00017526  0.00000001  0.00005373\n  0.00000000  0.00005399  0.00000070  0.00015258  0.00000002  0.00015281\n  0.00000001  0.00004907  0.00000000  0.00004933  0.00000007  0.00000054\n  0.00000008  0.00000002  0.00000000  0.00000001  0.00000000  0.00000000\n  0.00000006  0.00000048  0.00000007  0.00000002  0.00000000  0.00000001\n  0.00000000  0.00000000]\nsum96 =  0.00100977018328\np97 =  [ 0.00002790  0.00002460  0.00001152  0.00001148  0.00002448  0.00002159\n  0.00001027  0.00001023  0.00000042  0.00000018  0.00000011  0.00000001\n  0.00000002  0.00000000  0.00000001  0.00000000  0.00000037  0.00000015\n  0.00000009  0.00000001  0.00000002  0.00000000  0.00000001  0.00000000\n  0.00000079  0.00017296  0.00000002  0.00017324  0.00000001  0.00005319\n  0.00000000  0.00005345  0.00000069  0.00015086  0.00000002  0.00015109\n  0.00000001  0.00004854  0.00000000  0.00004879  0.00000007  0.00000054\n  0.00000008  0.00000002  0.00000000  0.00000001  0.00000000  0.00000000\n  0.00000006  0.00000047  0.00000007  0.00000002  0.00000000  0.00000001\n  0.00000000  0.00000000]\nsum97 =  0.000998478090916\np98 =  [ 0.00002758  0.00002432  0.00001140  0.00001136  0.00002421  0.00002135\n  0.00001015  0.00001012  0.00000042  0.00000017  0.00000011  0.00000001\n  0.00000002  0.00000000  0.00000001  0.00000000  0.00000037  0.00000015\n  0.00000009  0.00000001  0.00000001  0.00000000  0.00000001  0.00000000\n  0.00000078  0.00017096  0.00000002  0.00017124  0.00000001  0.00005265\n  0.00000000  0.00005291  0.00000068  0.00014916  0.00000002  0.00014939\n  0.00000001  0.00004801  0.00000000  0.00004826  0.00000007  0.00000053\n  0.00000008  0.00000002  0.00000000  0.00000001  0.00000000  0.00000000\n  0.00000006  0.00000046  0.00000007  0.00000002  0.00000000  0.00000001\n  0.00000000  0.00000000]\nsum98 =  0.000987312080753\np99 =  [ 0.00002727  0.00002405  0.00001127  0.00001124  0.00002394  0.00002111\n  0.00001004  0.00001001  0.00000041  0.00000017  0.00000011  0.00000001\n  0.00000002  0.00000000  0.00000001  0.00000000  0.00000036  0.00000015\n  0.00000009  0.00000001  0.00000001  0.00000000  0.00000001  0.00000000\n  0.00000077  0.00016900  0.00000002  0.00016927  0.00000001  0.00005212\n  0.00000000  0.00005237  0.00000068  0.00014748  0.00000002  0.00014770\n  0.00000001  0.00004748  0.00000000  0.00004773  0.00000007  0.00000052\n  0.00000007  0.00000002  0.00000000  0.00000001  0.00000000  0.00000000\n  0.00000006  0.00000046  0.00000007  0.00000002  0.00000000  0.00000001\n  0.00000000  0.00000000]\nsum99 =  0.000976270751807\np100 =  [ 0.00002696  0.00002378  0.00001115  0.00001111  0.00002367  0.00002087\n  0.00000993  0.00000990  0.00000041  0.00000017  0.00000010  0.00000001\n  0.00000002  0.00000000  0.00000001  0.00000000  0.00000036  0.00000015\n  0.00000009  0.00000001  0.00000001  0.00000000  0.00000001  0.00000000\n  0.00000076  0.00016705  0.00000002  0.00016733  0.00000001  0.00005159\n  0.00000000  0.00005184  0.00000067  0.00014582  0.00000002  0.00014604\n  0.00000001  0.00004696  0.00000000  0.00004721  0.00000007  0.00000052\n  0.00000007  0.00000002  0.00000000  0.00000001  0.00000000  0.00000000\n  0.00000006  0.00000045  0.00000006  0.00000002  0.00000000  0.00000001\n  0.00000000  0.00000000]\nsum100 =  0.000965352718427\np101 =  [ 0.00002666  0.00002351  0.00001103  0.00001099  0.00002340  0.00002064\n  0.00000982  0.00000979  0.00000040  0.00000017  0.00000010  0.00000001\n  0.00000002  0.00000000  0.00000001  0.00000000  0.00000035  0.00000015\n  0.00000009  0.00000001  0.00000001  0.00000000  0.00000001  0.00000000\n  0.00000075  0.00016513  0.00000002  0.00016540  0.00000001  0.00005107\n  0.00000000  0.00005132  0.00000066  0.00014418  0.00000002  0.00014439\n  0.00000001  0.00004645  0.00000000  0.00004669  0.00000007  0.00000051\n  0.00000007  0.00000002  0.00000000  0.00000001  0.00000000  0.00000000\n  0.00000006  0.00000045  0.00000006  0.00000002  0.00000000  0.00000001\n  0.00000000  0.00000000]\nsum101 =  0.000954556610131\np102 =  [ 0.00002635  0.00002324  0.00001091  0.00001087  0.00002314  0.00002041\n  0.00000971  0.00000968  0.00000040  0.00000017  0.00000010  0.00000001\n  0.00000002  0.00000000  0.00000001  0.00000000  0.00000035  0.00000015\n  0.00000009  0.00000001  0.00000001  0.00000000  0.00000001  0.00000000\n  0.00000075  0.00016324  0.00000002  0.00016350  0.00000001  0.00005055\n  0.00000000  0.00005079  0.00000065  0.00014255  0.00000002  0.00014277\n  0.00000001  0.00004594  0.00000000  0.00004618  0.00000006  0.00000051\n  0.00000007  0.00000002  0.00000000  0.00000001  0.00000000  0.00000000\n  0.00000006  0.00000044  0.00000006  0.00000002  0.00000000  0.00000001\n  0.00000000  0.00000000]\nsum102 =  0.000943881071452\np103 =  [ 0.00002606  0.00002298  0.00001079  0.00001076  0.00002288  0.00002018\n  0.00000960  0.00000957  0.00000039  0.00000016  0.00000010  0.00000001\n  0.00000002  0.00000000  0.00000001  0.00000000  0.00000035  0.00000014\n  0.00000009  0.00000001  0.00000001  0.00000000  0.00000001  0.00000000\n  0.00000074  0.00016136  0.00000002  0.00016162  0.00000001  0.00005003\n  0.00000000  0.00005028  0.00000065  0.00014095  0.00000002  0.00014116\n  0.00000001  0.00004544  0.00000000  0.00004568  0.00000006  0.00000050\n  0.00000007  0.00000002  0.00000000  0.00000001  0.00000000  0.00000000\n  0.00000006  0.00000044  0.00000006  0.00000002  0.00000000  0.00000001\n  0.00000000  0.00000000]\nsum103 =  0.00093332476178\np104 =  [ 0.00002576  0.00002272  0.00001067  0.00001064  0.00002263  0.00001995\n  0.00000949  0.00000947  0.00000039  0.00000016  0.00000010  0.00000001\n  0.00000002  0.00000000  0.00000001  0.00000000  0.00000034  0.00000014\n  0.00000009  0.00000001  0.00000001  0.00000000  0.00000001  0.00000000\n  0.00000073  0.00015951  0.00000002  0.00015977  0.00000001  0.00004952\n  0.00000000  0.00004976  0.00000064  0.00013936  0.00000002  0.00013957\n  0.00000001  0.00004494  0.00000000  0.00004518  0.00000006  0.00000049\n  0.00000007  0.00000002  0.00000000  0.00000001  0.00000000  0.00000000\n  0.00000006  0.00000043  0.00000006  0.00000001  0.00000000  0.00000001\n  0.00000000  0.00000000]\nsum104 =  0.000922886355204\np105 =  [ 0.00002547  0.00002246  0.00001056  0.00001052  0.00002237  0.00001973\n  0.00000939  0.00000936  0.00000039  0.00000016  0.00000010  0.00000001\n  0.00000002  0.00000000  0.00000001  0.00000000  0.00000034  0.00000014\n  0.00000009  0.00000001  0.00000001  0.00000000  0.00000001  0.00000000\n  0.00000072  0.00015768  0.00000002  0.00015794  0.00000001  0.00004901\n  0.00000000  0.00004925  0.00000063  0.00013779  0.00000001  0.00013800\n  0.00000001  0.00004444  0.00000000  0.00004468  0.00000006  0.00000049\n  0.00000007  0.00000002  0.00000000  0.00000001  0.00000000  0.00000000\n  0.00000005  0.00000043  0.00000006  0.00000001  0.00000000  0.00000001\n  0.00000000  0.00000000]\nsum105 =  0.000912564540362\np106 =  [ 0.00002518  0.00002221  0.00001044  0.00001041  0.00002212  0.00001951\n  0.00000928  0.00000926  0.00000038  0.00000016  0.00000010  0.00000001\n  0.00000002  0.00000000  0.00000001  0.00000000  0.00000033  0.00000014\n  0.00000009  0.00000001  0.00000001  0.00000000  0.00000001  0.00000000\n  0.00000071  0.00015588  0.00000002  0.00015613  0.00000001  0.00004851\n  0.00000000  0.00004875  0.00000063  0.00013624  0.00000001  0.00013644\n  0.00000001  0.00004396  0.00000000  0.00004419  0.00000006  0.00000048\n  0.00000007  0.00000002  0.00000000  0.00000001  0.00000000  0.00000000\n  0.00000005  0.00000042  0.00000006  0.00000001  0.00000000  0.00000001\n  0.00000000  0.00000000]\nsum106 =  0.000902358020284\np107 =  [ 0.00002490  0.00002196  0.00001033  0.00001029  0.00002187  0.00001929\n  0.00000918  0.00000915  0.00000038  0.00000016  0.00000010  0.00000001\n  0.00000001  0.00000000  0.00000001  0.00000000  0.00000033  0.00000014\n  0.00000008  0.00000001  0.00000001  0.00000000  0.00000001  0.00000000\n  0.00000070  0.00015409  0.00000002  0.00015434  0.00000001  0.00004801\n  0.00000000  0.00004824  0.00000062  0.00013471  0.00000001  0.00013491\n  0.00000001  0.00004347  0.00000000  0.00004370  0.00000006  0.00000048\n  0.00000007  0.00000002  0.00000000  0.00000001  0.00000000  0.00000000\n  0.00000005  0.00000042  0.00000006  0.00000001  0.00000000  0.00000001\n  0.00000000  0.00000000]\nsum107 =  0.000892265512245\np108 =  [ 0.00002462  0.00002171  0.00001022  0.00001018  0.00002163  0.00001907\n  0.00000908  0.00000905  0.00000037  0.00000015  0.00000010  0.00000001\n  0.00000001  0.00000000  0.00000001  0.00000000  0.00000033  0.00000014\n  0.00000008  0.00000001  0.00000001  0.00000000  0.00000001  0.00000000\n  0.00000070  0.00015233  0.00000002  0.00015257  0.00000001  0.00004751\n  0.00000000  0.00004775  0.00000061  0.00013319  0.00000001  0.00013339\n  0.00000001  0.00004300  0.00000000  0.00004322  0.00000006  0.00000047\n  0.00000007  0.00000002  0.00000000  0.00000001  0.00000000  0.00000000\n  0.00000005  0.00000042  0.00000006  0.00000001  0.00000000  0.00000001\n  0.00000000  0.00000000]\nsum108 =  0.000882285747613\np109 =  [ 0.00002434  0.00002146  0.00001010  0.00001007  0.00002138  0.00001886\n  0.00000898  0.00000895  0.00000037  0.00000015  0.00000009  0.00000001\n  0.00000001  0.00000000  0.00000001  0.00000000  0.00000032  0.00000013\n  0.00000008  0.00000001  0.00000001  0.00000000  0.00000001  0.00000000\n  0.00000069  0.00015058  0.00000002  0.00015082  0.00000001  0.00004702\n  0.00000000  0.00004725  0.00000060  0.00013169  0.00000001  0.00013189\n  0.00000001  0.00004252  0.00000000  0.00004275  0.00000006  0.00000047\n  0.00000007  0.00000002  0.00000000  0.00000001  0.00000000  0.00000000\n  0.00000005  0.00000041  0.00000006  0.00000001  0.00000000  0.00000001\n  0.00000000  0.00000000]\nsum109 =  0.000872417471699\np110 =  [ 0.00002406  0.00002122  0.00000999  0.00000996  0.00002114  0.00001865\n  0.00000888  0.00000885  0.00000036  0.00000015  0.00000009  0.00000001\n  0.00000001  0.00000000  0.00000001  0.00000000  0.00000032  0.00000013\n  0.00000008  0.00000001  0.00000001  0.00000000  0.00000001  0.00000000\n  0.00000068  0.00014886  0.00000002  0.00014910  0.00000001  0.00004653\n  0.00000000  0.00004676  0.00000060  0.00013021  0.00000001  0.00013040\n  0.00000001  0.00004206  0.00000000  0.00004228  0.00000006  0.00000046\n  0.00000007  0.00000002  0.00000000  0.00000001  0.00000000  0.00000000\n  0.00000005  0.00000041  0.00000006  0.00000001  0.00000000  0.00000001\n  0.00000000  0.00000000]\nsum110 =  0.000862659443612\np111 =  [ 0.00002379  0.00002098  0.00000988  0.00000985  0.00002091  0.00001844\n  0.00000878  0.00000875  0.00000036  0.00000015  0.00000009  0.00000001\n  0.00000001  0.00000000  0.00000001  0.00000000  0.00000032  0.00000013\n  0.00000008  0.00000001  0.00000001  0.00000000  0.00000001  0.00000000\n  0.00000067  0.00014716  0.00000002  0.00014739  0.00000001  0.00004605\n  0.00000000  0.00004628  0.00000059  0.00012874  0.00000001  0.00012893\n  0.00000001  0.00004159  0.00000000  0.00004181  0.00000006  0.00000046\n  0.00000006  0.00000002  0.00000000  0.00000001  0.00000000  0.00000000\n  0.00000005  0.00000040  0.00000006  0.00000001  0.00000000  0.00000001\n  0.00000000  0.00000000]\nsum111 =  0.000853010436112\np112 =  [ 0.00002352  0.00002075  0.00000978  0.00000974  0.00002067  0.00001823\n  0.00000868  0.00000865  0.00000036  0.00000015  0.00000009  0.00000001\n  0.00000001  0.00000000  0.00000001  0.00000000  0.00000031  0.00000013\n  0.00000008  0.00000001  0.00000001  0.00000000  0.00000001  0.00000000\n  0.00000067  0.00014548  0.00000002  0.00014571  0.00000001  0.00004557\n  0.00000000  0.00004580  0.00000058  0.00012730  0.00000001  0.00012748\n  0.00000001  0.00004114  0.00000000  0.00004135  0.00000006  0.00000045\n  0.00000006  0.00000002  0.00000000  0.00000001  0.00000000  0.00000000\n  0.00000005  0.00000040  0.00000006  0.00000001  0.00000000  0.00000001\n  0.00000000  0.00000000]\nsum112 =  0.000843469235465\np113 =  [ 0.00002326  0.00002051  0.00000967  0.00000964  0.00002044  0.00001803\n  0.00000859  0.00000856  0.00000035  0.00000015  0.00000009  0.00000001\n  0.00000001  0.00000000  0.00000001  0.00000000  0.00000031  0.00000013\n  0.00000008  0.00000001  0.00000001  0.00000000  0.00000001  0.00000000\n  0.00000066  0.00014382  0.00000002  0.00014405  0.00000001  0.00004509\n  0.00000000  0.00004532  0.00000058  0.00012586  0.00000001  0.00012605\n  0.00000001  0.00004068  0.00000000  0.00004090  0.00000006  0.00000045\n  0.00000006  0.00000002  0.00000000  0.00000001  0.00000000  0.00000000\n  0.00000005  0.00000039  0.00000006  0.00000001  0.00000000  0.00000001\n  0.00000000  0.00000000]\nsum113 =  0.000834034641302\np114 =  [ 0.00002300  0.00002028  0.00000956  0.00000953  0.00002021  0.00001782\n  0.00000849  0.00000846  0.00000035  0.00000014  0.00000009  0.00000001\n  0.00000001  0.00000000  0.00000001  0.00000000  0.00000031  0.00000013\n  0.00000008  0.00000001  0.00000001  0.00000000  0.00000001  0.00000000\n  0.00000065  0.00014218  0.00000002  0.00014240  0.00000001  0.00004462\n  0.00000000  0.00004484  0.00000057  0.00012445  0.00000001  0.00012463\n  0.00000001  0.00004024  0.00000000  0.00004045  0.00000006  0.00000044\n  0.00000006  0.00000002  0.00000000  0.00000001  0.00000000  0.00000000\n  0.00000005  0.00000039  0.00000005  0.00000001  0.00000000  0.00000001\n  0.00000000  0.00000000]\nsum114 =  0.000824705466475\np115 =  [ 0.00002274  0.00002005  0.00000946  0.00000943  0.00001999  0.00001762\n  0.00000840  0.00000837  0.00000034  0.00000014  0.00000009  0.00000001\n  0.00000001  0.00000000  0.00000001  0.00000000  0.00000030  0.00000013\n  0.00000008  0.00000001  0.00000001  0.00000000  0.00000001  0.00000000\n  0.00000064  0.00014056  0.00000002  0.00014078  0.00000001  0.00004415\n  0.00000000  0.00004438  0.00000057  0.00012305  0.00000001  0.00012323\n  0.00000001  0.00003979  0.00000000  0.00004000  0.00000006  0.00000044\n  0.00000006  0.00000001  0.00000000  0.00000001  0.00000000  0.00000000\n  0.00000005  0.00000038  0.00000005  0.00000001  0.00000000  0.00000001\n  0.00000000  0.00000000]\nsum115 =  0.000815480536915\np116 =  [ 0.00002248  0.00001983  0.00000935  0.00000932  0.00001976  0.00001743\n  0.00000830  0.00000828  0.00000034  0.00000014  0.00000009  0.00000001\n  0.00000001  0.00000000  0.00000001  0.00000000  0.00000030  0.00000012\n  0.00000008  0.00000001  0.00000001  0.00000000  0.00000001  0.00000000\n  0.00000064  0.00013895  0.00000001  0.00013917  0.00000001  0.00004369\n  0.00000000  0.00004391  0.00000056  0.00012167  0.00000001  0.00012185\n  0.00000001  0.00003935  0.00000000  0.00003956  0.00000006  0.00000043\n  0.00000006  0.00000001  0.00000000  0.00000001  0.00000000  0.00000000\n  0.00000005  0.00000038  0.00000005  0.00000001  0.00000000  0.00000000\n  0.00000000  0.00000000]\nsum116 =  0.000806358691496\np117 =  [ 0.00002223  0.00001960  0.00000925  0.00000922  0.00001954  0.00001723\n  0.00000821  0.00000818  0.00000034  0.00000014  0.00000009  0.00000001\n  0.00000001  0.00000000  0.00000001  0.00000000  0.00000030  0.00000012\n  0.00000008  0.00000001  0.00000001  0.00000000  0.00000001  0.00000000\n  0.00000063  0.00013737  0.00000001  0.00013758  0.00000001  0.00004323\n  0.00000000  0.00004345  0.00000055  0.00012030  0.00000001  0.00012048\n  0.00000001  0.00003892  0.00000000  0.00003913  0.00000005  0.00000043\n  0.00000006  0.00000001  0.00000000  0.00000001  0.00000000  0.00000000\n  0.00000005  0.00000038  0.00000005  0.00000001  0.00000000  0.00000000\n  0.00000000  0.00000000]\nsum117 =  0.000797338781897\np118 =  [ 0.00002198  0.00001938  0.00000915  0.00000912  0.00001932  0.00001704\n  0.00000812  0.00000809  0.00000033  0.00000014  0.00000009  0.00000001\n  0.00000001  0.00000000  0.00000001  0.00000000  0.00000029  0.00000012\n  0.00000007  0.00000001  0.00000001  0.00000000  0.00000001  0.00000000\n  0.00000062  0.00013580  0.00000001  0.00013602  0.00000001  0.00004278\n  0.00000000  0.00004299  0.00000055  0.00011895  0.00000001  0.00011912\n  0.00000001  0.00003849  0.00000000  0.00003870  0.00000005  0.00000042\n  0.00000006  0.00000001  0.00000000  0.00000001  0.00000000  0.00000000\n  0.00000005  0.00000037  0.00000005  0.00000001  0.00000000  0.00000000\n  0.00000000  0.00000000]\nsum118 =  0.000788419672461\np119 =  [ 0.00002173  0.00001916  0.00000905  0.00000902  0.00001910  0.00001685\n  0.00000803  0.00000800  0.00000033  0.00000014  0.00000008  0.00000001\n  0.00000001  0.00000000  0.00000001  0.00000000  0.00000029  0.00000012\n  0.00000007  0.00000001  0.00000001  0.00000000  0.00000001  0.00000000\n  0.00000061  0.00013426  0.00000001  0.00013447  0.00000001  0.00004233\n  0.00000000  0.00004254  0.00000054  0.00011761  0.00000001  0.00011778\n  0.00000001  0.00003807  0.00000000  0.00003827  0.00000005  0.00000042\n  0.00000006  0.00000001  0.00000000  0.00000001  0.00000000  0.00000000\n  0.00000005  0.00000037  0.00000005  0.00000001  0.00000000  0.00000000\n  0.00000000  0.00000000]\nsum119 =  0.000779600240065\np120 =  [ 0.00002148  0.00001895  0.00000895  0.00000892  0.00001889  0.00001666\n  0.00000794  0.00000791  0.00000033  0.00000014  0.00000008  0.00000001\n  0.00000001  0.00000000  0.00000001  0.00000000  0.00000029  0.00000012\n  0.00000007  0.00000001  0.00000001  0.00000000  0.00000001  0.00000000\n  0.00000061  0.00013273  0.00000001  0.00013294  0.00000001  0.00004188\n  0.00000000  0.00004209  0.00000053  0.00011629  0.00000001  0.00011646\n  0.00000001  0.00003765  0.00000000  0.00003785  0.00000005  0.00000041\n  0.00000006  0.00000001  0.00000000  0.00000001  0.00000000  0.00000000\n  0.00000005  0.00000036  0.00000005  0.00000001  0.00000000  0.00000000\n  0.00000000  0.00000000]\nsum120 =  0.000770879373981\np121 =  [ 0.00002124  0.00001873  0.00000885  0.00000882  0.00001868  0.00001647\n  0.00000785  0.00000783  0.00000032  0.00000013  0.00000008  0.00000001\n  0.00000001  0.00000000  0.00000001  0.00000000  0.00000028  0.00000012\n  0.00000007  0.00000001  0.00000001  0.00000000  0.00000001  0.00000000\n  0.00000060  0.00013122  0.00000001  0.00013142  0.00000001  0.00004144\n  0.00000000  0.00004165  0.00000053  0.00011498  0.00000001  0.00011515\n  0.00000001  0.00003723  0.00000000  0.00003743  0.00000005  0.00000041\n  0.00000006  0.00000001  0.00000000  0.00000001  0.00000000  0.00000000\n  0.00000005  0.00000036  0.00000005  0.00000001  0.00000000  0.00000000\n  0.00000000  0.00000000]\nsum121 =  0.000762255975749\np122 =  [ 0.00002100  0.00001852  0.00000875  0.00000873  0.00001847  0.00001629\n  0.00000776  0.00000774  0.00000032  0.00000013  0.00000008  0.00000001\n  0.00000001  0.00000000  0.00000001  0.00000000  0.00000028  0.00000012\n  0.00000007  0.00000001  0.00000001  0.00000000  0.00000001  0.00000000\n  0.00000059  0.00012973  0.00000001  0.00012993  0.00000001  0.00004100\n  0.00000000  0.00004121  0.00000052  0.00011369  0.00000001  0.00011386\n  0.00000001  0.00003682  0.00000000  0.00003702  0.00000005  0.00000040\n  0.00000006  0.00000001  0.00000000  0.00000001  0.00000000  0.00000000\n  0.00000005  0.00000035  0.00000005  0.00000001  0.00000000  0.00000000\n  0.00000000  0.00000000]\nsum122 =  0.00075372895904\np123 =  [ 0.00002077  0.00001831  0.00000866  0.00000863  0.00001826  0.00001610\n  0.00000768  0.00000765  0.00000031  0.00000013  0.00000008  0.00000001\n  0.00000001  0.00000000  0.00000001  0.00000000  0.00000028  0.00000011\n  0.00000007  0.00000001  0.00000001  0.00000000  0.00000001  0.00000000\n  0.00000059  0.00012825  0.00000001  0.00012845  0.00000001  0.00004056\n  0.00000000  0.00004077  0.00000052  0.00011241  0.00000001  0.00011258\n  0.00000001  0.00003641  0.00000000  0.00003661  0.00000005  0.00000040\n  0.00000006  0.00000001  0.00000000  0.00000001  0.00000000  0.00000000\n  0.00000004  0.00000035  0.00000005  0.00000001  0.00000000  0.00000000\n  0.00000000  0.00000000]\nsum123 =  0.000745297249528\np124 =  [ 0.00002053  0.00001811  0.00000856  0.00000854  0.00001806  0.00001592\n  0.00000759  0.00000757  0.00000031  0.00000013  0.00000008  0.00000001\n  0.00000001  0.00000000  0.00000001  0.00000000  0.00000027  0.00000011\n  0.00000007  0.00000001  0.00000001  0.00000000  0.00000001  0.00000000\n  0.00000058  0.00012679  0.00000001  0.00012699  0.00000001  0.00004013\n  0.00000000  0.00004034  0.00000051  0.00011115  0.00000001  0.00011131\n  0.00000001  0.00003601  0.00000000  0.00003620  0.00000005  0.00000039\n  0.00000006  0.00000001  0.00000000  0.00000001  0.00000000  0.00000000\n  0.00000004  0.00000035  0.00000005  0.00000001  0.00000000  0.00000000\n  0.00000000  0.00000000]\nsum124 =  0.000736959784761\np125 =  [ 0.00002030  0.00001790  0.00000847  0.00000844  0.00001785  0.00001575\n  0.00000751  0.00000748  0.00000031  0.00000013  0.00000008  0.00000001\n  0.00000001  0.00000000  0.00000001  0.00000000  0.00000027  0.00000011\n  0.00000007  0.00000001  0.00000001  0.00000000  0.00000001  0.00000000\n  0.00000057  0.00012535  0.00000001  0.00012555  0.00000001  0.00003971\n  0.00000000  0.00003991  0.00000051  0.00010990  0.00000001  0.00011006\n  0.00000001  0.00003561  0.00000000  0.00003580  0.00000005  0.00000039\n  0.00000006  0.00000001  0.00000000  0.00000001  0.00000000  0.00000000\n  0.00000004  0.00000034  0.00000005  0.00000001  0.00000000  0.00000000\n  0.00000000  0.00000000]\nsum125 =  0.000728715514034\np126 =  [ 0.00002007  0.00001770  0.00000838  0.00000835  0.00001765  0.00001557\n  0.00000742  0.00000740  0.00000030  0.00000013  0.00000008  0.00000001\n  0.00000001  0.00000000  0.00000001  0.00000000  0.00000027  0.00000011\n  0.00000007  0.00000001  0.00000001  0.00000000  0.00000001  0.00000000\n  0.00000057  0.00012393  0.00000001  0.00012412  0.00000001  0.00003928\n  0.00000000  0.00003949  0.00000050  0.00010867  0.00000001  0.00010882\n  0.00000001  0.00003522  0.00000000  0.00003541  0.00000005  0.00000039\n  0.00000005  0.00000001  0.00000000  0.00000001  0.00000000  0.00000000\n  0.00000004  0.00000034  0.00000005  0.00000001  0.00000000  0.00000000\n  0.00000000  0.00000000]\nsum126 =  0.000720563398262\np127 =  [ 0.00001985  0.00001750  0.00000828  0.00000826  0.00001746  0.00001539\n  0.00000734  0.00000732  0.00000030  0.00000012  0.00000008  0.00000001\n  0.00000001  0.00000000  0.00000001  0.00000000  0.00000026  0.00000011\n  0.00000007  0.00000001  0.00000001  0.00000000  0.00000001  0.00000000\n  0.00000056  0.00012252  0.00000001  0.00012271  0.00000001  0.00003887\n  0.00000000  0.00003906  0.00000049  0.00010744  0.00000001  0.00010760\n  0.00000001  0.00003483  0.00000000  0.00003501  0.00000005  0.00000038\n  0.00000005  0.00000001  0.00000000  0.00000000  0.00000000  0.00000000\n  0.00000004  0.00000034  0.00000005  0.00000001  0.00000000  0.00000000\n  0.00000000  0.00000000]\nsum127 =  0.000712502409854\np128 =  [ 0.00001962  0.00001731  0.00000819  0.00000817  0.00001726  0.00001522\n  0.00000726  0.00000723  0.00000030  0.00000012  0.00000008  0.00000001\n  0.00000001  0.00000000  0.00000001  0.00000000  0.00000026  0.00000011\n  0.00000007  0.00000001  0.00000001  0.00000000  0.00000001  0.00000000\n  0.00000056  0.00012113  0.00000001  0.00012132  0.00000001  0.00003845\n  0.00000000  0.00003865  0.00000049  0.00010624  0.00000001  0.00010639\n  0.00000001  0.00003444  0.00000000  0.00003463  0.00000005  0.00000038\n  0.00000005  0.00000001  0.00000000  0.00000000  0.00000000  0.00000000\n  0.00000004  0.00000033  0.00000005  0.00000001  0.00000000  0.00000000\n  0.00000000  0.00000000]\nsum128 =  0.000704531532589\np129 =  [ 0.00001940  0.00001711  0.00000810  0.00000808  0.00001707  0.00001505\n  0.00000718  0.00000715  0.00000029  0.00000012  0.00000008  0.00000001\n  0.00000001  0.00000000  0.00000001  0.00000000  0.00000026  0.00000011\n  0.00000007  0.00000001  0.00000001  0.00000000  0.00000001  0.00000000\n  0.00000055  0.00011976  0.00000001  0.00011994  0.00000001  0.00003804\n  0.00000000  0.00003824  0.00000048  0.00010505  0.00000001  0.00010520\n  0.00000001  0.00003406  0.00000000  0.00003424  0.00000005  0.00000037\n  0.00000005  0.00000001  0.00000000  0.00000000  0.00000000  0.00000000\n  0.00000004  0.00000033  0.00000005  0.00000001  0.00000000  0.00000000\n  0.00000000  0.00000000]\nsum129 =  0.000696649761496\np130 =  [ 0.00001918  0.00001692  0.00000801  0.00000799  0.00001688  0.00001488\n  0.00000710  0.00000707  0.00000029  0.00000012  0.00000007  0.00000001\n  0.00000001  0.00000000  0.00000001  0.00000000  0.00000026  0.00000011\n  0.00000007  0.00000001  0.00000001  0.00000000  0.00000001  0.00000000\n  0.00000054  0.00011840  0.00000001  0.00011858  0.00000001  0.00003763\n  0.00000000  0.00003783  0.00000048  0.00010387  0.00000001  0.00010402\n  0.00000001  0.00003369  0.00000000  0.00003387  0.00000005  0.00000037\n  0.00000005  0.00000001  0.00000000  0.00000000  0.00000000  0.00000000\n  0.00000004  0.00000032  0.00000005  0.00000001  0.00000000  0.00000000\n  0.00000000  0.00000000]"
     ]
    },
    {
     "name": "stdout",
     "output_type": "stream",
     "text": [
      "\nsum130 =  0.000688856102727\np131 =  [ 0.00001897  0.00001673  0.00000792  0.00000790  0.00001669  0.00001472\n  0.00000702  0.00000700  0.00000029  0.00000012  0.00000007  0.00000001\n  0.00000001  0.00000000  0.00000001  0.00000000  0.00000025  0.00000011\n  0.00000006  0.00000001  0.00000001  0.00000000  0.00000001  0.00000000\n  0.00000054  0.00011706  0.00000001  0.00011724  0.00000001  0.00003723\n  0.00000000  0.00003742  0.00000047  0.00010270  0.00000001  0.00010285\n  0.00000001  0.00003331  0.00000000  0.00003349  0.00000005  0.00000036\n  0.00000005  0.00000001  0.00000000  0.00000000  0.00000000  0.00000000\n  0.00000004  0.00000032  0.00000005  0.00000001  0.00000000  0.00000000\n  0.00000000  0.00000000]\nsum131 =  0.000681149573444\np132 =  [ 0.00001876  0.00001654  0.00000784  0.00000781  0.00001650  0.00001455\n  0.00000694  0.00000692  0.00000028  0.00000012  0.00000007  0.00000001\n  0.00000001  0.00000000  0.00000001  0.00000000  0.00000025  0.00000010\n  0.00000006  0.00000001  0.00000001  0.00000000  0.00000001  0.00000000\n  0.00000053  0.00011573  0.00000001  0.00011591  0.00000001  0.00003683\n  0.00000000  0.00003702  0.00000047  0.00010155  0.00000001  0.00010170\n  0.00000001  0.00003294  0.00000000  0.00003312  0.00000005  0.00000036\n  0.00000005  0.00000001  0.00000000  0.00000000  0.00000000  0.00000000\n  0.00000004  0.00000032  0.00000004  0.00000001  0.00000000  0.00000000\n  0.00000000  0.00000000]\nsum132 =  0.000673529201691\np133 =  [ 0.00001854  0.00001635  0.00000775  0.00000773  0.00001632  0.00001439\n  0.00000686  0.00000684  0.00000028  0.00000012  0.00000007  0.00000001\n  0.00000001  0.00000000  0.00000001  0.00000000  0.00000025  0.00000010\n  0.00000006  0.00000001  0.00000001  0.00000000  0.00000001  0.00000000\n  0.00000052  0.00011442  0.00000001  0.00011459  0.00000001  0.00003644\n  0.00000000  0.00003662  0.00000046  0.00010041  0.00000001  0.00010055\n  0.00000001  0.00003258  0.00000000  0.00003275  0.00000005  0.00000036\n  0.00000005  0.00000001  0.00000000  0.00000000  0.00000000  0.00000000\n  0.00000004  0.00000031  0.00000004  0.00000001  0.00000000  0.00000000\n  0.00000000  0.00000000]\nsum133 =  0.000665994026286\np134 =  [ 0.00001834  0.00001617  0.00000766  0.00000764  0.00001613  0.00001423\n  0.00000679  0.00000676  0.00000028  0.00000012  0.00000007  0.00000001\n  0.00000001  0.00000000  0.00000001  0.00000000  0.00000024  0.00000010\n  0.00000006  0.00000001  0.00000001  0.00000000  0.00000001  0.00000000\n  0.00000052  0.00011312  0.00000001  0.00011330  0.00000001  0.00003604\n  0.00000000  0.00003623  0.00000046  0.00009928  0.00000001  0.00009942\n  0.00000001  0.00003222  0.00000000  0.00003239  0.00000004  0.00000035\n  0.00000005  0.00000001  0.00000000  0.00000000  0.00000000  0.00000000\n  0.00000004  0.00000031  0.00000004  0.00000001  0.00000000  0.00000000\n  0.00000000  0.00000000]\nsum134 =  0.000658543096696\np135 =  [ 0.00001813  0.00001599  0.00000758  0.00000756  0.00001595  0.00001407\n  0.00000671  0.00000669  0.00000027  0.00000011  0.00000007  0.00000001\n  0.00000001  0.00000000  0.00000001  0.00000000  0.00000024  0.00000010\n  0.00000006  0.00000001  0.00000001  0.00000000  0.00000001  0.00000000\n  0.00000051  0.00011184  0.00000001  0.00011201  0.00000001  0.00003566\n  0.00000000  0.00003584  0.00000045  0.00009817  0.00000001  0.00009831\n  0.00000001  0.00003186  0.00000000  0.00003203  0.00000004  0.00000035\n  0.00000005  0.00000001  0.00000000  0.00000000  0.00000000  0.00000000\n  0.00000004  0.00000031  0.00000004  0.00000001  0.00000000  0.00000000\n  0.00000000  0.00000000]\nsum135 =  0.000651175472925\np136 =  [ 0.00001793  0.00001581  0.00000750  0.00000747  0.00001577  0.00001391\n  0.00000663  0.00000661  0.00000027  0.00000011  0.00000007  0.00000001\n  0.00000001  0.00000000  0.00000001  0.00000000  0.00000024  0.00000010\n  0.00000006  0.00000001  0.00000001  0.00000000  0.00000001  0.00000000\n  0.00000051  0.00011058  0.00000001  0.00011074  0.00000001  0.00003527\n  0.00000000  0.00003546  0.00000045  0.00009706  0.00000001  0.00009721\n  0.00000001  0.00003151  0.00000000  0.00003168  0.00000004  0.00000034\n  0.00000005  0.00000001  0.00000000  0.00000000  0.00000000  0.00000000\n  0.00000004  0.00000030  0.00000004  0.00000001  0.00000000  0.00000000\n  0.00000000  0.00000000]\nsum136 =  0.0006438902254\np137 =  [ 0.00001772  0.00001563  0.00000741  0.00000739  0.00001560  0.00001375\n  0.00000656  0.00000654  0.00000027  0.00000011  0.00000007  0.00000001\n  0.00000001  0.00000000  0.00000001  0.00000000  0.00000024  0.00000010\n  0.00000006  0.00000001  0.00000001  0.00000000  0.00000001  0.00000000\n  0.00000050  0.00010932  0.00000001  0.00010949  0.00000001  0.00003489\n  0.00000000  0.00003507  0.00000044  0.00009597  0.00000001  0.00009611\n  0.00000001  0.00003116  0.00000000  0.00003132  0.00000004  0.00000034\n  0.00000005  0.00000001  0.00000000  0.00000000  0.00000000  0.00000000\n  0.00000004  0.00000030  0.00000004  0.00000001  0.00000000  0.00000000\n  0.00000000  0.00000000]\nsum137 =  0.000636686434856\np138 =  [ 0.00001753  0.00001546  0.00000733  0.00000731  0.00001542  0.00001360\n  0.00000649  0.00000647  0.00000027  0.00000011  0.00000007  0.00000001\n  0.00000001  0.00000000  0.00000001  0.00000000  0.00000023  0.00000010\n  0.00000006  0.00000001  0.00000001  0.00000000  0.00000001  0.00000000\n  0.00000050  0.00010809  0.00000001  0.00010825  0.00000001  0.00003452\n  0.00000000  0.00003470  0.00000044  0.00009490  0.00000001  0.00009504\n  0.00000001  0.00003081  0.00000000  0.00003098  0.00000004  0.00000034\n  0.00000005  0.00000001  0.00000000  0.00000000  0.00000000  0.00000000\n  0.00000004  0.00000030  0.00000004  0.00000001  0.00000000  0.00000000\n  0.00000000  0.00000000]\nsum138 =  0.000629563192225\np139 =  [ 0.00001733  0.00001528  0.00000725  0.00000723  0.00001525  0.00001345\n  0.00000641  0.00000639  0.00000026  0.00000011  0.00000007  0.00000001\n  0.00000001  0.00000000  0.00000001  0.00000000  0.00000023  0.00000010\n  0.00000006  0.00000001  0.00000001  0.00000000  0.00000001  0.00000000\n  0.00000049  0.00010686  0.00000001  0.00010703  0.00000001  0.00003414\n  0.00000000  0.00003432  0.00000043  0.00009383  0.00000001  0.00009397\n  0.00000001  0.00003047  0.00000000  0.00003063  0.00000004  0.00000033\n  0.00000005  0.00000001  0.00000000  0.00000000  0.00000000  0.00000000\n  0.00000004  0.00000029  0.00000004  0.00000001  0.00000000  0.00000000\n  0.00000000  0.00000000]\nsum139 =  0.000622519598526\np140 =  [ 0.00001713  0.00001511  0.00000717  0.00000715  0.00001508  0.00001330\n  0.00000634  0.00000632  0.00000026  0.00000011  0.00000007  0.00000001\n  0.00000001  0.00000000  0.00000001  0.00000000  0.00000023  0.00000009\n  0.00000006  0.00000001  0.00000001  0.00000000  0.00000001  0.00000000\n  0.00000048  0.00010566  0.00000001  0.00010582  0.00000001  0.00003378\n  0.00000000  0.00003395  0.00000043  0.00009278  0.00000001  0.00009291\n  0.00000001  0.00003013  0.00000000  0.00003029  0.00000004  0.00000033\n  0.00000005  0.00000001  0.00000000  0.00000000  0.00000000  0.00000000\n  0.00000004  0.00000029  0.00000004  0.00000001  0.00000000  0.00000000\n  0.00000000  0.00000000]\nsum140 =  0.000615554764752\np141 =  [ 0.00001694  0.00001494  0.00000709  0.00000707  0.00001491  0.00001315\n  0.00000627  0.00000625  0.00000026  0.00000011  0.00000007  0.00000001\n  0.00000001  0.00000000  0.00000001  0.00000000  0.00000023  0.00000009\n  0.00000006  0.00000001  0.00000001  0.00000000  0.00000001  0.00000000\n  0.00000048  0.00010446  0.00000001  0.00010462  0.00000001  0.00003341\n  0.00000000  0.00003359  0.00000042  0.00009174  0.00000001  0.00009187\n  0.00000001  0.00002980  0.00000000  0.00002996  0.00000004  0.00000033\n  0.00000005  0.00000001  0.00000000  0.00000000  0.00000000  0.00000000\n  0.00000004  0.00000029  0.00000004  0.00000001  0.00000000  0.00000000\n  0.00000000  0.00000000]\nsum141 =  0.000608667811764\np142 =  [ 0.00001675  0.00001477  0.00000701  0.00000699  0.00001474  0.00001300\n  0.00000620  0.00000618  0.00000025  0.00000011  0.00000006  0.00000001\n  0.00000001  0.00000000  0.00000001  0.00000000  0.00000022  0.00000009\n  0.00000006  0.00000001  0.00000001  0.00000000  0.00000001  0.00000000\n  0.00000047  0.00010328  0.00000001  0.00010344  0.00000001  0.00003305\n  0.00000000  0.00003322  0.00000042  0.00009071  0.00000001  0.00009084\n  0.00000001  0.00002947  0.00000000  0.00002963  0.00000004  0.00000032\n  0.00000005  0.00000001  0.00000000  0.00000000  0.00000000  0.00000000\n  0.00000004  0.00000028  0.00000004  0.00000001  0.00000000  0.00000000\n  0.00000000  0.00000000]\nsum142 =  0.000601857870185\np143 =  [ 0.00001656  0.00001461  0.00000693  0.00000691  0.00001458  0.00001286\n  0.00000613  0.00000611  0.00000025  0.00000010  0.00000006  0.00000001\n  0.00000001  0.00000000  0.00000001  0.00000000  0.00000022  0.00000009\n  0.00000006  0.00000001  0.00000001  0.00000000  0.00000001  0.00000000\n  0.00000047  0.00010211  0.00000001  0.00010227  0.00000001  0.00003269\n  0.00000000  0.00003286  0.00000041  0.00008969  0.00000001  0.00008982\n  0.00000001  0.00002914  0.00000000  0.00002930  0.00000004  0.00000032\n  0.00000005  0.00000001  0.00000000  0.00000000  0.00000000  0.00000000\n  0.00000004  0.00000028  0.00000004  0.00000001  0.00000000  0.00000000\n  0.00000000  0.00000000]\nsum143 =  0.000595124080288\np144 =  [ 0.00001638  0.00001444  0.00000686  0.00000684  0.00001441  0.00001271\n  0.00000606  0.00000605  0.00000025  0.00000010  0.00000006  0.00000001\n  0.00000001  0.00000000  0.00000001  0.00000000  0.00000022  0.00000009\n  0.00000006  0.00000001  0.00000001  0.00000000  0.00000001  0.00000000\n  0.00000046  0.00010096  0.00000001  0.00010111  0.00000001  0.00003234\n  0.00000000  0.00003251  0.00000041  0.00008869  0.00000001  0.00008881\n  0.00000001  0.00002882  0.00000000  0.00002897  0.00000004  0.00000031\n  0.00000004  0.00000001  0.00000000  0.00000000  0.00000000  0.00000000\n  0.00000004  0.00000028  0.00000004  0.00000001  0.00000000  0.00000000\n  0.00000000  0.00000000]\nsum144 =  0.000588465591895\np145 =  [ 0.00001619  0.00001428  0.00000678  0.00000676  0.00001425  0.00001257\n  0.00000600  0.00000598  0.00000025  0.00000010  0.00000006  0.00000001\n  0.00000001  0.00000000  0.00000001  0.00000000  0.00000022  0.00000009\n  0.00000006  0.00000001  0.00000001  0.00000000  0.00000001  0.00000000\n  0.00000046  0.00009982  0.00000001  0.00009997  0.00000001  0.00003199\n  0.00000000  0.00003215  0.00000040  0.00008769  0.00000001  0.00008782\n  0.00000001  0.00002850  0.00000000  0.00002865  0.00000004  0.00000031\n  0.00000004  0.00000001  0.00000000  0.00000000  0.00000000  0.00000000\n  0.00000003  0.00000027  0.00000004  0.00000001  0.00000000  0.00000000\n  0.00000000  0.00000000]\nsum145 =  0.000581881564272\np146 =  [ 0.00001601  0.00001412  0.00000671  0.00000669  0.00001409  0.00001243\n  0.00000593  0.00000591  0.00000024  0.00000010  0.00000006  0.00000001\n  0.00000001  0.00000000  0.00000001  0.00000000  0.00000021  0.00000009\n  0.00000005  0.00000001  0.00000001  0.00000000  0.00000001  0.00000000\n  0.00000045  0.00009869  0.00000001  0.00009884  0.00000001  0.00003164\n  0.00000000  0.00003181  0.00000040  0.00008671  0.00000001  0.00008683\n  0.00000001  0.00002818  0.00000000  0.00002833  0.00000004  0.00000031\n  0.00000004  0.00000001  0.00000000  0.00000000  0.00000000  0.00000000\n  0.00000003  0.00000027  0.00000004  0.00000001  0.00000000  0.00000000\n  0.00000000  0.00000000]\nsum146 =  0.000575371166026\np147 =  [ 0.00001322  0.00001186  0.00000549  0.00000558  0.00001132  0.00000999\n  0.00000476  0.00000475  0.00000021  0.00000009  0.00000006  0.00000001\n  0.00000001  0.00000000  0.00000001  0.00000000  0.00000017  0.00000007\n  0.00000004  0.00000000  0.00000001  0.00000000  0.00000000  0.00000000\n  0.00000038  0.00009663  0.00000001  0.00009727  0.00000000  0.00003102\n  0.00000000  0.00003133  0.00000032  0.00007081  0.00000001  0.00007158\n  0.00000000  0.00002301  0.00000000  0.00002336  0.00000003  0.00000026\n  0.00000004  0.00000001  0.00000000  0.00000000  0.00000000  0.00000000\n  0.00000003  0.00000022  0.00000003  0.00000001  0.00000000  0.00000000\n  0.00000000  0.00000000]\nsum147 =  0.000514027662936\np148 =  [ 0.00000767  0.00000730  0.00000309  0.00000338  0.00000584  0.00000517\n  0.00000245  0.00000246  0.00000015  0.00000005  0.00000004  0.00000001\n  0.00000001  0.00000000  0.00000001  0.00000000  0.00000009  0.00000004\n  0.00000002  0.00000000  0.00000000  0.00000000  0.00000000  0.00000000\n  0.00000023  0.00008822  0.00000001  0.00009256  0.00000000  0.00002836\n  0.00000000  0.00002984  0.00000017  0.00003852  0.00000000  0.00004048\n  0.00000000  0.00001252  0.00000000  0.00001321  0.00000002  0.00000015\n  0.00000003  0.00000001  0.00000000  0.00000000  0.00000000  0.00000000\n  0.00000001  0.00000011  0.00000002  0.00000000  0.00000000  0.00000000\n  0.00000000  0.00000000]\nsum148 =  0.000382258747953\np149 =  [ 0.00000155  0.00000215  0.00000050  0.00000093  0.00000007  0.00000010\n  0.00000002  0.00000004  0.00000006  0.00000002  0.00000003  0.00000000\n  0.00000000  0.00000000  0.00000000  0.00000000  0.00000000  0.00000000\n  0.00000000  0.00000000  0.00000000  0.00000000  0.00000000  0.00000000\n  0.00000006  0.00004787  0.00000000  0.00007179  0.00000000  0.00001539\n  0.00000000  0.00002316  0.00000000  0.00000300  0.00000000  0.00000592\n  0.00000000  0.00000097  0.00000000  0.00000193  0.00000001  0.00000004\n  0.00000002  0.00000000  0.00000000  0.00000000  0.00000000  0.00000000\n  0.00000000  0.00000000  0.00000000  0.00000000  0.00000000  0.00000000\n  0.00000000  0.00000000]\nsum149 =  0.000175650131812\nsum =  1.0\n"
     ]
    }
   ],
   "source": [
    "vect_p_l = [p0]\n",
    "p_sums = [np.sum(p0)]\n",
    "print('p0 = ', vect_p_l[0][0])\n",
    "print('sum0 = ', p_sums[0])\n",
    "for l in range(1, p_num):\n",
    "    vect_p_l.append(np.dot(vect_p_l[0], matrPhi_l[l]))\n",
    "    p_sums.append(np.sum(vect_p_l[l]))\n",
    "    print('p' + str(l) + ' = ', vect_p_l[l][0])\n",
    "    print('sum' + str(l) + ' = ', p_sums[l])\n",
    "print('sum = ', np.sum(p_sums))"
   ]
  },
  {
   "cell_type": "code",
   "execution_count": 31,
   "metadata": {
    "collapsed": false
   },
   "outputs": [
    {
     "data": {
      "image/png": "[encoded data removed]",
      "text/plain": [
       "<matplotlib.figure.Figure at 0x7f24262a7f98>"
      ]
     },
     "metadata": {},
     "output_type": "display_data"
    }
   ],
   "source": [
    "plt.scatter(x=[_ for _ in range(150)], y=p_sums)\n",
    "plt.show()\n",
    "# print(p_sums)"
   ]
  },
  {
   "cell_type": "heading",
   "metadata": {},
   "level": 3,
   "source": [
    "Условие эргодичности по формулам (6) - (7)"
   ]
  },
  {
   "cell_type": "code",
   "execution_count": 32,
   "metadata": {
    "collapsed": true
   },
   "outputs": [],
   "source": [
    "matr_Q_1_ = copy.deepcopy(matrQ_k[0])\n",
    "for l in range(1, n+2):\n",
    "    matr_Q_1_ += matrQ_k[l]"
   ]
  },
  {
   "cell_type": "code",
   "execution_count": 33,
   "metadata": {},
   "outputs": [],
   "source": [
    "matr_dQ_1_ = copy.deepcopy(matrQ_k[1])\n",
    "for l in range(2, n+2):\n",
    "    matr_dQ_1_ += l * matrQ_k[l]"
   ]
  },
  {
   "cell_type": "code",
   "execution_count": 34,
   "metadata": {},
   "outputs": [],
   "source": [
    "matr_a = copy.deepcopy(np.array(matr_Q_1_))\n",
    "for i in range(matr_a.shape[0]):\n",
    "    matr_a[i][0] = 1 \n",
    "matr_b = np.zeros((matr_a.shape[0], 1))\n",
    "matr_b[0][0] = 1\n",
    "matr_a = np.transpose(matr_a)\n",
    "\n",
    "vect_y = la.solve(matr_a, matr_b).reshape(-1)"
   ]
  },
  {
   "cell_type": "code",
   "execution_count": 35,
   "metadata": {
    "collapsed": false
   },
   "outputs": [
    {
     "name": "stdout",
     "output_type": "stream",
     "text": [
      "ergodicity = -3.2757671331\n"
     ]
    }
   ],
   "source": [
    "vect_e = np.array([[1.] for _ in range(matr_dQ_1_.shape[1])])\n",
    "ergodicity = np.dot(np.dot(vect_y, matr_dQ_1_), vect_e)[0, 0]\n",
    "print('ergodicity =', ergodicity)"
   ]
  },
  {
   "cell_type": "heading",
   "metadata": {},
   "level": 3,
   "source": [
    "Коэффициент загруженности системы"
   ]
  },
  {
   "cell_type": "code",
   "execution_count": 36,
   "metadata": {},
   "outputs": [
    {
     "name": "stdout",
     "output_type": "stream",
     "text": [
      "\\rho = 0.200623381193\n"
     ]
    }
   ],
   "source": [
    "vect_e = [[1] for _ in range(matrQ_0.shape[1])]\n",
    "denom = np.dot(np.dot(vect_y, matrQ_0), vect_e)[0]\n",
    "rho = lamD / denom\n",
    "print('\\\\rho =', rho)"
   ]
  },
  {
   "cell_type": "heading",
   "metadata": {},
   "level": 2,
   "source": [
    ""
   ]
  },
  {
   "cell_type": "code",
   "execution_count": 37,
   "metadata": {
    "collapsed": true
   },
   "outputs": [],
   "source": [
    "# Условие эргодичности\n",
    "block00 = kronsum(matrH0, matrS1) + kron(np.eye(V_), np.dot(matrS1_0, beta1))\n",
    "block03 = kron(kron(kron(matrH1, M1_e), tau), alpha1)\n",
    "block10 = kron(kron(np.eye(V_), np.dot(M2_e, beta1)), matrA2_0)\n",
    "block11 = kronsum(kronsum(matrH0, matrS2), matrA2) + kron(kron(np.eye(V_), np.dot(matrS2_0, beta2)), np.eye(L2))\n",
    "block12 = kron(kron(kron(matrH1, np.eye(M2)), tau), L2_e)\n",
    "block21 = kron(kron(kron(np.eye(V_), np.eye(M2)), matrT0), alpha1)\n",
    "block22 = kronsum(kronsum(matrH, matrS2), matrT) + kron(kron(np.eye(V_), np.dot(matrS2_0, beta2)), np.eye(R))\n",
    "block30 = kron(kron(kron(np.eye(V_), beta1), matrT0), L1_e)\n",
    "block32 = kron(kron(kron(np.eye(V_), beta2), np.eye(R)), matrA1_0)\n",
    "block33 = kronsum(kronsum(matrH, matrT), matrA1)\n",
    "block01 = np.zeros((block00.shape[0], block11.shape[1]))\n",
    "block02 = np.zeros((block00.shape[0], block12.shape[1]))\n",
    "block13 = np.zeros((block10.shape[0], block03.shape[1]))\n",
    "block20 = np.zeros((block21.shape[0], block00.shape[1]))\n",
    "block23 = np.zeros((block21.shape[0], block03.shape[1]))\n",
    "block31 = np.zeros((block30.shape[0], block11.shape[1]))\n",
    "matrGamma = np.bmat([[block00, block01, block02, block03],\n",
    "                     [block10, block11, block12, block13],\n",
    "                     [block20, block21, block22, block23],\n",
    "                     [block30, block31, block32, block33]])\n",
    "# pd.DataFrame(matrGamma)"
   ]
  },
  {
   "cell_type": "code",
   "execution_count": 38,
   "metadata": {
    "collapsed": false
   },
   "outputs": [
    {
     "name": "stdout",
     "output_type": "stream",
     "text": [
      "x =  [ 0.11981349  0.10554593  0.06831327  0.06801485  0.00175245  0.00073423\n  0.00040251  0.00003038  0.00004836  0.00001404  0.00002197  0.00000314\n  0.00339413  0.24970832  0.00007772  0.24665325  0.00005216  0.06621446\n  0.00000112  0.06615319  0.00029430  0.00230619  0.00032246  0.00007907\n  0.00000455  0.00003541  0.00000785  0.00000122]\nx1 =  [ 0.11981349  0.10554593  0.06831327  0.06801485]\nx2 =  [ 0.00175245  0.00073423  0.00040251  0.00003038  0.00004836  0.00001404\n  0.00002197  0.00000314]\nx3 =  [ 0.00339413  0.24970832  0.00007772  0.24665325  0.00005216  0.06621446\n  0.00000112  0.06615319]\n"
     ]
    }
   ],
   "source": [
    "matr_a = copy.deepcopy(np.array(matrGamma))\n",
    "for i in range(matr_a.shape[0]):\n",
    "    matr_a[i][0] = 1\n",
    "matr_b = np.zeros((matr_a.shape[0], 1))\n",
    "matr_b[0][0] = 1\n",
    "matr_a = np.transpose(matr_a)\n",
    "\n",
    "x = la.solve(matr_a, matr_b).reshape(-1)\n",
    "\n",
    "print('x = ', x)\n",
    "x1 = x[0:V_*M1]\n",
    "x2 = x[V_*M1:V_*M1 + V_*M2*L2]\n",
    "x3 = x[V_*M1 + V_*M2*L2: V_*M1 + V_*M2*L2 + V_*M2*R]\n",
    "\n",
    "print('x1 = ', x1)\n",
    "print('x2 = ', x2)\n",
    "print('x3 = ', x3)"
   ]
  },
  {
   "cell_type": "code",
   "execution_count": 39,
   "metadata": {
    "collapsed": false
   },
   "outputs": [
    {
     "name": "stdout",
     "output_type": "stream",
     "text": [
      "pi1 =  [ 0.18812676  0.17356078]\npi2 =  [ 0.00254907  0.00045799]\npi3 =  [ 0.31936907  0.31288528]\n"
     ]
    }
   ],
   "source": [
    "e_V_ = np.array([[1.] for i in range(0, V_)])\n",
    "e_R = np.array([[1.] for i in range(0, R)])\n",
    "pi1 = x1.dot(kron(e_V_, np.eye(M1)))\n",
    "pi2 = x2.dot(kron(kron(e_V_, np.eye(M2)), L2_e))\n",
    "pi3 = x3.dot(kron(kron(e_V_, np.eye(M2)), e_R))\n",
    "print('pi1 = ', pi1)\n",
    "print('pi2 = ', pi2)\n",
    "print('pi3 = ', pi3)"
   ]
  },
  {
   "cell_type": "heading",
   "metadata": {},
   "level": 3,
   "source": [
    "1. Пропускная способность системы rho"
   ]
  },
  {
   "cell_type": "code",
   "execution_count": 40,
   "metadata": {
    "collapsed": false
   },
   "outputs": [
    {
     "name": "stdout",
     "output_type": "stream",
     "text": [
      "\\varrho =  4.09790211025\n"
     ]
    }
   ],
   "source": [
    "varrho = np.dot(pi1, matrS1_0) + np.dot((pi2 + pi3), matrS2_0)\n",
    "varrho = varrho[0]\n",
    "print('\\\\varrho = ', varrho)"
   ]
  },
  {
   "cell_type": "heading",
   "metadata": {},
   "level": 3,
   "source": [
    ""
   ]
  },
  {
   "cell_type": "code",
   "execution_count": 41,
   "metadata": {
    "collapsed": false
   },
   "outputs": [
    {
     "name": "stdout",
     "output_type": "stream",
     "text": [
      "P(1) = [ 0.01262728  0.01111190  0.00629595  0.00626098  0.00668069  0.00589592\n  0.00290627  0.00290056  0.00021431  0.00007973  0.00004936  0.00000378\n  0.00000619  0.00000155  0.00000294  0.00000045  0.00011443  0.00004326\n  0.00002964  0.00000339  0.00000482  0.00000121  0.00000328  0.00000067\n  0.00036507  0.03866597  0.00000853  0.03769812  0.00000524  0.00980821\n  0.00000011  0.00968224  0.00019201  0.05217041  0.00000462  0.05188238\n  0.00000257  0.01516321  0.00000006  0.01518475  0.00003140  0.00024404\n  0.00004630  0.00000840  0.00000045  0.00000349  0.00000117  0.00000012\n  0.00001654  0.00012888  0.00002690  0.00000443  0.00000022  0.00000172\n  0.00000070  0.00000006]\n"
     ]
    }
   ],
   "source": [
    "vect_P_1_ = copy.deepcopy(vect_p_l[1])\n",
    "for l in range(2, p_num):\n",
    "    vect_P_1_ += vect_p_l[l]\n",
    "print('P(1) =', vect_P_1_[0])"
   ]
  },
  {
   "cell_type": "heading",
   "metadata": {},
   "level": 3,
   "source": [
    ""
   ]
  },
  {
   "cell_type": "code",
   "execution_count": 42,
   "metadata": {
    "collapsed": true
   },
   "outputs": [],
   "source": [
    "vect_dP_1_ = copy.deepcopy(vect_p_l[1])\n",
    "for l in range(2, p_num):\n",
    "    vect_dP_1_ += l * vect_p_l[l]"
   ]
  },
  {
   "cell_type": "heading",
   "metadata": {},
   "level": 3,
   "source": [
    "P''(2)"
   ]
  },
  {
   "cell_type": "code",
   "execution_count": 43,
   "metadata": {
    "collapsed": true
   },
   "outputs": [],
   "source": [
    "vect_ddP_1_ = copy.deepcopy(vect_p_l[2]) * 2\n",
    "for l in range(3, p_num):\n",
    "    vect_ddP_1_ += l * (l - 1) * vect_p_l[l]"
   ]
  },
  {
   "cell_type": "heading",
   "metadata": {},
   "level": 3,
   "source": [
    "3. Среднее число запросов в системе"
   ]
  },
  {
   "cell_type": "code",
   "execution_count": 44,
   "metadata": {
    "collapsed": false
   },
   "outputs": [
    {
     "name": "stdout",
     "output_type": "stream",
     "text": [
      "L = 11.8254858553\n"
     ]
    }
   ],
   "source": [
    "# Среднее число запросов в системе\n",
    "\n",
    "vect_e = np.array([[1.] for _ in range(vect_dP_1_.shape[1])])\n",
    "L = np.dot(vect_dP_1_, vect_e)[0, 0]\n",
    "print('L =', L)"
   ]
  },
  {
   "cell_type": "heading",
   "metadata": {},
   "level": 3,
   "source": [
    "4. Дисперсия числа запросов в системе"
   ]
  },
  {
   "cell_type": "code",
   "execution_count": 45,
   "metadata": {
    "collapsed": false
   },
   "outputs": [
    {
     "name": "stdout",
     "output_type": "stream",
     "text": [
      "V = 840.94379103\n"
     ]
    }
   ],
   "source": [
    "# Дисперсия числа запросов в системе\n",
    "dispV = np.dot(vect_ddP_1_, vect_e)[0] + L - L ** 2\n",
    "dispV = dispV[0]\n",
    "print('V =', dispV)"
   ]
  },
  {
   "cell_type": "heading",
   "metadata": {},
   "level": 3,
   "source": [
    "5. Вероятность того, что прибор 1 исправен и обслуживает запрос"
   ]
  },
  {
   "cell_type": "code",
   "execution_count": 46,
   "metadata": {
    "collapsed": false
   },
   "outputs": [
    {
     "name": "stdout",
     "output_type": "stream",
     "text": [
      "P^{(1,0)} = 0.0546795505195\n"
     ]
    }
   ],
   "source": [
    "# Вероятность того, что прибор 1 исправен и обслуживает запрос\n",
    "temp_matr = np.dot(vect_P_1_, la.block_diag(np.eye(a*M1), np.zeros((a*(M2*L2 + M2*R + R*L1), a*(M2*L2 + M2*R + R*L1)))))\n",
    "vect_e = np.array([[1.] for i in range(0, temp_matr.shape[1])])\n",
    "prob1work = np.dot(temp_matr, vect_e)[0, 0]\n",
    "print('P^{(1,0)} =', prob1work)"
   ]
  },
  {
   "cell_type": "heading",
   "metadata": {},
   "level": 3,
   "source": [
    "6. Вероятность того, что прибор-1 в неисправном состоянии и прибор-2 обслуживает запрос"
   ]
  },
  {
   "cell_type": "code",
   "execution_count": 47,
   "metadata": {
    "collapsed": false
   },
   "outputs": [
    {
     "name": "stdout",
     "output_type": "stream",
     "text": [
      "P^{(2,0),(1,2)} = 0.231392525643\n"
     ]
    }
   ],
   "source": [
    "# Вероятность того, что прибор-1 в неисправном состоянии и прибор-2 обслуживает запрос\n",
    "temp_matr = np.dot(vect_P_1_, la.block_diag(np.zeros((a*M1, a*M1)), np.eye(a*M2*(L2 + R)), np.zeros((a*R*L1, a*R*L1))))\n",
    "vect_e = np.array([[1.] for i in range(0, temp_matr.shape[1])])\n",
    "prob1notwork = np.dot(temp_matr, vect_e)[0, 0]\n",
    "print('P^{(2,0),(1,2)} =', prob1notwork)"
   ]
  },
  {
   "cell_type": "heading",
   "metadata": {},
   "level": 3,
   "source": [
    "7. Вероятность того, что в системе есть запросы, прибор 1 в неисправном состоянии и идет переключение с этого прибора на прибор 2 (при этом оба  прибора не обслуживают заявки)"
   ]
  },
  {
   "cell_type": "code",
   "execution_count": 48,
   "metadata": {
    "collapsed": false
   },
   "outputs": [
    {
     "name": "stdout",
     "output_type": "stream",
     "text": [
      "P^{(2,1)} = 0.000514815411404\n"
     ]
    }
   ],
   "source": [
    "# Вероятность того, что в системе есть запросы, прибор 1 в неисправном состоянии и идет переключение с этого прибора на прибор 2 (при этом оба  прибора не обслуживают заявки)\n",
    "temp_matr = np.dot(vect_P_1_, la.block_diag(np.zeros((a*(M1+M2*(L2+R)), a*(M1+M2*(L2+R)))), np.eye(a*R*L1)))\n",
    "vect_e = np.array([[1.] for i in range(0, temp_matr.shape[1])])\n",
    "prob1notworkswitch2 = np.dot(temp_matr, vect_e)[0, 0]\n",
    "print('P^{(2,1)} =', prob1notworkswitch2)"
   ]
  },
  {
   "cell_type": "heading",
   "metadata": {},
   "level": 3,
   "source": [
    "8. Вероятность того, что в системе есть запросы, прибор 1 в исправном состоянии и идет переключение с  прибора 2 на прибор 1 (при этом прибор 2 продолжает обслуживать запросы)\n"
   ]
  },
  {
   "cell_type": "code",
   "execution_count": 49,
   "metadata": {
    "collapsed": false
   },
   "outputs": [
    {
     "name": "stdout",
     "output_type": "stream",
     "text": [
      "P^{(2,2)} = 0.000559004440447\n"
     ]
    }
   ],
   "source": [
    "# Вероятность того, что в системе есть запросы, прибор 1 в исправном состоянии и идет переключение с  прибора 2 на прибор 1 (при этом прибор 2 продолжает обслуживать запросы)\n",
    "temp_matr = np.dot(vect_P_1_, la.block_diag(np.zeros((a*M1, a*M1)), np.eye(a*M2*L2),\n",
    "                                            np.zeros((a*(R*L1 + M2*R), a*(R*L1 + M2*R)))))\n",
    "vect_e = np.array([[1.] for i in range(0, temp_matr.shape[1])])\n",
    "prob1workswitch21 = np.dot(temp_matr, vect_e)[0, 0]\n",
    "print('P^{(2,2)} =', prob1workswitch21)"
   ]
  },
  {
   "cell_type": "heading",
   "metadata": {},
   "level": 3,
   "source": [
    "9. Вероятность того, что прибор 1 доступен (средняя доля времени, в течение которой прибор 1 доступен)"
   ]
  },
  {
   "cell_type": "code",
   "execution_count": 50,
   "metadata": {
    "collapsed": false
   },
   "outputs": [
    {
     "name": "stdout",
     "output_type": "stream",
     "text": [
      "P_1+ = 0.372562129255\n"
     ]
    }
   ],
   "source": [
    "# Вероятность того, что прибор 1 доступен (средняя доля времени, в течение которого прибор 1 доступен)\n",
    "temp_matr1 = np.dot(vect_P_1_, la.block_diag(np.eye(a*M1), np.zeros((a*(M2*L2 + M2*R + R*L1), a*(M2*L2 + M2*R + R*L1)))))\n",
    "vect_e = np.array([[1.] for i in range(0, temp_matr1.shape[1])])\n",
    "temp_matr = np.dot(temp_matr1, vect_e)\n",
    "\n",
    "temp_matr2 = np.dot(vect_p_l[0], la.block_diag(np.eye(a), np.zeros((a*(L2+R+R*L1), a*(L2+R+R*L1)))))\n",
    "vect_e = np.array([[1.] for i in range(0, temp_matr2.shape[1])])\n",
    "temp_matr += np.dot(temp_matr2, vect_e)\n",
    "prob1avail = temp_matr[0, 0]\n",
    "print('P_1+ =', prob1avail)"
   ]
  },
  {
   "cell_type": "heading",
   "metadata": {},
   "level": 3,
   "source": [
    "10. Вероятность того, что прибор 1 недоступен (средняя доля времени, в течение которого прибор 1 недоступен)"
   ]
  },
  {
   "cell_type": "code",
   "execution_count": 51,
   "metadata": {
    "collapsed": false
   },
   "outputs": [],
   "source": [
    "# Вероятность того, что прибор 1 недоступен (средняя доля времени, в течение которого прибор 1 недоступен)\n",
    "temp_matr1 = np.dot(vect_P_1_, la.block_diag(np.zeros((a*M1, a*M1)), np.eye(a*(M2*L2 + M2*R + R*L1))))\n",
    "vect_e = np.array([[1.] for i in range(0, temp_matr1.shape[1])])\n",
    "temp_matr = np.dot(temp_matr1, vect_e)\n",
    "\n",
    "temp_matr2 = np.dot(vect_p_l[0], la.block_diag(np.zeros((a, a)), np.eye(a*(L2+R+R*L1))))\n",
    "vect_e = np.array([[1.] for i in range(0, temp_matr2.shape[1])])\n",
    "temp_matr += np.dot(temp_matr2, vect_e)\n",
    "prob1notavail = temp_matr[0, 0]\n",
    "# print('P_2 =', prob1notavail)"
   ]
  },
  {
   "cell_type": "heading",
   "metadata": {},
   "level": 3,
   "source": [
    "10.1 Вероятность того, что прибор 1 недоступен, а прибор 2 доступен (средняя доля времени, в течение которого прибор 2 доступен)"
   ]
  },
  {
   "cell_type": "code",
   "execution_count": 52,
   "metadata": {},
   "outputs": [
    {
     "name": "stdout",
     "output_type": "stream",
     "text": [
      "P_2 = 0.624301385024\n"
     ]
    }
   ],
   "source": [
    "temp_matr1 = np.dot(vect_P_1_, la.block_diag(np.zeros((a*M1, a*M1)), np.eye(a*M2*(L2+R)), np.zeros((a*R*L1, a*R*L1))))\n",
    "vect_e = np.array([[1.] for i in range(0, temp_matr1.shape[1])])\n",
    "temp_matr = np.dot(temp_matr1, vect_e)\n",
    "\n",
    "temp_matr2 = np.dot(vect_p_l[0], la.block_diag(np.zeros((a, a)), np.eye(a*(L2+R)), np.zeros((a*R*L1, a*R*L1))))\n",
    "vect_e = np.array([[1.] for i in range(0, temp_matr2.shape[1])])\n",
    "temp_matr += np.dot(temp_matr2, vect_e)\n",
    "\n",
    "prob2_avail = temp_matr[0, 0]\n",
    "print('P_2 =', prob2_avail)"
   ]
  },
  {
   "cell_type": "heading",
   "metadata": {},
   "level": 3,
   "source": [
    "11. Вероятность того, что оба прибора недоступны, т.е. идет переключение с прибора 1 на прибор 2 (средняя доля времени, в течение которого оба прибора недоступны)"
   ]
  },
  {
   "cell_type": "code",
   "execution_count": 53,
   "metadata": {
    "collapsed": true
   },
   "outputs": [
    {
     "name": "stdout",
     "output_type": "stream",
     "text": [
      "P- = 0.00313648572031\n"
     ]
    }
   ],
   "source": [
    "temp_matr1 = np.dot(vect_P_1_, la.block_diag(np.zeros((a*(M1+M2*(L2+R)), a*(M1+M2*(L2+R)))), np.eye(a*R*L1)))\n",
    "vect_e = np.array([[1.] for i in range(0, temp_matr1.shape[1])])\n",
    "temp_matr = np.dot(temp_matr1, vect_e)\n",
    "\n",
    "temp_matr2 = np.dot(vect_p_l[0], la.block_diag(np.zeros((a*(1+L2+R), a*(1+L2+R))), np.eye(a*R*L1)))\n",
    "vect_e = np.array([[1.] for i in range(0, temp_matr2.shape[1])])\n",
    "temp_matr += np.dot(temp_matr2, vect_e)\n",
    "\n",
    "prob_both_not_avail = temp_matr[0, 0]\n",
    "print('P- =', prob_both_not_avail)"
   ]
  },
  {
   "cell_type": "heading",
   "metadata": {
    "collapsed": true
   },
   "level": 3,
   "source": [
    "12. Среднее число переключений с прибора 1 на прибор 2 в единицу времени"
   ]
  },
  {
   "cell_type": "code",
   "execution_count": 54,
   "metadata": {},
   "outputs": [
    {
     "name": "stdout",
     "output_type": "stream",
     "text": [
      "Khi_1_2 = 0.638648961285\n"
     ]
    }
   ],
   "source": [
    "temp_matr1 = np.dot(vect_P_1_, la.block_diag(kron(kron(np.eye(W_), matrH1), np.eye(M1)), np.zeros((a*(M2*(L2+R)+R*L1), a*(M2*(L2+R)+R*L1)))))\n",
    "vect_e = np.array([[1.] for i in range(0, temp_matr1.shape[1])])\n",
    "temp_matr = np.dot(temp_matr1, vect_e)\n",
    "\n",
    "temp_matr2 = np.dot(vect_p_l[0], la.block_diag(kron(np.eye(W_), matrH1), np.zeros((a*(L2+R+R*L1), a*(L2+R+R*L1)))))\n",
    "vect_e = np.array([[1.] for i in range(0, temp_matr2.shape[1])])\n",
    "temp_matr += np.dot(temp_matr2, vect_e)\n",
    "\n",
    "switches12_num = temp_matr[0, 0]\n",
    "print('Khi_1_2 =', switches12_num)"
   ]
  },
  {
   "cell_type": "heading",
   "metadata": {},
   "level": 3,
   "source": [
    "13. Среднее число переключений с прибора 2 на прибор 1 в единицу времени"
   ]
  },
  {
   "cell_type": "code",
   "execution_count": null,
   "metadata": {},
   "outputs": [],
   "source": [
    "temp_matr1 = np.dot(vect_P_1_, la.block_diag(np.zeros((a*(M1+M2*L2), a*(M1+M2*L2))), kron(np.eye(a*M2), matrT),\n",
    "                                             np.zeros((a*R*L1, a*R*L1))))\n",
    "vect_e = np.array([[1.] for i in range(0, temp_matr1.shape[1])])\n",
    "temp_matr = np.dot(temp_matr1, vect_e)\n",
    "temp_matr2 = np.dot(vect_p_l[0], la.block_diag(np.zeros((a*(1+L2), a*(1+L2))), kron(np.eye(a), matrT),\n",
    "                                               np.zeros((a*R*L1, a*R*L1))))\n",
    "vect_e = np.array([[1.] for i in range(0, temp_matr2.shape[1])])\n",
    "temp_matr += np.dot(temp_matr2, vect_e)\n",
    "switches21_num = temp_matr[0, 0]\n",
    "print('Khi_2_1 =', -switches21_num)"
   ]
  },
  {
   "cell_type": "code",
   "execution_count": 55,
   "metadata": {},
   "outputs": [],
   "source": [
    ""
   ]
  },
  {
   "cell_type": "code",
   "execution_count": 55,
   "metadata": {},
   "outputs": [],
   "source": [
    ""
   ]
  },
  {
   "cell_type": "code",
   "execution_count": 55,
   "metadata": {},
   "outputs": [],
   "source": [
    ""
   ]
  },
  {
   "cell_type": "code",
   "execution_count": 55,
   "metadata": {},
   "outputs": [],
   "source": [
    ""
   ]
  },
  {
   "cell_type": "code",
   "execution_count": null,
   "metadata": {},
   "outputs": [],
   "source": [
    ""
   ]
  }
 ],
 "metadata": {
  "kernelspec": {
   "display_name": "Python 3",
   "language": "python",
   "name": "python3"
  },
  "language_info": {
   "codemirror_mode": {
    "name": "ipython",
    "version": 3.0
   },
   "file_extension": ".py",
   "mimetype": "text/x-python",
   "name": "python",
   "nbconvert_exporter": "python",
   "pygments_lexer": "ipython3",
   "version": "3.5.2"
  }
 },
 "nbformat": 4,
 "nbformat_minor": 0
}